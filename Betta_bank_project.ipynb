{
 "cells": [
  {
   "cell_type": "markdown",
   "metadata": {
    "toc": true
   },
   "source": [
    "<h1>Содержание<span class=\"tocSkip\"></span></h1>\n",
    "<div class=\"toc\"><ul class=\"toc-item\"><li><span><a href=\"#Подготовка-данных\" data-toc-modified-id=\"Подготовка-данных-1\"><span class=\"toc-item-num\">1&nbsp;&nbsp;</span>Подготовка данных</a></span><ul class=\"toc-item\"><li><span><a href=\"#Заполнение-пропусков\" data-toc-modified-id=\"Заполнение-пропусков-1.1\"><span class=\"toc-item-num\">1.1&nbsp;&nbsp;</span>Заполнение пропусков</a></span></li><li><span><a href=\"#Удаление-лишних-признаков\" data-toc-modified-id=\"Удаление-лишних-признаков-1.2\"><span class=\"toc-item-num\">1.2&nbsp;&nbsp;</span>Удаление лишних признаков</a></span></li><li><span><a href=\"#Кодирование-(удалить)\" data-toc-modified-id=\"Кодирование-(удалить)-1.3\"><span class=\"toc-item-num\">1.3&nbsp;&nbsp;</span>Кодирование (удалить)</a></span></li><li><span><a href=\"#Разделение-выборки\" data-toc-modified-id=\"Разделение-выборки-1.4\"><span class=\"toc-item-num\">1.4&nbsp;&nbsp;</span>Разделение выборки</a></span></li><li><span><a href=\"#Кодирование-признаков\" data-toc-modified-id=\"Кодирование-признаков-1.5\"><span class=\"toc-item-num\">1.5&nbsp;&nbsp;</span>Кодирование признаков</a></span></li><li><span><a href=\"#Масштабирование-признаков.\" data-toc-modified-id=\"Масштабирование-признаков.-1.6\"><span class=\"toc-item-num\">1.6&nbsp;&nbsp;</span>Масштабирование признаков.</a></span></li></ul></li><li><span><a href=\"#Исследование-задачи\" data-toc-modified-id=\"Исследование-задачи-2\"><span class=\"toc-item-num\">2&nbsp;&nbsp;</span>Исследование задачи</a></span><ul class=\"toc-item\"><li><span><a href=\"#Логистическая-регрессия\" data-toc-modified-id=\"Логистическая-регрессия-2.1\"><span class=\"toc-item-num\">2.1&nbsp;&nbsp;</span>Логистическая регрессия</a></span></li><li><span><a href=\"#Дерево-решений\" data-toc-modified-id=\"Дерево-решений-2.2\"><span class=\"toc-item-num\">2.2&nbsp;&nbsp;</span>Дерево решений</a></span></li><li><span><a href=\"#Случайный-лес\" data-toc-modified-id=\"Случайный-лес-2.3\"><span class=\"toc-item-num\">2.3&nbsp;&nbsp;</span>Случайный лес</a></span></li></ul></li><li><span><a href=\"#Борьба-с-дисбалансом\" data-toc-modified-id=\"Борьба-с-дисбалансом-3\"><span class=\"toc-item-num\">3&nbsp;&nbsp;</span>Борьба с дисбалансом</a></span><ul class=\"toc-item\"><li><span><a href=\"#Логистическая-регрессия\" data-toc-modified-id=\"Логистическая-регрессия-3.1\"><span class=\"toc-item-num\">3.1&nbsp;&nbsp;</span>Логистическая регрессия</a></span><ul class=\"toc-item\"><li><span><a href=\"#Взвешивание-классов---class_weight='balanced'\" data-toc-modified-id=\"Взвешивание-классов---class_weight='balanced'-3.1.1\"><span class=\"toc-item-num\">3.1.1&nbsp;&nbsp;</span>Взвешивание классов - class_weight='balanced'</a></span></li><li><span><a href=\"#Увеличение-выборки---upsampling\" data-toc-modified-id=\"Увеличение-выборки---upsampling-3.1.2\"><span class=\"toc-item-num\">3.1.2&nbsp;&nbsp;</span>Увеличение выборки - upsampling</a></span></li><li><span><a href=\"#Уменьшение-выборки---downsampling\" data-toc-modified-id=\"Уменьшение-выборки---downsampling-3.1.3\"><span class=\"toc-item-num\">3.1.3&nbsp;&nbsp;</span>Уменьшение выборки - downsampling</a></span></li></ul></li><li><span><a href=\"#Дерево-решений\" data-toc-modified-id=\"Дерево-решений-3.2\"><span class=\"toc-item-num\">3.2&nbsp;&nbsp;</span>Дерево решений</a></span><ul class=\"toc-item\"><li><span><a href=\"#Взвешивание-классов---class_weight='balanced'\" data-toc-modified-id=\"Взвешивание-классов---class_weight='balanced'-3.2.1\"><span class=\"toc-item-num\">3.2.1&nbsp;&nbsp;</span>Взвешивание классов - class_weight='balanced'</a></span></li><li><span><a href=\"#Увеличение-выборки---upsampling\" data-toc-modified-id=\"Увеличение-выборки---upsampling-3.2.2\"><span class=\"toc-item-num\">3.2.2&nbsp;&nbsp;</span>Увеличение выборки - upsampling</a></span></li><li><span><a href=\"#Уменьшение-выборки---downsampling\" data-toc-modified-id=\"Уменьшение-выборки---downsampling-3.2.3\"><span class=\"toc-item-num\">3.2.3&nbsp;&nbsp;</span>Уменьшение выборки - downsampling</a></span></li></ul></li><li><span><a href=\"#Случайный-лес\" data-toc-modified-id=\"Случайный-лес-3.3\"><span class=\"toc-item-num\">3.3&nbsp;&nbsp;</span>Случайный лес</a></span><ul class=\"toc-item\"><li><span><a href=\"#Взвешивание-классов---class_weight='balanced'\" data-toc-modified-id=\"Взвешивание-классов---class_weight='balanced'-3.3.1\"><span class=\"toc-item-num\">3.3.1&nbsp;&nbsp;</span>Взвешивание классов - class_weight='balanced'</a></span></li><li><span><a href=\"#Увеличение-выборки---upsampling\" data-toc-modified-id=\"Увеличение-выборки---upsampling-3.3.2\"><span class=\"toc-item-num\">3.3.2&nbsp;&nbsp;</span>Увеличение выборки - upsampling</a></span></li><li><span><a href=\"#Уменьшение-выборки---downsampling\" data-toc-modified-id=\"Уменьшение-выборки---downsampling-3.3.3\"><span class=\"toc-item-num\">3.3.3&nbsp;&nbsp;</span>Уменьшение выборки - downsampling</a></span></li></ul></li></ul></li><li><span><a href=\"#Тестирование-модели\" data-toc-modified-id=\"Тестирование-модели-4\"><span class=\"toc-item-num\">4&nbsp;&nbsp;</span>Тестирование модели</a></span></li><li><span><a href=\"#Общий-вывод\" data-toc-modified-id=\"Общий-вывод-5\"><span class=\"toc-item-num\">5&nbsp;&nbsp;</span>Общий вывод</a></span></li><li><span><a href=\"#Чек-лист-готовности-проекта\" data-toc-modified-id=\"Чек-лист-готовности-проекта-6\"><span class=\"toc-item-num\">6&nbsp;&nbsp;</span>Чек-лист готовности проекта</a></span></li><li><span><a href=\"#Общий-вывод-по-проекту\" data-toc-modified-id=\"Общий-вывод-по-проекту-7\"><span class=\"toc-item-num\">7&nbsp;&nbsp;</span><b>Общий вывод по проекту</b></a></span></li><li><span><a href=\"#Общий-вывод-по-проекту-В2\" data-toc-modified-id=\"Общий-вывод-по-проекту-В2-8\"><span class=\"toc-item-num\">8&nbsp;&nbsp;</span><b>Общий вывод по проекту В2</b></a></span></li><li><span><a href=\"#Общий-вывод-по-проекту-В3\" data-toc-modified-id=\"Общий-вывод-по-проекту-В3-9\"><span class=\"toc-item-num\">9&nbsp;&nbsp;</span><b>Общий вывод по проекту В3</b></a></span></li></ul></div>"
   ]
  },
  {
   "cell_type": "markdown",
   "metadata": {},
   "source": [
    "# Отток клиентов"
   ]
  },
  {
   "cell_type": "markdown",
   "metadata": {},
   "source": [
    "Из «Бета-Банка» стали уходить клиенты. Каждый месяц. Немного, но заметно. Банковские маркетологи посчитали: сохранять текущих клиентов дешевле, чем привлекать новых.\n",
    "\n",
    "Нужно спрогнозировать, уйдёт клиент из банка в ближайшее время или нет. Вам предоставлены исторические данные о поведении клиентов и расторжении договоров с банком. \n",
    "\n",
    "Постройте модель с предельно большим значением *F1*-меры. Чтобы сдать проект успешно, нужно довести метрику до 0.59. Проверьте *F1*-меру на тестовой выборке самостоятельно.\n",
    "\n",
    "Дополнительно измеряйте *AUC-ROC*, сравнивайте её значение с *F1*-мерой.\n",
    "\n",
    "Источник данных: [https://www.kaggle.com/barelydedicated/bank-customer-churn-modeling](https://www.kaggle.com/barelydedicated/bank-customer-churn-modeling)"
   ]
  },
  {
   "cell_type": "markdown",
   "metadata": {},
   "source": [
    "# Отток клиентов"
   ]
  },
  {
   "cell_type": "markdown",
   "metadata": {},
   "source": [
    "В нашем распоряжении данные о поведении клиентов «Бета-Банка», а также данные о расторжении договора с банком. Наша задача обучить модель, которая будет достаточно точно предсказывать уйдёт клиент или нет.\n",
    "\n",
    "В качестве метрики для сравнения качества модели будем использовать F1-меру, а также AUC-ROC.\n",
    "\n",
    "* Сначала посмотрим общую информацию о данных.\n",
    "* Потом исследуем и заполним пропуски.\n",
    "* Удалим лишние признаки.\n",
    "* Промасштабируем признаки.\n",
    "* Исследуем дисбаланс классов.\n",
    "* Построим модели логистической регрессии, дерева рашений и случайного леса."
   ]
  },
  {
   "cell_type": "markdown",
   "metadata": {},
   "source": [
    "## Подготовка данных"
   ]
  },
  {
   "cell_type": "code",
   "execution_count": 289,
   "metadata": {},
   "outputs": [],
   "source": [
    "import pandas as pd\n",
    "import numpy as np\n",
    "\n",
    "from sklearn.metrics import f1_score\n",
    "from sklearn.metrics import precision_score\n",
    "from sklearn.metrics import recall_score\n",
    "from sklearn.metrics import roc_curve\n",
    "from sklearn.metrics import roc_auc_score\n",
    "\n",
    "from sklearn.model_selection import train_test_split\n",
    "from sklearn.linear_model import LogisticRegression\n",
    "from sklearn import tree\n",
    "from sklearn.ensemble import RandomForestClassifier\n",
    "from sklearn.tree import DecisionTreeClassifier\n",
    "\n",
    "from sklearn.utils import shuffle\n",
    "from sklearn.preprocessing import StandardScaler, OneHotEncoder\n",
    "\n",
    "import matplotlib.pyplot as plt\n",
    "import seaborn as sns"
   ]
  },
  {
   "cell_type": "markdown",
   "metadata": {},
   "source": [
    "Загрузим данные и посмотрим есть ли пропускив данных, соответсвуют ли типы данных заявленным."
   ]
  },
  {
   "cell_type": "code",
   "execution_count": 290,
   "metadata": {},
   "outputs": [],
   "source": [
    "data = pd.read_csv('/datasets/Churn.csv')"
   ]
  },
  {
   "cell_type": "code",
   "execution_count": 291,
   "metadata": {},
   "outputs": [
    {
     "data": {
      "text/html": [
       "<div>\n",
       "<style scoped>\n",
       "    .dataframe tbody tr th:only-of-type {\n",
       "        vertical-align: middle;\n",
       "    }\n",
       "\n",
       "    .dataframe tbody tr th {\n",
       "        vertical-align: top;\n",
       "    }\n",
       "\n",
       "    .dataframe thead th {\n",
       "        text-align: right;\n",
       "    }\n",
       "</style>\n",
       "<table border=\"1\" class=\"dataframe\">\n",
       "  <thead>\n",
       "    <tr style=\"text-align: right;\">\n",
       "      <th></th>\n",
       "      <th>RowNumber</th>\n",
       "      <th>CustomerId</th>\n",
       "      <th>Surname</th>\n",
       "      <th>CreditScore</th>\n",
       "      <th>Geography</th>\n",
       "      <th>Gender</th>\n",
       "      <th>Age</th>\n",
       "      <th>Tenure</th>\n",
       "      <th>Balance</th>\n",
       "      <th>NumOfProducts</th>\n",
       "      <th>HasCrCard</th>\n",
       "      <th>IsActiveMember</th>\n",
       "      <th>EstimatedSalary</th>\n",
       "      <th>Exited</th>\n",
       "    </tr>\n",
       "  </thead>\n",
       "  <tbody>\n",
       "    <tr>\n",
       "      <th>0</th>\n",
       "      <td>1</td>\n",
       "      <td>15634602</td>\n",
       "      <td>Hargrave</td>\n",
       "      <td>619</td>\n",
       "      <td>France</td>\n",
       "      <td>Female</td>\n",
       "      <td>42</td>\n",
       "      <td>2.0</td>\n",
       "      <td>0.00</td>\n",
       "      <td>1</td>\n",
       "      <td>1</td>\n",
       "      <td>1</td>\n",
       "      <td>101348.88</td>\n",
       "      <td>1</td>\n",
       "    </tr>\n",
       "    <tr>\n",
       "      <th>1</th>\n",
       "      <td>2</td>\n",
       "      <td>15647311</td>\n",
       "      <td>Hill</td>\n",
       "      <td>608</td>\n",
       "      <td>Spain</td>\n",
       "      <td>Female</td>\n",
       "      <td>41</td>\n",
       "      <td>1.0</td>\n",
       "      <td>83807.86</td>\n",
       "      <td>1</td>\n",
       "      <td>0</td>\n",
       "      <td>1</td>\n",
       "      <td>112542.58</td>\n",
       "      <td>0</td>\n",
       "    </tr>\n",
       "    <tr>\n",
       "      <th>2</th>\n",
       "      <td>3</td>\n",
       "      <td>15619304</td>\n",
       "      <td>Onio</td>\n",
       "      <td>502</td>\n",
       "      <td>France</td>\n",
       "      <td>Female</td>\n",
       "      <td>42</td>\n",
       "      <td>8.0</td>\n",
       "      <td>159660.80</td>\n",
       "      <td>3</td>\n",
       "      <td>1</td>\n",
       "      <td>0</td>\n",
       "      <td>113931.57</td>\n",
       "      <td>1</td>\n",
       "    </tr>\n",
       "    <tr>\n",
       "      <th>3</th>\n",
       "      <td>4</td>\n",
       "      <td>15701354</td>\n",
       "      <td>Boni</td>\n",
       "      <td>699</td>\n",
       "      <td>France</td>\n",
       "      <td>Female</td>\n",
       "      <td>39</td>\n",
       "      <td>1.0</td>\n",
       "      <td>0.00</td>\n",
       "      <td>2</td>\n",
       "      <td>0</td>\n",
       "      <td>0</td>\n",
       "      <td>93826.63</td>\n",
       "      <td>0</td>\n",
       "    </tr>\n",
       "    <tr>\n",
       "      <th>4</th>\n",
       "      <td>5</td>\n",
       "      <td>15737888</td>\n",
       "      <td>Mitchell</td>\n",
       "      <td>850</td>\n",
       "      <td>Spain</td>\n",
       "      <td>Female</td>\n",
       "      <td>43</td>\n",
       "      <td>2.0</td>\n",
       "      <td>125510.82</td>\n",
       "      <td>1</td>\n",
       "      <td>1</td>\n",
       "      <td>1</td>\n",
       "      <td>79084.10</td>\n",
       "      <td>0</td>\n",
       "    </tr>\n",
       "  </tbody>\n",
       "</table>\n",
       "</div>"
      ],
      "text/plain": [
       "   RowNumber  CustomerId   Surname  CreditScore Geography  Gender  Age  \\\n",
       "0          1    15634602  Hargrave          619    France  Female   42   \n",
       "1          2    15647311      Hill          608     Spain  Female   41   \n",
       "2          3    15619304      Onio          502    France  Female   42   \n",
       "3          4    15701354      Boni          699    France  Female   39   \n",
       "4          5    15737888  Mitchell          850     Spain  Female   43   \n",
       "\n",
       "   Tenure    Balance  NumOfProducts  HasCrCard  IsActiveMember  \\\n",
       "0     2.0       0.00              1          1               1   \n",
       "1     1.0   83807.86              1          0               1   \n",
       "2     8.0  159660.80              3          1               0   \n",
       "3     1.0       0.00              2          0               0   \n",
       "4     2.0  125510.82              1          1               1   \n",
       "\n",
       "   EstimatedSalary  Exited  \n",
       "0        101348.88       1  \n",
       "1        112542.58       0  \n",
       "2        113931.57       1  \n",
       "3         93826.63       0  \n",
       "4         79084.10       0  "
      ]
     },
     "execution_count": 291,
     "metadata": {},
     "output_type": "execute_result"
    }
   ],
   "source": [
    "data.head()"
   ]
  },
  {
   "cell_type": "code",
   "execution_count": 292,
   "metadata": {},
   "outputs": [
    {
     "name": "stdout",
     "output_type": "stream",
     "text": [
      "<class 'pandas.core.frame.DataFrame'>\n",
      "RangeIndex: 10000 entries, 0 to 9999\n",
      "Data columns (total 14 columns):\n",
      " #   Column           Non-Null Count  Dtype  \n",
      "---  ------           --------------  -----  \n",
      " 0   RowNumber        10000 non-null  int64  \n",
      " 1   CustomerId       10000 non-null  int64  \n",
      " 2   Surname          10000 non-null  object \n",
      " 3   CreditScore      10000 non-null  int64  \n",
      " 4   Geography        10000 non-null  object \n",
      " 5   Gender           10000 non-null  object \n",
      " 6   Age              10000 non-null  int64  \n",
      " 7   Tenure           9091 non-null   float64\n",
      " 8   Balance          10000 non-null  float64\n",
      " 9   NumOfProducts    10000 non-null  int64  \n",
      " 10  HasCrCard        10000 non-null  int64  \n",
      " 11  IsActiveMember   10000 non-null  int64  \n",
      " 12  EstimatedSalary  10000 non-null  float64\n",
      " 13  Exited           10000 non-null  int64  \n",
      "dtypes: float64(3), int64(8), object(3)\n",
      "memory usage: 1.1+ MB\n"
     ]
    }
   ],
   "source": [
    "data.info()"
   ]
  },
  {
   "cell_type": "markdown",
   "metadata": {},
   "source": [
    "### Заполнение пропусков"
   ]
  },
  {
   "cell_type": "markdown",
   "metadata": {},
   "source": [
    "<div class=\"alert alert-block alert-warning\">\n",
    "<b>Изменения:</b> На этом этапе возникло следующее затруднение: при заполнении медианой всё работает нормально, а вот при простом удалении строк с пропусками логистическая регрессия в пункте 2.1 выдаёт ошибку: `Input contains NaN, infinity or a value too large for dtype('float64')`. Я не поняла почему, совсем не поняла. Специально оставила эту ячейку с кодом.\n",
    "</div>"
   ]
  },
  {
   "cell_type": "markdown",
   "metadata": {},
   "source": [
    "Обратим внимание на то, что есть пропуски в столбце `Tenure` - сколько лет человек является клиентом банка. Заполним эти пропуски медианным значением.\n",
    "\n",
    "Посмотрим гистограмму данного признака."
   ]
  },
  {
   "cell_type": "code",
   "execution_count": 293,
   "metadata": {},
   "outputs": [
    {
     "data": {
      "image/png": "[encoded data removed]",
      "text/plain": [
       "<Figure size 432x288 with 1 Axes>"
      ]
     },
     "metadata": {
      "needs_background": "light"
     },
     "output_type": "display_data"
    }
   ],
   "source": [
    "data['Tenure'].hist(bins=25)\n",
    "plt.title('Гистограмма \"Tenure\"')\n",
    "plt.xlabel('Количество лет')\n",
    "plt.ylabel('Количество клиентов');"
   ]
  },
  {
   "cell_type": "code",
   "execution_count": 294,
   "metadata": {},
   "outputs": [],
   "source": [
    "# data = data[~data['Tenure'].isna()]\n",
    "# data.shape[0]"
   ]
  },
  {
   "cell_type": "code",
   "execution_count": 295,
   "metadata": {},
   "outputs": [],
   "source": [
    "data['Tenure'] = data['Tenure'].fillna(data['Tenure'].median())"
   ]
  },
  {
   "cell_type": "code",
   "execution_count": 296,
   "metadata": {},
   "outputs": [
    {
     "data": {
      "text/plain": [
       "0"
      ]
     },
     "execution_count": 296,
     "metadata": {},
     "output_type": "execute_result"
    }
   ],
   "source": [
    "data['Tenure'].isna().sum()"
   ]
  },
  {
   "cell_type": "markdown",
   "metadata": {},
   "source": [
    "Проверим не осталось ли пропусков, посмотрим уникальные значения и ещё раз выведем гистограмму."
   ]
  },
  {
   "cell_type": "code",
   "execution_count": 297,
   "metadata": {},
   "outputs": [
    {
     "data": {
      "text/plain": [
       "0"
      ]
     },
     "execution_count": 297,
     "metadata": {},
     "output_type": "execute_result"
    }
   ],
   "source": [
    "data['Tenure'].isna().sum()"
   ]
  },
  {
   "cell_type": "code",
   "execution_count": 298,
   "metadata": {},
   "outputs": [
    {
     "data": {
      "text/plain": [
       "array([ 2.,  1.,  8.,  7.,  4.,  6.,  3., 10.,  5.,  9.,  0.])"
      ]
     },
     "execution_count": 298,
     "metadata": {},
     "output_type": "execute_result"
    }
   ],
   "source": [
    "data['Tenure'].unique()"
   ]
  },
  {
   "cell_type": "code",
   "execution_count": 299,
   "metadata": {},
   "outputs": [
    {
     "data": {
      "image/png": "[encoded data removed]",
      "text/plain": [
       "<Figure size 432x288 with 1 Axes>"
      ]
     },
     "metadata": {
      "needs_background": "light"
     },
     "output_type": "display_data"
    }
   ],
   "source": [
    "data['Tenure'].hist(bins=25);"
   ]
  },
  {
   "cell_type": "markdown",
   "metadata": {},
   "source": [
    "### Удаление лишних признаков"
   ]
  },
  {
   "cell_type": "markdown",
   "metadata": {},
   "source": [
    "Удалим признаки, которые не несут значимой для исследования информации: `RowNumber` — индекс строки в данных, `CustomerId` — уникальный идентификатор клиента, `Surname` — фамилия."
   ]
  },
  {
   "cell_type": "code",
   "execution_count": 300,
   "metadata": {},
   "outputs": [],
   "source": [
    "data = data.drop(['Surname', 'CustomerId', 'RowNumber'], axis=1)"
   ]
  },
  {
   "cell_type": "markdown",
   "metadata": {},
   "source": [
    "### Кодирование (удалить)"
   ]
  },
  {
   "cell_type": "markdown",
   "metadata": {},
   "source": [
    "Для корректной работы модели необходимо перевести категориальные признаки в численные. Для 2-х признаков `Geography` (страна проживания) и `Gender` (пол) тип данных, применим прямое кодирование для 'Geography' и 'Gender'."
   ]
  },
  {
   "cell_type": "code",
   "execution_count": 301,
   "metadata": {},
   "outputs": [],
   "source": [
    "# # encoder = OneHotEncoder(drop='first').fit(data[['Geography']])\n",
    "# # encoder.categories_\n",
    "\n",
    "# # encoder_data_country = pd.DataFrame(encoder.transform(data[['Geography']]).toarray(), columns=np.delete(encoder.categories_, [0]))\n",
    "# # encoder_data_country.head()\n",
    "\n",
    "# # encoder = OneHotEncoder(drop='first').fit(data[['Gender']])\n",
    "# # encoder.categories_\n",
    "\n",
    "# # encoder_data_gender = pd.DataFrame(encoder.transform(data[['Gender']]).toarray(), columns=np.delete(encoder.categories_, [0]))\n",
    "# # encoder_data_gender.head()\n",
    "\n",
    "\n",
    "# encoder = OneHotEncoder(drop='first').fit(data[['Geography', 'Gender']])\n",
    "# encoder_data = pd.DataFrame(\n",
    "#     data = encoder.transform(data[['Geography', 'Gender']]).toarray(),\n",
    "#     #index=data[['Geography', 'Gender']].index,\n",
    "#     columns=encoder.get_feature_names())\n",
    "# encoder_data_country.head()"
   ]
  },
  {
   "cell_type": "code",
   "execution_count": 302,
   "metadata": {},
   "outputs": [],
   "source": [
    "# final_data = data.join(encoder_data)\n",
    "# final_data.head()"
   ]
  },
  {
   "cell_type": "code",
   "execution_count": 303,
   "metadata": {
    "scrolled": true
   },
   "outputs": [],
   "source": [
    "# final_data.drop(['Geography', 'Gender'], axis=1, inplace=True)\n",
    "# final_data.head()"
   ]
  },
  {
   "cell_type": "markdown",
   "metadata": {},
   "source": [
    "### Разделение выборки"
   ]
  },
  {
   "cell_type": "markdown",
   "metadata": {},
   "source": [
    "Разделим признаки и целевой признак. Разобьём данные на обучающие, валидационные и тестовые в пропорции 3:1:1."
   ]
  },
  {
   "cell_type": "code",
   "execution_count": 304,
   "metadata": {},
   "outputs": [],
   "source": [
    "target = data['Exited']\n",
    "features = data.drop(['Exited'], axis=1)\n",
    "\n",
    "# target = final_data['Exited']\n",
    "# features = final_data.drop(['Exited'], axis=1)"
   ]
  },
  {
   "cell_type": "code",
   "execution_count": 305,
   "metadata": {},
   "outputs": [],
   "source": [
    "features_train, features_test, target_train, target_test = train_test_split(features, target, test_size =0.4,\n",
    "                                                                            random_state=12345)\n",
    "features_valid, features_test, target_valid, target_test = train_test_split(features_test, target_test, test_size =0.5,\n",
    "                                                                           random_state=12345)"
   ]
  },
  {
   "cell_type": "markdown",
   "metadata": {},
   "source": [
    "Проверим размеры выборок, всё ли корректно разделили."
   ]
  },
  {
   "cell_type": "code",
   "execution_count": 306,
   "metadata": {},
   "outputs": [
    {
     "data": {
      "text/plain": [
       "3.0"
      ]
     },
     "execution_count": 306,
     "metadata": {},
     "output_type": "execute_result"
    }
   ],
   "source": [
    "features_train.shape[0] / features_valid.shape[0]"
   ]
  },
  {
   "cell_type": "code",
   "execution_count": 307,
   "metadata": {},
   "outputs": [
    {
     "data": {
      "text/plain": [
       "1.0"
      ]
     },
     "execution_count": 307,
     "metadata": {},
     "output_type": "execute_result"
    }
   ],
   "source": [
    "features_test.shape[0] / features_valid.shape[0]"
   ]
  },
  {
   "cell_type": "markdown",
   "metadata": {},
   "source": [
    "Данные разделены корректно."
   ]
  },
  {
   "cell_type": "markdown",
   "metadata": {},
   "source": [
    "### Кодирование признаков"
   ]
  },
  {
   "cell_type": "code",
   "execution_count": 308,
   "metadata": {
    "scrolled": true
   },
   "outputs": [],
   "source": [
    "# encoder = OneHotEncoder()\n",
    "# encoder_data_country = pd.DataFrame(encoder.fit_transform(features_train[['Geography']]).toarray(), columns=encoder.categories_)\n",
    "# encoder_data_gender = pd.DataFrame(encoder.fit_transform(features_train[['Gender']]).toarray(), columns=encoder.categories_)\n",
    "# encoder_data_country.head, encoder_data_gender.head()\n",
    "\n",
    "# features_train_new = features_train.join(encoder_data_country)\n",
    "# features_train_new.head() \n",
    "\n",
    "# features_train = features_train.join(encoder_data_country).join(encoder_data_gender)\n",
    "# features_train.head()\n",
    "\n",
    "# features_train.drop(['Geography', 'Gender'], axis=1, inplace=True)\n",
    "# features_train.head()"
   ]
  },
  {
   "cell_type": "code",
   "execution_count": 309,
   "metadata": {},
   "outputs": [],
   "source": [
    "# encoder_data_country = pd.DataFrame(encoder.fit_transform(features_valid[['Geography']]).toarray(), columns=encoder.categories_)\n",
    "# encoder_data_gender = pd.DataFrame(encoder.fit_transform(features_valid[['Gender']]).toarray(), columns=encoder.categories_)\n",
    "# features_valid = features_valid.join(encoder_data_country).join(encoder_data_gender)\n",
    "# features_valid.drop(['Geography', 'Gender'], axis=1, inplace=True)\n",
    "# features_valid.head()"
   ]
  },
  {
   "cell_type": "code",
   "execution_count": 310,
   "metadata": {
    "scrolled": true
   },
   "outputs": [
    {
     "data": {
      "text/html": [
       "<div>\n",
       "<style scoped>\n",
       "    .dataframe tbody tr th:only-of-type {\n",
       "        vertical-align: middle;\n",
       "    }\n",
       "\n",
       "    .dataframe tbody tr th {\n",
       "        vertical-align: top;\n",
       "    }\n",
       "\n",
       "    .dataframe thead th {\n",
       "        text-align: right;\n",
       "    }\n",
       "</style>\n",
       "<table border=\"1\" class=\"dataframe\">\n",
       "  <thead>\n",
       "    <tr style=\"text-align: right;\">\n",
       "      <th></th>\n",
       "      <th>CreditScore</th>\n",
       "      <th>Geography</th>\n",
       "      <th>Gender</th>\n",
       "      <th>Age</th>\n",
       "      <th>Tenure</th>\n",
       "      <th>Balance</th>\n",
       "      <th>NumOfProducts</th>\n",
       "      <th>HasCrCard</th>\n",
       "      <th>IsActiveMember</th>\n",
       "      <th>EstimatedSalary</th>\n",
       "    </tr>\n",
       "  </thead>\n",
       "  <tbody>\n",
       "    <tr>\n",
       "      <th>7479</th>\n",
       "      <td>567</td>\n",
       "      <td>Spain</td>\n",
       "      <td>Male</td>\n",
       "      <td>35</td>\n",
       "      <td>8.0</td>\n",
       "      <td>153137.74</td>\n",
       "      <td>1</td>\n",
       "      <td>1</td>\n",
       "      <td>0</td>\n",
       "      <td>88659.07</td>\n",
       "    </tr>\n",
       "    <tr>\n",
       "      <th>3411</th>\n",
       "      <td>711</td>\n",
       "      <td>France</td>\n",
       "      <td>Female</td>\n",
       "      <td>37</td>\n",
       "      <td>8.0</td>\n",
       "      <td>113899.92</td>\n",
       "      <td>1</td>\n",
       "      <td>0</td>\n",
       "      <td>0</td>\n",
       "      <td>80215.20</td>\n",
       "    </tr>\n",
       "    <tr>\n",
       "      <th>6027</th>\n",
       "      <td>850</td>\n",
       "      <td>Germany</td>\n",
       "      <td>Male</td>\n",
       "      <td>44</td>\n",
       "      <td>3.0</td>\n",
       "      <td>140393.65</td>\n",
       "      <td>2</td>\n",
       "      <td>0</td>\n",
       "      <td>1</td>\n",
       "      <td>186285.52</td>\n",
       "    </tr>\n",
       "    <tr>\n",
       "      <th>1247</th>\n",
       "      <td>512</td>\n",
       "      <td>France</td>\n",
       "      <td>Male</td>\n",
       "      <td>24</td>\n",
       "      <td>6.0</td>\n",
       "      <td>0.00</td>\n",
       "      <td>2</td>\n",
       "      <td>1</td>\n",
       "      <td>0</td>\n",
       "      <td>37654.31</td>\n",
       "    </tr>\n",
       "    <tr>\n",
       "      <th>3716</th>\n",
       "      <td>665</td>\n",
       "      <td>Germany</td>\n",
       "      <td>Female</td>\n",
       "      <td>27</td>\n",
       "      <td>2.0</td>\n",
       "      <td>147435.96</td>\n",
       "      <td>1</td>\n",
       "      <td>0</td>\n",
       "      <td>0</td>\n",
       "      <td>187508.06</td>\n",
       "    </tr>\n",
       "  </tbody>\n",
       "</table>\n",
       "</div>"
      ],
      "text/plain": [
       "      CreditScore Geography  Gender  Age  Tenure    Balance  NumOfProducts  \\\n",
       "7479          567     Spain    Male   35     8.0  153137.74              1   \n",
       "3411          711    France  Female   37     8.0  113899.92              1   \n",
       "6027          850   Germany    Male   44     3.0  140393.65              2   \n",
       "1247          512    France    Male   24     6.0       0.00              2   \n",
       "3716          665   Germany  Female   27     2.0  147435.96              1   \n",
       "\n",
       "      HasCrCard  IsActiveMember  EstimatedSalary  \n",
       "7479          1               0         88659.07  \n",
       "3411          0               0         80215.20  \n",
       "6027          0               1        186285.52  \n",
       "1247          1               0         37654.31  \n",
       "3716          0               0        187508.06  "
      ]
     },
     "execution_count": 310,
     "metadata": {},
     "output_type": "execute_result"
    }
   ],
   "source": [
    "features_train.head()"
   ]
  },
  {
   "cell_type": "code",
   "execution_count": 311,
   "metadata": {},
   "outputs": [
    {
     "data": {
      "text/html": [
       "<div>\n",
       "<style scoped>\n",
       "    .dataframe tbody tr th:only-of-type {\n",
       "        vertical-align: middle;\n",
       "    }\n",
       "\n",
       "    .dataframe tbody tr th {\n",
       "        vertical-align: top;\n",
       "    }\n",
       "\n",
       "    .dataframe thead th {\n",
       "        text-align: right;\n",
       "    }\n",
       "</style>\n",
       "<table border=\"1\" class=\"dataframe\">\n",
       "  <thead>\n",
       "    <tr style=\"text-align: right;\">\n",
       "      <th></th>\n",
       "      <th>CreditScore</th>\n",
       "      <th>Age</th>\n",
       "      <th>Tenure</th>\n",
       "      <th>Balance</th>\n",
       "      <th>NumOfProducts</th>\n",
       "      <th>HasCrCard</th>\n",
       "      <th>IsActiveMember</th>\n",
       "      <th>EstimatedSalary</th>\n",
       "      <th>x0_Germany</th>\n",
       "      <th>x0_Spain</th>\n",
       "      <th>x1_Male</th>\n",
       "    </tr>\n",
       "  </thead>\n",
       "  <tbody>\n",
       "    <tr>\n",
       "      <th>7479</th>\n",
       "      <td>567</td>\n",
       "      <td>35</td>\n",
       "      <td>8.0</td>\n",
       "      <td>153137.74</td>\n",
       "      <td>1</td>\n",
       "      <td>1</td>\n",
       "      <td>0</td>\n",
       "      <td>88659.07</td>\n",
       "      <td>0.0</td>\n",
       "      <td>1.0</td>\n",
       "      <td>1.0</td>\n",
       "    </tr>\n",
       "    <tr>\n",
       "      <th>3411</th>\n",
       "      <td>711</td>\n",
       "      <td>37</td>\n",
       "      <td>8.0</td>\n",
       "      <td>113899.92</td>\n",
       "      <td>1</td>\n",
       "      <td>0</td>\n",
       "      <td>0</td>\n",
       "      <td>80215.20</td>\n",
       "      <td>0.0</td>\n",
       "      <td>0.0</td>\n",
       "      <td>0.0</td>\n",
       "    </tr>\n",
       "    <tr>\n",
       "      <th>6027</th>\n",
       "      <td>850</td>\n",
       "      <td>44</td>\n",
       "      <td>3.0</td>\n",
       "      <td>140393.65</td>\n",
       "      <td>2</td>\n",
       "      <td>0</td>\n",
       "      <td>1</td>\n",
       "      <td>186285.52</td>\n",
       "      <td>1.0</td>\n",
       "      <td>0.0</td>\n",
       "      <td>1.0</td>\n",
       "    </tr>\n",
       "    <tr>\n",
       "      <th>1247</th>\n",
       "      <td>512</td>\n",
       "      <td>24</td>\n",
       "      <td>6.0</td>\n",
       "      <td>0.00</td>\n",
       "      <td>2</td>\n",
       "      <td>1</td>\n",
       "      <td>0</td>\n",
       "      <td>37654.31</td>\n",
       "      <td>0.0</td>\n",
       "      <td>0.0</td>\n",
       "      <td>1.0</td>\n",
       "    </tr>\n",
       "    <tr>\n",
       "      <th>3716</th>\n",
       "      <td>665</td>\n",
       "      <td>27</td>\n",
       "      <td>2.0</td>\n",
       "      <td>147435.96</td>\n",
       "      <td>1</td>\n",
       "      <td>0</td>\n",
       "      <td>0</td>\n",
       "      <td>187508.06</td>\n",
       "      <td>1.0</td>\n",
       "      <td>0.0</td>\n",
       "      <td>0.0</td>\n",
       "    </tr>\n",
       "  </tbody>\n",
       "</table>\n",
       "</div>"
      ],
      "text/plain": [
       "      CreditScore  Age  Tenure    Balance  NumOfProducts  HasCrCard  \\\n",
       "7479          567   35     8.0  153137.74              1          1   \n",
       "3411          711   37     8.0  113899.92              1          0   \n",
       "6027          850   44     3.0  140393.65              2          0   \n",
       "1247          512   24     6.0       0.00              2          1   \n",
       "3716          665   27     2.0  147435.96              1          0   \n",
       "\n",
       "      IsActiveMember  EstimatedSalary  x0_Germany  x0_Spain  x1_Male  \n",
       "7479               0         88659.07         0.0       1.0      1.0  \n",
       "3411               0         80215.20         0.0       0.0      0.0  \n",
       "6027               1        186285.52         1.0       0.0      1.0  \n",
       "1247               0         37654.31         0.0       0.0      1.0  \n",
       "3716               0        187508.06         1.0       0.0      0.0  "
      ]
     },
     "execution_count": 311,
     "metadata": {},
     "output_type": "execute_result"
    }
   ],
   "source": [
    "features_categirical = ['Geography', 'Gender']\n",
    "\n",
    "ohe = OneHotEncoder(sparse=False, drop='first')\n",
    "ohe.fit(features_train[features_categirical])\n",
    "\n",
    "def features_ohe(ohe_variable, df_features, features_categ):\n",
    "    df_features_ohe = pd.DataFrame(\n",
    "        data=ohe_variable.transform(df_features[features_categ]), \n",
    "        index=df_features.index,\n",
    "        columns=ohe_variable.get_feature_names()\n",
    "    )\n",
    "\n",
    "    df_features = df_features.drop(features_categ, axis=1)\n",
    "    df_features = df_features.join(df_features_ohe)\n",
    "    return df_features    \n",
    "\n",
    "features_train = features_ohe(ohe, features_train, features_categirical);\n",
    "features_valid = features_ohe(ohe, features_valid, features_categirical);\n",
    "features_test = features_ohe(ohe, features_test, features_categirical);\n",
    "features_train.head()"
   ]
  },
  {
   "cell_type": "markdown",
   "metadata": {},
   "source": [
    "### Масштабирование признаков."
   ]
  },
  {
   "cell_type": "markdown",
   "metadata": {},
   "source": [
    "Для корректной работы логистической регрессии промасштабируем численные признаки."
   ]
  },
  {
   "cell_type": "code",
   "execution_count": 312,
   "metadata": {},
   "outputs": [
    {
     "data": {
      "image/png": "[encoded data removed]",
      "text/plain": [
       "<Figure size 1080x360 with 1 Axes>"
      ]
     },
     "metadata": {
      "needs_background": "light"
     },
     "output_type": "display_data"
    }
   ],
   "source": [
    "numeric = ['CreditScore', 'Age', 'Tenure', 'Balance', 'NumOfProducts', 'EstimatedSalary']\n",
    "\n",
    "features_train[numeric].plot(kind='density', figsize=(15, 5), grid=True)\n",
    "plt.xlim(-10, 60)\n",
    "plt.ylim(0, 1)\n",
    "plt.xlabel('Признаки')\n",
    "plt.ylabel('Плотность признака');"
   ]
  },
  {
   "cell_type": "code",
   "execution_count": 313,
   "metadata": {},
   "outputs": [],
   "source": [
    "import warnings\n",
    "warnings.filterwarnings(\"ignore\")"
   ]
  },
  {
   "cell_type": "code",
   "execution_count": 314,
   "metadata": {},
   "outputs": [],
   "source": [
    "scaler = StandardScaler()\n",
    "scaler.fit(features_train[numeric])\n",
    "features_train[numeric] = scaler.transform(features_train[numeric])\n",
    "features_valid[numeric] = scaler.transform(features_valid[numeric])\n",
    "features_test[numeric] = scaler.transform(features_test[numeric])"
   ]
  },
  {
   "cell_type": "code",
   "execution_count": 315,
   "metadata": {},
   "outputs": [
    {
     "data": {
      "image/png": "[encoded data removed]",
      "text/plain": [
       "<Figure size 1080x360 with 1 Axes>"
      ]
     },
     "metadata": {
      "needs_background": "light"
     },
     "output_type": "display_data"
    }
   ],
   "source": [
    "features_train[numeric].plot(kind='density', figsize=(15, 5), grid=True)\n",
    "plt.xlabel('Признаки')\n",
    "plt.ylabel('Плотность признака');"
   ]
  },
  {
   "cell_type": "markdown",
   "metadata": {},
   "source": [
    "**Вывод**\n",
    "\n",
    "Данные промасштабированны корректно, диапазон значений данных существенно сократился."
   ]
  },
  {
   "cell_type": "markdown",
   "metadata": {},
   "source": [
    "## Исследование задачи"
   ]
  },
  {
   "cell_type": "markdown",
   "metadata": {},
   "source": [
    "Исследуем баланс классов."
   ]
  },
  {
   "cell_type": "code",
   "execution_count": 316,
   "metadata": {},
   "outputs": [
    {
     "data": {
      "text/plain": [
       "array([1, 0])"
      ]
     },
     "execution_count": 316,
     "metadata": {},
     "output_type": "execute_result"
    }
   ],
   "source": [
    "data['Exited'].unique()"
   ]
  },
  {
   "cell_type": "code",
   "execution_count": 317,
   "metadata": {},
   "outputs": [
    {
     "data": {
      "text/plain": [
       "(7963, 2037)"
      ]
     },
     "execution_count": 317,
     "metadata": {},
     "output_type": "execute_result"
    }
   ],
   "source": [
    "data[data['Exited']== 0].shape[0], data[data['Exited']== 1].shape[0]"
   ]
  },
  {
   "cell_type": "code",
   "execution_count": 318,
   "metadata": {},
   "outputs": [
    {
     "name": "stdout",
     "output_type": "stream",
     "text": [
      "26 %\n"
     ]
    }
   ],
   "source": [
    "print(round(data[data['Exited']== 1].shape[0] / data[data['Exited']== 0].shape[0] * 100), '%')"
   ]
  },
  {
   "cell_type": "markdown",
   "metadata": {},
   "source": [
    "Положительный класс - \"Клиент покинул банк\" составляет лишь 26%. Очевидно есть дисбаланс классов. Попробуем посчитать метрику на разных моделях без учёта дисбаланса. Также построим ROC-кривую."
   ]
  },
  {
   "cell_type": "markdown",
   "metadata": {},
   "source": [
    "### Логистическая регрессия"
   ]
  },
  {
   "cell_type": "code",
   "execution_count": 319,
   "metadata": {},
   "outputs": [
    {
     "name": "stdout",
     "output_type": "stream",
     "text": [
      "F1: 0.33\n",
      "Precision: 0.56\n",
      "Recall: 0.23\n"
     ]
    }
   ],
   "source": [
    "model = LogisticRegression(random_state=12345, solver='liblinear', class_weight=None)\n",
    "model.fit(features_train, target_train)\n",
    "predicted_valid = model.predict(features_valid)\n",
    "print(\"F1:\", round(f1_score(target_valid, predicted_valid), 2))\n",
    "print(\"Precision:\", round(precision_score(target_valid, predicted_valid), 2))\n",
    "print(\"Recall:\", round(recall_score(target_valid, predicted_valid), 2))"
   ]
  },
  {
   "cell_type": "code",
   "execution_count": 320,
   "metadata": {},
   "outputs": [
    {
     "data": {
      "text/plain": [
       "0.76"
      ]
     },
     "execution_count": 320,
     "metadata": {},
     "output_type": "execute_result"
    }
   ],
   "source": [
    "probabilities_valid = model.predict_proba(features_valid)\n",
    "probabilities_one_valid = probabilities_valid[:, 1]\n",
    "\n",
    "auc_roc = roc_auc_score(target_valid, probabilities_one_valid)\n",
    "round(auc_roc, 2)"
   ]
  },
  {
   "cell_type": "code",
   "execution_count": 321,
   "metadata": {},
   "outputs": [
    {
     "data": {
      "image/png": "[encoded data removed]",
      "text/plain": [
       "<Figure size 432x288 with 1 Axes>"
      ]
     },
     "metadata": {
      "needs_background": "light"
     },
     "output_type": "display_data"
    }
   ],
   "source": [
    "fpr, tpr, tresholds = roc_curve(target_valid, probabilities_one_valid)\n",
    "\n",
    "plt.figure()\n",
    "plt.plot(fpr, tpr, linestyle='-')\n",
    "plt.plot([0,1], [0,1], linestyle='-')\n",
    "\n",
    "plt.xlim([0,1])\n",
    "plt.ylim([0,1])\n",
    "plt.xlabel('False Positive Rate')\n",
    "plt.ylabel('True Positive Rate')\n",
    "\n",
    "plt.title('ROC-кривая')\n",
    "plt.show()"
   ]
  },
  {
   "cell_type": "markdown",
   "metadata": {},
   "source": [
    "Видно, что показатель точности достаточно высокий, а вот полнота небольшая.\n",
    "То есть модель не выявляет большую часть положительных ответов, то есть выдаёт много ложно отрицательных ответов (FN). Это связано с дисбалансом классов, модель плохо обучилась выявлять положительный класс, так как в выборке он встречаеся редко."
   ]
  },
  {
   "cell_type": "markdown",
   "metadata": {},
   "source": [
    "### Дерево решений"
   ]
  },
  {
   "cell_type": "code",
   "execution_count": 322,
   "metadata": {},
   "outputs": [
    {
     "name": "stdout",
     "output_type": "stream",
     "text": [
      "F1-мера наилучшей модели на валидационной выборке: 0.572\n",
      "Deph, глубина дерева для лучшей модели: 6\n",
      "Criterion, критерий разделения: gini\n",
      "702 ms ± 0 ns per loop (mean ± std. dev. of 1 run, 1 loop each)\n"
     ]
    }
   ],
   "source": [
    "%%timeit -n 1 -r 1\n",
    "\n",
    "best_model = None\n",
    "best_f1 = 0\n",
    "best_depth = 0\n",
    "best_creterion = 'None'\n",
    "for criterion in ['entropy', 'gini']:\n",
    "    for depth in range(1, 11):\n",
    "        model = DecisionTreeClassifier(random_state=12345, max_depth=depth, \n",
    "                                       criterion=criterion, min_samples_split=5)\n",
    "        model.fit(features_train, target_train)\n",
    "        predictions_valid = model.predict(features_valid)\n",
    "        f1 = f1_score(target_valid, predictions_valid)\n",
    "        if f1 > best_f1:\n",
    "                best_model = model\n",
    "                best_f1 = f1\n",
    "                best_depth = depth\n",
    "                best_creterion = criterion\n",
    "print(\"F1-мера наилучшей модели на валидационной выборке:\", round(best_f1, 3))\n",
    "print(\"Deph, глубина дерева для лучшей модели:\", best_depth)\n",
    "print(\"Criterion, критерий разделения:\", best_creterion)"
   ]
  },
  {
   "cell_type": "code",
   "execution_count": 323,
   "metadata": {},
   "outputs": [
    {
     "data": {
      "text/plain": [
       "0.57"
      ]
     },
     "execution_count": 323,
     "metadata": {},
     "output_type": "execute_result"
    }
   ],
   "source": [
    "model = DecisionTreeClassifier(random_state=12345, max_depth=6, \n",
    "                                       criterion='gini', min_samples_split=5)\n",
    "model.fit(features_train, target_train)\n",
    "predictions_valid = model.predict(features_valid)\n",
    "f1 = f1_score(target_valid, predictions_valid)\n",
    "round(f1, 2)"
   ]
  },
  {
   "cell_type": "code",
   "execution_count": 324,
   "metadata": {},
   "outputs": [
    {
     "data": {
      "text/plain": [
       "0.82"
      ]
     },
     "execution_count": 324,
     "metadata": {},
     "output_type": "execute_result"
    }
   ],
   "source": [
    "probabilities_valid = model.predict_proba(features_valid)\n",
    "probabilities_one_valid = probabilities_valid[:, 1]\n",
    "\n",
    "auc_roc = roc_auc_score(target_valid, probabilities_one_valid)\n",
    "round(auc_roc, 2)"
   ]
  },
  {
   "cell_type": "code",
   "execution_count": 325,
   "metadata": {},
   "outputs": [
    {
     "data": {
      "image/png": "[encoded data removed]",
      "text/plain": [
       "<Figure size 432x288 with 1 Axes>"
      ]
     },
     "metadata": {
      "needs_background": "light"
     },
     "output_type": "display_data"
    }
   ],
   "source": [
    "fpr, tpr, tresholds = roc_curve(target_valid, probabilities_one_valid)\n",
    "\n",
    "plt.figure()\n",
    "plt.plot(fpr, tpr, linestyle='-')\n",
    "plt.plot([0,1], [0,1], linestyle='-')\n",
    "\n",
    "plt.xlim([0,1])\n",
    "plt.ylim([0,1])\n",
    "plt.xlabel('False Positive Rate')\n",
    "plt.ylabel('True Positive Rate')\n",
    "\n",
    "plt.title('ROC-кривая')\n",
    "plt.show()"
   ]
  },
  {
   "cell_type": "markdown",
   "metadata": {},
   "source": [
    "### Случайный лес"
   ]
  },
  {
   "cell_type": "markdown",
   "metadata": {},
   "source": [
    "Обучим модель случайного леса. В цикле также переберём разные значения гиперпараметров: глубину дерева, количество деревьев.\n",
    "Выберем модель с лучшими гиперпараметрами по наиболее высокой F1-метрике."
   ]
  },
  {
   "cell_type": "code",
   "execution_count": 326,
   "metadata": {},
   "outputs": [
    {
     "name": "stdout",
     "output_type": "stream",
     "text": [
      "F1 наилучшей модели на валидационной выборке: 0.6\n",
      "Deph, глубина дерева для лучшей модели: 14\n",
      "n_estimators, количество голосующих: 9\n",
      "10.6 s ± 0 ns per loop (mean ± std. dev. of 1 run, 1 loop each)\n"
     ]
    }
   ],
   "source": [
    "%%timeit -n 1 -r 1\n",
    "\n",
    "best_model = None\n",
    "best_f1 = 0\n",
    "best_est = 0\n",
    "best_depth = 0\n",
    "for est in range(1, 11):\n",
    "    for depth in range (1, 16):\n",
    "        model = RandomForestClassifier(random_state=12345, n_estimators=est, max_depth=depth)\n",
    "        model.fit(features_train, target_train)\n",
    "        predictions_valid = model.predict(features_valid)\n",
    "        f1 = f1_score(target_valid, predictions_valid)\n",
    "        if f1 > best_f1:\n",
    "            best_model = model\n",
    "            best_f1 = f1\n",
    "            best_est = est\n",
    "            best_depth = depth\n",
    "print(\"F1 наилучшей модели на валидационной выборке:\", round(best_f1, 2))\n",
    "print(\"Deph, глубина дерева для лучшей модели:\", best_depth)\n",
    "print(\"n_estimators, количество голосующих:\", best_est)"
   ]
  },
  {
   "cell_type": "markdown",
   "metadata": {},
   "source": [
    "Обучим модель с лучшими гиперпараметрами. Посчитаем F1-метрику и площадь под ROC-кривой."
   ]
  },
  {
   "cell_type": "code",
   "execution_count": 327,
   "metadata": {},
   "outputs": [
    {
     "data": {
      "text/plain": [
       "0.6"
      ]
     },
     "execution_count": 327,
     "metadata": {},
     "output_type": "execute_result"
    }
   ],
   "source": [
    "model = RandomForestClassifier(random_state=12345, n_estimators=9, max_depth=14)\n",
    "model.fit(features_train, target_train)\n",
    "predictions_valid = model.predict(features_valid)\n",
    "f1 = f1_score(target_valid, predictions_valid)\n",
    "round(f1, 2)"
   ]
  },
  {
   "cell_type": "code",
   "execution_count": 328,
   "metadata": {},
   "outputs": [
    {
     "data": {
      "text/plain": [
       "0.82"
      ]
     },
     "execution_count": 328,
     "metadata": {},
     "output_type": "execute_result"
    }
   ],
   "source": [
    "probabilities_valid = model.predict_proba(features_valid)\n",
    "probabilities_one_valid = probabilities_valid[:, 1]\n",
    "\n",
    "auc_roc = roc_auc_score(target_valid, probabilities_one_valid)\n",
    "round(auc_roc, 2)"
   ]
  },
  {
   "cell_type": "code",
   "execution_count": 329,
   "metadata": {},
   "outputs": [
    {
     "data": {
      "image/png": "[encoded data removed]",
      "text/plain": [
       "<Figure size 432x288 with 1 Axes>"
      ]
     },
     "metadata": {
      "needs_background": "light"
     },
     "output_type": "display_data"
    }
   ],
   "source": [
    "fpr, tpr, tresholds = roc_curve(target_valid, probabilities_one_valid)\n",
    "\n",
    "plt.figure()\n",
    "plt.plot(fpr, tpr, linestyle='-')\n",
    "plt.plot([0,1], [0,1], linestyle='-')\n",
    "\n",
    "plt.xlim([0,1])\n",
    "plt.ylim([0,1])\n",
    "plt.xlabel('False Positive Rate')\n",
    "plt.ylabel('True Positive Rate')\n",
    "\n",
    "plt.title('ROC-кривая')\n",
    "plt.show()"
   ]
  },
  {
   "cell_type": "markdown",
   "metadata": {},
   "source": [
    "**Вывод**\n",
    "\n",
    "Мы провели исследование задачи на 3-х разных моделях без учёта дисбаланса классов. Лучший результат f1-меры показали дерево решений и случайный лес - 0.57. Для модели случайного леса значения auc_roc выше чем для дерева решений, 0.83 против 0.79. Однако эта же модель и самая медлительная.\n",
    "\n",
    "Как видно ни одна из моделей не показала достаточн хорошего результата. Проведём исследование с учётом дисбаланса классов."
   ]
  },
  {
   "cell_type": "markdown",
   "metadata": {},
   "source": [
    "## Борьба с дисбалансом"
   ]
  },
  {
   "cell_type": "markdown",
   "metadata": {},
   "source": [
    "### Логистическая регрессия"
   ]
  },
  {
   "cell_type": "markdown",
   "metadata": {},
   "source": [
    "#### Взвешивание классов - class_weight='balanced'"
   ]
  },
  {
   "cell_type": "markdown",
   "metadata": {},
   "source": [
    "Добавим в модель логистической регрессии аргумент `class_weight`, который сбалансирует классы. Алгоритм посчитает, во сколько раз класс «0» встречается чаще класса «1» и отдаст предпочтение более редкому классу.\n",
    "\n",
    "Посчитаем F1-метрику, AUC-ROC."
   ]
  },
  {
   "cell_type": "code",
   "execution_count": 330,
   "metadata": {},
   "outputs": [
    {
     "name": "stdout",
     "output_type": "stream",
     "text": [
      "F1: 0.49\n",
      "Precision: 0.38\n",
      "Recall: 0.68\n"
     ]
    }
   ],
   "source": [
    "model = LogisticRegression(random_state=12345, solver='liblinear', class_weight='balanced')\n",
    "model.fit(features_train, target_train)\n",
    "predicted_valid = model.predict(features_valid)\n",
    "print(\"F1:\", round(f1_score(target_valid, predicted_valid), 2))\n",
    "print(\"Precision:\", round(precision_score(target_valid, predicted_valid), 2))\n",
    "print(\"Recall:\", round(recall_score(target_valid, predicted_valid), 2))"
   ]
  },
  {
   "cell_type": "code",
   "execution_count": 331,
   "metadata": {},
   "outputs": [
    {
     "data": {
      "text/plain": [
       "0.76"
      ]
     },
     "execution_count": 331,
     "metadata": {},
     "output_type": "execute_result"
    }
   ],
   "source": [
    "probabilities_valid = model.predict_proba(features_valid)\n",
    "probabilities_one_valid = probabilities_valid[:, 1]\n",
    "\n",
    "auc_roc = roc_auc_score(target_valid, probabilities_one_valid)\n",
    "round(auc_roc, 2)"
   ]
  },
  {
   "cell_type": "code",
   "execution_count": 332,
   "metadata": {
    "scrolled": true
   },
   "outputs": [
    {
     "data": {
      "image/png": "[encoded data removed]",
      "text/plain": [
       "<Figure size 432x288 with 1 Axes>"
      ]
     },
     "metadata": {
      "needs_background": "light"
     },
     "output_type": "display_data"
    }
   ],
   "source": [
    "fpr, tpr, tresholds = roc_curve(target_valid, probabilities_one_valid)\n",
    "\n",
    "plt.figure()\n",
    "plt.plot(fpr, tpr, linestyle='-')\n",
    "plt.plot([0,1], [0,1], linestyle='-')\n",
    "\n",
    "plt.xlim([0,1])\n",
    "plt.ylim([0,1])\n",
    "plt.xlabel('False Positive Rate')\n",
    "plt.ylabel('True Positive Rate')\n",
    "\n",
    "plt.title('ROC-кривая')\n",
    "plt.show()"
   ]
  },
  {
   "cell_type": "markdown",
   "metadata": {},
   "source": [
    "Показатели заметно улучшились. Однако этого недостаточно. Попробуем сбалансировать классы вручную."
   ]
  },
  {
   "cell_type": "markdown",
   "metadata": {},
   "source": [
    "#### Увеличение выборки - upsampling"
   ]
  },
  {
   "cell_type": "markdown",
   "metadata": {},
   "source": [
    "Напишем функцию, которая разделит обучающую выборку на положительный и отрицаетльный классы. Скопирует несколько раз более редкий класс, перемешает объекты и потом снова объединит выборку. Таким образом мы сделаем редкий класс, менее редким."
   ]
  },
  {
   "cell_type": "code",
   "execution_count": 333,
   "metadata": {},
   "outputs": [],
   "source": [
    "def upsample(features, target, repeat):\n",
    "    features_zeros = features[target == 0]\n",
    "    features_ones = features[target == 1]\n",
    "    target_zeros = target[target == 0]\n",
    "    target_ones = target[target == 1]\n",
    "    \n",
    "    features_upsampled = pd.concat([features_zeros] + [features_ones] * repeat)\n",
    "    target_upsampled = pd.concat([target_zeros] + [target_ones] * repeat)\n",
    "    \n",
    "    features_upsampled, target_upsampled = shuffle(features_upsampled, target_upsampled, random_state=12345)\n",
    "    return features_upsampled, target_upsampled"
   ]
  },
  {
   "cell_type": "code",
   "execution_count": 334,
   "metadata": {},
   "outputs": [],
   "source": [
    "features_upsampled, target_upsampled = upsample(features_train, target_train, 4)"
   ]
  },
  {
   "cell_type": "code",
   "execution_count": 335,
   "metadata": {},
   "outputs": [
    {
     "data": {
      "text/plain": [
       "0.9958368026644463"
      ]
     },
     "execution_count": 335,
     "metadata": {},
     "output_type": "execute_result"
    }
   ],
   "source": [
    "features_upsampled[target == 1].shape[0] / features_upsampled[target == 0].shape[0]"
   ]
  },
  {
   "cell_type": "code",
   "execution_count": 336,
   "metadata": {},
   "outputs": [
    {
     "name": "stdout",
     "output_type": "stream",
     "text": [
      "F1: 0.49\n",
      "Precision: 0.38\n",
      "Recall: 0.68\n"
     ]
    }
   ],
   "source": [
    "model = LogisticRegression(random_state=12345, solver='liblinear')\n",
    "model.fit(features_upsampled, target_upsampled)\n",
    "predicted_valid = model.predict(features_valid)\n",
    "\n",
    "print(\"F1:\", round(f1_score(target_valid, predicted_valid), 2))\n",
    "print(\"Precision:\", round(precision_score(target_valid, predicted_valid), 2))\n",
    "print(\"Recall:\", round(recall_score(target_valid, predicted_valid), 2))"
   ]
  },
  {
   "cell_type": "code",
   "execution_count": 337,
   "metadata": {},
   "outputs": [
    {
     "data": {
      "text/plain": [
       "0.76"
      ]
     },
     "execution_count": 337,
     "metadata": {},
     "output_type": "execute_result"
    }
   ],
   "source": [
    "probabilities_valid = model.predict_proba(features_valid)\n",
    "probabilities_one_valid = probabilities_valid[:, 1]\n",
    "\n",
    "auc_roc = roc_auc_score(target_valid, probabilities_one_valid)\n",
    "round(auc_roc, 2)"
   ]
  },
  {
   "cell_type": "code",
   "execution_count": 338,
   "metadata": {
    "scrolled": true
   },
   "outputs": [
    {
     "data": {
      "image/png": "[encoded data removed]",
      "text/plain": [
       "<Figure size 432x288 with 1 Axes>"
      ]
     },
     "metadata": {
      "needs_background": "light"
     },
     "output_type": "display_data"
    }
   ],
   "source": [
    "fpr, tpr, tresholds = roc_curve(target_valid, probabilities_one_valid)\n",
    "\n",
    "plt.figure()\n",
    "plt.plot(fpr, tpr, linestyle='-')\n",
    "plt.plot([0,1], [0,1], linestyle='-')\n",
    "\n",
    "plt.xlim([0,1])\n",
    "plt.ylim([0,1])\n",
    "plt.xlabel('False Positive Rate')\n",
    "plt.ylabel('True Positive Rate')\n",
    "\n",
    "plt.title('ROC-кривая')\n",
    "plt.show()"
   ]
  },
  {
   "cell_type": "markdown",
   "metadata": {},
   "source": [
    "После увеличения выборки результат такой как и при использовании встроенного алгоритма `class_weight='balanced'`. Попробуем наоборот, уменьшить выборку. Напишем функцию, которая делить выборку на классы, уменьшает количество объектов более распространенного класса, соединяет и перемешивает выборку."
   ]
  },
  {
   "cell_type": "markdown",
   "metadata": {},
   "source": [
    "#### Уменьшение выборки - downsampling"
   ]
  },
  {
   "cell_type": "code",
   "execution_count": 339,
   "metadata": {},
   "outputs": [],
   "source": [
    "def downsample(features, target, fraction):\n",
    "    features_zeros = features[target == 0]\n",
    "    features_ones = features[target == 1]\n",
    "    target_zeros = target[target == 0]\n",
    "    target_ones = target[target == 1]\n",
    "\n",
    "    features_downsampled = pd.concat(\n",
    "        [features_zeros.sample(frac=fraction, random_state=12345)] + [features_ones])\n",
    "    target_downsampled = pd.concat(\n",
    "        [target_zeros.sample(frac=fraction, random_state=12345)] + [target_ones])\n",
    "    \n",
    "    features_downsampled, target_downsampled = shuffle(\n",
    "        features_downsampled, target_downsampled, random_state=12345)\n",
    "    \n",
    "    return features_downsampled, target_downsampled"
   ]
  },
  {
   "cell_type": "code",
   "execution_count": 340,
   "metadata": {},
   "outputs": [],
   "source": [
    "features_downsampled, target_downsampled = downsample(features_train, target_train, 0.25)"
   ]
  },
  {
   "cell_type": "markdown",
   "metadata": {},
   "source": [
    "Проверим сбалансированы ли классы."
   ]
  },
  {
   "cell_type": "code",
   "execution_count": 341,
   "metadata": {},
   "outputs": [
    {
     "data": {
      "text/plain": [
       "0.9958368026644463"
      ]
     },
     "execution_count": 341,
     "metadata": {},
     "output_type": "execute_result"
    }
   ],
   "source": [
    "features_downsampled[target == 1].shape[0] / features_downsampled[target == 0].shape[0]"
   ]
  },
  {
   "cell_type": "code",
   "execution_count": 342,
   "metadata": {},
   "outputs": [
    {
     "name": "stdout",
     "output_type": "stream",
     "text": [
      "F1: 0.48\n",
      "Precision: 0.38\n",
      "Recall: 0.67\n"
     ]
    }
   ],
   "source": [
    "model = LogisticRegression(random_state=12345, solver='liblinear')\n",
    "model.fit(features_downsampled, target_downsampled)\n",
    "predicted_valid = model.predict(features_valid)\n",
    "\n",
    "print(\"F1:\", round(f1_score(target_valid, predicted_valid), 2))\n",
    "print(\"Precision:\", round(precision_score(target_valid, predicted_valid), 2))\n",
    "print(\"Recall:\", round(recall_score(target_valid, predicted_valid), 2))"
   ]
  },
  {
   "cell_type": "code",
   "execution_count": 343,
   "metadata": {},
   "outputs": [
    {
     "data": {
      "text/plain": [
       "0.76"
      ]
     },
     "execution_count": 343,
     "metadata": {},
     "output_type": "execute_result"
    }
   ],
   "source": [
    "probabilities_valid = model.predict_proba(features_valid)\n",
    "probabilities_one_valid = probabilities_valid[:, 1]\n",
    "\n",
    "auc_roc = roc_auc_score(target_valid, probabilities_one_valid)\n",
    "round(auc_roc, 2)"
   ]
  },
  {
   "cell_type": "code",
   "execution_count": 344,
   "metadata": {
    "scrolled": true
   },
   "outputs": [
    {
     "data": {
      "image/png": "[encoded data removed]",
      "text/plain": [
       "<Figure size 432x288 with 1 Axes>"
      ]
     },
     "metadata": {
      "needs_background": "light"
     },
     "output_type": "display_data"
    }
   ],
   "source": [
    "fpr, tpr, tresholds = roc_curve(target_valid, probabilities_one_valid)\n",
    "\n",
    "plt.figure()\n",
    "plt.plot(fpr, tpr, linestyle='-')\n",
    "plt.plot([0,1], [0,1], linestyle='-')\n",
    "\n",
    "plt.xlim([0,1])\n",
    "plt.ylim([0,1])\n",
    "plt.xlabel('False Positive Rate')\n",
    "plt.ylabel('True Positive Rate')\n",
    "\n",
    "plt.title('ROC-кривая')\n",
    "plt.show()"
   ]
  },
  {
   "cell_type": "markdown",
   "metadata": {},
   "source": [
    "Точность всё ещё низкая. Увеличим пороговую вероятность положительного класса, чтобы увеличить точность."
   ]
  },
  {
   "cell_type": "code",
   "execution_count": 345,
   "metadata": {},
   "outputs": [
    {
     "name": "stdout",
     "output_type": "stream",
     "text": [
      "Лучший показатель F1-меры(среднее гармоническое полноты и точности): 0.499 при пороге 0.58\n"
     ]
    }
   ],
   "source": [
    "probabilities_valid = model.predict_proba(features_valid)\n",
    "probabilities_one_valid = probabilities_valid[:, 1]\n",
    "best_f1 = 0\n",
    "best_threshold = 0\n",
    "for threshold in np.arange(0, 1, 0.02):\n",
    "    predicted_valid = probabilities_one_valid > threshold\n",
    "    f1 = f1_score(target_valid, predicted_valid)\n",
    "    \n",
    "    if f1 > best_f1:\n",
    "        best_f1 = f1\n",
    "        best_threshold = threshold\n",
    "\n",
    "print('Лучший показатель F1-меры(среднее гармоническое полноты и точности):', round(best_f1, 3), 'при пороге', best_threshold)"
   ]
  },
  {
   "cell_type": "markdown",
   "metadata": {},
   "source": [
    "Также построим ROC-кривую, или кривую ошибок. По горизонтали нанесём долю ложноположительных ответов (FPR), а по вертикали — долю истинно положительных ответов (TPR). Переберём значения порога логистической регрессии и проведём кривую. \n",
    "Чтобы оценить насколько наша модель лучше модели выдающей случайные ответы, посчитаем и сравним площадь под ROC-кривой - метрику AUC-ROC. AUC-ROC случайной модели равна 0.5."
   ]
  },
  {
   "cell_type": "code",
   "execution_count": 346,
   "metadata": {},
   "outputs": [
    {
     "data": {
      "text/plain": [
       "0.76"
      ]
     },
     "execution_count": 346,
     "metadata": {},
     "output_type": "execute_result"
    }
   ],
   "source": [
    "auc_roc = roc_auc_score(target_valid, probabilities_one_valid)\n",
    "round(auc_roc, 2)"
   ]
  },
  {
   "cell_type": "code",
   "execution_count": 347,
   "metadata": {},
   "outputs": [
    {
     "data": {
      "image/png": "[encoded data removed]",
      "text/plain": [
       "<Figure size 432x288 with 1 Axes>"
      ]
     },
     "metadata": {
      "needs_background": "light"
     },
     "output_type": "display_data"
    }
   ],
   "source": [
    "fpr, tpr, tresholds = roc_curve(target_valid, probabilities_one_valid)\n",
    "\n",
    "plt.figure()\n",
    "plt.plot(fpr, tpr, linestyle='-')\n",
    "plt.plot([0,1], [0,1], linestyle='-')\n",
    "\n",
    "plt.xlim([0,1])\n",
    "plt.ylim([0,1])\n",
    "plt.xlabel('False Positive Rate')\n",
    "plt.ylabel('True Positive Rate')\n",
    "\n",
    "plt.title('ROC-кривая')\n",
    "plt.show()"
   ]
  },
  {
   "cell_type": "markdown",
   "metadata": {},
   "source": [
    "**Вывод**\n",
    "\n",
    "Площадь под ROC-кривой - AUC-ROC больше чем у случайной модели, но значение F1-меры всё ещё недостаточно высокое.\n",
    "\n",
    "Посмотрим какие результаты выдадут модели дерева решений и случайного леса."
   ]
  },
  {
   "cell_type": "markdown",
   "metadata": {},
   "source": [
    "### Дерево решений"
   ]
  },
  {
   "cell_type": "markdown",
   "metadata": {},
   "source": [
    "Рассмотрим все методы борьбы с дисбалансом классов на медели дерева решений."
   ]
  },
  {
   "cell_type": "markdown",
   "metadata": {},
   "source": [
    "#### Взвешивание классов - class_weight='balanced'"
   ]
  },
  {
   "cell_type": "markdown",
   "metadata": {},
   "source": [
    "Обучим дерево решений. В цикле переберём разные значения гиперпараметров, чтобы выбрать лучшие: глубину дерева, критерий разделения. Обязательно укажем `class_weight='balanced'` - балансирование классов.`"
   ]
  },
  {
   "cell_type": "code",
   "execution_count": 348,
   "metadata": {},
   "outputs": [
    {
     "name": "stdout",
     "output_type": "stream",
     "text": [
      "F1-мера наилучшей модели на валидационной выборке: 0.598\n",
      "Deph, глубина дерева для лучшей модели: 5\n",
      "Criterion, критерий разделения: entropy\n",
      "635 ms ± 0 ns per loop (mean ± std. dev. of 1 run, 1 loop each)\n"
     ]
    }
   ],
   "source": [
    "%%timeit -n 1 -r 1\n",
    "\n",
    "best_model = None\n",
    "best_f1 = 0\n",
    "best_depth = 0\n",
    "best_creterion = 'None'\n",
    "for criterion in ['entropy', 'gini']:\n",
    "    for depth in range(1, 11):\n",
    "        model = DecisionTreeClassifier(random_state=12345, max_depth=depth, \n",
    "                                       criterion=criterion, min_samples_split=5, class_weight='balanced')\n",
    "        model.fit(features_train, target_train)\n",
    "        predictions_valid = model.predict(features_valid)\n",
    "        f1 = f1_score(target_valid, predictions_valid)\n",
    "        if f1 > best_f1:\n",
    "                best_model = model\n",
    "                best_f1 = f1\n",
    "                best_depth = depth\n",
    "                best_creterion = criterion\n",
    "print(\"F1-мера наилучшей модели на валидационной выборке:\", round(best_f1, 3))\n",
    "print(\"Deph, глубина дерева для лучшей модели:\", best_depth)\n",
    "print(\"Criterion, критерий разделения:\", best_creterion)"
   ]
  },
  {
   "cell_type": "markdown",
   "metadata": {},
   "source": [
    "Обучим модель дерева с лучшими гиперпараметрами. Посчитаем F1-метрику и площадь под ROC-кривой."
   ]
  },
  {
   "cell_type": "code",
   "execution_count": 349,
   "metadata": {},
   "outputs": [
    {
     "data": {
      "text/plain": [
       "0.598"
      ]
     },
     "execution_count": 349,
     "metadata": {},
     "output_type": "execute_result"
    }
   ],
   "source": [
    "model = DecisionTreeClassifier(random_state=12345, max_depth=5, \n",
    "                                       criterion='entropy', min_samples_split=5, class_weight='balanced')\n",
    "model.fit(features_train, target_train)\n",
    "predictions_valid = model.predict(features_valid)\n",
    "f1 = f1_score(target_valid, predictions_valid)\n",
    "round(f1, 3)"
   ]
  },
  {
   "cell_type": "code",
   "execution_count": 350,
   "metadata": {},
   "outputs": [
    {
     "data": {
      "text/plain": [
       "0.831"
      ]
     },
     "execution_count": 350,
     "metadata": {},
     "output_type": "execute_result"
    }
   ],
   "source": [
    "probabilities_valid = model.predict_proba(features_valid)\n",
    "probabilities_one_valid = probabilities_valid[:, 1]\n",
    "\n",
    "auc_roc = roc_auc_score(target_valid, probabilities_one_valid)\n",
    "round(auc_roc, 3)"
   ]
  },
  {
   "cell_type": "code",
   "execution_count": 351,
   "metadata": {},
   "outputs": [
    {
     "data": {
      "image/png": "[encoded data removed]",
      "text/plain": [
       "<Figure size 432x288 with 1 Axes>"
      ]
     },
     "metadata": {
      "needs_background": "light"
     },
     "output_type": "display_data"
    }
   ],
   "source": [
    "fpr, tpr, tresholds = roc_curve(target_valid, probabilities_one_valid)\n",
    "\n",
    "plt.figure()\n",
    "plt.plot(fpr, tpr, linestyle='-')\n",
    "plt.plot([0,1], [0,1], linestyle='-')\n",
    "\n",
    "plt.xlim([0,1])\n",
    "plt.ylim([0,1])\n",
    "plt.xlabel('False Positive Rate')\n",
    "plt.ylabel('True Positive Rate')\n",
    "\n",
    "plt.title('ROC-кривая')\n",
    "plt.show()"
   ]
  },
  {
   "cell_type": "markdown",
   "metadata": {},
   "source": [
    "#### Увеличение выборки - upsampling"
   ]
  },
  {
   "cell_type": "code",
   "execution_count": 352,
   "metadata": {},
   "outputs": [
    {
     "name": "stdout",
     "output_type": "stream",
     "text": [
      "F1-мера наилучшей модели на валидационной выборке: 0.598\n",
      "Deph, глубина дерева для лучшей модели: 5\n",
      "Criterion, критерий разделения: entropy\n",
      "748 ms ± 0 ns per loop (mean ± std. dev. of 1 run, 1 loop each)\n"
     ]
    }
   ],
   "source": [
    "%%timeit -n 1 -r 1\n",
    "\n",
    "best_model = None\n",
    "best_f1 = 0\n",
    "best_depth = 0\n",
    "best_creterion = 'None'\n",
    "for criterion in ['entropy', 'gini']:\n",
    "    for depth in range(1, 11):\n",
    "        model = DecisionTreeClassifier(random_state=12345, max_depth=depth, \n",
    "                                       criterion=criterion, min_samples_split=5)\n",
    "        model.fit(features_upsampled, target_upsampled)\n",
    "        predictions_valid = model.predict(features_valid)\n",
    "        f1 = f1_score(target_valid, predictions_valid)\n",
    "        if f1 > best_f1:\n",
    "                best_model = model\n",
    "                best_f1 = f1\n",
    "                best_depth = depth\n",
    "                best_creterion = criterion\n",
    "print(\"F1-мера наилучшей модели на валидационной выборке:\", round(best_f1, 3))\n",
    "print(\"Deph, глубина дерева для лучшей модели:\", best_depth)\n",
    "print(\"Criterion, критерий разделения:\", best_creterion)"
   ]
  },
  {
   "cell_type": "markdown",
   "metadata": {},
   "source": [
    "Обучим модель дерева с лучшими гиперпараметрами. Посчитаем F1-метрику и площадь под ROC-кривой."
   ]
  },
  {
   "cell_type": "code",
   "execution_count": 353,
   "metadata": {},
   "outputs": [
    {
     "data": {
      "text/plain": [
       "0.598"
      ]
     },
     "execution_count": 353,
     "metadata": {},
     "output_type": "execute_result"
    }
   ],
   "source": [
    "model = DecisionTreeClassifier(random_state=12345, max_depth=5, \n",
    "                                       criterion='entropy', min_samples_split=5)\n",
    "model.fit(features_upsampled, target_upsampled)\n",
    "predictions_valid = model.predict(features_valid)\n",
    "f1 = f1_score(target_valid, predictions_valid)\n",
    "round(f1, 3)"
   ]
  },
  {
   "cell_type": "code",
   "execution_count": 354,
   "metadata": {},
   "outputs": [
    {
     "data": {
      "text/plain": [
       "0.831"
      ]
     },
     "execution_count": 354,
     "metadata": {},
     "output_type": "execute_result"
    }
   ],
   "source": [
    "probabilities_valid = model.predict_proba(features_valid)\n",
    "probabilities_one_valid = probabilities_valid[:, 1]\n",
    "\n",
    "auc_roc = roc_auc_score(target_valid, probabilities_one_valid)\n",
    "round(auc_roc, 3)"
   ]
  },
  {
   "cell_type": "code",
   "execution_count": 355,
   "metadata": {},
   "outputs": [
    {
     "data": {
      "image/png": "[encoded data removed]",
      "text/plain": [
       "<Figure size 432x288 with 1 Axes>"
      ]
     },
     "metadata": {
      "needs_background": "light"
     },
     "output_type": "display_data"
    }
   ],
   "source": [
    "fpr, tpr, tresholds = roc_curve(target_valid, probabilities_one_valid)\n",
    "\n",
    "plt.figure()\n",
    "plt.plot(fpr, tpr, linestyle='-')\n",
    "plt.plot([0,1], [0,1], linestyle='-')\n",
    "\n",
    "plt.xlim([0,1])\n",
    "plt.ylim([0,1])\n",
    "plt.xlabel('False Positive Rate')\n",
    "plt.ylabel('True Positive Rate')\n",
    "\n",
    "plt.title('ROC-кривая')\n",
    "plt.show()"
   ]
  },
  {
   "cell_type": "markdown",
   "metadata": {},
   "source": [
    "#### Уменьшение выборки - downsampling"
   ]
  },
  {
   "cell_type": "code",
   "execution_count": 356,
   "metadata": {},
   "outputs": [
    {
     "name": "stdout",
     "output_type": "stream",
     "text": [
      "F1-мера наилучшей модели на валидационной выборке: 0.597\n",
      "Deph, глубина дерева для лучшей модели: 3\n",
      "Criterion, критерий разделения: entropy\n",
      "380 ms ± 0 ns per loop (mean ± std. dev. of 1 run, 1 loop each)\n"
     ]
    }
   ],
   "source": [
    "%%timeit -n 1 -r 1\n",
    "\n",
    "best_model = None\n",
    "best_f1 = 0\n",
    "best_depth = 0\n",
    "best_creterion = 'None'\n",
    "for criterion in ['entropy', 'gini']:\n",
    "    for depth in range(1, 11):\n",
    "        model = DecisionTreeClassifier(random_state=12345, max_depth=depth, \n",
    "                                       criterion=criterion, min_samples_split=5)\n",
    "        model.fit(features_downsampled, target_downsampled)\n",
    "        predictions_valid = model.predict(features_valid)\n",
    "        f1 = f1_score(target_valid, predictions_valid)\n",
    "        if f1 > best_f1:\n",
    "                best_model = model\n",
    "                best_f1 = f1\n",
    "                best_depth = depth\n",
    "                best_creterion = criterion\n",
    "print(\"F1-мера наилучшей модели на валидационной выборке:\", round(best_f1, 3))\n",
    "print(\"Deph, глубина дерева для лучшей модели:\", best_depth)\n",
    "print(\"Criterion, критерий разделения:\", best_creterion)"
   ]
  },
  {
   "cell_type": "markdown",
   "metadata": {},
   "source": [
    "Обучим модель дерева с лучшими гиперпараметрами. Посчитаем F1-метрику и площадь под ROC-кривой."
   ]
  },
  {
   "cell_type": "code",
   "execution_count": 357,
   "metadata": {},
   "outputs": [
    {
     "data": {
      "text/plain": [
       "0.597"
      ]
     },
     "execution_count": 357,
     "metadata": {},
     "output_type": "execute_result"
    }
   ],
   "source": [
    "model = DecisionTreeClassifier(random_state=12345, max_depth=3, \n",
    "                                       criterion='entropy', min_samples_split=5)\n",
    "model.fit(features_downsampled, target_downsampled)\n",
    "predictions_valid = model.predict(features_valid)\n",
    "f1 = f1_score(target_valid, predictions_valid)\n",
    "round(f1, 3)"
   ]
  },
  {
   "cell_type": "code",
   "execution_count": 358,
   "metadata": {},
   "outputs": [
    {
     "data": {
      "text/plain": [
       "0.804"
      ]
     },
     "execution_count": 358,
     "metadata": {},
     "output_type": "execute_result"
    }
   ],
   "source": [
    "probabilities_valid = model.predict_proba(features_valid)\n",
    "probabilities_one_valid = probabilities_valid[:, 1]\n",
    "\n",
    "auc_roc = roc_auc_score(target_valid, probabilities_one_valid)\n",
    "round(auc_roc, 3)"
   ]
  },
  {
   "cell_type": "code",
   "execution_count": 359,
   "metadata": {},
   "outputs": [
    {
     "data": {
      "image/png": "[encoded data removed]",
      "text/plain": [
       "<Figure size 432x288 with 1 Axes>"
      ]
     },
     "metadata": {
      "needs_background": "light"
     },
     "output_type": "display_data"
    }
   ],
   "source": [
    "fpr, tpr, tresholds = roc_curve(target_valid, probabilities_one_valid)\n",
    "\n",
    "plt.figure()\n",
    "plt.plot(fpr, tpr, linestyle='-')\n",
    "plt.plot([0,1], [0,1], linestyle='-')\n",
    "\n",
    "plt.xlim([0,1])\n",
    "plt.ylim([0,1])\n",
    "plt.xlabel('False Positive Rate')\n",
    "plt.ylabel('True Positive Rate')\n",
    "\n",
    "plt.title('ROC-кривая')\n",
    "plt.show()"
   ]
  },
  {
   "cell_type": "markdown",
   "metadata": {},
   "source": [
    "**Вывод**\n",
    "\n",
    "На модели дерева решений лучший результат F1-метрики и ROC-кривой мы получили при применении upsampling-a и встроенного параметра `class_weight='balanced'`: F1-метрика 0.597, AUC-ROC 0.831. Гораздо лучше чем у логистической регрессии.\n",
    "\n",
    "Посмотрим какие результаты получит случайный лес."
   ]
  },
  {
   "cell_type": "markdown",
   "metadata": {},
   "source": [
    "### Случайный лес"
   ]
  },
  {
   "cell_type": "markdown",
   "metadata": {},
   "source": [
    "Рассмотрим все методы борьбы с дисбалансом классов на медели случайного леса."
   ]
  },
  {
   "cell_type": "markdown",
   "metadata": {},
   "source": [
    "#### Взвешивание классов - class_weight='balanced'"
   ]
  },
  {
   "cell_type": "markdown",
   "metadata": {},
   "source": [
    "Обучим модель случайного леса. В цикле также переберём разные значения гиперпараметров: глубину дерева, количество деревьев. Обязательно укажем `class_weight='balanced'` - балансирование классов. Выберем модель с лучшими гиперпараметрами по наиболее высокой F1-метрике."
   ]
  },
  {
   "cell_type": "code",
   "execution_count": 360,
   "metadata": {},
   "outputs": [
    {
     "name": "stdout",
     "output_type": "stream",
     "text": [
      "F1 наилучшей модели на валидационной выборке: 0.63\n",
      "Deph, глубина дерева для лучшей модели: 7\n",
      "n_estimators, количество голосующих: 7\n",
      "8.13 s ± 0 ns per loop (mean ± std. dev. of 1 run, 1 loop each)\n"
     ]
    }
   ],
   "source": [
    "%%timeit -n 1 -r 1\n",
    "\n",
    "best_model = None\n",
    "best_f1 = 0\n",
    "best_est = 0\n",
    "best_depth = 0\n",
    "for est in range(1, 11):\n",
    "    for depth in range (1, 16):\n",
    "        model = RandomForestClassifier(random_state=12345, n_estimators=est, max_depth=depth, class_weight='balanced')\n",
    "        model.fit(features_train, target_train)\n",
    "        predictions_valid = model.predict(features_valid)\n",
    "        f1 = f1_score(target_valid, predictions_valid)\n",
    "        if f1 > best_f1:\n",
    "            best_model = model\n",
    "            best_f1 = f1\n",
    "            best_est = est\n",
    "            best_depth = depth\n",
    "print(\"F1 наилучшей модели на валидационной выборке:\", round(best_f1, 2))\n",
    "print(\"Deph, глубина дерева для лучшей модели:\", best_depth)\n",
    "print(\"n_estimators, количество голосующих:\", best_est)"
   ]
  },
  {
   "cell_type": "markdown",
   "metadata": {},
   "source": [
    "Обучим модель с лучшими гиперпараметрами. Посчитаем F1-метрику и площадь под ROC-кривой."
   ]
  },
  {
   "cell_type": "code",
   "execution_count": 361,
   "metadata": {},
   "outputs": [
    {
     "data": {
      "text/plain": [
       "0.63"
      ]
     },
     "execution_count": 361,
     "metadata": {},
     "output_type": "execute_result"
    }
   ],
   "source": [
    "model = RandomForestClassifier(random_state=12345, n_estimators=7, max_depth=7, class_weight='balanced')\n",
    "model.fit(features_train, target_train)\n",
    "predictions_valid = model.predict(features_valid)\n",
    "f1 = f1_score(target_valid, predictions_valid)\n",
    "round(f1, 2)"
   ]
  },
  {
   "cell_type": "code",
   "execution_count": 362,
   "metadata": {},
   "outputs": [
    {
     "data": {
      "text/plain": [
       "0.85"
      ]
     },
     "execution_count": 362,
     "metadata": {},
     "output_type": "execute_result"
    }
   ],
   "source": [
    "probabilities_valid = model.predict_proba(features_valid)\n",
    "probabilities_one_valid = probabilities_valid[:, 1]\n",
    "\n",
    "auc_roc = roc_auc_score(target_valid, probabilities_one_valid)\n",
    "round(auc_roc, 2)"
   ]
  },
  {
   "cell_type": "code",
   "execution_count": 363,
   "metadata": {},
   "outputs": [
    {
     "data": {
      "image/png": "[encoded data removed]",
      "text/plain": [
       "<Figure size 432x288 with 1 Axes>"
      ]
     },
     "metadata": {
      "needs_background": "light"
     },
     "output_type": "display_data"
    }
   ],
   "source": [
    "fpr, tpr, tresholds = roc_curve(target_valid, probabilities_one_valid)\n",
    "\n",
    "plt.figure()\n",
    "plt.plot(fpr, tpr, linestyle='-')\n",
    "plt.plot([0,1], [0,1], linestyle='-')\n",
    "\n",
    "plt.xlim([0,1])\n",
    "plt.ylim([0,1])\n",
    "plt.xlabel('False Positive Rate')\n",
    "plt.ylabel('True Positive Rate')\n",
    "\n",
    "plt.title('ROC-кривая')\n",
    "plt.show()"
   ]
  },
  {
   "cell_type": "markdown",
   "metadata": {},
   "source": [
    "#### Увеличение выборки - upsampling"
   ]
  },
  {
   "cell_type": "code",
   "execution_count": 364,
   "metadata": {},
   "outputs": [
    {
     "name": "stdout",
     "output_type": "stream",
     "text": [
      "F1 наилучшей модели на валидационной выборке: 0.61\n",
      "Deph, глубина дерева для лучшей модели: 13\n",
      "n_estimators, количество голосующих: 10\n",
      "14.4 s ± 0 ns per loop (mean ± std. dev. of 1 run, 1 loop each)\n"
     ]
    }
   ],
   "source": [
    "%%timeit -n 1 -r 1\n",
    "\n",
    "best_model = None\n",
    "best_f1 = 0\n",
    "best_est = 0\n",
    "best_depth = 0\n",
    "for est in range(1, 11):\n",
    "    for depth in range (1, 16):\n",
    "        model = RandomForestClassifier(random_state=12345, n_estimators=est, max_depth=depth)\n",
    "        model.fit(features_upsampled, target_upsampled)\n",
    "        predictions_valid = model.predict(features_valid)\n",
    "        f1 = f1_score(target_valid, predictions_valid)\n",
    "        if f1 > best_f1:\n",
    "            best_model = model\n",
    "            best_f1 = f1\n",
    "            best_est = est\n",
    "            best_depth = depth\n",
    "print(\"F1 наилучшей модели на валидационной выборке:\", round(best_f1, 2))\n",
    "print(\"Deph, глубина дерева для лучшей модели:\", best_depth)\n",
    "print(\"n_estimators, количество голосующих:\", best_est)"
   ]
  },
  {
   "cell_type": "markdown",
   "metadata": {},
   "source": [
    "Обучим модель с лучшими гиперпараметрами. Посчитаем F1-метрику и площадь под ROC-кривой."
   ]
  },
  {
   "cell_type": "code",
   "execution_count": 365,
   "metadata": {},
   "outputs": [
    {
     "data": {
      "text/plain": [
       "0.61"
      ]
     },
     "execution_count": 365,
     "metadata": {},
     "output_type": "execute_result"
    }
   ],
   "source": [
    "model = RandomForestClassifier(random_state=12345, n_estimators=10, max_depth=13)\n",
    "model.fit(features_upsampled, target_upsampled)\n",
    "predictions_valid = model.predict(features_valid)\n",
    "f1 = f1_score(target_valid, predictions_valid)\n",
    "round(f1, 2)"
   ]
  },
  {
   "cell_type": "code",
   "execution_count": 366,
   "metadata": {},
   "outputs": [
    {
     "data": {
      "text/plain": [
       "0.83"
      ]
     },
     "execution_count": 366,
     "metadata": {},
     "output_type": "execute_result"
    }
   ],
   "source": [
    "probabilities_valid = model.predict_proba(features_valid)\n",
    "probabilities_one_valid = probabilities_valid[:, 1]\n",
    "\n",
    "auc_roc = roc_auc_score(target_valid, probabilities_one_valid)\n",
    "round(auc_roc, 2)"
   ]
  },
  {
   "cell_type": "code",
   "execution_count": 367,
   "metadata": {},
   "outputs": [
    {
     "data": {
      "image/png": "[encoded data removed]",
      "text/plain": [
       "<Figure size 432x288 with 1 Axes>"
      ]
     },
     "metadata": {
      "needs_background": "light"
     },
     "output_type": "display_data"
    }
   ],
   "source": [
    "fpr, tpr, tresholds = roc_curve(target_valid, probabilities_one_valid)\n",
    "\n",
    "plt.figure()\n",
    "plt.plot(fpr, tpr, linestyle='-')\n",
    "plt.plot([0,1], [0,1], linestyle='-')\n",
    "\n",
    "plt.xlim([0,1])\n",
    "plt.ylim([0,1])\n",
    "plt.xlabel('False Positive Rate')\n",
    "plt.ylabel('True Positive Rate')\n",
    "\n",
    "plt.title('ROC-кривая')\n",
    "plt.show()"
   ]
  },
  {
   "cell_type": "markdown",
   "metadata": {},
   "source": [
    "#### Уменьшение выборки - downsampling"
   ]
  },
  {
   "cell_type": "code",
   "execution_count": 368,
   "metadata": {},
   "outputs": [
    {
     "name": "stdout",
     "output_type": "stream",
     "text": [
      "F1 наилучшей модели на валидационной выборке: 0.61\n",
      "Deph, глубина дерева для лучшей модели: 4\n",
      "n_estimators, количество голосующих: 10\n",
      "6.08 s ± 0 ns per loop (mean ± std. dev. of 1 run, 1 loop each)\n"
     ]
    }
   ],
   "source": [
    "%%timeit -n 1 -r 1\n",
    "\n",
    "best_model = None\n",
    "best_f1 = 0\n",
    "best_est = 0\n",
    "best_depth = 0\n",
    "for est in range(1, 11):\n",
    "    for depth in range (1, 16):\n",
    "        model = RandomForestClassifier(random_state=12345, n_estimators=est, max_depth=depth)\n",
    "        model.fit(features_downsampled, target_downsampled)\n",
    "        predictions_valid = model.predict(features_valid)\n",
    "        f1 = f1_score(target_valid, predictions_valid)\n",
    "        if f1 > best_f1:\n",
    "            best_model = model\n",
    "            best_f1 = f1\n",
    "            best_est = est\n",
    "            best_depth = depth\n",
    "print(\"F1 наилучшей модели на валидационной выборке:\", round(best_f1, 2))\n",
    "print(\"Deph, глубина дерева для лучшей модели:\", best_depth)\n",
    "print(\"n_estimators, количество голосующих:\", best_est)"
   ]
  },
  {
   "cell_type": "markdown",
   "metadata": {},
   "source": [
    "Обучим модель с лучшими гиперпараметрами. Посчитаем F1-метрику и площадь под ROC-кривой."
   ]
  },
  {
   "cell_type": "code",
   "execution_count": 369,
   "metadata": {},
   "outputs": [
    {
     "data": {
      "text/plain": [
       "0.61"
      ]
     },
     "execution_count": 369,
     "metadata": {},
     "output_type": "execute_result"
    }
   ],
   "source": [
    "model = RandomForestClassifier(random_state=12345, n_estimators=10, max_depth=4)\n",
    "model.fit(features_downsampled, target_downsampled)\n",
    "predictions_valid = model.predict(features_valid)\n",
    "f1 = f1_score(target_valid, predictions_valid)\n",
    "round(f1, 2)"
   ]
  },
  {
   "cell_type": "code",
   "execution_count": 370,
   "metadata": {},
   "outputs": [
    {
     "data": {
      "text/plain": [
       "0.84"
      ]
     },
     "execution_count": 370,
     "metadata": {},
     "output_type": "execute_result"
    }
   ],
   "source": [
    "probabilities_valid = model.predict_proba(features_valid)\n",
    "probabilities_one_valid = probabilities_valid[:, 1]\n",
    "\n",
    "auc_roc = roc_auc_score(target_valid, probabilities_one_valid)\n",
    "round(auc_roc, 2)"
   ]
  },
  {
   "cell_type": "code",
   "execution_count": 371,
   "metadata": {},
   "outputs": [
    {
     "data": {
      "image/png": "[encoded data removed]",
      "text/plain": [
       "<Figure size 432x288 with 1 Axes>"
      ]
     },
     "metadata": {
      "needs_background": "light"
     },
     "output_type": "display_data"
    }
   ],
   "source": [
    "fpr, tpr, tresholds = roc_curve(target_valid, probabilities_one_valid)\n",
    "\n",
    "plt.figure()\n",
    "plt.plot(fpr, tpr, linestyle='-')\n",
    "plt.plot([0,1], [0,1], linestyle='-')\n",
    "\n",
    "plt.xlim([0,1])\n",
    "plt.ylim([0,1])\n",
    "plt.xlabel('False Positive Rate')\n",
    "plt.ylabel('True Positive Rate')\n",
    "\n",
    "plt.title('ROC-кривая')\n",
    "plt.show()"
   ]
  },
  {
   "cell_type": "markdown",
   "metadata": {},
   "source": [
    "**Вывод**\n",
    "\n",
    "На модели случайного леса лучший результат F1-метрики и ROC-кривой мы получили при применении upsampling-a и встроенного параметра `class_weight='balanced'`: F1-метрика 0.6, AUC-ROC 0.83. Это лучший результат, поэтому для тестирования будем использовать модель случайного леса с параметром  `class_weight='balanced'`."
   ]
  },
  {
   "cell_type": "markdown",
   "metadata": {},
   "source": [
    "## Тестирование модели"
   ]
  },
  {
   "cell_type": "markdown",
   "metadata": {},
   "source": [
    "Лучшее значение F1-меры показала модель случайного леса с параметром `class_weight='balanced'`.\n",
    "\n",
    "Протестируем модель на тестовой выборке. Мы ожидаем получить значение F1-меры не менее 0.59."
   ]
  },
  {
   "cell_type": "code",
   "execution_count": 375,
   "metadata": {},
   "outputs": [
    {
     "data": {
      "text/plain": [
       "0.63"
      ]
     },
     "execution_count": 375,
     "metadata": {},
     "output_type": "execute_result"
    }
   ],
   "source": [
    "model = RandomForestClassifier(random_state=12345, n_estimators=7, max_depth=7, class_weight='balanced')\n",
    "model.fit(features_train, target_train)\n",
    "predictions_valid = model.predict(features_valid)\n",
    "f1 = f1_score(target_valid, predictions_valid)\n",
    "round(f1, 2)"
   ]
  },
  {
   "cell_type": "code",
   "execution_count": 376,
   "metadata": {},
   "outputs": [
    {
     "data": {
      "text/plain": [
       "0.85"
      ]
     },
     "execution_count": 376,
     "metadata": {},
     "output_type": "execute_result"
    }
   ],
   "source": [
    "probabilities_test = model.predict_proba(features_test)\n",
    "probabilities_one_test = probabilities_test[:, 1]\n",
    "\n",
    "auc_roc = roc_auc_score(target_test, probabilities_one_test)\n",
    "round(auc_roc, 2)"
   ]
  },
  {
   "cell_type": "code",
   "execution_count": 377,
   "metadata": {},
   "outputs": [
    {
     "data": {
      "image/png": "[encoded data removed]",
      "text/plain": [
       "<Figure size 432x288 with 1 Axes>"
      ]
     },
     "metadata": {
      "needs_background": "light"
     },
     "output_type": "display_data"
    }
   ],
   "source": [
    "fpr, tpr, tresholds = roc_curve(target_test, probabilities_one_test)\n",
    "\n",
    "plt.figure()\n",
    "plt.plot(fpr, tpr, linestyle='-')\n",
    "plt.plot([0,1], [0,1], linestyle='-')\n",
    "\n",
    "plt.xlim([0,1])\n",
    "plt.ylim([0,1])\n",
    "plt.xlabel('False Positive Rate')\n",
    "plt.ylabel('True Positive Rate')\n",
    "\n",
    "plt.title('ROC-кривая')\n",
    "plt.show()"
   ]
  },
  {
   "cell_type": "markdown",
   "metadata": {},
   "source": [
    "**Вывод**\n",
    "\n",
    "Лучшее значение F1-меры показала модель случайного леса: 0.61. AUC-ROC данной модели также была самой высокой: то есть при высоком TPR (True positive rate), FPR достаточно низкий.\n",
    "На тестовой выборке модель также получила высокое значение F1-меры: 0.6."
   ]
  },
  {
   "cell_type": "markdown",
   "metadata": {},
   "source": [
    "## Общий вывод"
   ]
  },
  {
   "cell_type": "markdown",
   "metadata": {},
   "source": [
    "В нашем распоряжении были данные о поведении клиентов «Бета-Банка», а также данные о расторжении договора с банком. Наша задача заключалась в том, чтобы обучить модель, которая будет достаточно точно предсказывать уйдёт клиент или нет.\n",
    "\n",
    "В качестве главной метрики для сравнения качества модели мы использовали F1-меру, а также AUC-ROC.\n",
    "\n",
    "**Подготовка данных**\n",
    "* Мы загрузили и изучили данные.\n",
    "* Заполнили пропуски в столбце `Tenure` (сколько лет человек является клиентом банка) медианным значением.\n",
    "* Удалим признаки, которые не несли значимой для исследования информации: `RowNumber` — индекс строки в данных, `CustomerId` — уникальный идентификатор клиента, `Surname` — фамилия.\n",
    "* Для корректной работы модели логистической регрессии применили прямое кодирование для 2-х категориальных признаков `Geography` (страна проживания) и `Gender` (пол) тип данных.\n",
    "* Разобили данные на обучающие, валидационные и тестовые в пропорции 3:1:1.\n",
    "* Промасштабировали численные признаки для корректной работы логистической регрессии.\n",
    "* Выявили дисбаланс классов в данных: положительный класс - \"клиент покинул банк\" составлял всего лишь 26%.\n",
    "\n",
    "**Исследование задачи**\n",
    "\n",
    "Мы провели исследование задачи на 3-х разных моделях без учёта дисбаланса классов.\n",
    "Лучший результат f1-меры показали дерево решений и случайный лес - 0.57. Для модели случайного леса значения auc_roc оказалось выше чем для дерева решений, 0.83 против 0.79. Однако ни одна из моделей не показала достаточно хорошего результата.\n",
    "\n",
    "**Исследование задачи с учётом дисбаланса классов**\n",
    "\n",
    "Мы провели исследование задачи на 3-х разных моделях с учётом дисбаланса классов.\n",
    "Для борьбы с дисбалансом для каждой модели мы использовали три метода: встроенный аргумент `class_weight`, upsampling и downsampling.\n",
    "Для модели логистической регрессии мы увеличили пороговую вероятность положительного класса, чтобы увеличить точность.\n",
    "\n",
    "Лучший результат показала модель случайного леса с параметром  `class_weight='balanced'`: F1-мера - 0.61. AUC-ROC данной модели также была самой высокой - 0.83, то есть при высоком TPR (True positive rate), FPR достаточно низкий.\n",
    "На тестовой выборке модель также получила высокое значение F1-меры: 0.6 и  AUC-ROC: 0.83."
   ]
  }
 ],
 "metadata": {
  "ExecuteTimeLog": [
   {
    "duration": 1237,
    "start_time": "2023-05-18T10:42:30.316Z"
   },
   {
    "duration": 45,
    "start_time": "2023-05-18T10:42:41.523Z"
   },
   {
    "duration": 158,
    "start_time": "2023-05-18T10:48:54.367Z"
   },
   {
    "duration": 36,
    "start_time": "2023-05-18T10:51:31.666Z"
   },
   {
    "duration": 15,
    "start_time": "2023-05-18T10:51:40.547Z"
   },
   {
    "duration": 5,
    "start_time": "2023-05-18T10:54:29.663Z"
   },
   {
    "duration": 16,
    "start_time": "2023-05-18T11:03:14.205Z"
   },
   {
    "duration": 5,
    "start_time": "2023-05-18T11:04:53.260Z"
   },
   {
    "duration": 6,
    "start_time": "2023-05-18T11:05:30.587Z"
   },
   {
    "duration": 6,
    "start_time": "2023-05-18T11:05:55.451Z"
   },
   {
    "duration": 50,
    "start_time": "2023-05-18T11:07:25.208Z"
   },
   {
    "duration": 622,
    "start_time": "2023-05-18T11:08:51.704Z"
   },
   {
    "duration": 55,
    "start_time": "2023-05-18T11:09:08.559Z"
   },
   {
    "duration": 15,
    "start_time": "2023-05-18T11:09:09.059Z"
   },
   {
    "duration": 15,
    "start_time": "2023-05-18T11:09:10.080Z"
   },
   {
    "duration": 37,
    "start_time": "2023-05-18T11:09:12.559Z"
   },
   {
    "duration": 75928,
    "start_time": "2023-05-18T11:09:19.793Z"
   },
   {
    "duration": 9,
    "start_time": "2023-05-18T11:13:04.588Z"
   },
   {
    "duration": 7,
    "start_time": "2023-05-18T11:13:11.217Z"
   },
   {
    "duration": 9,
    "start_time": "2023-05-18T11:13:45.485Z"
   },
   {
    "duration": 6,
    "start_time": "2023-05-18T11:14:01.950Z"
   },
   {
    "duration": 23,
    "start_time": "2023-05-18T11:17:39.680Z"
   },
   {
    "duration": 12,
    "start_time": "2023-05-18T11:17:43.452Z"
   },
   {
    "duration": 26,
    "start_time": "2023-05-18T11:18:01.551Z"
   },
   {
    "duration": 15,
    "start_time": "2023-05-18T11:18:44.656Z"
   },
   {
    "duration": 7,
    "start_time": "2023-05-18T11:19:33.124Z"
   },
   {
    "duration": 7,
    "start_time": "2023-05-18T11:19:48.079Z"
   },
   {
    "duration": 9,
    "start_time": "2023-05-18T11:23:10.577Z"
   },
   {
    "duration": 8,
    "start_time": "2023-05-18T11:23:15.101Z"
   },
   {
    "duration": 44,
    "start_time": "2023-05-18T11:23:19.652Z"
   },
   {
    "duration": 9,
    "start_time": "2023-05-18T11:23:23.560Z"
   },
   {
    "duration": 48,
    "start_time": "2023-05-18T11:23:36.112Z"
   },
   {
    "duration": 10,
    "start_time": "2023-05-18T11:23:39.213Z"
   },
   {
    "duration": 9,
    "start_time": "2023-05-18T11:24:10.177Z"
   },
   {
    "duration": 49,
    "start_time": "2023-05-18T11:24:15.147Z"
   },
   {
    "duration": 9,
    "start_time": "2023-05-18T11:24:18.271Z"
   },
   {
    "duration": 10,
    "start_time": "2023-05-18T11:24:26.378Z"
   },
   {
    "duration": 52,
    "start_time": "2023-05-18T11:24:38.860Z"
   },
   {
    "duration": 11,
    "start_time": "2023-05-18T11:24:43.759Z"
   },
   {
    "duration": 31,
    "start_time": "2023-05-18T11:24:50.063Z"
   },
   {
    "duration": 14,
    "start_time": "2023-05-18T11:25:09.809Z"
   },
   {
    "duration": 6,
    "start_time": "2023-05-18T11:25:58.580Z"
   },
   {
    "duration": 16,
    "start_time": "2023-05-18T11:25:59.316Z"
   },
   {
    "duration": 8,
    "start_time": "2023-05-18T11:26:00.343Z"
   },
   {
    "duration": 6,
    "start_time": "2023-05-18T11:26:01.052Z"
   },
   {
    "duration": 5,
    "start_time": "2023-05-18T11:33:43.080Z"
   },
   {
    "duration": 25,
    "start_time": "2023-05-18T11:34:41.886Z"
   },
   {
    "duration": 9,
    "start_time": "2023-05-18T11:35:03.711Z"
   },
   {
    "duration": 208,
    "start_time": "2023-05-18T11:35:50.167Z"
   },
   {
    "duration": 11,
    "start_time": "2023-05-18T11:36:11.609Z"
   },
   {
    "duration": 8,
    "start_time": "2023-05-18T11:36:38.279Z"
   },
   {
    "duration": 20,
    "start_time": "2023-05-18T11:36:50.550Z"
   },
   {
    "duration": 12,
    "start_time": "2023-05-18T11:36:56.580Z"
   },
   {
    "duration": 106,
    "start_time": "2023-05-18T11:37:02.982Z"
   },
   {
    "duration": 8,
    "start_time": "2023-05-18T11:37:08.362Z"
   },
   {
    "duration": 7,
    "start_time": "2023-05-18T11:55:01.901Z"
   },
   {
    "duration": 4,
    "start_time": "2023-05-18T11:58:43.470Z"
   },
   {
    "duration": 59,
    "start_time": "2023-05-18T11:58:43.476Z"
   },
   {
    "duration": 22,
    "start_time": "2023-05-18T11:58:43.537Z"
   },
   {
    "duration": 20,
    "start_time": "2023-05-18T11:58:43.560Z"
   },
   {
    "duration": 10,
    "start_time": "2023-05-18T11:58:43.583Z"
   },
   {
    "duration": 6,
    "start_time": "2023-05-18T11:58:43.603Z"
   },
   {
    "duration": 4,
    "start_time": "2023-05-18T11:58:43.611Z"
   },
   {
    "duration": 7,
    "start_time": "2023-05-18T11:58:43.616Z"
   },
   {
    "duration": 12,
    "start_time": "2023-05-18T11:58:43.625Z"
   },
   {
    "duration": 5,
    "start_time": "2023-05-18T11:58:43.639Z"
   },
   {
    "duration": 32,
    "start_time": "2023-05-18T11:58:43.645Z"
   },
   {
    "duration": 24,
    "start_time": "2023-05-18T11:58:43.679Z"
   },
   {
    "duration": 12,
    "start_time": "2023-05-18T11:58:43.705Z"
   },
   {
    "duration": 32,
    "start_time": "2023-05-18T11:58:43.721Z"
   },
   {
    "duration": 22,
    "start_time": "2023-05-18T11:58:55.237Z"
   },
   {
    "duration": 4,
    "start_time": "2023-05-18T11:59:38.353Z"
   },
   {
    "duration": 51,
    "start_time": "2023-05-18T11:59:38.360Z"
   },
   {
    "duration": 23,
    "start_time": "2023-05-18T11:59:38.414Z"
   },
   {
    "duration": 22,
    "start_time": "2023-05-18T11:59:38.439Z"
   },
   {
    "duration": 6,
    "start_time": "2023-05-18T11:59:38.465Z"
   },
   {
    "duration": 13,
    "start_time": "2023-05-18T11:59:38.489Z"
   },
   {
    "duration": 3,
    "start_time": "2023-05-18T11:59:38.506Z"
   },
   {
    "duration": 8,
    "start_time": "2023-05-18T11:59:38.510Z"
   },
   {
    "duration": 10,
    "start_time": "2023-05-18T11:59:38.519Z"
   },
   {
    "duration": 5,
    "start_time": "2023-05-18T11:59:38.530Z"
   },
   {
    "duration": 35,
    "start_time": "2023-05-18T11:59:38.536Z"
   },
   {
    "duration": 13,
    "start_time": "2023-05-18T11:59:38.573Z"
   },
   {
    "duration": 20,
    "start_time": "2023-05-18T11:59:38.590Z"
   },
   {
    "duration": 10,
    "start_time": "2023-05-18T11:59:38.613Z"
   },
   {
    "duration": 29,
    "start_time": "2023-05-18T11:59:41.669Z"
   },
   {
    "duration": 5,
    "start_time": "2023-05-18T12:00:40.111Z"
   },
   {
    "duration": 13,
    "start_time": "2023-05-18T12:00:42.110Z"
   },
   {
    "duration": 5,
    "start_time": "2023-05-18T12:00:52.945Z"
   },
   {
    "duration": 54,
    "start_time": "2023-05-18T12:00:52.952Z"
   },
   {
    "duration": 14,
    "start_time": "2023-05-18T12:00:53.009Z"
   },
   {
    "duration": 26,
    "start_time": "2023-05-18T12:00:53.025Z"
   },
   {
    "duration": 7,
    "start_time": "2023-05-18T12:00:53.054Z"
   },
   {
    "duration": 5,
    "start_time": "2023-05-18T12:00:53.062Z"
   },
   {
    "duration": 27,
    "start_time": "2023-05-18T12:00:53.069Z"
   },
   {
    "duration": 6,
    "start_time": "2023-05-18T12:00:53.116Z"
   },
   {
    "duration": 13,
    "start_time": "2023-05-18T12:00:53.124Z"
   },
   {
    "duration": 5,
    "start_time": "2023-05-18T12:00:53.140Z"
   },
   {
    "duration": 5,
    "start_time": "2023-05-18T12:00:53.148Z"
   },
   {
    "duration": 9,
    "start_time": "2023-05-18T12:00:53.155Z"
   },
   {
    "duration": 8,
    "start_time": "2023-05-18T12:00:53.165Z"
   },
   {
    "duration": 25,
    "start_time": "2023-05-18T12:00:53.191Z"
   },
   {
    "duration": 21,
    "start_time": "2023-05-18T12:00:53.218Z"
   },
   {
    "duration": 4,
    "start_time": "2023-05-18T12:01:11.157Z"
   },
   {
    "duration": 42,
    "start_time": "2023-05-18T12:01:14.995Z"
   },
   {
    "duration": 21,
    "start_time": "2023-05-18T12:01:15.649Z"
   },
   {
    "duration": 14,
    "start_time": "2023-05-18T12:01:16.608Z"
   },
   {
    "duration": 10,
    "start_time": "2023-05-18T12:01:20.182Z"
   },
   {
    "duration": 4,
    "start_time": "2023-05-18T12:01:24.940Z"
   },
   {
    "duration": 3,
    "start_time": "2023-05-18T12:01:28.165Z"
   },
   {
    "duration": 5,
    "start_time": "2023-05-18T12:01:35.355Z"
   },
   {
    "duration": 12,
    "start_time": "2023-05-18T12:01:38.060Z"
   },
   {
    "duration": 5,
    "start_time": "2023-05-18T12:01:39.806Z"
   },
   {
    "duration": 5,
    "start_time": "2023-05-18T12:01:40.309Z"
   },
   {
    "duration": 5,
    "start_time": "2023-05-18T12:01:42.571Z"
   },
   {
    "duration": 8,
    "start_time": "2023-05-18T12:01:43.012Z"
   },
   {
    "duration": 6,
    "start_time": "2023-05-18T12:01:43.561Z"
   },
   {
    "duration": 25,
    "start_time": "2023-05-18T12:01:44.849Z"
   },
   {
    "duration": 4,
    "start_time": "2023-05-18T12:04:45.145Z"
   },
   {
    "duration": 5,
    "start_time": "2023-05-18T12:04:54.364Z"
   },
   {
    "duration": 88,
    "start_time": "2023-05-18T12:04:54.372Z"
   },
   {
    "duration": 20,
    "start_time": "2023-05-18T12:04:54.462Z"
   },
   {
    "duration": 28,
    "start_time": "2023-05-18T12:04:54.486Z"
   },
   {
    "duration": 8,
    "start_time": "2023-05-18T12:04:54.522Z"
   },
   {
    "duration": 20,
    "start_time": "2023-05-18T12:04:54.532Z"
   },
   {
    "duration": 6,
    "start_time": "2023-05-18T12:04:54.554Z"
   },
   {
    "duration": 10,
    "start_time": "2023-05-18T12:04:54.562Z"
   },
   {
    "duration": 11,
    "start_time": "2023-05-18T12:04:54.574Z"
   },
   {
    "duration": 16,
    "start_time": "2023-05-18T12:04:54.587Z"
   },
   {
    "duration": 17,
    "start_time": "2023-05-18T12:04:54.605Z"
   },
   {
    "duration": 5,
    "start_time": "2023-05-18T12:04:54.625Z"
   },
   {
    "duration": 18,
    "start_time": "2023-05-18T12:04:54.632Z"
   },
   {
    "duration": 20,
    "start_time": "2023-05-18T12:04:54.655Z"
   },
   {
    "duration": 21,
    "start_time": "2023-05-18T12:04:58.014Z"
   },
   {
    "duration": 13,
    "start_time": "2023-05-18T12:05:49.506Z"
   },
   {
    "duration": 22,
    "start_time": "2023-05-18T12:05:49.999Z"
   },
   {
    "duration": 6,
    "start_time": "2023-05-18T12:05:50.951Z"
   },
   {
    "duration": 4,
    "start_time": "2023-05-18T12:05:51.333Z"
   },
   {
    "duration": 31,
    "start_time": "2023-05-18T12:05:53.090Z"
   },
   {
    "duration": 19,
    "start_time": "2023-05-18T12:05:53.512Z"
   },
   {
    "duration": 15,
    "start_time": "2023-05-18T12:05:54.009Z"
   },
   {
    "duration": 82,
    "start_time": "2023-05-18T12:05:55.717Z"
   },
   {
    "duration": 5,
    "start_time": "2023-05-18T12:09:54.971Z"
   },
   {
    "duration": 27,
    "start_time": "2023-05-18T12:09:55.404Z"
   },
   {
    "duration": 12,
    "start_time": "2023-05-18T12:09:56.318Z"
   },
   {
    "duration": 7,
    "start_time": "2023-05-18T12:09:56.754Z"
   },
   {
    "duration": 7,
    "start_time": "2023-05-18T12:09:58.541Z"
   },
   {
    "duration": 12,
    "start_time": "2023-05-18T12:09:59.065Z"
   },
   {
    "duration": 11,
    "start_time": "2023-05-18T12:09:59.840Z"
   },
   {
    "duration": 186,
    "start_time": "2023-05-18T12:10:00.936Z"
   },
   {
    "duration": 17,
    "start_time": "2023-05-18T12:10:30.184Z"
   },
   {
    "duration": 91,
    "start_time": "2023-05-18T12:11:27.410Z"
   },
   {
    "duration": 106,
    "start_time": "2023-05-18T12:11:48.491Z"
   },
   {
    "duration": 229,
    "start_time": "2023-05-18T12:20:09.766Z"
   },
   {
    "duration": 76,
    "start_time": "2023-05-18T12:23:59.362Z"
   },
   {
    "duration": 15,
    "start_time": "2023-05-18T12:44:00.284Z"
   },
   {
    "duration": 3,
    "start_time": "2023-05-18T12:44:07.016Z"
   },
   {
    "duration": 6,
    "start_time": "2023-05-18T12:45:00.767Z"
   },
   {
    "duration": 10,
    "start_time": "2023-05-18T12:46:02.263Z"
   },
   {
    "duration": 5,
    "start_time": "2023-05-18T12:46:15.580Z"
   },
   {
    "duration": 11,
    "start_time": "2023-05-18T12:46:16.167Z"
   },
   {
    "duration": 51,
    "start_time": "2023-05-18T12:46:21.014Z"
   },
   {
    "duration": 93,
    "start_time": "2023-05-18T12:46:33.217Z"
   },
   {
    "duration": 4,
    "start_time": "2023-05-18T12:46:35.825Z"
   },
   {
    "duration": 15,
    "start_time": "2023-05-18T12:46:39.063Z"
   },
   {
    "duration": 103,
    "start_time": "2023-05-18T12:46:39.687Z"
   },
   {
    "duration": 112,
    "start_time": "2023-05-18T12:47:03.978Z"
   },
   {
    "duration": 28,
    "start_time": "2023-05-18T12:47:24.488Z"
   },
   {
    "duration": 108,
    "start_time": "2023-05-18T12:47:24.986Z"
   },
   {
    "duration": 12,
    "start_time": "2023-05-18T12:47:40.354Z"
   },
   {
    "duration": 51,
    "start_time": "2023-05-18T12:47:40.774Z"
   },
   {
    "duration": 12,
    "start_time": "2023-05-18T12:47:45.525Z"
   },
   {
    "duration": 78,
    "start_time": "2023-05-18T12:47:45.923Z"
   },
   {
    "duration": 11,
    "start_time": "2023-05-18T12:47:49.676Z"
   },
   {
    "duration": 127,
    "start_time": "2023-05-18T12:47:50.370Z"
   },
   {
    "duration": 22,
    "start_time": "2023-05-18T12:47:53.583Z"
   },
   {
    "duration": 92,
    "start_time": "2023-05-18T12:47:54.009Z"
   },
   {
    "duration": 11,
    "start_time": "2023-05-18T12:47:57.124Z"
   },
   {
    "duration": 136,
    "start_time": "2023-05-18T12:47:57.882Z"
   },
   {
    "duration": 12,
    "start_time": "2023-05-18T12:48:01.417Z"
   },
   {
    "duration": 85,
    "start_time": "2023-05-18T12:48:02.406Z"
   },
   {
    "duration": 6,
    "start_time": "2023-05-18T13:03:24.387Z"
   },
   {
    "duration": 1015,
    "start_time": "2023-05-18T13:05:03.609Z"
   },
   {
    "duration": 4,
    "start_time": "2023-05-18T13:05:22.382Z"
   },
   {
    "duration": 60,
    "start_time": "2023-05-18T13:05:22.388Z"
   },
   {
    "duration": 14,
    "start_time": "2023-05-18T13:05:22.450Z"
   },
   {
    "duration": 13,
    "start_time": "2023-05-18T13:05:22.466Z"
   },
   {
    "duration": 17,
    "start_time": "2023-05-18T13:05:22.482Z"
   },
   {
    "duration": 13,
    "start_time": "2023-05-18T13:05:22.501Z"
   },
   {
    "duration": 7,
    "start_time": "2023-05-18T13:05:25.270Z"
   },
   {
    "duration": 6,
    "start_time": "2023-05-18T13:09:41.895Z"
   },
   {
    "duration": 4,
    "start_time": "2023-05-18T13:21:36.896Z"
   },
   {
    "duration": 42,
    "start_time": "2023-05-18T13:21:36.903Z"
   },
   {
    "duration": 14,
    "start_time": "2023-05-18T13:21:36.947Z"
   },
   {
    "duration": 18,
    "start_time": "2023-05-18T13:21:36.963Z"
   },
   {
    "duration": 6,
    "start_time": "2023-05-18T13:21:36.982Z"
   },
   {
    "duration": 49,
    "start_time": "2023-05-18T13:21:36.990Z"
   },
   {
    "duration": 81,
    "start_time": "2023-05-18T13:21:37.042Z"
   },
   {
    "duration": 0,
    "start_time": "2023-05-18T13:21:37.126Z"
   },
   {
    "duration": 852,
    "start_time": "2023-05-18T13:21:48.679Z"
   },
   {
    "duration": 4,
    "start_time": "2023-05-18T13:22:11.581Z"
   },
   {
    "duration": 829,
    "start_time": "2023-05-18T13:22:43.781Z"
   },
   {
    "duration": 1909,
    "start_time": "2023-05-18T13:22:58.597Z"
   },
   {
    "duration": 857,
    "start_time": "2023-05-18T13:23:25.090Z"
   },
   {
    "duration": 867,
    "start_time": "2023-05-18T13:23:26.022Z"
   },
   {
    "duration": 3,
    "start_time": "2023-05-18T13:23:34.465Z"
   },
   {
    "duration": 43,
    "start_time": "2023-05-18T13:23:34.470Z"
   },
   {
    "duration": 15,
    "start_time": "2023-05-18T13:23:34.515Z"
   },
   {
    "duration": 14,
    "start_time": "2023-05-18T13:23:34.532Z"
   },
   {
    "duration": 6,
    "start_time": "2023-05-18T13:23:34.548Z"
   },
   {
    "duration": 8,
    "start_time": "2023-05-18T13:23:34.555Z"
   },
   {
    "duration": 6,
    "start_time": "2023-05-18T13:23:41.254Z"
   },
   {
    "duration": 917,
    "start_time": "2023-05-18T13:23:41.802Z"
   },
   {
    "duration": 7,
    "start_time": "2023-05-18T13:24:52.154Z"
   },
   {
    "duration": 875,
    "start_time": "2023-05-18T13:24:52.164Z"
   },
   {
    "duration": 0,
    "start_time": "2023-05-18T13:24:53.042Z"
   },
   {
    "duration": 0,
    "start_time": "2023-05-18T13:24:53.043Z"
   },
   {
    "duration": 0,
    "start_time": "2023-05-18T13:24:53.044Z"
   },
   {
    "duration": 0,
    "start_time": "2023-05-18T13:24:53.046Z"
   },
   {
    "duration": 0,
    "start_time": "2023-05-18T13:24:53.047Z"
   },
   {
    "duration": 0,
    "start_time": "2023-05-18T13:24:53.049Z"
   },
   {
    "duration": 0,
    "start_time": "2023-05-18T13:24:53.052Z"
   },
   {
    "duration": 0,
    "start_time": "2023-05-18T13:24:53.053Z"
   },
   {
    "duration": 0,
    "start_time": "2023-05-18T13:24:53.054Z"
   },
   {
    "duration": 0,
    "start_time": "2023-05-18T13:24:53.056Z"
   },
   {
    "duration": 0,
    "start_time": "2023-05-18T13:24:53.057Z"
   },
   {
    "duration": 0,
    "start_time": "2023-05-18T13:24:53.058Z"
   },
   {
    "duration": 0,
    "start_time": "2023-05-18T13:24:53.059Z"
   },
   {
    "duration": 1,
    "start_time": "2023-05-18T13:24:53.060Z"
   },
   {
    "duration": 4,
    "start_time": "2023-05-18T13:25:13.218Z"
   },
   {
    "duration": 43,
    "start_time": "2023-05-18T13:25:13.224Z"
   },
   {
    "duration": 14,
    "start_time": "2023-05-18T13:25:13.269Z"
   },
   {
    "duration": 14,
    "start_time": "2023-05-18T13:25:13.285Z"
   },
   {
    "duration": 22,
    "start_time": "2023-05-18T13:25:13.302Z"
   },
   {
    "duration": 18,
    "start_time": "2023-05-18T13:25:13.325Z"
   },
   {
    "duration": 187,
    "start_time": "2023-05-18T13:25:19.381Z"
   },
   {
    "duration": 3,
    "start_time": "2023-05-18T13:25:34.962Z"
   },
   {
    "duration": 5,
    "start_time": "2023-05-18T13:25:41.485Z"
   },
   {
    "duration": 5,
    "start_time": "2023-05-18T13:26:01.863Z"
   },
   {
    "duration": 108,
    "start_time": "2023-05-18T13:26:01.870Z"
   },
   {
    "duration": 15,
    "start_time": "2023-05-18T13:26:01.980Z"
   },
   {
    "duration": 24,
    "start_time": "2023-05-18T13:26:01.996Z"
   },
   {
    "duration": 18,
    "start_time": "2023-05-18T13:26:02.024Z"
   },
   {
    "duration": 9,
    "start_time": "2023-05-18T13:26:02.044Z"
   },
   {
    "duration": 6,
    "start_time": "2023-05-18T13:26:02.055Z"
   },
   {
    "duration": 26,
    "start_time": "2023-05-18T13:26:02.062Z"
   },
   {
    "duration": 870,
    "start_time": "2023-05-18T13:26:02.090Z"
   },
   {
    "duration": 4,
    "start_time": "2023-05-18T13:26:19.170Z"
   },
   {
    "duration": 50,
    "start_time": "2023-05-18T13:26:19.177Z"
   },
   {
    "duration": 17,
    "start_time": "2023-05-18T13:26:19.229Z"
   },
   {
    "duration": 13,
    "start_time": "2023-05-18T13:26:19.248Z"
   },
   {
    "duration": 6,
    "start_time": "2023-05-18T13:26:19.262Z"
   },
   {
    "duration": 18,
    "start_time": "2023-05-18T13:26:19.270Z"
   },
   {
    "duration": 198,
    "start_time": "2023-05-18T13:26:22.566Z"
   },
   {
    "duration": 178,
    "start_time": "2023-05-18T13:26:32.061Z"
   },
   {
    "duration": 12,
    "start_time": "2023-05-18T13:27:14.180Z"
   },
   {
    "duration": 5,
    "start_time": "2023-05-18T13:27:24.608Z"
   },
   {
    "duration": 3,
    "start_time": "2023-05-18T13:27:29.450Z"
   },
   {
    "duration": 3,
    "start_time": "2023-05-18T13:27:29.792Z"
   },
   {
    "duration": 4,
    "start_time": "2023-05-18T13:35:24.789Z"
   },
   {
    "duration": 56,
    "start_time": "2023-05-18T13:35:24.795Z"
   },
   {
    "duration": 14,
    "start_time": "2023-05-18T13:35:24.853Z"
   },
   {
    "duration": 16,
    "start_time": "2023-05-18T13:35:24.869Z"
   },
   {
    "duration": 5,
    "start_time": "2023-05-18T13:35:24.887Z"
   },
   {
    "duration": 9,
    "start_time": "2023-05-18T13:35:24.894Z"
   },
   {
    "duration": 177,
    "start_time": "2023-05-18T13:35:24.905Z"
   },
   {
    "duration": 4,
    "start_time": "2023-05-18T13:35:25.084Z"
   },
   {
    "duration": 19,
    "start_time": "2023-05-18T13:35:25.090Z"
   },
   {
    "duration": 8,
    "start_time": "2023-05-18T13:35:25.112Z"
   },
   {
    "duration": 45,
    "start_time": "2023-05-18T13:35:25.123Z"
   },
   {
    "duration": 0,
    "start_time": "2023-05-18T13:35:25.170Z"
   },
   {
    "duration": 0,
    "start_time": "2023-05-18T13:35:25.171Z"
   },
   {
    "duration": 0,
    "start_time": "2023-05-18T13:35:25.172Z"
   },
   {
    "duration": 0,
    "start_time": "2023-05-18T13:35:25.173Z"
   },
   {
    "duration": 0,
    "start_time": "2023-05-18T13:35:25.174Z"
   },
   {
    "duration": 34,
    "start_time": "2023-05-18T13:35:39.763Z"
   },
   {
    "duration": 3,
    "start_time": "2023-05-18T13:35:40.654Z"
   },
   {
    "duration": 5,
    "start_time": "2023-05-18T13:36:07.383Z"
   },
   {
    "duration": 55,
    "start_time": "2023-05-18T13:36:07.391Z"
   },
   {
    "duration": 16,
    "start_time": "2023-05-18T13:36:07.448Z"
   },
   {
    "duration": 14,
    "start_time": "2023-05-18T13:36:07.466Z"
   },
   {
    "duration": 6,
    "start_time": "2023-05-18T13:36:07.483Z"
   },
   {
    "duration": 18,
    "start_time": "2023-05-18T13:36:07.490Z"
   },
   {
    "duration": 192,
    "start_time": "2023-05-18T13:36:07.510Z"
   },
   {
    "duration": 2,
    "start_time": "2023-05-18T13:36:07.705Z"
   },
   {
    "duration": 6,
    "start_time": "2023-05-18T13:36:07.709Z"
   },
   {
    "duration": 16,
    "start_time": "2023-05-18T13:36:07.717Z"
   },
   {
    "duration": 20,
    "start_time": "2023-05-18T13:36:07.735Z"
   },
   {
    "duration": 0,
    "start_time": "2023-05-18T13:36:07.757Z"
   },
   {
    "duration": 0,
    "start_time": "2023-05-18T13:36:07.758Z"
   },
   {
    "duration": 0,
    "start_time": "2023-05-18T13:36:07.760Z"
   },
   {
    "duration": 0,
    "start_time": "2023-05-18T13:36:07.761Z"
   },
   {
    "duration": 0,
    "start_time": "2023-05-18T13:36:07.762Z"
   },
   {
    "duration": 1462,
    "start_time": "2023-05-18T13:37:16.592Z"
   },
   {
    "duration": 44,
    "start_time": "2023-05-18T13:37:19.962Z"
   },
   {
    "duration": 17,
    "start_time": "2023-05-18T13:37:20.504Z"
   },
   {
    "duration": 17,
    "start_time": "2023-05-18T13:37:20.946Z"
   },
   {
    "duration": 6,
    "start_time": "2023-05-18T13:37:24.941Z"
   },
   {
    "duration": 7,
    "start_time": "2023-05-18T13:37:28.296Z"
   },
   {
    "duration": 182,
    "start_time": "2023-05-18T13:37:33.603Z"
   },
   {
    "duration": 3,
    "start_time": "2023-05-18T13:37:44.493Z"
   },
   {
    "duration": 125,
    "start_time": "2023-05-18T13:38:14.852Z"
   },
   {
    "duration": 5,
    "start_time": "2023-05-18T13:39:41.703Z"
   },
   {
    "duration": 62,
    "start_time": "2023-05-18T13:39:41.711Z"
   },
   {
    "duration": 15,
    "start_time": "2023-05-18T13:39:41.775Z"
   },
   {
    "duration": 17,
    "start_time": "2023-05-18T13:39:41.792Z"
   },
   {
    "duration": 5,
    "start_time": "2023-05-18T13:39:41.812Z"
   },
   {
    "duration": 8,
    "start_time": "2023-05-18T13:39:41.820Z"
   },
   {
    "duration": 5,
    "start_time": "2023-05-18T13:39:41.830Z"
   },
   {
    "duration": 13,
    "start_time": "2023-05-18T13:39:41.837Z"
   },
   {
    "duration": 36,
    "start_time": "2023-05-18T13:39:41.852Z"
   },
   {
    "duration": 3,
    "start_time": "2023-05-18T13:39:41.890Z"
   },
   {
    "duration": 8,
    "start_time": "2023-05-18T13:39:41.895Z"
   },
   {
    "duration": 18,
    "start_time": "2023-05-18T13:39:46.569Z"
   },
   {
    "duration": 7,
    "start_time": "2023-05-18T13:39:58.378Z"
   },
   {
    "duration": 11,
    "start_time": "2023-05-18T13:40:00.486Z"
   },
   {
    "duration": 5,
    "start_time": "2023-05-18T13:40:03.298Z"
   },
   {
    "duration": 4,
    "start_time": "2023-05-18T13:40:03.699Z"
   },
   {
    "duration": 4,
    "start_time": "2023-05-18T13:40:06.277Z"
   },
   {
    "duration": 41,
    "start_time": "2023-05-18T13:40:06.634Z"
   },
   {
    "duration": 3,
    "start_time": "2023-05-18T13:40:09.292Z"
   },
   {
    "duration": 4,
    "start_time": "2023-05-18T13:41:02.181Z"
   },
   {
    "duration": 44,
    "start_time": "2023-05-18T13:41:02.194Z"
   },
   {
    "duration": 15,
    "start_time": "2023-05-18T13:41:02.240Z"
   },
   {
    "duration": 28,
    "start_time": "2023-05-18T13:41:02.257Z"
   },
   {
    "duration": 10,
    "start_time": "2023-05-18T13:41:02.287Z"
   },
   {
    "duration": 11,
    "start_time": "2023-05-18T13:41:02.299Z"
   },
   {
    "duration": 8,
    "start_time": "2023-05-18T13:41:02.312Z"
   },
   {
    "duration": 9,
    "start_time": "2023-05-18T13:41:02.321Z"
   },
   {
    "duration": 21,
    "start_time": "2023-05-18T13:41:02.332Z"
   },
   {
    "duration": 9,
    "start_time": "2023-05-18T13:41:17.198Z"
   },
   {
    "duration": 4,
    "start_time": "2023-05-18T13:41:17.745Z"
   },
   {
    "duration": 6,
    "start_time": "2023-05-18T13:44:06.899Z"
   },
   {
    "duration": 11,
    "start_time": "2023-05-18T13:44:07.508Z"
   },
   {
    "duration": 9,
    "start_time": "2023-05-18T13:44:13.801Z"
   },
   {
    "duration": 140,
    "start_time": "2023-05-18T13:44:15.749Z"
   },
   {
    "duration": 27,
    "start_time": "2023-05-18T13:44:18.165Z"
   },
   {
    "duration": 4,
    "start_time": "2023-05-18T13:45:53.949Z"
   },
   {
    "duration": 11,
    "start_time": "2023-05-18T13:45:56.361Z"
   },
   {
    "duration": 32,
    "start_time": "2023-05-18T13:45:56.757Z"
   },
   {
    "duration": 1468,
    "start_time": "2023-05-18T15:34:40.896Z"
   },
   {
    "duration": 162,
    "start_time": "2023-05-18T15:34:42.367Z"
   },
   {
    "duration": 19,
    "start_time": "2023-05-18T15:34:42.531Z"
   },
   {
    "duration": 12,
    "start_time": "2023-05-18T15:34:42.551Z"
   },
   {
    "duration": 4,
    "start_time": "2023-05-18T15:34:42.565Z"
   },
   {
    "duration": 5,
    "start_time": "2023-05-18T15:34:42.570Z"
   },
   {
    "duration": 5,
    "start_time": "2023-05-18T15:34:42.576Z"
   },
   {
    "duration": 105,
    "start_time": "2023-05-18T15:34:42.582Z"
   },
   {
    "duration": 0,
    "start_time": "2023-05-18T15:34:42.689Z"
   },
   {
    "duration": 0,
    "start_time": "2023-05-18T15:34:42.690Z"
   },
   {
    "duration": 0,
    "start_time": "2023-05-18T15:34:42.691Z"
   },
   {
    "duration": 0,
    "start_time": "2023-05-18T15:34:42.692Z"
   },
   {
    "duration": 0,
    "start_time": "2023-05-18T15:34:42.692Z"
   },
   {
    "duration": 0,
    "start_time": "2023-05-18T15:34:42.694Z"
   },
   {
    "duration": 0,
    "start_time": "2023-05-18T15:34:42.694Z"
   },
   {
    "duration": 0,
    "start_time": "2023-05-18T15:34:42.695Z"
   },
   {
    "duration": 0,
    "start_time": "2023-05-18T15:34:42.696Z"
   },
   {
    "duration": 0,
    "start_time": "2023-05-18T15:34:42.697Z"
   },
   {
    "duration": 0,
    "start_time": "2023-05-18T15:34:42.698Z"
   },
   {
    "duration": 0,
    "start_time": "2023-05-18T15:34:42.699Z"
   },
   {
    "duration": 0,
    "start_time": "2023-05-18T15:34:42.700Z"
   },
   {
    "duration": 0,
    "start_time": "2023-05-18T15:34:42.701Z"
   },
   {
    "duration": 0,
    "start_time": "2023-05-18T15:34:42.702Z"
   },
   {
    "duration": 0,
    "start_time": "2023-05-18T15:34:42.703Z"
   },
   {
    "duration": 0,
    "start_time": "2023-05-18T15:34:42.704Z"
   },
   {
    "duration": 0,
    "start_time": "2023-05-18T15:34:42.705Z"
   },
   {
    "duration": 9,
    "start_time": "2023-05-18T15:38:49.859Z"
   },
   {
    "duration": 4,
    "start_time": "2023-05-18T15:38:59.209Z"
   },
   {
    "duration": 45,
    "start_time": "2023-05-18T15:38:59.214Z"
   },
   {
    "duration": 12,
    "start_time": "2023-05-18T15:38:59.260Z"
   },
   {
    "duration": 12,
    "start_time": "2023-05-18T15:38:59.273Z"
   },
   {
    "duration": 4,
    "start_time": "2023-05-18T15:38:59.288Z"
   },
   {
    "duration": 6,
    "start_time": "2023-05-18T15:38:59.294Z"
   },
   {
    "duration": 4,
    "start_time": "2023-05-18T15:38:59.301Z"
   },
   {
    "duration": 8,
    "start_time": "2023-05-18T15:38:59.307Z"
   },
   {
    "duration": 0,
    "start_time": "2023-05-18T15:38:59.318Z"
   },
   {
    "duration": 0,
    "start_time": "2023-05-18T15:38:59.319Z"
   },
   {
    "duration": 0,
    "start_time": "2023-05-18T15:38:59.320Z"
   },
   {
    "duration": 0,
    "start_time": "2023-05-18T15:38:59.321Z"
   },
   {
    "duration": 0,
    "start_time": "2023-05-18T15:38:59.323Z"
   },
   {
    "duration": 0,
    "start_time": "2023-05-18T15:38:59.324Z"
   },
   {
    "duration": 0,
    "start_time": "2023-05-18T15:38:59.326Z"
   },
   {
    "duration": 0,
    "start_time": "2023-05-18T15:38:59.327Z"
   },
   {
    "duration": 0,
    "start_time": "2023-05-18T15:38:59.328Z"
   },
   {
    "duration": 0,
    "start_time": "2023-05-18T15:38:59.330Z"
   },
   {
    "duration": 0,
    "start_time": "2023-05-18T15:38:59.376Z"
   },
   {
    "duration": 0,
    "start_time": "2023-05-18T15:38:59.377Z"
   },
   {
    "duration": 0,
    "start_time": "2023-05-18T15:38:59.378Z"
   },
   {
    "duration": 0,
    "start_time": "2023-05-18T15:38:59.380Z"
   },
   {
    "duration": 0,
    "start_time": "2023-05-18T15:38:59.381Z"
   },
   {
    "duration": 0,
    "start_time": "2023-05-18T15:38:59.382Z"
   },
   {
    "duration": 0,
    "start_time": "2023-05-18T15:38:59.384Z"
   },
   {
    "duration": 0,
    "start_time": "2023-05-18T15:38:59.385Z"
   },
   {
    "duration": 3,
    "start_time": "2023-05-18T15:39:35.724Z"
   },
   {
    "duration": 54,
    "start_time": "2023-05-18T15:39:35.729Z"
   },
   {
    "duration": 17,
    "start_time": "2023-05-18T15:39:35.785Z"
   },
   {
    "duration": 18,
    "start_time": "2023-05-18T15:39:35.804Z"
   },
   {
    "duration": 12,
    "start_time": "2023-05-18T15:39:35.823Z"
   },
   {
    "duration": 14,
    "start_time": "2023-05-18T15:39:35.837Z"
   },
   {
    "duration": 7,
    "start_time": "2023-05-18T15:39:35.853Z"
   },
   {
    "duration": 18,
    "start_time": "2023-05-18T15:39:35.861Z"
   },
   {
    "duration": 14,
    "start_time": "2023-05-18T15:39:35.881Z"
   },
   {
    "duration": 0,
    "start_time": "2023-05-18T15:39:35.897Z"
   },
   {
    "duration": 0,
    "start_time": "2023-05-18T15:39:35.898Z"
   },
   {
    "duration": 0,
    "start_time": "2023-05-18T15:39:35.899Z"
   },
   {
    "duration": 0,
    "start_time": "2023-05-18T15:39:35.900Z"
   },
   {
    "duration": 0,
    "start_time": "2023-05-18T15:39:35.901Z"
   },
   {
    "duration": 0,
    "start_time": "2023-05-18T15:39:35.902Z"
   },
   {
    "duration": 0,
    "start_time": "2023-05-18T15:39:35.903Z"
   },
   {
    "duration": 0,
    "start_time": "2023-05-18T15:39:35.904Z"
   },
   {
    "duration": 0,
    "start_time": "2023-05-18T15:39:35.905Z"
   },
   {
    "duration": 0,
    "start_time": "2023-05-18T15:39:35.906Z"
   },
   {
    "duration": 0,
    "start_time": "2023-05-18T15:39:35.907Z"
   },
   {
    "duration": 0,
    "start_time": "2023-05-18T15:39:35.908Z"
   },
   {
    "duration": 0,
    "start_time": "2023-05-18T15:39:35.909Z"
   },
   {
    "duration": 0,
    "start_time": "2023-05-18T15:39:35.910Z"
   },
   {
    "duration": 0,
    "start_time": "2023-05-18T15:39:35.911Z"
   },
   {
    "duration": 0,
    "start_time": "2023-05-18T15:39:35.912Z"
   },
   {
    "duration": 4,
    "start_time": "2023-05-18T15:40:01.422Z"
   },
   {
    "duration": 78,
    "start_time": "2023-05-18T15:40:01.428Z"
   },
   {
    "duration": 12,
    "start_time": "2023-05-18T15:40:01.508Z"
   },
   {
    "duration": 36,
    "start_time": "2023-05-18T15:40:01.522Z"
   },
   {
    "duration": 26,
    "start_time": "2023-05-18T15:40:01.560Z"
   },
   {
    "duration": 43,
    "start_time": "2023-05-18T15:40:01.588Z"
   },
   {
    "duration": 60,
    "start_time": "2023-05-18T15:40:01.633Z"
   },
   {
    "duration": 41,
    "start_time": "2023-05-18T15:40:01.695Z"
   },
   {
    "duration": 28,
    "start_time": "2023-05-18T15:40:01.738Z"
   },
   {
    "duration": 47,
    "start_time": "2023-05-18T15:40:01.767Z"
   },
   {
    "duration": 36,
    "start_time": "2023-05-18T15:40:01.816Z"
   },
   {
    "duration": 58,
    "start_time": "2023-05-18T15:40:01.854Z"
   },
   {
    "duration": 47,
    "start_time": "2023-05-18T15:40:01.913Z"
   },
   {
    "duration": 44,
    "start_time": "2023-05-18T15:40:01.963Z"
   },
   {
    "duration": 36,
    "start_time": "2023-05-18T15:40:02.009Z"
   },
   {
    "duration": 48,
    "start_time": "2023-05-18T15:40:02.046Z"
   },
   {
    "duration": 34,
    "start_time": "2023-05-18T15:40:02.096Z"
   },
   {
    "duration": 48,
    "start_time": "2023-05-18T15:40:02.132Z"
   },
   {
    "duration": 22,
    "start_time": "2023-05-18T15:40:02.182Z"
   },
   {
    "duration": 72,
    "start_time": "2023-05-18T15:40:02.205Z"
   },
   {
    "duration": 195,
    "start_time": "2023-05-18T15:40:02.279Z"
   },
   {
    "duration": 5,
    "start_time": "2023-05-18T15:40:02.477Z"
   },
   {
    "duration": 107,
    "start_time": "2023-05-18T15:40:02.484Z"
   },
   {
    "duration": 90,
    "start_time": "2023-05-18T15:40:02.592Z"
   },
   {
    "duration": 69,
    "start_time": "2023-05-18T15:40:05.008Z"
   },
   {
    "duration": 4,
    "start_time": "2023-05-18T15:40:48.288Z"
   },
   {
    "duration": 237,
    "start_time": "2023-05-18T15:40:54.862Z"
   },
   {
    "duration": 1778,
    "start_time": "2023-05-19T12:05:09.409Z"
   },
   {
    "duration": 81,
    "start_time": "2023-05-19T12:05:11.190Z"
   },
   {
    "duration": 20,
    "start_time": "2023-05-19T12:05:11.273Z"
   },
   {
    "duration": 15,
    "start_time": "2023-05-19T12:05:11.295Z"
   },
   {
    "duration": 8,
    "start_time": "2023-05-19T12:05:11.313Z"
   },
   {
    "duration": 10,
    "start_time": "2023-05-19T12:05:11.322Z"
   },
   {
    "duration": 8,
    "start_time": "2023-05-19T12:05:11.334Z"
   },
   {
    "duration": 14,
    "start_time": "2023-05-19T12:05:11.344Z"
   },
   {
    "duration": 6,
    "start_time": "2023-05-19T12:05:11.360Z"
   },
   {
    "duration": 7,
    "start_time": "2023-05-19T12:05:11.368Z"
   },
   {
    "duration": 23,
    "start_time": "2023-05-19T12:05:11.376Z"
   },
   {
    "duration": 17,
    "start_time": "2023-05-19T12:05:11.401Z"
   },
   {
    "duration": 12,
    "start_time": "2023-05-19T12:05:11.420Z"
   },
   {
    "duration": 6,
    "start_time": "2023-05-19T12:05:11.434Z"
   },
   {
    "duration": 13,
    "start_time": "2023-05-19T12:05:11.442Z"
   },
   {
    "duration": 64,
    "start_time": "2023-05-19T12:05:11.457Z"
   },
   {
    "duration": 5,
    "start_time": "2023-05-19T12:05:11.523Z"
   },
   {
    "duration": 16,
    "start_time": "2023-05-19T12:05:11.529Z"
   },
   {
    "duration": 7,
    "start_time": "2023-05-19T12:05:11.547Z"
   },
   {
    "duration": 146,
    "start_time": "2023-05-19T12:05:11.556Z"
   },
   {
    "duration": 36,
    "start_time": "2023-05-19T12:33:26.651Z"
   },
   {
    "duration": 4,
    "start_time": "2023-05-19T12:34:03.939Z"
   },
   {
    "duration": 14,
    "start_time": "2023-05-19T12:34:05.585Z"
   },
   {
    "duration": 101,
    "start_time": "2023-05-19T12:34:05.898Z"
   },
   {
    "duration": 10,
    "start_time": "2023-05-19T12:36:30.926Z"
   },
   {
    "duration": 10,
    "start_time": "2023-05-19T12:36:41.670Z"
   },
   {
    "duration": 226,
    "start_time": "2023-05-19T12:39:25.850Z"
   },
   {
    "duration": 198,
    "start_time": "2023-05-19T12:40:49.756Z"
   },
   {
    "duration": 409,
    "start_time": "2023-05-19T12:41:05.775Z"
   },
   {
    "duration": 192,
    "start_time": "2023-05-19T12:46:50.438Z"
   },
   {
    "duration": 224,
    "start_time": "2023-05-19T12:47:53.540Z"
   },
   {
    "duration": 238,
    "start_time": "2023-05-19T12:48:21.400Z"
   },
   {
    "duration": 169,
    "start_time": "2023-05-19T12:48:48.264Z"
   },
   {
    "duration": 195,
    "start_time": "2023-05-19T12:48:56.081Z"
   },
   {
    "duration": 378,
    "start_time": "2023-05-19T12:49:02.681Z"
   },
   {
    "duration": 238,
    "start_time": "2023-05-19T12:50:12.005Z"
   },
   {
    "duration": 3,
    "start_time": "2023-05-19T12:50:24.775Z"
   },
   {
    "duration": 4,
    "start_time": "2023-05-19T12:54:41.560Z"
   },
   {
    "duration": 101,
    "start_time": "2023-05-19T12:54:49.159Z"
   },
   {
    "duration": 112,
    "start_time": "2023-05-19T12:56:48.710Z"
   },
   {
    "duration": 310,
    "start_time": "2023-05-19T12:57:01.051Z"
   },
   {
    "duration": 332,
    "start_time": "2023-05-19T12:57:26.301Z"
   },
   {
    "duration": 156,
    "start_time": "2023-05-19T12:59:43.574Z"
   },
   {
    "duration": 4,
    "start_time": "2023-05-19T16:49:25.921Z"
   },
   {
    "duration": 47,
    "start_time": "2023-05-19T16:49:25.927Z"
   },
   {
    "duration": 11,
    "start_time": "2023-05-19T16:49:25.976Z"
   },
   {
    "duration": 45,
    "start_time": "2023-05-19T16:49:25.989Z"
   },
   {
    "duration": 4,
    "start_time": "2023-05-19T16:49:26.036Z"
   },
   {
    "duration": 19,
    "start_time": "2023-05-19T16:49:26.042Z"
   },
   {
    "duration": 4,
    "start_time": "2023-05-19T16:49:26.062Z"
   },
   {
    "duration": 12,
    "start_time": "2023-05-19T16:49:26.067Z"
   },
   {
    "duration": 13,
    "start_time": "2023-05-19T16:49:26.080Z"
   },
   {
    "duration": 23,
    "start_time": "2023-05-19T16:49:26.094Z"
   },
   {
    "duration": 8,
    "start_time": "2023-05-19T16:49:26.119Z"
   },
   {
    "duration": 17,
    "start_time": "2023-05-19T16:49:26.128Z"
   },
   {
    "duration": 17,
    "start_time": "2023-05-19T16:49:26.146Z"
   },
   {
    "duration": 4,
    "start_time": "2023-05-19T16:49:26.165Z"
   },
   {
    "duration": 12,
    "start_time": "2023-05-19T16:49:26.170Z"
   },
   {
    "duration": 32,
    "start_time": "2023-05-19T16:49:26.184Z"
   },
   {
    "duration": 3,
    "start_time": "2023-05-19T16:49:26.218Z"
   },
   {
    "duration": 19,
    "start_time": "2023-05-19T16:49:26.222Z"
   },
   {
    "duration": 9,
    "start_time": "2023-05-19T16:49:26.242Z"
   },
   {
    "duration": 62,
    "start_time": "2023-05-19T16:49:26.252Z"
   },
   {
    "duration": 181,
    "start_time": "2023-05-19T16:49:26.317Z"
   },
   {
    "duration": 8,
    "start_time": "2023-05-19T16:49:26.500Z"
   },
   {
    "duration": 113,
    "start_time": "2023-05-19T16:49:26.510Z"
   },
   {
    "duration": 85,
    "start_time": "2023-05-19T16:49:26.625Z"
   },
   {
    "duration": 3,
    "start_time": "2023-05-19T16:49:26.711Z"
   },
   {
    "duration": 324,
    "start_time": "2023-05-19T16:49:26.716Z"
   },
   {
    "duration": 332,
    "start_time": "2023-05-19T16:49:27.042Z"
   },
   {
    "duration": 363,
    "start_time": "2023-05-19T16:49:30.671Z"
   },
   {
    "duration": 126,
    "start_time": "2023-05-19T16:49:31.983Z"
   },
   {
    "duration": 4597,
    "start_time": "2023-05-19T16:50:27.210Z"
   },
   {
    "duration": 4950,
    "start_time": "2023-05-19T16:50:57.459Z"
   },
   {
    "duration": 453,
    "start_time": "2023-05-19T17:11:05.035Z"
   },
   {
    "duration": 483,
    "start_time": "2023-05-19T17:13:32.525Z"
   },
   {
    "duration": 426,
    "start_time": "2023-05-19T17:13:52.635Z"
   },
   {
    "duration": 484,
    "start_time": "2023-05-19T17:14:01.763Z"
   },
   {
    "duration": 5212,
    "start_time": "2023-05-19T17:14:20.492Z"
   },
   {
    "duration": 3,
    "start_time": "2023-05-19T17:15:19.565Z"
   },
   {
    "duration": 71,
    "start_time": "2023-05-19T17:15:19.570Z"
   },
   {
    "duration": 13,
    "start_time": "2023-05-19T17:15:19.643Z"
   },
   {
    "duration": 15,
    "start_time": "2023-05-19T17:15:19.659Z"
   },
   {
    "duration": 5,
    "start_time": "2023-05-19T17:15:19.676Z"
   },
   {
    "duration": 13,
    "start_time": "2023-05-19T17:15:19.683Z"
   },
   {
    "duration": 44,
    "start_time": "2023-05-19T17:15:19.697Z"
   },
   {
    "duration": 11,
    "start_time": "2023-05-19T17:15:19.743Z"
   },
   {
    "duration": 4,
    "start_time": "2023-05-19T17:15:19.757Z"
   },
   {
    "duration": 5,
    "start_time": "2023-05-19T17:15:19.763Z"
   },
   {
    "duration": 6,
    "start_time": "2023-05-19T17:15:19.769Z"
   },
   {
    "duration": 9,
    "start_time": "2023-05-19T17:15:19.777Z"
   },
   {
    "duration": 11,
    "start_time": "2023-05-19T17:15:19.788Z"
   },
   {
    "duration": 37,
    "start_time": "2023-05-19T17:15:19.801Z"
   },
   {
    "duration": 5,
    "start_time": "2023-05-19T17:15:19.840Z"
   },
   {
    "duration": 29,
    "start_time": "2023-05-19T17:15:19.847Z"
   },
   {
    "duration": 4,
    "start_time": "2023-05-19T17:15:19.878Z"
   },
   {
    "duration": 11,
    "start_time": "2023-05-19T17:15:19.884Z"
   },
   {
    "duration": 45,
    "start_time": "2023-05-19T17:15:19.896Z"
   },
   {
    "duration": 91,
    "start_time": "2023-05-19T17:15:19.943Z"
   },
   {
    "duration": 161,
    "start_time": "2023-05-19T17:15:20.037Z"
   },
   {
    "duration": 6,
    "start_time": "2023-05-19T17:15:20.203Z"
   },
   {
    "duration": 132,
    "start_time": "2023-05-19T17:15:20.217Z"
   },
   {
    "duration": 58,
    "start_time": "2023-05-19T17:15:20.351Z"
   },
   {
    "duration": 5,
    "start_time": "2023-05-19T17:15:20.411Z"
   },
   {
    "duration": 349,
    "start_time": "2023-05-19T17:15:20.419Z"
   },
   {
    "duration": 380,
    "start_time": "2023-05-19T17:15:20.770Z"
   },
   {
    "duration": 508,
    "start_time": "2023-05-19T17:15:21.151Z"
   },
   {
    "duration": 11,
    "start_time": "2023-05-19T17:15:21.660Z"
   },
   {
    "duration": 0,
    "start_time": "2023-05-19T17:15:21.673Z"
   },
   {
    "duration": 379,
    "start_time": "2023-05-19T17:18:52.453Z"
   },
   {
    "duration": 372,
    "start_time": "2023-05-19T17:19:28.479Z"
   },
   {
    "duration": 433,
    "start_time": "2023-05-19T17:19:31.997Z"
   },
   {
    "duration": 11,
    "start_time": "2023-05-19T17:19:44.883Z"
   },
   {
    "duration": 185,
    "start_time": "2023-05-19T17:20:40.212Z"
   },
   {
    "duration": 310,
    "start_time": "2023-05-19T17:21:34.061Z"
   },
   {
    "duration": 4,
    "start_time": "2023-05-19T17:23:41.746Z"
   },
   {
    "duration": 49,
    "start_time": "2023-05-19T17:23:41.752Z"
   },
   {
    "duration": 18,
    "start_time": "2023-05-19T17:23:41.809Z"
   },
   {
    "duration": 31,
    "start_time": "2023-05-19T17:23:41.829Z"
   },
   {
    "duration": 5,
    "start_time": "2023-05-19T17:23:41.862Z"
   },
   {
    "duration": 10,
    "start_time": "2023-05-19T17:23:41.868Z"
   },
   {
    "duration": 6,
    "start_time": "2023-05-19T17:23:41.880Z"
   },
   {
    "duration": 28,
    "start_time": "2023-05-19T17:23:41.888Z"
   },
   {
    "duration": 34,
    "start_time": "2023-05-19T17:23:41.919Z"
   },
   {
    "duration": 5,
    "start_time": "2023-05-19T17:23:41.955Z"
   },
   {
    "duration": 6,
    "start_time": "2023-05-19T17:23:41.962Z"
   },
   {
    "duration": 7,
    "start_time": "2023-05-19T17:23:41.970Z"
   },
   {
    "duration": 15,
    "start_time": "2023-05-19T17:23:41.978Z"
   },
   {
    "duration": 47,
    "start_time": "2023-05-19T17:23:41.995Z"
   },
   {
    "duration": 9,
    "start_time": "2023-05-19T17:23:42.043Z"
   },
   {
    "duration": 25,
    "start_time": "2023-05-19T17:23:42.053Z"
   },
   {
    "duration": 4,
    "start_time": "2023-05-19T17:23:42.080Z"
   },
   {
    "duration": 7,
    "start_time": "2023-05-19T17:23:42.085Z"
   },
   {
    "duration": 50,
    "start_time": "2023-05-19T17:23:42.094Z"
   },
   {
    "duration": 27,
    "start_time": "2023-05-19T17:23:42.146Z"
   },
   {
    "duration": 167,
    "start_time": "2023-05-19T17:23:42.237Z"
   },
   {
    "duration": 28,
    "start_time": "2023-05-19T17:23:42.405Z"
   },
   {
    "duration": 75,
    "start_time": "2023-05-19T17:23:42.434Z"
   },
   {
    "duration": 118,
    "start_time": "2023-05-19T17:23:42.511Z"
   },
   {
    "duration": 8,
    "start_time": "2023-05-19T17:23:42.637Z"
   },
   {
    "duration": 262,
    "start_time": "2023-05-19T17:23:42.712Z"
   },
   {
    "duration": 391,
    "start_time": "2023-05-19T17:23:42.975Z"
   },
   {
    "duration": 413,
    "start_time": "2023-05-19T17:23:43.367Z"
   },
   {
    "duration": 391,
    "start_time": "2023-05-19T17:23:43.782Z"
   },
   {
    "duration": 100,
    "start_time": "2023-05-19T17:24:00.623Z"
   },
   {
    "duration": 100,
    "start_time": "2023-05-19T17:24:24.126Z"
   },
   {
    "duration": 11,
    "start_time": "2023-05-19T17:27:41.654Z"
   },
   {
    "duration": 9,
    "start_time": "2023-05-19T17:28:46.474Z"
   },
   {
    "duration": 12,
    "start_time": "2023-05-19T17:28:58.029Z"
   },
   {
    "duration": 8,
    "start_time": "2023-05-19T17:30:29.149Z"
   },
   {
    "duration": 129,
    "start_time": "2023-05-19T17:31:56.623Z"
   },
   {
    "duration": 16,
    "start_time": "2023-05-19T17:32:36.026Z"
   },
   {
    "duration": 109,
    "start_time": "2023-05-19T17:39:56.045Z"
   },
   {
    "duration": 123,
    "start_time": "2023-05-19T17:40:44.155Z"
   },
   {
    "duration": 96,
    "start_time": "2023-05-19T17:40:57.857Z"
   },
   {
    "duration": 85,
    "start_time": "2023-05-19T17:42:31.749Z"
   },
   {
    "duration": 5,
    "start_time": "2023-05-19T17:43:01.124Z"
   },
   {
    "duration": 99,
    "start_time": "2023-05-19T17:43:01.131Z"
   },
   {
    "duration": 30,
    "start_time": "2023-05-19T17:43:01.232Z"
   },
   {
    "duration": 55,
    "start_time": "2023-05-19T17:43:01.263Z"
   },
   {
    "duration": 57,
    "start_time": "2023-05-19T17:43:01.319Z"
   },
   {
    "duration": 65,
    "start_time": "2023-05-19T17:43:01.377Z"
   },
   {
    "duration": 37,
    "start_time": "2023-05-19T17:43:01.443Z"
   },
   {
    "duration": 95,
    "start_time": "2023-05-19T17:43:01.481Z"
   },
   {
    "duration": 65,
    "start_time": "2023-05-19T17:43:01.579Z"
   },
   {
    "duration": 32,
    "start_time": "2023-05-19T17:43:01.646Z"
   },
   {
    "duration": 65,
    "start_time": "2023-05-19T17:43:01.680Z"
   },
   {
    "duration": 24,
    "start_time": "2023-05-19T17:43:01.747Z"
   },
   {
    "duration": 66,
    "start_time": "2023-05-19T17:43:01.773Z"
   },
   {
    "duration": 27,
    "start_time": "2023-05-19T17:43:01.844Z"
   },
   {
    "duration": 51,
    "start_time": "2023-05-19T17:43:01.874Z"
   },
   {
    "duration": 60,
    "start_time": "2023-05-19T17:43:01.926Z"
   },
   {
    "duration": 46,
    "start_time": "2023-05-19T17:43:01.988Z"
   },
   {
    "duration": 13,
    "start_time": "2023-05-19T17:43:02.041Z"
   },
   {
    "duration": 22,
    "start_time": "2023-05-19T17:43:02.056Z"
   },
   {
    "duration": 85,
    "start_time": "2023-05-19T17:43:02.079Z"
   },
   {
    "duration": 150,
    "start_time": "2023-05-19T17:43:02.200Z"
   },
   {
    "duration": 105,
    "start_time": "2023-05-19T17:43:02.403Z"
   },
   {
    "duration": 44,
    "start_time": "2023-05-19T17:43:02.514Z"
   },
   {
    "duration": 63,
    "start_time": "2023-05-19T17:43:02.561Z"
   },
   {
    "duration": 65,
    "start_time": "2023-05-19T17:43:02.641Z"
   },
   {
    "duration": 260,
    "start_time": "2023-05-19T17:43:02.712Z"
   },
   {
    "duration": 380,
    "start_time": "2023-05-19T17:43:02.973Z"
   },
   {
    "duration": 406,
    "start_time": "2023-05-19T17:43:03.355Z"
   },
   {
    "duration": 373,
    "start_time": "2023-05-19T17:43:03.762Z"
   },
   {
    "duration": 91,
    "start_time": "2023-05-19T17:43:04.136Z"
   },
   {
    "duration": 74,
    "start_time": "2023-05-19T17:43:04.231Z"
   },
   {
    "duration": 5009,
    "start_time": "2023-05-19T17:44:28.558Z"
   },
   {
    "duration": 129,
    "start_time": "2023-05-19T17:47:07.425Z"
   },
   {
    "duration": 11,
    "start_time": "2023-05-19T17:47:30.366Z"
   },
   {
    "duration": 120,
    "start_time": "2023-05-19T17:48:05.676Z"
   },
   {
    "duration": 91,
    "start_time": "2023-05-19T17:48:06.689Z"
   },
   {
    "duration": 14,
    "start_time": "2023-05-19T17:50:03.539Z"
   },
   {
    "duration": 133,
    "start_time": "2023-05-19T18:30:27.927Z"
   },
   {
    "duration": 12,
    "start_time": "2023-05-19T18:30:28.732Z"
   },
   {
    "duration": 73,
    "start_time": "2023-05-19T18:30:29.725Z"
   },
   {
    "duration": 124,
    "start_time": "2023-05-19T18:31:28.515Z"
   },
   {
    "duration": 12,
    "start_time": "2023-05-19T18:31:30.037Z"
   },
   {
    "duration": 79,
    "start_time": "2023-05-19T18:31:30.381Z"
   },
   {
    "duration": 131,
    "start_time": "2023-05-19T18:31:51.530Z"
   },
   {
    "duration": 11,
    "start_time": "2023-05-19T18:31:53.351Z"
   },
   {
    "duration": 76,
    "start_time": "2023-05-19T18:31:57.553Z"
   },
   {
    "duration": 1760,
    "start_time": "2023-05-20T15:10:12.420Z"
   },
   {
    "duration": 4,
    "start_time": "2023-05-20T15:15:44.365Z"
   },
   {
    "duration": 99,
    "start_time": "2023-05-20T15:15:44.370Z"
   },
   {
    "duration": 19,
    "start_time": "2023-05-20T15:15:44.471Z"
   },
   {
    "duration": 16,
    "start_time": "2023-05-20T15:15:44.492Z"
   },
   {
    "duration": 31,
    "start_time": "2023-05-20T15:15:44.510Z"
   },
   {
    "duration": 15,
    "start_time": "2023-05-20T15:15:44.543Z"
   },
   {
    "duration": 10,
    "start_time": "2023-05-20T15:15:44.559Z"
   },
   {
    "duration": 15,
    "start_time": "2023-05-20T15:15:44.570Z"
   },
   {
    "duration": 4,
    "start_time": "2023-05-20T15:15:44.587Z"
   },
   {
    "duration": 33,
    "start_time": "2023-05-20T15:15:44.593Z"
   },
   {
    "duration": 4,
    "start_time": "2023-05-20T15:15:44.628Z"
   },
   {
    "duration": 12,
    "start_time": "2023-05-20T15:15:44.633Z"
   },
   {
    "duration": 12,
    "start_time": "2023-05-20T15:15:44.646Z"
   },
   {
    "duration": 18,
    "start_time": "2023-05-20T15:15:44.659Z"
   },
   {
    "duration": 13,
    "start_time": "2023-05-20T15:15:44.678Z"
   },
   {
    "duration": 57,
    "start_time": "2023-05-20T15:15:44.693Z"
   },
   {
    "duration": 5,
    "start_time": "2023-05-20T15:15:44.751Z"
   },
   {
    "duration": 17,
    "start_time": "2023-05-20T15:15:44.757Z"
   },
   {
    "duration": 9,
    "start_time": "2023-05-20T15:15:44.775Z"
   },
   {
    "duration": 42,
    "start_time": "2023-05-20T15:15:44.785Z"
   },
   {
    "duration": 135,
    "start_time": "2023-05-20T15:15:44.897Z"
   },
   {
    "duration": 69,
    "start_time": "2023-05-20T15:15:45.034Z"
   },
   {
    "duration": 129,
    "start_time": "2023-05-20T15:15:45.105Z"
   },
   {
    "duration": 69,
    "start_time": "2023-05-20T15:15:45.236Z"
   },
   {
    "duration": 6,
    "start_time": "2023-05-20T15:15:45.309Z"
   },
   {
    "duration": 307,
    "start_time": "2023-05-20T15:15:45.318Z"
   },
   {
    "duration": 121,
    "start_time": "2023-05-20T15:15:45.626Z"
   },
   {
    "duration": 4,
    "start_time": "2023-05-20T15:16:25.078Z"
   },
   {
    "duration": 7,
    "start_time": "2023-05-20T15:16:41.919Z"
   },
   {
    "duration": 114,
    "start_time": "2023-05-20T15:28:53.140Z"
   },
   {
    "duration": 114,
    "start_time": "2023-05-20T15:29:20.375Z"
   },
   {
    "duration": 117,
    "start_time": "2023-05-20T15:30:38.717Z"
   },
   {
    "duration": 142,
    "start_time": "2023-05-20T15:30:51.686Z"
   },
   {
    "duration": 206,
    "start_time": "2023-05-20T15:30:57.829Z"
   },
   {
    "duration": 114,
    "start_time": "2023-05-20T15:31:05.721Z"
   },
   {
    "duration": 118,
    "start_time": "2023-05-20T15:31:51.945Z"
   },
   {
    "duration": 1416,
    "start_time": "2023-05-20T15:36:14.295Z"
   },
   {
    "duration": 41,
    "start_time": "2023-05-20T15:36:15.714Z"
   },
   {
    "duration": 16,
    "start_time": "2023-05-20T15:36:15.757Z"
   },
   {
    "duration": 20,
    "start_time": "2023-05-20T15:36:15.775Z"
   },
   {
    "duration": 18,
    "start_time": "2023-05-20T15:36:15.796Z"
   },
   {
    "duration": 9,
    "start_time": "2023-05-20T15:36:15.816Z"
   },
   {
    "duration": 5,
    "start_time": "2023-05-20T15:36:15.826Z"
   },
   {
    "duration": 25,
    "start_time": "2023-05-20T15:36:15.833Z"
   },
   {
    "duration": 6,
    "start_time": "2023-05-20T15:36:15.860Z"
   },
   {
    "duration": 6,
    "start_time": "2023-05-20T15:36:15.868Z"
   },
   {
    "duration": 5,
    "start_time": "2023-05-20T15:36:15.876Z"
   },
   {
    "duration": 12,
    "start_time": "2023-05-20T15:36:15.882Z"
   },
   {
    "duration": 20,
    "start_time": "2023-05-20T15:36:15.896Z"
   },
   {
    "duration": 7,
    "start_time": "2023-05-20T15:36:15.917Z"
   },
   {
    "duration": 9,
    "start_time": "2023-05-20T15:36:15.926Z"
   },
   {
    "duration": 26,
    "start_time": "2023-05-20T15:36:15.936Z"
   },
   {
    "duration": 4,
    "start_time": "2023-05-20T15:36:15.964Z"
   },
   {
    "duration": 11,
    "start_time": "2023-05-20T15:36:15.969Z"
   },
   {
    "duration": 11,
    "start_time": "2023-05-20T15:36:15.982Z"
   },
   {
    "duration": 38,
    "start_time": "2023-05-20T15:36:15.997Z"
   },
   {
    "duration": 109,
    "start_time": "2023-05-20T15:36:16.105Z"
   },
   {
    "duration": 199,
    "start_time": "2023-05-20T15:36:16.216Z"
   },
   {
    "duration": 13,
    "start_time": "2023-05-20T15:36:16.416Z"
   },
   {
    "duration": 71,
    "start_time": "2023-05-20T15:36:16.430Z"
   },
   {
    "duration": 4,
    "start_time": "2023-05-20T15:36:16.504Z"
   },
   {
    "duration": 322,
    "start_time": "2023-05-20T15:36:16.510Z"
   },
   {
    "duration": 6,
    "start_time": "2023-05-20T15:36:16.834Z"
   },
   {
    "duration": 140,
    "start_time": "2023-05-20T15:36:16.843Z"
   },
   {
    "duration": 340,
    "start_time": "2023-05-20T15:36:16.984Z"
   },
   {
    "duration": 433,
    "start_time": "2023-05-20T15:36:17.325Z"
   },
   {
    "duration": 321,
    "start_time": "2023-05-20T15:36:17.759Z"
   },
   {
    "duration": 97,
    "start_time": "2023-05-20T15:36:18.082Z"
   },
   {
    "duration": 76,
    "start_time": "2023-05-20T15:36:18.181Z"
   },
   {
    "duration": 4563,
    "start_time": "2023-05-20T15:36:18.258Z"
   },
   {
    "duration": 128,
    "start_time": "2023-05-20T15:36:22.822Z"
   },
   {
    "duration": 10,
    "start_time": "2023-05-20T15:36:22.951Z"
   },
   {
    "duration": 83,
    "start_time": "2023-05-20T15:36:22.963Z"
   },
   {
    "duration": 127,
    "start_time": "2023-05-20T15:42:32.486Z"
   },
   {
    "duration": 114,
    "start_time": "2023-05-20T15:42:51.135Z"
   },
   {
    "duration": 1400,
    "start_time": "2023-05-20T15:44:18.148Z"
   },
   {
    "duration": 39,
    "start_time": "2023-05-20T15:44:19.550Z"
   },
   {
    "duration": 23,
    "start_time": "2023-05-20T15:44:19.591Z"
   },
   {
    "duration": 16,
    "start_time": "2023-05-20T15:44:19.616Z"
   },
   {
    "duration": 5,
    "start_time": "2023-05-20T15:44:19.633Z"
   },
   {
    "duration": 8,
    "start_time": "2023-05-20T15:44:19.639Z"
   },
   {
    "duration": 8,
    "start_time": "2023-05-20T15:44:19.649Z"
   },
   {
    "duration": 10,
    "start_time": "2023-05-20T15:44:19.659Z"
   },
   {
    "duration": 20,
    "start_time": "2023-05-20T15:44:19.670Z"
   },
   {
    "duration": 19,
    "start_time": "2023-05-20T15:44:19.692Z"
   },
   {
    "duration": 10,
    "start_time": "2023-05-20T15:44:19.713Z"
   },
   {
    "duration": 6,
    "start_time": "2023-05-20T15:44:19.724Z"
   },
   {
    "duration": 7,
    "start_time": "2023-05-20T15:44:19.731Z"
   },
   {
    "duration": 13,
    "start_time": "2023-05-20T15:44:19.739Z"
   },
   {
    "duration": 7,
    "start_time": "2023-05-20T15:44:19.753Z"
   },
   {
    "duration": 6,
    "start_time": "2023-05-20T15:44:19.762Z"
   },
   {
    "duration": 47,
    "start_time": "2023-05-20T15:44:19.769Z"
   },
   {
    "duration": 4,
    "start_time": "2023-05-20T15:44:19.817Z"
   },
   {
    "duration": 17,
    "start_time": "2023-05-20T15:44:19.823Z"
   },
   {
    "duration": 9,
    "start_time": "2023-05-20T15:44:19.841Z"
   },
   {
    "duration": 122,
    "start_time": "2023-05-20T15:44:19.852Z"
   },
   {
    "duration": 0,
    "start_time": "2023-05-20T15:44:19.976Z"
   },
   {
    "duration": 0,
    "start_time": "2023-05-20T15:44:19.977Z"
   },
   {
    "duration": 0,
    "start_time": "2023-05-20T15:44:19.978Z"
   },
   {
    "duration": 0,
    "start_time": "2023-05-20T15:44:19.979Z"
   },
   {
    "duration": 0,
    "start_time": "2023-05-20T15:44:19.980Z"
   },
   {
    "duration": 0,
    "start_time": "2023-05-20T15:44:19.981Z"
   },
   {
    "duration": 0,
    "start_time": "2023-05-20T15:44:19.982Z"
   },
   {
    "duration": 0,
    "start_time": "2023-05-20T15:44:19.983Z"
   },
   {
    "duration": 0,
    "start_time": "2023-05-20T15:44:19.984Z"
   },
   {
    "duration": 0,
    "start_time": "2023-05-20T15:44:19.985Z"
   },
   {
    "duration": 0,
    "start_time": "2023-05-20T15:44:19.997Z"
   },
   {
    "duration": 0,
    "start_time": "2023-05-20T15:44:19.998Z"
   },
   {
    "duration": 0,
    "start_time": "2023-05-20T15:44:20.003Z"
   },
   {
    "duration": 0,
    "start_time": "2023-05-20T15:44:20.012Z"
   },
   {
    "duration": 0,
    "start_time": "2023-05-20T15:44:20.014Z"
   },
   {
    "duration": 0,
    "start_time": "2023-05-20T15:44:20.016Z"
   },
   {
    "duration": 0,
    "start_time": "2023-05-20T15:44:20.017Z"
   },
   {
    "duration": 6,
    "start_time": "2023-05-20T15:45:45.687Z"
   },
   {
    "duration": 5,
    "start_time": "2023-05-20T15:45:50.510Z"
   },
   {
    "duration": 44,
    "start_time": "2023-05-20T15:45:50.517Z"
   },
   {
    "duration": 11,
    "start_time": "2023-05-20T15:45:50.563Z"
   },
   {
    "duration": 17,
    "start_time": "2023-05-20T15:45:50.575Z"
   },
   {
    "duration": 12,
    "start_time": "2023-05-20T15:45:50.594Z"
   },
   {
    "duration": 27,
    "start_time": "2023-05-20T15:45:50.608Z"
   },
   {
    "duration": 1422,
    "start_time": "2023-05-20T15:45:59.669Z"
   },
   {
    "duration": 49,
    "start_time": "2023-05-20T15:46:01.093Z"
   },
   {
    "duration": 18,
    "start_time": "2023-05-20T15:46:01.143Z"
   },
   {
    "duration": 58,
    "start_time": "2023-05-20T15:46:01.163Z"
   },
   {
    "duration": 26,
    "start_time": "2023-05-20T15:46:01.223Z"
   },
   {
    "duration": 27,
    "start_time": "2023-05-20T15:46:01.251Z"
   },
   {
    "duration": 46,
    "start_time": "2023-05-20T15:46:01.280Z"
   },
   {
    "duration": 19,
    "start_time": "2023-05-20T15:46:01.328Z"
   },
   {
    "duration": 46,
    "start_time": "2023-05-20T15:46:01.349Z"
   },
   {
    "duration": 40,
    "start_time": "2023-05-20T15:46:01.398Z"
   },
   {
    "duration": 30,
    "start_time": "2023-05-20T15:46:01.439Z"
   },
   {
    "duration": 69,
    "start_time": "2023-05-20T15:46:01.471Z"
   },
   {
    "duration": 42,
    "start_time": "2023-05-20T15:46:01.542Z"
   },
   {
    "duration": 42,
    "start_time": "2023-05-20T15:46:01.586Z"
   },
   {
    "duration": 9,
    "start_time": "2023-05-20T15:46:01.629Z"
   },
   {
    "duration": 41,
    "start_time": "2023-05-20T15:46:01.640Z"
   },
   {
    "duration": 47,
    "start_time": "2023-05-20T15:46:01.683Z"
   },
   {
    "duration": 8,
    "start_time": "2023-05-20T15:46:01.732Z"
   },
   {
    "duration": 26,
    "start_time": "2023-05-20T15:46:01.741Z"
   },
   {
    "duration": 36,
    "start_time": "2023-05-20T15:46:01.769Z"
   },
   {
    "duration": 57,
    "start_time": "2023-05-20T15:46:01.807Z"
   },
   {
    "duration": 232,
    "start_time": "2023-05-20T15:46:01.866Z"
   },
   {
    "duration": 105,
    "start_time": "2023-05-20T15:46:02.099Z"
   },
   {
    "duration": 30,
    "start_time": "2023-05-20T15:46:02.205Z"
   },
   {
    "duration": 64,
    "start_time": "2023-05-20T15:46:02.237Z"
   },
   {
    "duration": 101,
    "start_time": "2023-05-20T15:46:02.303Z"
   },
   {
    "duration": 244,
    "start_time": "2023-05-20T15:46:02.405Z"
   },
   {
    "duration": 6,
    "start_time": "2023-05-20T15:46:02.652Z"
   },
   {
    "duration": 149,
    "start_time": "2023-05-20T15:46:02.660Z"
   },
   {
    "duration": 347,
    "start_time": "2023-05-20T15:46:02.811Z"
   },
   {
    "duration": 395,
    "start_time": "2023-05-20T15:46:03.159Z"
   },
   {
    "duration": 364,
    "start_time": "2023-05-20T15:46:03.555Z"
   },
   {
    "duration": 105,
    "start_time": "2023-05-20T15:46:03.921Z"
   },
   {
    "duration": 80,
    "start_time": "2023-05-20T15:46:04.028Z"
   },
   {
    "duration": 4897,
    "start_time": "2023-05-20T15:46:04.112Z"
   },
   {
    "duration": 131,
    "start_time": "2023-05-20T15:46:09.011Z"
   },
   {
    "duration": 11,
    "start_time": "2023-05-20T15:46:09.145Z"
   },
   {
    "duration": 98,
    "start_time": "2023-05-20T15:46:09.157Z"
   },
   {
    "duration": 113,
    "start_time": "2023-05-20T15:47:04.348Z"
   },
   {
    "duration": 15,
    "start_time": "2023-05-20T15:47:09.055Z"
   },
   {
    "duration": 122163,
    "start_time": "2023-05-20T15:47:41.792Z"
   },
   {
    "duration": 127325,
    "start_time": "2023-05-20T15:50:20.765Z"
   },
   {
    "duration": 128,
    "start_time": "2023-05-20T15:53:02.404Z"
   },
   {
    "duration": 151,
    "start_time": "2023-05-20T15:53:10.882Z"
   },
   {
    "duration": 4,
    "start_time": "2023-05-20T15:53:29.618Z"
   },
   {
    "duration": 52,
    "start_time": "2023-05-20T15:53:29.624Z"
   },
   {
    "duration": 12,
    "start_time": "2023-05-20T15:53:29.678Z"
   },
   {
    "duration": 17,
    "start_time": "2023-05-20T15:53:29.692Z"
   },
   {
    "duration": 8,
    "start_time": "2023-05-20T15:53:29.711Z"
   },
   {
    "duration": 131,
    "start_time": "2023-05-20T15:53:29.720Z"
   },
   {
    "duration": 5,
    "start_time": "2023-05-20T15:53:29.853Z"
   },
   {
    "duration": 4,
    "start_time": "2023-05-20T15:53:29.859Z"
   },
   {
    "duration": 169,
    "start_time": "2023-05-20T15:53:29.864Z"
   },
   {
    "duration": 6,
    "start_time": "2023-05-20T15:54:12.060Z"
   },
   {
    "duration": 5,
    "start_time": "2023-05-20T15:54:20.687Z"
   },
   {
    "duration": 10,
    "start_time": "2023-05-20T15:54:44.402Z"
   },
   {
    "duration": 4,
    "start_time": "2023-05-20T15:55:21.136Z"
   },
   {
    "duration": 4,
    "start_time": "2023-05-20T15:55:22.119Z"
   },
   {
    "duration": 6,
    "start_time": "2023-05-20T15:55:30.697Z"
   },
   {
    "duration": 82,
    "start_time": "2023-05-20T15:55:30.710Z"
   },
   {
    "duration": 23,
    "start_time": "2023-05-20T15:55:30.793Z"
   },
   {
    "duration": 53,
    "start_time": "2023-05-20T15:55:30.819Z"
   },
   {
    "duration": 8,
    "start_time": "2023-05-20T15:55:30.874Z"
   },
   {
    "duration": 176,
    "start_time": "2023-05-20T15:55:30.884Z"
   },
   {
    "duration": 4,
    "start_time": "2023-05-20T15:55:31.062Z"
   },
   {
    "duration": 55,
    "start_time": "2023-05-20T15:55:31.067Z"
   },
   {
    "duration": 23,
    "start_time": "2023-05-20T15:55:31.124Z"
   },
   {
    "duration": 30,
    "start_time": "2023-05-20T15:55:31.149Z"
   },
   {
    "duration": 171,
    "start_time": "2023-05-20T15:55:31.181Z"
   },
   {
    "duration": 1424,
    "start_time": "2023-05-20T15:56:07.120Z"
   },
   {
    "duration": 41,
    "start_time": "2023-05-20T15:56:08.545Z"
   },
   {
    "duration": 24,
    "start_time": "2023-05-20T15:56:08.587Z"
   },
   {
    "duration": 13,
    "start_time": "2023-05-20T15:56:08.614Z"
   },
   {
    "duration": 5,
    "start_time": "2023-05-20T15:56:08.628Z"
   },
   {
    "duration": 158,
    "start_time": "2023-05-20T15:56:08.634Z"
   },
   {
    "duration": 8,
    "start_time": "2023-05-20T15:56:08.798Z"
   },
   {
    "duration": 18,
    "start_time": "2023-05-20T15:56:08.808Z"
   },
   {
    "duration": 8,
    "start_time": "2023-05-20T15:56:08.827Z"
   },
   {
    "duration": 4,
    "start_time": "2023-05-20T15:56:08.837Z"
   },
   {
    "duration": 155,
    "start_time": "2023-05-20T15:56:08.842Z"
   },
   {
    "duration": 10,
    "start_time": "2023-05-20T15:56:09.004Z"
   },
   {
    "duration": 19,
    "start_time": "2023-05-20T15:56:09.016Z"
   },
   {
    "duration": 8,
    "start_time": "2023-05-20T15:56:09.037Z"
   },
   {
    "duration": 5,
    "start_time": "2023-05-20T15:56:09.047Z"
   },
   {
    "duration": 8,
    "start_time": "2023-05-20T15:56:09.053Z"
   },
   {
    "duration": 11,
    "start_time": "2023-05-20T15:56:09.063Z"
   },
   {
    "duration": 8,
    "start_time": "2023-05-20T15:56:09.076Z"
   },
   {
    "duration": 5,
    "start_time": "2023-05-20T15:56:09.086Z"
   },
   {
    "duration": 22,
    "start_time": "2023-05-20T15:56:09.092Z"
   },
   {
    "duration": 31,
    "start_time": "2023-05-20T15:56:09.116Z"
   },
   {
    "duration": 4,
    "start_time": "2023-05-20T15:56:09.148Z"
   },
   {
    "duration": 39,
    "start_time": "2023-05-20T15:56:09.153Z"
   },
   {
    "duration": 6,
    "start_time": "2023-05-20T15:56:09.194Z"
   },
   {
    "duration": 110,
    "start_time": "2023-05-20T15:56:09.201Z"
   },
   {
    "duration": 187,
    "start_time": "2023-05-20T15:56:09.314Z"
   },
   {
    "duration": 99,
    "start_time": "2023-05-20T15:56:09.503Z"
   },
   {
    "duration": 12,
    "start_time": "2023-05-20T15:56:09.610Z"
   },
   {
    "duration": 90,
    "start_time": "2023-05-20T15:56:09.623Z"
   },
   {
    "duration": 4,
    "start_time": "2023-05-20T15:56:09.715Z"
   },
   {
    "duration": 323,
    "start_time": "2023-05-20T15:56:09.721Z"
   },
   {
    "duration": 6,
    "start_time": "2023-05-20T15:56:10.046Z"
   },
   {
    "duration": 131,
    "start_time": "2023-05-20T15:56:10.054Z"
   },
   {
    "duration": 360,
    "start_time": "2023-05-20T15:56:10.187Z"
   },
   {
    "duration": 399,
    "start_time": "2023-05-20T15:56:10.548Z"
   },
   {
    "duration": 355,
    "start_time": "2023-05-20T15:56:10.949Z"
   },
   {
    "duration": 89,
    "start_time": "2023-05-20T15:56:11.306Z"
   },
   {
    "duration": 76,
    "start_time": "2023-05-20T15:56:11.398Z"
   },
   {
    "duration": 4777,
    "start_time": "2023-05-20T15:56:11.475Z"
   },
   {
    "duration": 134,
    "start_time": "2023-05-20T15:56:16.253Z"
   },
   {
    "duration": 25,
    "start_time": "2023-05-20T15:56:16.389Z"
   },
   {
    "duration": 108,
    "start_time": "2023-05-20T15:56:16.416Z"
   },
   {
    "duration": 1431,
    "start_time": "2023-05-20T15:57:00.516Z"
   },
   {
    "duration": 42,
    "start_time": "2023-05-20T15:57:01.949Z"
   },
   {
    "duration": 27,
    "start_time": "2023-05-20T15:57:01.993Z"
   },
   {
    "duration": 22,
    "start_time": "2023-05-20T15:57:02.022Z"
   },
   {
    "duration": 22,
    "start_time": "2023-05-20T15:57:02.046Z"
   },
   {
    "duration": 177,
    "start_time": "2023-05-20T15:57:02.070Z"
   },
   {
    "duration": 3,
    "start_time": "2023-05-20T15:57:02.249Z"
   },
   {
    "duration": 17,
    "start_time": "2023-05-20T15:57:02.254Z"
   },
   {
    "duration": 21,
    "start_time": "2023-05-20T15:57:02.272Z"
   },
   {
    "duration": 31,
    "start_time": "2023-05-20T15:57:02.295Z"
   },
   {
    "duration": 154,
    "start_time": "2023-05-20T15:57:02.327Z"
   },
   {
    "duration": 4,
    "start_time": "2023-05-20T15:57:02.483Z"
   },
   {
    "duration": 36,
    "start_time": "2023-05-20T15:57:02.488Z"
   },
   {
    "duration": 20,
    "start_time": "2023-05-20T15:57:02.526Z"
   },
   {
    "duration": 10,
    "start_time": "2023-05-20T15:57:02.548Z"
   },
   {
    "duration": 8,
    "start_time": "2023-05-20T15:57:02.560Z"
   },
   {
    "duration": 10,
    "start_time": "2023-05-20T15:57:02.570Z"
   },
   {
    "duration": 9,
    "start_time": "2023-05-20T15:57:02.582Z"
   },
   {
    "duration": 19,
    "start_time": "2023-05-20T15:57:02.593Z"
   },
   {
    "duration": 14,
    "start_time": "2023-05-20T15:57:02.614Z"
   },
   {
    "duration": 33,
    "start_time": "2023-05-20T15:57:02.630Z"
   },
   {
    "duration": 4,
    "start_time": "2023-05-20T15:57:02.665Z"
   },
   {
    "duration": 43,
    "start_time": "2023-05-20T15:57:02.670Z"
   },
   {
    "duration": 13,
    "start_time": "2023-05-20T15:57:02.715Z"
   },
   {
    "duration": 123,
    "start_time": "2023-05-20T15:57:02.730Z"
   },
   {
    "duration": 0,
    "start_time": "2023-05-20T15:57:02.855Z"
   },
   {
    "duration": 0,
    "start_time": "2023-05-20T15:57:02.856Z"
   },
   {
    "duration": 0,
    "start_time": "2023-05-20T15:57:02.857Z"
   },
   {
    "duration": 0,
    "start_time": "2023-05-20T15:57:02.858Z"
   },
   {
    "duration": 0,
    "start_time": "2023-05-20T15:57:02.859Z"
   },
   {
    "duration": 0,
    "start_time": "2023-05-20T15:57:02.860Z"
   },
   {
    "duration": 0,
    "start_time": "2023-05-20T15:57:02.861Z"
   },
   {
    "duration": 0,
    "start_time": "2023-05-20T15:57:02.862Z"
   },
   {
    "duration": 0,
    "start_time": "2023-05-20T15:57:02.863Z"
   },
   {
    "duration": 0,
    "start_time": "2023-05-20T15:57:02.863Z"
   },
   {
    "duration": 0,
    "start_time": "2023-05-20T15:57:02.865Z"
   },
   {
    "duration": 0,
    "start_time": "2023-05-20T15:57:02.866Z"
   },
   {
    "duration": 0,
    "start_time": "2023-05-20T15:57:02.867Z"
   },
   {
    "duration": 0,
    "start_time": "2023-05-20T15:57:02.868Z"
   },
   {
    "duration": 0,
    "start_time": "2023-05-20T15:57:02.870Z"
   },
   {
    "duration": 0,
    "start_time": "2023-05-20T15:57:02.871Z"
   },
   {
    "duration": 0,
    "start_time": "2023-05-20T15:57:02.871Z"
   },
   {
    "duration": 5,
    "start_time": "2023-05-20T15:57:59.467Z"
   },
   {
    "duration": 6,
    "start_time": "2023-05-20T15:58:08.368Z"
   },
   {
    "duration": 1383,
    "start_time": "2023-05-20T15:58:47.760Z"
   },
   {
    "duration": 41,
    "start_time": "2023-05-20T15:58:49.144Z"
   },
   {
    "duration": 21,
    "start_time": "2023-05-20T15:58:49.187Z"
   },
   {
    "duration": 16,
    "start_time": "2023-05-20T15:58:49.214Z"
   },
   {
    "duration": 4,
    "start_time": "2023-05-20T15:58:49.232Z"
   },
   {
    "duration": 141,
    "start_time": "2023-05-20T15:58:49.237Z"
   },
   {
    "duration": 5,
    "start_time": "2023-05-20T15:58:49.380Z"
   },
   {
    "duration": 33,
    "start_time": "2023-05-20T15:58:49.386Z"
   },
   {
    "duration": 7,
    "start_time": "2023-05-20T15:58:49.421Z"
   },
   {
    "duration": 12,
    "start_time": "2023-05-20T15:58:49.430Z"
   },
   {
    "duration": 129,
    "start_time": "2023-05-20T15:58:49.443Z"
   },
   {
    "duration": 4,
    "start_time": "2023-05-20T15:58:49.574Z"
   },
   {
    "duration": 18,
    "start_time": "2023-05-20T15:58:49.579Z"
   },
   {
    "duration": 6,
    "start_time": "2023-05-20T15:58:49.604Z"
   },
   {
    "duration": 12,
    "start_time": "2023-05-20T15:58:49.611Z"
   },
   {
    "duration": 4,
    "start_time": "2023-05-20T15:58:49.624Z"
   },
   {
    "duration": 6,
    "start_time": "2023-05-20T15:58:49.630Z"
   },
   {
    "duration": 7,
    "start_time": "2023-05-20T15:58:49.637Z"
   },
   {
    "duration": 6,
    "start_time": "2023-05-20T15:58:49.646Z"
   },
   {
    "duration": 5,
    "start_time": "2023-05-20T15:58:49.653Z"
   },
   {
    "duration": 29,
    "start_time": "2023-05-20T15:58:49.659Z"
   },
   {
    "duration": 16,
    "start_time": "2023-05-20T15:58:49.697Z"
   },
   {
    "duration": 30,
    "start_time": "2023-05-20T15:58:49.715Z"
   },
   {
    "duration": 6,
    "start_time": "2023-05-20T15:58:49.746Z"
   },
   {
    "duration": 56,
    "start_time": "2023-05-20T15:58:49.753Z"
   },
   {
    "duration": 195,
    "start_time": "2023-05-20T15:58:49.811Z"
   },
   {
    "duration": 5,
    "start_time": "2023-05-20T15:58:50.008Z"
   },
   {
    "duration": 115,
    "start_time": "2023-05-20T15:58:50.019Z"
   },
   {
    "duration": 62,
    "start_time": "2023-05-20T15:58:50.136Z"
   },
   {
    "duration": 4,
    "start_time": "2023-05-20T15:58:50.202Z"
   },
   {
    "duration": 351,
    "start_time": "2023-05-20T15:58:50.210Z"
   },
   {
    "duration": 7,
    "start_time": "2023-05-20T15:58:50.562Z"
   },
   {
    "duration": 141,
    "start_time": "2023-05-20T15:58:50.571Z"
   },
   {
    "duration": 349,
    "start_time": "2023-05-20T15:58:50.714Z"
   },
   {
    "duration": 381,
    "start_time": "2023-05-20T15:58:51.065Z"
   },
   {
    "duration": 343,
    "start_time": "2023-05-20T15:58:51.448Z"
   },
   {
    "duration": 85,
    "start_time": "2023-05-20T15:58:51.797Z"
   },
   {
    "duration": 78,
    "start_time": "2023-05-20T15:58:51.884Z"
   },
   {
    "duration": 4947,
    "start_time": "2023-05-20T15:58:51.964Z"
   },
   {
    "duration": 177,
    "start_time": "2023-05-20T15:58:56.912Z"
   },
   {
    "duration": 13,
    "start_time": "2023-05-20T15:58:57.098Z"
   },
   {
    "duration": 118,
    "start_time": "2023-05-20T15:58:57.113Z"
   },
   {
    "duration": 7,
    "start_time": "2023-05-20T16:07:25.205Z"
   },
   {
    "duration": 47,
    "start_time": "2023-05-20T16:07:25.214Z"
   },
   {
    "duration": 12,
    "start_time": "2023-05-20T16:07:25.262Z"
   },
   {
    "duration": 17,
    "start_time": "2023-05-20T16:07:25.275Z"
   },
   {
    "duration": 14,
    "start_time": "2023-05-20T16:07:25.294Z"
   },
   {
    "duration": 144,
    "start_time": "2023-05-20T16:07:25.309Z"
   },
   {
    "duration": 6,
    "start_time": "2023-05-20T16:07:25.455Z"
   },
   {
    "duration": 19,
    "start_time": "2023-05-20T16:07:25.463Z"
   },
   {
    "duration": 12,
    "start_time": "2023-05-20T16:07:25.484Z"
   },
   {
    "duration": 28,
    "start_time": "2023-05-20T16:07:25.498Z"
   },
   {
    "duration": 201,
    "start_time": "2023-05-20T16:07:25.528Z"
   },
   {
    "duration": 4,
    "start_time": "2023-05-20T16:07:25.730Z"
   },
   {
    "duration": 15,
    "start_time": "2023-05-20T16:07:25.736Z"
   },
   {
    "duration": 23,
    "start_time": "2023-05-20T16:07:25.753Z"
   },
   {
    "duration": 12,
    "start_time": "2023-05-20T16:07:25.777Z"
   },
   {
    "duration": 20,
    "start_time": "2023-05-20T16:07:25.790Z"
   },
   {
    "duration": 21,
    "start_time": "2023-05-20T16:07:25.812Z"
   },
   {
    "duration": 13,
    "start_time": "2023-05-20T16:07:25.834Z"
   },
   {
    "duration": 15,
    "start_time": "2023-05-20T16:07:25.848Z"
   },
   {
    "duration": 25,
    "start_time": "2023-05-20T16:07:25.864Z"
   },
   {
    "duration": 37,
    "start_time": "2023-05-20T16:07:25.890Z"
   },
   {
    "duration": 4,
    "start_time": "2023-05-20T16:07:25.929Z"
   },
   {
    "duration": 11,
    "start_time": "2023-05-20T16:07:25.934Z"
   },
   {
    "duration": 5,
    "start_time": "2023-05-20T16:07:25.947Z"
   },
   {
    "duration": 65,
    "start_time": "2023-05-20T16:07:25.954Z"
   },
   {
    "duration": 183,
    "start_time": "2023-05-20T16:07:26.022Z"
   },
   {
    "duration": 4,
    "start_time": "2023-05-20T16:07:26.208Z"
   },
   {
    "duration": 94,
    "start_time": "2023-05-20T16:07:26.213Z"
   },
   {
    "duration": 88,
    "start_time": "2023-05-20T16:07:26.312Z"
   },
   {
    "duration": 2,
    "start_time": "2023-05-20T16:07:26.402Z"
   },
   {
    "duration": 342,
    "start_time": "2023-05-20T16:07:26.406Z"
   },
   {
    "duration": 9,
    "start_time": "2023-05-20T16:07:26.749Z"
   },
   {
    "duration": 160,
    "start_time": "2023-05-20T16:07:26.762Z"
   },
   {
    "duration": 383,
    "start_time": "2023-05-20T16:07:26.925Z"
   },
   {
    "duration": 359,
    "start_time": "2023-05-20T16:07:27.312Z"
   },
   {
    "duration": 346,
    "start_time": "2023-05-20T16:07:27.673Z"
   },
   {
    "duration": 90,
    "start_time": "2023-05-20T16:07:28.021Z"
   },
   {
    "duration": 67,
    "start_time": "2023-05-20T16:07:28.115Z"
   },
   {
    "duration": 80,
    "start_time": "2023-05-20T16:07:28.184Z"
   },
   {
    "duration": 4815,
    "start_time": "2023-05-20T16:07:28.266Z"
   },
   {
    "duration": 271,
    "start_time": "2023-05-20T16:07:33.084Z"
   },
   {
    "duration": 0,
    "start_time": "2023-05-20T16:07:33.357Z"
   },
   {
    "duration": 0,
    "start_time": "2023-05-20T16:07:33.358Z"
   },
   {
    "duration": 0,
    "start_time": "2023-05-20T16:07:33.360Z"
   },
   {
    "duration": 17,
    "start_time": "2023-05-20T16:07:47.996Z"
   },
   {
    "duration": 48,
    "start_time": "2023-05-20T16:07:48.016Z"
   },
   {
    "duration": 15,
    "start_time": "2023-05-20T16:07:48.065Z"
   },
   {
    "duration": 14,
    "start_time": "2023-05-20T16:07:48.081Z"
   },
   {
    "duration": 11,
    "start_time": "2023-05-20T16:07:48.097Z"
   },
   {
    "duration": 135,
    "start_time": "2023-05-20T16:07:48.109Z"
   },
   {
    "duration": 5,
    "start_time": "2023-05-20T16:07:48.245Z"
   },
   {
    "duration": 16,
    "start_time": "2023-05-20T16:07:48.252Z"
   },
   {
    "duration": 9,
    "start_time": "2023-05-20T16:07:48.269Z"
   },
   {
    "duration": 10,
    "start_time": "2023-05-20T16:07:48.280Z"
   },
   {
    "duration": 141,
    "start_time": "2023-05-20T16:07:48.291Z"
   },
   {
    "duration": 5,
    "start_time": "2023-05-20T16:07:48.434Z"
   },
   {
    "duration": 13,
    "start_time": "2023-05-20T16:07:48.440Z"
   },
   {
    "duration": 3,
    "start_time": "2023-05-20T16:07:48.456Z"
   },
   {
    "duration": 8,
    "start_time": "2023-05-20T16:07:48.460Z"
   },
   {
    "duration": 10,
    "start_time": "2023-05-20T16:07:48.470Z"
   },
   {
    "duration": 21,
    "start_time": "2023-05-20T16:07:48.482Z"
   },
   {
    "duration": 17,
    "start_time": "2023-05-20T16:07:48.505Z"
   },
   {
    "duration": 4,
    "start_time": "2023-05-20T16:07:48.524Z"
   },
   {
    "duration": 9,
    "start_time": "2023-05-20T16:07:48.529Z"
   },
   {
    "duration": 30,
    "start_time": "2023-05-20T16:07:48.540Z"
   },
   {
    "duration": 4,
    "start_time": "2023-05-20T16:07:48.571Z"
   },
   {
    "duration": 16,
    "start_time": "2023-05-20T16:07:48.577Z"
   },
   {
    "duration": 23,
    "start_time": "2023-05-20T16:07:48.594Z"
   },
   {
    "duration": 87,
    "start_time": "2023-05-20T16:07:48.618Z"
   },
   {
    "duration": 191,
    "start_time": "2023-05-20T16:07:48.707Z"
   },
   {
    "duration": 116,
    "start_time": "2023-05-20T16:07:48.900Z"
   },
   {
    "duration": 29,
    "start_time": "2023-05-20T16:07:49.018Z"
   },
   {
    "duration": 55,
    "start_time": "2023-05-20T16:07:49.049Z"
   },
   {
    "duration": 5,
    "start_time": "2023-05-20T16:07:49.111Z"
   },
   {
    "duration": 334,
    "start_time": "2023-05-20T16:07:49.118Z"
   },
   {
    "duration": 6,
    "start_time": "2023-05-20T16:07:49.454Z"
   },
   {
    "duration": 125,
    "start_time": "2023-05-20T16:07:49.461Z"
   },
   {
    "duration": 353,
    "start_time": "2023-05-20T16:07:49.588Z"
   },
   {
    "duration": 369,
    "start_time": "2023-05-20T16:07:49.943Z"
   },
   {
    "duration": 345,
    "start_time": "2023-05-20T16:07:50.314Z"
   },
   {
    "duration": 88,
    "start_time": "2023-05-20T16:07:50.661Z"
   },
   {
    "duration": 78,
    "start_time": "2023-05-20T16:07:50.750Z"
   },
   {
    "duration": 7,
    "start_time": "2023-05-20T16:07:50.829Z"
   },
   {
    "duration": 85,
    "start_time": "2023-05-20T16:07:50.837Z"
   },
   {
    "duration": 4913,
    "start_time": "2023-05-20T16:07:50.926Z"
   },
   {
    "duration": 151,
    "start_time": "2023-05-20T16:07:55.841Z"
   },
   {
    "duration": 0,
    "start_time": "2023-05-20T16:07:55.994Z"
   },
   {
    "duration": 0,
    "start_time": "2023-05-20T16:07:55.995Z"
   },
   {
    "duration": 0,
    "start_time": "2023-05-20T16:07:55.996Z"
   },
   {
    "duration": 1469,
    "start_time": "2023-05-20T16:15:22.995Z"
   },
   {
    "duration": 50,
    "start_time": "2023-05-20T16:15:24.466Z"
   },
   {
    "duration": 17,
    "start_time": "2023-05-20T16:15:24.517Z"
   },
   {
    "duration": 16,
    "start_time": "2023-05-20T16:15:24.536Z"
   },
   {
    "duration": 5,
    "start_time": "2023-05-20T16:15:24.554Z"
   },
   {
    "duration": 168,
    "start_time": "2023-05-20T16:15:24.560Z"
   },
   {
    "duration": 5,
    "start_time": "2023-05-20T16:15:24.730Z"
   },
   {
    "duration": 8,
    "start_time": "2023-05-20T16:15:24.736Z"
   },
   {
    "duration": 6,
    "start_time": "2023-05-20T16:15:24.745Z"
   },
   {
    "duration": 3,
    "start_time": "2023-05-20T16:15:24.753Z"
   },
   {
    "duration": 159,
    "start_time": "2023-05-20T16:15:24.758Z"
   },
   {
    "duration": 4,
    "start_time": "2023-05-20T16:15:24.919Z"
   },
   {
    "duration": 13,
    "start_time": "2023-05-20T16:15:24.925Z"
   },
   {
    "duration": 3,
    "start_time": "2023-05-20T16:15:24.939Z"
   },
   {
    "duration": 5,
    "start_time": "2023-05-20T16:15:24.943Z"
   },
   {
    "duration": 6,
    "start_time": "2023-05-20T16:15:24.949Z"
   },
   {
    "duration": 7,
    "start_time": "2023-05-20T16:15:24.956Z"
   },
   {
    "duration": 14,
    "start_time": "2023-05-20T16:15:24.965Z"
   },
   {
    "duration": 13,
    "start_time": "2023-05-20T16:15:24.996Z"
   },
   {
    "duration": 9,
    "start_time": "2023-05-20T16:15:25.010Z"
   },
   {
    "duration": 4,
    "start_time": "2023-05-20T16:15:25.021Z"
   },
   {
    "duration": 13,
    "start_time": "2023-05-20T16:15:25.026Z"
   },
   {
    "duration": 8,
    "start_time": "2023-05-20T16:15:25.040Z"
   },
   {
    "duration": 6,
    "start_time": "2023-05-20T16:15:25.050Z"
   },
   {
    "duration": 63,
    "start_time": "2023-05-20T16:15:25.058Z"
   },
   {
    "duration": 207,
    "start_time": "2023-05-20T16:15:25.201Z"
   },
   {
    "duration": 105,
    "start_time": "2023-05-20T16:15:25.410Z"
   },
   {
    "duration": 13,
    "start_time": "2023-05-20T16:15:25.521Z"
   },
   {
    "duration": 66,
    "start_time": "2023-05-20T16:15:25.536Z"
   },
   {
    "duration": 2,
    "start_time": "2023-05-20T16:15:25.604Z"
   },
   {
    "duration": 321,
    "start_time": "2023-05-20T16:15:25.612Z"
   },
   {
    "duration": 7,
    "start_time": "2023-05-20T16:15:25.935Z"
   },
   {
    "duration": 134,
    "start_time": "2023-05-20T16:15:25.944Z"
   },
   {
    "duration": 351,
    "start_time": "2023-05-20T16:15:26.079Z"
   },
   {
    "duration": 410,
    "start_time": "2023-05-20T16:15:26.432Z"
   },
   {
    "duration": 375,
    "start_time": "2023-05-20T16:15:26.844Z"
   },
   {
    "duration": 93,
    "start_time": "2023-05-20T16:15:27.220Z"
   },
   {
    "duration": 66,
    "start_time": "2023-05-20T16:15:27.316Z"
   },
   {
    "duration": 18,
    "start_time": "2023-05-20T16:15:27.384Z"
   },
   {
    "duration": 86,
    "start_time": "2023-05-20T16:15:27.404Z"
   },
   {
    "duration": 4887,
    "start_time": "2023-05-20T16:15:27.492Z"
   },
   {
    "duration": 276,
    "start_time": "2023-05-20T16:15:32.381Z"
   },
   {
    "duration": 0,
    "start_time": "2023-05-20T16:15:32.659Z"
   },
   {
    "duration": 0,
    "start_time": "2023-05-20T16:15:32.660Z"
   },
   {
    "duration": 0,
    "start_time": "2023-05-20T16:15:32.661Z"
   },
   {
    "duration": 751,
    "start_time": "2023-05-20T16:17:38.175Z"
   },
   {
    "duration": 130,
    "start_time": "2023-05-20T16:17:42.815Z"
   },
   {
    "duration": 12,
    "start_time": "2023-05-20T16:17:43.192Z"
   },
   {
    "duration": 4,
    "start_time": "2023-05-20T16:17:46.269Z"
   },
   {
    "duration": 51,
    "start_time": "2023-05-20T16:17:46.274Z"
   },
   {
    "duration": 12,
    "start_time": "2023-05-20T16:17:46.326Z"
   },
   {
    "duration": 14,
    "start_time": "2023-05-20T16:17:46.339Z"
   },
   {
    "duration": 4,
    "start_time": "2023-05-20T16:17:46.355Z"
   },
   {
    "duration": 149,
    "start_time": "2023-05-20T16:17:46.361Z"
   },
   {
    "duration": 5,
    "start_time": "2023-05-20T16:17:46.512Z"
   },
   {
    "duration": 5,
    "start_time": "2023-05-20T16:17:46.519Z"
   },
   {
    "duration": 9,
    "start_time": "2023-05-20T16:17:46.526Z"
   },
   {
    "duration": 8,
    "start_time": "2023-05-20T16:17:46.537Z"
   },
   {
    "duration": 269,
    "start_time": "2023-05-20T16:17:46.546Z"
   },
   {
    "duration": 5,
    "start_time": "2023-05-20T16:17:46.817Z"
   },
   {
    "duration": 25,
    "start_time": "2023-05-20T16:17:46.824Z"
   },
   {
    "duration": 12,
    "start_time": "2023-05-20T16:17:46.853Z"
   },
   {
    "duration": 6,
    "start_time": "2023-05-20T16:17:46.867Z"
   },
   {
    "duration": 9,
    "start_time": "2023-05-20T16:17:46.874Z"
   },
   {
    "duration": 7,
    "start_time": "2023-05-20T16:17:46.884Z"
   },
   {
    "duration": 15,
    "start_time": "2023-05-20T16:17:46.893Z"
   },
   {
    "duration": 9,
    "start_time": "2023-05-20T16:17:46.910Z"
   },
   {
    "duration": 8,
    "start_time": "2023-05-20T16:17:46.921Z"
   },
   {
    "duration": 5,
    "start_time": "2023-05-20T16:17:46.930Z"
   },
   {
    "duration": 8,
    "start_time": "2023-05-20T16:17:46.937Z"
   },
   {
    "duration": 7,
    "start_time": "2023-05-20T16:17:46.947Z"
   },
   {
    "duration": 7,
    "start_time": "2023-05-20T16:17:46.955Z"
   },
   {
    "duration": 133,
    "start_time": "2023-05-20T16:17:46.963Z"
   },
   {
    "duration": 193,
    "start_time": "2023-05-20T16:17:47.103Z"
   },
   {
    "duration": 6,
    "start_time": "2023-05-20T16:17:47.298Z"
   },
   {
    "duration": 119,
    "start_time": "2023-05-20T16:17:47.306Z"
   },
   {
    "duration": 83,
    "start_time": "2023-05-20T16:17:47.427Z"
   },
   {
    "duration": 8,
    "start_time": "2023-05-20T16:17:47.512Z"
   },
   {
    "duration": 249,
    "start_time": "2023-05-20T16:17:47.598Z"
   },
   {
    "duration": 6,
    "start_time": "2023-05-20T16:17:47.849Z"
   },
   {
    "duration": 124,
    "start_time": "2023-05-20T16:17:47.857Z"
   },
   {
    "duration": 341,
    "start_time": "2023-05-20T16:17:47.983Z"
   },
   {
    "duration": 357,
    "start_time": "2023-05-20T16:17:48.325Z"
   },
   {
    "duration": 342,
    "start_time": "2023-05-20T16:17:48.684Z"
   },
   {
    "duration": 91,
    "start_time": "2023-05-20T16:17:49.028Z"
   },
   {
    "duration": 66,
    "start_time": "2023-05-20T16:17:49.121Z"
   },
   {
    "duration": 12,
    "start_time": "2023-05-20T16:17:49.197Z"
   },
   {
    "duration": 63,
    "start_time": "2023-05-20T16:17:49.211Z"
   },
   {
    "duration": 4732,
    "start_time": "2023-05-20T16:17:49.277Z"
   },
   {
    "duration": 796,
    "start_time": "2023-05-20T16:17:54.011Z"
   },
   {
    "duration": 139,
    "start_time": "2023-05-20T16:17:54.809Z"
   },
   {
    "duration": 11,
    "start_time": "2023-05-20T16:17:54.950Z"
   },
   {
    "duration": 89,
    "start_time": "2023-05-20T16:17:54.962Z"
   },
   {
    "duration": 3,
    "start_time": "2023-05-20T16:27:11.492Z"
   },
   {
    "duration": 75,
    "start_time": "2023-05-20T16:27:11.498Z"
   },
   {
    "duration": 13,
    "start_time": "2023-05-20T16:27:11.575Z"
   },
   {
    "duration": 29,
    "start_time": "2023-05-20T16:27:11.591Z"
   },
   {
    "duration": 31,
    "start_time": "2023-05-20T16:27:11.624Z"
   },
   {
    "duration": 187,
    "start_time": "2023-05-20T16:27:11.657Z"
   },
   {
    "duration": 5,
    "start_time": "2023-05-20T16:27:11.846Z"
   },
   {
    "duration": 16,
    "start_time": "2023-05-20T16:27:11.853Z"
   },
   {
    "duration": 5,
    "start_time": "2023-05-20T16:27:11.874Z"
   },
   {
    "duration": 51,
    "start_time": "2023-05-20T16:27:11.881Z"
   },
   {
    "duration": 140,
    "start_time": "2023-05-20T16:27:11.934Z"
   },
   {
    "duration": 4,
    "start_time": "2023-05-20T16:27:12.076Z"
   },
   {
    "duration": 38,
    "start_time": "2023-05-20T16:27:12.082Z"
   },
   {
    "duration": 14,
    "start_time": "2023-05-20T16:27:12.125Z"
   },
   {
    "duration": 6,
    "start_time": "2023-05-20T16:27:12.140Z"
   },
   {
    "duration": 13,
    "start_time": "2023-05-20T16:27:12.147Z"
   },
   {
    "duration": 13,
    "start_time": "2023-05-20T16:27:12.162Z"
   },
   {
    "duration": 9,
    "start_time": "2023-05-20T16:27:12.176Z"
   },
   {
    "duration": 9,
    "start_time": "2023-05-20T16:27:12.186Z"
   },
   {
    "duration": 56,
    "start_time": "2023-05-20T16:27:12.197Z"
   },
   {
    "duration": 6,
    "start_time": "2023-05-20T16:27:12.254Z"
   },
   {
    "duration": 6,
    "start_time": "2023-05-20T16:27:12.262Z"
   },
   {
    "duration": 11,
    "start_time": "2023-05-20T16:27:12.270Z"
   },
   {
    "duration": 7,
    "start_time": "2023-05-20T16:27:12.284Z"
   },
   {
    "duration": 73,
    "start_time": "2023-05-20T16:27:12.292Z"
   },
   {
    "duration": 196,
    "start_time": "2023-05-20T16:27:12.419Z"
   },
   {
    "duration": 85,
    "start_time": "2023-05-20T16:27:12.617Z"
   },
   {
    "duration": 41,
    "start_time": "2023-05-20T16:27:12.704Z"
   },
   {
    "duration": 152,
    "start_time": "2023-05-20T16:27:12.747Z"
   },
   {
    "duration": 4,
    "start_time": "2023-05-20T16:27:12.905Z"
   },
   {
    "duration": 324,
    "start_time": "2023-05-20T16:27:12.914Z"
   },
   {
    "duration": 6,
    "start_time": "2023-05-20T16:27:13.240Z"
   },
   {
    "duration": 130,
    "start_time": "2023-05-20T16:27:13.248Z"
   },
   {
    "duration": 414,
    "start_time": "2023-05-20T16:27:13.380Z"
   },
   {
    "duration": 386,
    "start_time": "2023-05-20T16:27:13.796Z"
   },
   {
    "duration": 435,
    "start_time": "2023-05-20T16:27:14.184Z"
   },
   {
    "duration": 23,
    "start_time": "2023-05-20T16:27:21.564Z"
   },
   {
    "duration": 9,
    "start_time": "2023-05-20T16:27:47.367Z"
   },
   {
    "duration": 5,
    "start_time": "2023-05-20T16:29:58.864Z"
   },
   {
    "duration": 76,
    "start_time": "2023-05-20T16:29:58.871Z"
   },
   {
    "duration": 11,
    "start_time": "2023-05-20T16:29:58.948Z"
   },
   {
    "duration": 26,
    "start_time": "2023-05-20T16:29:58.961Z"
   },
   {
    "duration": 5,
    "start_time": "2023-05-20T16:29:58.989Z"
   },
   {
    "duration": 156,
    "start_time": "2023-05-20T16:29:58.995Z"
   },
   {
    "duration": 4,
    "start_time": "2023-05-20T16:29:59.152Z"
   },
   {
    "duration": 12,
    "start_time": "2023-05-20T16:29:59.158Z"
   },
   {
    "duration": 7,
    "start_time": "2023-05-20T16:29:59.172Z"
   },
   {
    "duration": 8,
    "start_time": "2023-05-20T16:29:59.181Z"
   },
   {
    "duration": 158,
    "start_time": "2023-05-20T16:29:59.191Z"
   },
   {
    "duration": 5,
    "start_time": "2023-05-20T16:29:59.351Z"
   },
   {
    "duration": 41,
    "start_time": "2023-05-20T16:29:59.358Z"
   },
   {
    "duration": 34,
    "start_time": "2023-05-20T16:29:59.408Z"
   },
   {
    "duration": 10,
    "start_time": "2023-05-20T16:29:59.443Z"
   },
   {
    "duration": 10,
    "start_time": "2023-05-20T16:29:59.455Z"
   },
   {
    "duration": 9,
    "start_time": "2023-05-20T16:29:59.467Z"
   },
   {
    "duration": 10,
    "start_time": "2023-05-20T16:29:59.478Z"
   },
   {
    "duration": 5,
    "start_time": "2023-05-20T16:29:59.490Z"
   },
   {
    "duration": 37,
    "start_time": "2023-05-20T16:29:59.496Z"
   },
   {
    "duration": 27,
    "start_time": "2023-05-20T16:29:59.534Z"
   },
   {
    "duration": 3,
    "start_time": "2023-05-20T16:29:59.562Z"
   },
   {
    "duration": 15,
    "start_time": "2023-05-20T16:29:59.567Z"
   },
   {
    "duration": 8,
    "start_time": "2023-05-20T16:29:59.583Z"
   },
   {
    "duration": 121,
    "start_time": "2023-05-20T16:29:59.592Z"
   },
   {
    "duration": 167,
    "start_time": "2023-05-20T16:29:59.730Z"
   },
   {
    "duration": 142,
    "start_time": "2023-05-20T16:29:59.906Z"
   },
   {
    "duration": 34,
    "start_time": "2023-05-20T16:30:00.050Z"
   },
   {
    "duration": 91,
    "start_time": "2023-05-20T16:30:00.086Z"
   },
   {
    "duration": 11,
    "start_time": "2023-05-20T16:30:00.201Z"
   },
   {
    "duration": 386,
    "start_time": "2023-05-20T16:30:00.217Z"
   },
   {
    "duration": 12,
    "start_time": "2023-05-20T16:30:00.611Z"
   },
   {
    "duration": 141,
    "start_time": "2023-05-20T16:30:00.629Z"
   },
   {
    "duration": 403,
    "start_time": "2023-05-20T16:30:00.773Z"
   },
   {
    "duration": 393,
    "start_time": "2023-05-20T16:30:01.178Z"
   },
   {
    "duration": 436,
    "start_time": "2023-05-20T16:30:01.573Z"
   },
   {
    "duration": 27,
    "start_time": "2023-05-20T16:30:02.018Z"
   },
   {
    "duration": 85,
    "start_time": "2023-05-20T16:30:02.047Z"
   },
   {
    "duration": 50,
    "start_time": "2023-05-21T17:27:05.557Z"
   },
   {
    "duration": 1979,
    "start_time": "2023-05-21T17:27:15.304Z"
   },
   {
    "duration": 113,
    "start_time": "2023-05-21T17:27:17.285Z"
   },
   {
    "duration": 16,
    "start_time": "2023-05-21T17:27:17.399Z"
   },
   {
    "duration": 20,
    "start_time": "2023-05-21T17:27:17.417Z"
   },
   {
    "duration": 180,
    "start_time": "2023-05-21T17:27:17.440Z"
   },
   {
    "duration": 50,
    "start_time": "2023-05-21T17:27:17.627Z"
   },
   {
    "duration": 9,
    "start_time": "2023-05-21T17:27:17.680Z"
   },
   {
    "duration": 12,
    "start_time": "2023-05-21T17:27:17.691Z"
   },
   {
    "duration": 155,
    "start_time": "2023-05-21T17:27:17.705Z"
   },
   {
    "duration": 4,
    "start_time": "2023-05-21T17:27:17.862Z"
   },
   {
    "duration": 27,
    "start_time": "2023-05-21T17:27:17.868Z"
   },
   {
    "duration": 5,
    "start_time": "2023-05-21T17:27:17.897Z"
   },
   {
    "duration": 46,
    "start_time": "2023-05-21T17:27:17.903Z"
   },
   {
    "duration": 10,
    "start_time": "2023-05-21T17:27:17.959Z"
   },
   {
    "duration": 9,
    "start_time": "2023-05-21T17:27:17.970Z"
   },
   {
    "duration": 9,
    "start_time": "2023-05-21T17:27:17.981Z"
   },
   {
    "duration": 4,
    "start_time": "2023-05-21T17:27:17.992Z"
   },
   {
    "duration": 8,
    "start_time": "2023-05-21T17:27:17.998Z"
   },
   {
    "duration": 62,
    "start_time": "2023-05-21T17:27:18.007Z"
   },
   {
    "duration": 5,
    "start_time": "2023-05-21T17:27:18.070Z"
   },
   {
    "duration": 17,
    "start_time": "2023-05-21T17:27:18.077Z"
   },
   {
    "duration": 16,
    "start_time": "2023-05-21T17:27:18.096Z"
   },
   {
    "duration": 121,
    "start_time": "2023-05-21T17:27:18.114Z"
   },
   {
    "duration": 132,
    "start_time": "2023-05-21T17:27:18.236Z"
   },
   {
    "duration": 52,
    "start_time": "2023-05-21T17:27:18.371Z"
   },
   {
    "duration": 17,
    "start_time": "2023-05-21T17:27:18.428Z"
   },
   {
    "duration": 124,
    "start_time": "2023-05-21T17:27:18.450Z"
   },
   {
    "duration": 10,
    "start_time": "2023-05-21T17:27:18.625Z"
   },
   {
    "duration": 236,
    "start_time": "2023-05-21T17:27:18.641Z"
   },
   {
    "duration": 9,
    "start_time": "2023-05-21T17:27:18.879Z"
   },
   {
    "duration": 120,
    "start_time": "2023-05-21T17:27:18.889Z"
   },
   {
    "duration": 549,
    "start_time": "2023-05-21T17:27:19.011Z"
   },
   {
    "duration": 438,
    "start_time": "2023-05-21T17:27:19.565Z"
   },
   {
    "duration": 476,
    "start_time": "2023-05-21T17:27:20.005Z"
   },
   {
    "duration": 52,
    "start_time": "2023-05-21T17:27:20.483Z"
   },
   {
    "duration": 15,
    "start_time": "2023-05-21T17:27:20.547Z"
   },
   {
    "duration": 498,
    "start_time": "2023-05-21T17:27:20.565Z"
   },
   {
    "duration": 109,
    "start_time": "2023-05-21T17:27:21.066Z"
   },
   {
    "duration": 72,
    "start_time": "2023-05-21T17:27:21.176Z"
   },
   {
    "duration": 8,
    "start_time": "2023-05-21T17:27:21.249Z"
   },
   {
    "duration": 111,
    "start_time": "2023-05-21T17:27:21.262Z"
   },
   {
    "duration": 5824,
    "start_time": "2023-05-21T17:27:21.375Z"
   },
   {
    "duration": 968,
    "start_time": "2023-05-21T17:27:27.201Z"
   },
   {
    "duration": 161,
    "start_time": "2023-05-21T17:27:28.170Z"
   },
   {
    "duration": 22,
    "start_time": "2023-05-21T17:27:28.333Z"
   },
   {
    "duration": 103,
    "start_time": "2023-05-21T17:27:28.357Z"
   },
   {
    "duration": 140,
    "start_time": "2023-05-21T17:28:13.792Z"
   },
   {
    "duration": 120,
    "start_time": "2023-05-21T17:28:21.454Z"
   },
   {
    "duration": 135,
    "start_time": "2023-05-21T17:28:26.240Z"
   },
   {
    "duration": 245,
    "start_time": "2023-05-21T17:28:30.744Z"
   },
   {
    "duration": 204,
    "start_time": "2023-05-21T17:28:34.400Z"
   },
   {
    "duration": 126,
    "start_time": "2023-05-21T17:28:43.256Z"
   },
   {
    "duration": 4,
    "start_time": "2023-05-21T17:34:37.061Z"
   },
   {
    "duration": 60,
    "start_time": "2023-05-21T17:34:37.067Z"
   },
   {
    "duration": 39,
    "start_time": "2023-05-21T17:34:37.136Z"
   },
   {
    "duration": 14,
    "start_time": "2023-05-21T17:34:37.177Z"
   },
   {
    "duration": 144,
    "start_time": "2023-05-21T17:34:37.193Z"
   },
   {
    "duration": 5,
    "start_time": "2023-05-21T17:34:37.338Z"
   },
   {
    "duration": 4,
    "start_time": "2023-05-21T17:34:37.345Z"
   },
   {
    "duration": 25,
    "start_time": "2023-05-21T17:34:37.350Z"
   },
   {
    "duration": 140,
    "start_time": "2023-05-21T17:34:37.377Z"
   },
   {
    "duration": 4,
    "start_time": "2023-05-21T17:34:37.519Z"
   },
   {
    "duration": 10,
    "start_time": "2023-05-21T17:34:37.526Z"
   },
   {
    "duration": 31,
    "start_time": "2023-05-21T17:34:37.540Z"
   },
   {
    "duration": 7,
    "start_time": "2023-05-21T17:34:37.573Z"
   },
   {
    "duration": 9,
    "start_time": "2023-05-21T17:34:37.582Z"
   },
   {
    "duration": 4,
    "start_time": "2023-05-21T17:34:37.592Z"
   },
   {
    "duration": 5,
    "start_time": "2023-05-21T17:34:37.598Z"
   },
   {
    "duration": 43,
    "start_time": "2023-05-21T17:34:37.604Z"
   },
   {
    "duration": 15,
    "start_time": "2023-05-21T17:34:37.651Z"
   },
   {
    "duration": 12,
    "start_time": "2023-05-21T17:34:37.668Z"
   },
   {
    "duration": 7,
    "start_time": "2023-05-21T17:34:37.682Z"
   },
   {
    "duration": 52,
    "start_time": "2023-05-21T17:34:37.691Z"
   },
   {
    "duration": 123,
    "start_time": "2023-05-21T17:34:37.753Z"
   },
   {
    "duration": 14,
    "start_time": "2023-05-21T17:34:49.921Z"
   },
   {
    "duration": 9,
    "start_time": "2023-05-21T17:34:50.404Z"
   },
   {
    "duration": 70,
    "start_time": "2023-05-21T17:34:50.857Z"
   },
   {
    "duration": 234,
    "start_time": "2023-05-21T17:35:05.443Z"
   },
   {
    "duration": 8,
    "start_time": "2023-05-21T17:35:43.166Z"
   },
   {
    "duration": 161,
    "start_time": "2023-05-21T17:35:43.624Z"
   },
   {
    "duration": 4,
    "start_time": "2023-05-21T17:36:56.073Z"
   },
   {
    "duration": 66,
    "start_time": "2023-05-21T17:36:56.079Z"
   },
   {
    "duration": 16,
    "start_time": "2023-05-21T17:36:56.147Z"
   },
   {
    "duration": 12,
    "start_time": "2023-05-21T17:36:56.165Z"
   },
   {
    "duration": 147,
    "start_time": "2023-05-21T17:36:56.187Z"
   },
   {
    "duration": 8,
    "start_time": "2023-05-21T17:36:56.335Z"
   },
   {
    "duration": 27,
    "start_time": "2023-05-21T17:36:56.345Z"
   },
   {
    "duration": 9,
    "start_time": "2023-05-21T17:36:56.374Z"
   },
   {
    "duration": 244,
    "start_time": "2023-05-21T17:36:56.385Z"
   },
   {
    "duration": 3,
    "start_time": "2023-05-21T17:36:56.631Z"
   },
   {
    "duration": 11,
    "start_time": "2023-05-21T17:36:56.635Z"
   },
   {
    "duration": 26,
    "start_time": "2023-05-21T17:36:56.648Z"
   },
   {
    "duration": 12,
    "start_time": "2023-05-21T17:36:56.676Z"
   },
   {
    "duration": 8,
    "start_time": "2023-05-21T17:36:56.691Z"
   },
   {
    "duration": 3,
    "start_time": "2023-05-21T17:36:56.701Z"
   },
   {
    "duration": 7,
    "start_time": "2023-05-21T17:36:56.705Z"
   },
   {
    "duration": 34,
    "start_time": "2023-05-21T17:36:56.714Z"
   },
   {
    "duration": 22,
    "start_time": "2023-05-21T17:36:56.750Z"
   },
   {
    "duration": 15,
    "start_time": "2023-05-21T17:36:56.774Z"
   },
   {
    "duration": 11,
    "start_time": "2023-05-21T17:36:56.790Z"
   },
   {
    "duration": 37,
    "start_time": "2023-05-21T17:36:56.802Z"
   },
   {
    "duration": 119,
    "start_time": "2023-05-21T17:36:56.840Z"
   },
   {
    "duration": 27,
    "start_time": "2023-05-21T17:37:47.558Z"
   },
   {
    "duration": 4,
    "start_time": "2023-05-21T17:37:50.375Z"
   },
   {
    "duration": 7,
    "start_time": "2023-05-21T17:37:50.804Z"
   },
   {
    "duration": 6,
    "start_time": "2023-05-21T17:37:51.284Z"
   },
   {
    "duration": 29,
    "start_time": "2023-05-21T17:37:54.578Z"
   },
   {
    "duration": 48,
    "start_time": "2023-05-21T17:37:57.507Z"
   },
   {
    "duration": 3,
    "start_time": "2023-05-21T17:38:09.790Z"
   },
   {
    "duration": 73,
    "start_time": "2023-05-21T17:38:09.795Z"
   },
   {
    "duration": 12,
    "start_time": "2023-05-21T17:38:09.869Z"
   },
   {
    "duration": 11,
    "start_time": "2023-05-21T17:38:09.883Z"
   },
   {
    "duration": 146,
    "start_time": "2023-05-21T17:38:09.896Z"
   },
   {
    "duration": 12,
    "start_time": "2023-05-21T17:38:10.052Z"
   },
   {
    "duration": 10,
    "start_time": "2023-05-21T17:38:10.066Z"
   },
   {
    "duration": 8,
    "start_time": "2023-05-21T17:38:10.077Z"
   },
   {
    "duration": 163,
    "start_time": "2023-05-21T17:38:10.088Z"
   },
   {
    "duration": 6,
    "start_time": "2023-05-21T17:38:10.256Z"
   },
   {
    "duration": 15,
    "start_time": "2023-05-21T17:38:10.263Z"
   },
   {
    "duration": 2,
    "start_time": "2023-05-21T17:38:10.279Z"
   },
   {
    "duration": 7,
    "start_time": "2023-05-21T17:38:10.282Z"
   },
   {
    "duration": 7,
    "start_time": "2023-05-21T17:38:10.290Z"
   },
   {
    "duration": 6,
    "start_time": "2023-05-21T17:38:10.298Z"
   },
   {
    "duration": 8,
    "start_time": "2023-05-21T17:38:10.305Z"
   },
   {
    "duration": 38,
    "start_time": "2023-05-21T17:38:10.314Z"
   },
   {
    "duration": 6,
    "start_time": "2023-05-21T17:38:10.357Z"
   },
   {
    "duration": 11,
    "start_time": "2023-05-21T17:38:10.364Z"
   },
   {
    "duration": 7,
    "start_time": "2023-05-21T17:38:10.376Z"
   },
   {
    "duration": 154,
    "start_time": "2023-05-21T17:38:10.385Z"
   },
   {
    "duration": 101,
    "start_time": "2023-05-21T17:38:10.541Z"
   },
   {
    "duration": 111,
    "start_time": "2023-05-21T17:39:56.092Z"
   },
   {
    "duration": 1009,
    "start_time": "2023-05-21T17:48:39.452Z"
   },
   {
    "duration": 268,
    "start_time": "2023-05-21T17:48:59.329Z"
   },
   {
    "duration": 244,
    "start_time": "2023-05-21T17:53:16.699Z"
   },
   {
    "duration": 705,
    "start_time": "2023-05-21T17:53:33.960Z"
   },
   {
    "duration": 687,
    "start_time": "2023-05-21T17:53:48.088Z"
   },
   {
    "duration": 665,
    "start_time": "2023-05-21T17:54:43.077Z"
   },
   {
    "duration": 710,
    "start_time": "2023-05-21T17:54:58.537Z"
   },
   {
    "duration": 689,
    "start_time": "2023-05-21T17:56:18.986Z"
   },
   {
    "duration": 750,
    "start_time": "2023-05-21T17:56:25.994Z"
   },
   {
    "duration": 759,
    "start_time": "2023-05-21T17:56:50.428Z"
   },
   {
    "duration": 765,
    "start_time": "2023-05-21T17:57:11.306Z"
   },
   {
    "duration": 704,
    "start_time": "2023-05-21T17:57:27.206Z"
   },
   {
    "duration": 10,
    "start_time": "2023-05-21T17:57:50.865Z"
   },
   {
    "duration": 85,
    "start_time": "2023-05-21T17:57:50.878Z"
   },
   {
    "duration": 13,
    "start_time": "2023-05-21T17:57:50.965Z"
   },
   {
    "duration": 25,
    "start_time": "2023-05-21T17:57:50.979Z"
   },
   {
    "duration": 141,
    "start_time": "2023-05-21T17:57:51.006Z"
   },
   {
    "duration": 5,
    "start_time": "2023-05-21T17:57:51.149Z"
   },
   {
    "duration": 18,
    "start_time": "2023-05-21T17:57:51.155Z"
   },
   {
    "duration": 14,
    "start_time": "2023-05-21T17:57:51.174Z"
   },
   {
    "duration": 157,
    "start_time": "2023-05-21T17:57:51.190Z"
   },
   {
    "duration": 5,
    "start_time": "2023-05-21T17:57:51.349Z"
   },
   {
    "duration": 30,
    "start_time": "2023-05-21T17:57:51.356Z"
   },
   {
    "duration": 14,
    "start_time": "2023-05-21T17:57:51.388Z"
   },
   {
    "duration": 38,
    "start_time": "2023-05-21T17:57:51.403Z"
   },
   {
    "duration": 14,
    "start_time": "2023-05-21T17:57:51.442Z"
   },
   {
    "duration": 25,
    "start_time": "2023-05-21T17:57:51.457Z"
   },
   {
    "duration": 17,
    "start_time": "2023-05-21T17:57:51.484Z"
   },
   {
    "duration": 737,
    "start_time": "2023-05-21T17:57:51.503Z"
   },
   {
    "duration": 26,
    "start_time": "2023-05-21T17:57:52.242Z"
   },
   {
    "duration": 723,
    "start_time": "2023-05-21T17:57:52.270Z"
   },
   {
    "duration": 763,
    "start_time": "2023-05-21T18:01:00.086Z"
   },
   {
    "duration": 713,
    "start_time": "2023-05-21T18:01:29.551Z"
   },
   {
    "duration": 695,
    "start_time": "2023-05-21T18:01:38.470Z"
   },
   {
    "duration": 797,
    "start_time": "2023-05-21T18:01:52.792Z"
   },
   {
    "duration": 711,
    "start_time": "2023-05-21T18:02:07.968Z"
   },
   {
    "duration": 704,
    "start_time": "2023-05-21T18:02:22.542Z"
   },
   {
    "duration": 754,
    "start_time": "2023-05-21T18:02:27.364Z"
   },
   {
    "duration": 3,
    "start_time": "2023-05-21T18:02:47.803Z"
   },
   {
    "duration": 54,
    "start_time": "2023-05-21T18:02:47.808Z"
   },
   {
    "duration": 13,
    "start_time": "2023-05-21T18:02:47.864Z"
   },
   {
    "duration": 18,
    "start_time": "2023-05-21T18:02:47.879Z"
   },
   {
    "duration": 134,
    "start_time": "2023-05-21T18:02:47.899Z"
   },
   {
    "duration": 9,
    "start_time": "2023-05-21T18:02:48.035Z"
   },
   {
    "duration": 9,
    "start_time": "2023-05-21T18:02:48.046Z"
   },
   {
    "duration": 9,
    "start_time": "2023-05-21T18:02:48.056Z"
   },
   {
    "duration": 133,
    "start_time": "2023-05-21T18:02:48.067Z"
   },
   {
    "duration": 3,
    "start_time": "2023-05-21T18:02:48.202Z"
   },
   {
    "duration": 21,
    "start_time": "2023-05-21T18:02:48.208Z"
   },
   {
    "duration": 42,
    "start_time": "2023-05-21T18:02:48.230Z"
   },
   {
    "duration": 11,
    "start_time": "2023-05-21T18:02:48.273Z"
   },
   {
    "duration": 8,
    "start_time": "2023-05-21T18:02:48.285Z"
   },
   {
    "duration": 3,
    "start_time": "2023-05-21T18:02:48.295Z"
   },
   {
    "duration": 5,
    "start_time": "2023-05-21T18:02:48.300Z"
   },
   {
    "duration": 752,
    "start_time": "2023-05-21T18:02:48.307Z"
   },
   {
    "duration": 742,
    "start_time": "2023-05-21T18:03:03.105Z"
   },
   {
    "duration": 734,
    "start_time": "2023-05-21T18:03:16.579Z"
   },
   {
    "duration": 699,
    "start_time": "2023-05-21T18:03:26.070Z"
   },
   {
    "duration": 698,
    "start_time": "2023-05-21T18:03:31.392Z"
   },
   {
    "duration": 830,
    "start_time": "2023-05-21T18:03:36.001Z"
   },
   {
    "duration": 830,
    "start_time": "2023-05-21T18:03:44.452Z"
   },
   {
    "duration": 731,
    "start_time": "2023-05-21T18:03:49.186Z"
   },
   {
    "duration": 813,
    "start_time": "2023-05-21T18:04:01.665Z"
   },
   {
    "duration": 778,
    "start_time": "2023-05-21T18:04:08.486Z"
   },
   {
    "duration": 754,
    "start_time": "2023-05-21T18:04:17.173Z"
   },
   {
    "duration": 39,
    "start_time": "2023-05-21T18:04:17.928Z"
   },
   {
    "duration": 880,
    "start_time": "2023-05-21T18:04:18.106Z"
   },
   {
    "duration": 193,
    "start_time": "2023-05-21T18:06:30.064Z"
   },
   {
    "duration": 208,
    "start_time": "2023-05-21T18:06:36.054Z"
   },
   {
    "duration": 4,
    "start_time": "2023-05-21T18:10:05.980Z"
   },
   {
    "duration": 77,
    "start_time": "2023-05-21T18:10:05.985Z"
   },
   {
    "duration": 12,
    "start_time": "2023-05-21T18:10:06.064Z"
   },
   {
    "duration": 13,
    "start_time": "2023-05-21T18:10:06.078Z"
   },
   {
    "duration": 145,
    "start_time": "2023-05-21T18:10:06.094Z"
   },
   {
    "duration": 6,
    "start_time": "2023-05-21T18:10:06.241Z"
   },
   {
    "duration": 14,
    "start_time": "2023-05-21T18:10:06.248Z"
   },
   {
    "duration": 5,
    "start_time": "2023-05-21T18:10:06.264Z"
   },
   {
    "duration": 128,
    "start_time": "2023-05-21T18:10:06.270Z"
   },
   {
    "duration": 3,
    "start_time": "2023-05-21T18:10:06.400Z"
   },
   {
    "duration": 21,
    "start_time": "2023-05-21T18:10:06.406Z"
   },
   {
    "duration": 17,
    "start_time": "2023-05-21T18:10:06.428Z"
   },
   {
    "duration": 8,
    "start_time": "2023-05-21T18:10:06.447Z"
   },
   {
    "duration": 15,
    "start_time": "2023-05-21T18:10:06.457Z"
   },
   {
    "duration": 3,
    "start_time": "2023-05-21T18:10:06.474Z"
   },
   {
    "duration": 7,
    "start_time": "2023-05-21T18:10:06.478Z"
   },
   {
    "duration": 710,
    "start_time": "2023-05-21T18:10:06.487Z"
   },
   {
    "duration": 37,
    "start_time": "2023-05-21T18:10:07.199Z"
   },
   {
    "duration": 709,
    "start_time": "2023-05-21T18:10:07.240Z"
   },
   {
    "duration": 4,
    "start_time": "2023-05-21T18:10:07.951Z"
   },
   {
    "duration": 37,
    "start_time": "2023-05-21T18:10:07.956Z"
   },
   {
    "duration": 56,
    "start_time": "2023-05-21T18:10:07.995Z"
   },
   {
    "duration": 76,
    "start_time": "2023-05-21T18:10:08.053Z"
   },
   {
    "duration": 201,
    "start_time": "2023-05-21T18:10:08.130Z"
   },
   {
    "duration": 11,
    "start_time": "2023-05-21T18:10:08.340Z"
   },
   {
    "duration": 107,
    "start_time": "2023-05-21T18:10:08.353Z"
   },
   {
    "duration": 67,
    "start_time": "2023-05-21T18:10:08.461Z"
   },
   {
    "duration": 4,
    "start_time": "2023-05-21T18:10:08.530Z"
   },
   {
    "duration": 345,
    "start_time": "2023-05-21T18:10:08.539Z"
   },
   {
    "duration": 6,
    "start_time": "2023-05-21T18:10:08.886Z"
   },
   {
    "duration": 219,
    "start_time": "2023-05-21T18:10:08.894Z"
   },
   {
    "duration": 462,
    "start_time": "2023-05-21T18:10:09.115Z"
   },
   {
    "duration": 448,
    "start_time": "2023-05-21T18:10:30.199Z"
   },
   {
    "duration": 52,
    "start_time": "2023-05-21T18:11:14.691Z"
   },
   {
    "duration": 10,
    "start_time": "2023-05-21T18:11:19.204Z"
   },
   {
    "duration": 26,
    "start_time": "2023-05-21T18:12:18.273Z"
   },
   {
    "duration": 7,
    "start_time": "2023-05-21T18:12:19.286Z"
   },
   {
    "duration": 421,
    "start_time": "2023-05-21T18:12:21.884Z"
   },
   {
    "duration": 486,
    "start_time": "2023-05-21T18:13:08.076Z"
   },
   {
    "duration": 4,
    "start_time": "2023-05-21T18:13:39.065Z"
   },
   {
    "duration": 65,
    "start_time": "2023-05-21T18:13:39.070Z"
   },
   {
    "duration": 13,
    "start_time": "2023-05-21T18:13:39.137Z"
   },
   {
    "duration": 11,
    "start_time": "2023-05-21T18:13:39.152Z"
   },
   {
    "duration": 123,
    "start_time": "2023-05-21T18:13:39.165Z"
   },
   {
    "duration": 5,
    "start_time": "2023-05-21T18:13:39.289Z"
   },
   {
    "duration": 7,
    "start_time": "2023-05-21T18:13:39.296Z"
   },
   {
    "duration": 10,
    "start_time": "2023-05-21T18:13:39.305Z"
   },
   {
    "duration": 172,
    "start_time": "2023-05-21T18:13:39.317Z"
   },
   {
    "duration": 5,
    "start_time": "2023-05-21T18:13:39.492Z"
   },
   {
    "duration": 42,
    "start_time": "2023-05-21T18:13:39.498Z"
   },
   {
    "duration": 11,
    "start_time": "2023-05-21T18:13:39.542Z"
   },
   {
    "duration": 6,
    "start_time": "2023-05-21T18:13:39.554Z"
   },
   {
    "duration": 9,
    "start_time": "2023-05-21T18:13:39.563Z"
   },
   {
    "duration": 4,
    "start_time": "2023-05-21T18:13:39.574Z"
   },
   {
    "duration": 7,
    "start_time": "2023-05-21T18:13:39.580Z"
   },
   {
    "duration": 755,
    "start_time": "2023-05-21T18:13:39.588Z"
   },
   {
    "duration": 26,
    "start_time": "2023-05-21T18:13:40.345Z"
   },
   {
    "duration": 766,
    "start_time": "2023-05-21T18:13:40.373Z"
   },
   {
    "duration": 5,
    "start_time": "2023-05-21T18:13:41.148Z"
   },
   {
    "duration": 10,
    "start_time": "2023-05-21T18:13:41.155Z"
   },
   {
    "duration": 6,
    "start_time": "2023-05-21T18:13:41.167Z"
   },
   {
    "duration": 72,
    "start_time": "2023-05-21T18:13:41.175Z"
   },
   {
    "duration": 103,
    "start_time": "2023-05-21T18:13:41.328Z"
   },
   {
    "duration": 15,
    "start_time": "2023-05-21T18:13:41.432Z"
   },
   {
    "duration": 29,
    "start_time": "2023-05-21T18:13:41.524Z"
   },
   {
    "duration": 85,
    "start_time": "2023-05-21T18:13:41.554Z"
   },
   {
    "duration": 73,
    "start_time": "2023-05-21T18:13:41.643Z"
   },
   {
    "duration": 242,
    "start_time": "2023-05-21T18:13:41.722Z"
   },
   {
    "duration": 6,
    "start_time": "2023-05-21T18:13:41.965Z"
   },
   {
    "duration": 120,
    "start_time": "2023-05-21T18:13:41.972Z"
   },
   {
    "duration": 446,
    "start_time": "2023-05-21T18:13:42.094Z"
   },
   {
    "duration": 26,
    "start_time": "2023-05-21T18:13:42.542Z"
   },
   {
    "duration": 8,
    "start_time": "2023-05-21T18:13:42.570Z"
   },
   {
    "duration": 461,
    "start_time": "2023-05-21T18:13:42.579Z"
   },
   {
    "duration": 5934,
    "start_time": "2023-05-21T18:18:00.166Z"
   },
   {
    "duration": 71,
    "start_time": "2023-05-21T18:19:21.082Z"
   },
   {
    "duration": 10,
    "start_time": "2023-05-21T18:19:36.157Z"
   },
   {
    "duration": 3,
    "start_time": "2023-05-21T18:25:09.476Z"
   },
   {
    "duration": 60,
    "start_time": "2023-05-21T18:25:09.481Z"
   },
   {
    "duration": 12,
    "start_time": "2023-05-21T18:25:09.544Z"
   },
   {
    "duration": 14,
    "start_time": "2023-05-21T18:25:09.558Z"
   },
   {
    "duration": 128,
    "start_time": "2023-05-21T18:25:09.574Z"
   },
   {
    "duration": 5,
    "start_time": "2023-05-21T18:25:09.704Z"
   },
   {
    "duration": 33,
    "start_time": "2023-05-21T18:25:09.711Z"
   },
   {
    "duration": 15,
    "start_time": "2023-05-21T18:25:09.746Z"
   },
   {
    "duration": 133,
    "start_time": "2023-05-21T18:25:09.763Z"
   },
   {
    "duration": 4,
    "start_time": "2023-05-21T18:25:09.897Z"
   },
   {
    "duration": 15,
    "start_time": "2023-05-21T18:25:09.902Z"
   },
   {
    "duration": 4,
    "start_time": "2023-05-21T18:25:09.918Z"
   },
   {
    "duration": 15,
    "start_time": "2023-05-21T18:25:09.924Z"
   },
   {
    "duration": 12,
    "start_time": "2023-05-21T18:25:09.942Z"
   },
   {
    "duration": 9,
    "start_time": "2023-05-21T18:25:09.955Z"
   },
   {
    "duration": 11,
    "start_time": "2023-05-21T18:25:09.965Z"
   },
   {
    "duration": 722,
    "start_time": "2023-05-21T18:25:09.977Z"
   },
   {
    "duration": 52,
    "start_time": "2023-05-21T18:25:10.702Z"
   },
   {
    "duration": 749,
    "start_time": "2023-05-21T18:25:10.756Z"
   },
   {
    "duration": 4,
    "start_time": "2023-05-21T18:25:11.506Z"
   },
   {
    "duration": 28,
    "start_time": "2023-05-21T18:25:11.511Z"
   },
   {
    "duration": 8,
    "start_time": "2023-05-21T18:25:11.541Z"
   },
   {
    "duration": 94,
    "start_time": "2023-05-21T18:25:11.550Z"
   },
   {
    "duration": 114,
    "start_time": "2023-05-21T18:25:11.645Z"
   },
   {
    "duration": 75,
    "start_time": "2023-05-21T18:25:11.760Z"
   },
   {
    "duration": 112,
    "start_time": "2023-05-21T18:25:11.843Z"
   },
   {
    "duration": 5,
    "start_time": "2023-05-21T18:32:04.066Z"
   },
   {
    "duration": 56,
    "start_time": "2023-05-21T18:32:04.073Z"
   },
   {
    "duration": 13,
    "start_time": "2023-05-21T18:32:04.132Z"
   },
   {
    "duration": 14,
    "start_time": "2023-05-21T18:32:04.147Z"
   },
   {
    "duration": 124,
    "start_time": "2023-05-21T18:32:04.164Z"
   },
   {
    "duration": 4,
    "start_time": "2023-05-21T18:32:04.289Z"
   },
   {
    "duration": 5,
    "start_time": "2023-05-21T18:32:04.295Z"
   },
   {
    "duration": 5,
    "start_time": "2023-05-21T18:32:04.301Z"
   },
   {
    "duration": 286,
    "start_time": "2023-05-21T18:32:04.307Z"
   },
   {
    "duration": 5,
    "start_time": "2023-05-21T18:32:04.595Z"
   },
   {
    "duration": 29,
    "start_time": "2023-05-21T18:32:04.601Z"
   },
   {
    "duration": 2,
    "start_time": "2023-05-21T18:32:04.632Z"
   },
   {
    "duration": 69,
    "start_time": "2023-05-21T18:32:04.637Z"
   },
   {
    "duration": 14,
    "start_time": "2023-05-21T18:32:04.709Z"
   },
   {
    "duration": 15,
    "start_time": "2023-05-21T18:32:04.724Z"
   },
   {
    "duration": 16,
    "start_time": "2023-05-21T18:32:04.741Z"
   },
   {
    "duration": 692,
    "start_time": "2023-05-21T18:32:04.759Z"
   },
   {
    "duration": 24,
    "start_time": "2023-05-21T18:32:05.453Z"
   },
   {
    "duration": 698,
    "start_time": "2023-05-21T18:32:05.479Z"
   },
   {
    "duration": 4,
    "start_time": "2023-05-21T18:32:06.178Z"
   },
   {
    "duration": 9,
    "start_time": "2023-05-21T18:32:06.184Z"
   },
   {
    "duration": 8,
    "start_time": "2023-05-21T18:32:06.195Z"
   },
   {
    "duration": 127,
    "start_time": "2023-05-21T18:32:06.204Z"
   },
   {
    "duration": 192,
    "start_time": "2023-05-21T18:32:06.337Z"
   },
   {
    "duration": 105,
    "start_time": "2023-05-21T18:32:06.536Z"
   },
   {
    "duration": 15,
    "start_time": "2023-05-21T18:32:06.643Z"
   },
   {
    "duration": 67,
    "start_time": "2023-05-21T18:32:06.660Z"
   },
   {
    "duration": 3,
    "start_time": "2023-05-21T18:32:06.733Z"
   },
   {
    "duration": 320,
    "start_time": "2023-05-21T18:32:06.737Z"
   },
   {
    "duration": 7,
    "start_time": "2023-05-21T18:32:07.058Z"
   },
   {
    "duration": 115,
    "start_time": "2023-05-21T18:32:07.067Z"
   },
   {
    "duration": 414,
    "start_time": "2023-05-21T18:32:07.183Z"
   },
   {
    "duration": 40,
    "start_time": "2023-05-21T18:32:07.599Z"
   },
   {
    "duration": 6,
    "start_time": "2023-05-21T18:32:07.641Z"
   },
   {
    "duration": 113,
    "start_time": "2023-05-21T18:32:07.649Z"
   },
   {
    "duration": 9,
    "start_time": "2023-05-21T18:32:07.763Z"
   },
   {
    "duration": 5328,
    "start_time": "2023-05-21T18:32:07.773Z"
   },
   {
    "duration": 57,
    "start_time": "2023-05-21T18:32:13.103Z"
   },
   {
    "duration": 6,
    "start_time": "2023-05-21T18:32:13.161Z"
   },
   {
    "duration": 4,
    "start_time": "2023-05-21T18:32:50.630Z"
   },
   {
    "duration": 40,
    "start_time": "2023-05-21T18:32:50.636Z"
   },
   {
    "duration": 12,
    "start_time": "2023-05-21T18:32:50.678Z"
   },
   {
    "duration": 14,
    "start_time": "2023-05-21T18:32:50.691Z"
   },
   {
    "duration": 120,
    "start_time": "2023-05-21T18:32:50.707Z"
   },
   {
    "duration": 5,
    "start_time": "2023-05-21T18:32:50.829Z"
   },
   {
    "duration": 14,
    "start_time": "2023-05-21T18:32:50.835Z"
   },
   {
    "duration": 22,
    "start_time": "2023-05-21T18:32:50.851Z"
   },
   {
    "duration": 138,
    "start_time": "2023-05-21T18:32:50.875Z"
   },
   {
    "duration": 15,
    "start_time": "2023-05-21T18:32:51.014Z"
   },
   {
    "duration": 12,
    "start_time": "2023-05-21T18:32:51.034Z"
   },
   {
    "duration": 2,
    "start_time": "2023-05-21T18:32:51.048Z"
   },
   {
    "duration": 7,
    "start_time": "2023-05-21T18:32:51.052Z"
   },
   {
    "duration": 8,
    "start_time": "2023-05-21T18:32:51.060Z"
   },
   {
    "duration": 13,
    "start_time": "2023-05-21T18:32:51.069Z"
   },
   {
    "duration": 17,
    "start_time": "2023-05-21T18:32:51.084Z"
   },
   {
    "duration": 712,
    "start_time": "2023-05-21T18:32:51.102Z"
   },
   {
    "duration": 33,
    "start_time": "2023-05-21T18:32:51.816Z"
   },
   {
    "duration": 727,
    "start_time": "2023-05-21T18:32:51.851Z"
   },
   {
    "duration": 4,
    "start_time": "2023-05-21T18:32:52.579Z"
   },
   {
    "duration": 9,
    "start_time": "2023-05-21T18:32:52.585Z"
   },
   {
    "duration": 10,
    "start_time": "2023-05-21T18:32:52.595Z"
   },
   {
    "duration": 49,
    "start_time": "2023-05-21T18:32:52.606Z"
   },
   {
    "duration": 142,
    "start_time": "2023-05-21T18:32:52.717Z"
   },
   {
    "duration": 168,
    "start_time": "2023-05-21T18:32:52.861Z"
   },
   {
    "duration": 12,
    "start_time": "2023-05-21T18:32:53.032Z"
   },
   {
    "duration": 24,
    "start_time": "2023-05-21T18:32:53.046Z"
   },
   {
    "duration": 7,
    "start_time": "2023-05-21T18:32:53.119Z"
   },
   {
    "duration": 320,
    "start_time": "2023-05-21T18:32:53.135Z"
   },
   {
    "duration": 7,
    "start_time": "2023-05-21T18:32:53.457Z"
   },
   {
    "duration": 132,
    "start_time": "2023-05-21T18:32:53.466Z"
   },
   {
    "duration": 401,
    "start_time": "2023-05-21T18:32:53.600Z"
   },
   {
    "duration": 37,
    "start_time": "2023-05-21T18:32:54.002Z"
   },
   {
    "duration": 8,
    "start_time": "2023-05-21T18:32:54.041Z"
   },
   {
    "duration": 117,
    "start_time": "2023-05-21T18:32:54.050Z"
   },
   {
    "duration": 7,
    "start_time": "2023-05-21T18:32:54.168Z"
   },
   {
    "duration": 5328,
    "start_time": "2023-05-21T18:32:54.177Z"
   },
   {
    "duration": 60,
    "start_time": "2023-05-21T18:32:59.507Z"
   },
   {
    "duration": 6,
    "start_time": "2023-05-21T18:32:59.568Z"
   },
   {
    "duration": 138,
    "start_time": "2023-05-21T18:32:59.576Z"
   },
   {
    "duration": 14,
    "start_time": "2023-05-21T18:32:59.715Z"
   },
   {
    "duration": 6,
    "start_time": "2023-05-21T18:34:30.861Z"
   },
   {
    "duration": 105,
    "start_time": "2023-05-21T18:34:30.873Z"
   },
   {
    "duration": 13,
    "start_time": "2023-05-21T18:34:30.980Z"
   },
   {
    "duration": 46,
    "start_time": "2023-05-21T18:34:30.995Z"
   },
   {
    "duration": 234,
    "start_time": "2023-05-21T18:34:31.043Z"
   },
   {
    "duration": 5,
    "start_time": "2023-05-21T18:34:31.278Z"
   },
   {
    "duration": 52,
    "start_time": "2023-05-21T18:34:31.284Z"
   },
   {
    "duration": 29,
    "start_time": "2023-05-21T18:34:31.338Z"
   },
   {
    "duration": 161,
    "start_time": "2023-05-21T18:34:31.369Z"
   },
   {
    "duration": 5,
    "start_time": "2023-05-21T18:34:31.532Z"
   },
   {
    "duration": 31,
    "start_time": "2023-05-21T18:34:31.538Z"
   },
   {
    "duration": 24,
    "start_time": "2023-05-21T18:34:31.571Z"
   },
   {
    "duration": 55,
    "start_time": "2023-05-21T18:34:31.597Z"
   },
   {
    "duration": 19,
    "start_time": "2023-05-21T18:34:31.655Z"
   },
   {
    "duration": 21,
    "start_time": "2023-05-21T18:34:31.675Z"
   },
   {
    "duration": 56,
    "start_time": "2023-05-21T18:34:31.697Z"
   },
   {
    "duration": 676,
    "start_time": "2023-05-21T18:34:31.755Z"
   },
   {
    "duration": 25,
    "start_time": "2023-05-21T18:34:32.433Z"
   },
   {
    "duration": 673,
    "start_time": "2023-05-21T18:34:32.459Z"
   },
   {
    "duration": 4,
    "start_time": "2023-05-21T18:34:33.134Z"
   },
   {
    "duration": 11,
    "start_time": "2023-05-21T18:34:33.139Z"
   },
   {
    "duration": 12,
    "start_time": "2023-05-21T18:34:33.151Z"
   },
   {
    "duration": 70,
    "start_time": "2023-05-21T18:34:33.165Z"
   },
   {
    "duration": 106,
    "start_time": "2023-05-21T18:34:33.237Z"
   },
   {
    "duration": 78,
    "start_time": "2023-05-21T18:34:33.345Z"
   },
   {
    "duration": 119,
    "start_time": "2023-05-21T18:34:33.425Z"
   },
   {
    "duration": 78,
    "start_time": "2023-05-21T18:34:33.546Z"
   },
   {
    "duration": 4,
    "start_time": "2023-05-21T18:34:33.626Z"
   },
   {
    "duration": 326,
    "start_time": "2023-05-21T18:34:33.631Z"
   },
   {
    "duration": 5,
    "start_time": "2023-05-21T18:34:33.958Z"
   },
   {
    "duration": 125,
    "start_time": "2023-05-21T18:34:33.965Z"
   },
   {
    "duration": 431,
    "start_time": "2023-05-21T18:34:34.092Z"
   },
   {
    "duration": 29,
    "start_time": "2023-05-21T18:34:34.531Z"
   },
   {
    "duration": 9,
    "start_time": "2023-05-21T18:34:34.562Z"
   },
   {
    "duration": 136,
    "start_time": "2023-05-21T18:34:34.573Z"
   },
   {
    "duration": 22,
    "start_time": "2023-05-21T18:34:34.711Z"
   },
   {
    "duration": 5231,
    "start_time": "2023-05-21T18:34:34.736Z"
   },
   {
    "duration": 63,
    "start_time": "2023-05-21T18:34:39.969Z"
   },
   {
    "duration": 10,
    "start_time": "2023-05-21T18:34:40.034Z"
   },
   {
    "duration": 114,
    "start_time": "2023-05-21T18:34:40.045Z"
   },
   {
    "duration": 9,
    "start_time": "2023-05-21T18:34:40.162Z"
   },
   {
    "duration": 4,
    "start_time": "2023-05-21T20:13:14.125Z"
   },
   {
    "duration": 55,
    "start_time": "2023-05-21T20:13:14.130Z"
   },
   {
    "duration": 12,
    "start_time": "2023-05-21T20:13:14.186Z"
   },
   {
    "duration": 15,
    "start_time": "2023-05-21T20:13:14.199Z"
   },
   {
    "duration": 110,
    "start_time": "2023-05-21T20:13:14.215Z"
   },
   {
    "duration": 4,
    "start_time": "2023-05-21T20:13:14.326Z"
   },
   {
    "duration": 10,
    "start_time": "2023-05-21T20:13:14.331Z"
   },
   {
    "duration": 10,
    "start_time": "2023-05-21T20:13:14.342Z"
   },
   {
    "duration": 130,
    "start_time": "2023-05-21T20:13:14.354Z"
   },
   {
    "duration": 4,
    "start_time": "2023-05-21T20:13:14.488Z"
   },
   {
    "duration": 23,
    "start_time": "2023-05-21T20:13:14.494Z"
   },
   {
    "duration": 7,
    "start_time": "2023-05-21T20:13:14.519Z"
   },
   {
    "duration": 19,
    "start_time": "2023-05-21T20:13:14.528Z"
   },
   {
    "duration": 13,
    "start_time": "2023-05-21T20:13:14.549Z"
   },
   {
    "duration": 10,
    "start_time": "2023-05-21T20:13:14.563Z"
   },
   {
    "duration": 19,
    "start_time": "2023-05-21T20:13:14.575Z"
   },
   {
    "duration": 643,
    "start_time": "2023-05-21T20:13:14.596Z"
   },
   {
    "duration": 26,
    "start_time": "2023-05-21T20:13:15.240Z"
   },
   {
    "duration": 636,
    "start_time": "2023-05-21T20:13:15.268Z"
   },
   {
    "duration": 13,
    "start_time": "2023-05-21T20:13:15.905Z"
   },
   {
    "duration": 9,
    "start_time": "2023-05-21T20:13:15.920Z"
   },
   {
    "duration": 6,
    "start_time": "2023-05-21T20:13:15.931Z"
   },
   {
    "duration": 82,
    "start_time": "2023-05-21T20:13:15.939Z"
   },
   {
    "duration": 196,
    "start_time": "2023-05-21T20:13:16.022Z"
   },
   {
    "duration": 5,
    "start_time": "2023-05-21T20:13:16.219Z"
   },
   {
    "duration": 109,
    "start_time": "2023-05-21T20:13:16.226Z"
   },
   {
    "duration": 91,
    "start_time": "2023-05-21T20:13:16.337Z"
   },
   {
    "duration": 8,
    "start_time": "2023-05-21T20:13:23.725Z"
   },
   {
    "duration": 31,
    "start_time": "2023-05-21T20:13:24.188Z"
   },
   {
    "duration": 11,
    "start_time": "2023-05-21T20:13:29.678Z"
   },
   {
    "duration": 105,
    "start_time": "2023-05-21T20:13:30.114Z"
   },
   {
    "duration": 8,
    "start_time": "2023-05-21T20:13:35.627Z"
   },
   {
    "duration": 24,
    "start_time": "2023-05-21T20:13:36.378Z"
   },
   {
    "duration": 10,
    "start_time": "2023-05-21T20:13:41.115Z"
   },
   {
    "duration": 65,
    "start_time": "2023-05-21T20:13:41.551Z"
   },
   {
    "duration": 9,
    "start_time": "2023-05-21T20:13:46.501Z"
   },
   {
    "duration": 114,
    "start_time": "2023-05-21T20:13:46.905Z"
   },
   {
    "duration": 15,
    "start_time": "2023-05-21T20:14:01.373Z"
   },
   {
    "duration": 8,
    "start_time": "2023-05-21T20:14:08.771Z"
   },
   {
    "duration": 1523,
    "start_time": "2023-05-22T12:24:55.903Z"
   },
   {
    "duration": 334,
    "start_time": "2023-05-22T12:24:57.428Z"
   },
   {
    "duration": 19,
    "start_time": "2023-05-22T12:24:58.196Z"
   },
   {
    "duration": 15,
    "start_time": "2023-05-22T12:24:58.823Z"
   },
   {
    "duration": 5,
    "start_time": "2023-05-22T12:25:19.308Z"
   },
   {
    "duration": 5,
    "start_time": "2023-05-22T12:25:25.651Z"
   },
   {
    "duration": 12,
    "start_time": "2023-05-22T12:25:26.214Z"
   },
   {
    "duration": 4,
    "start_time": "2023-05-22T12:25:28.850Z"
   },
   {
    "duration": 4,
    "start_time": "2023-05-22T12:25:29.282Z"
   },
   {
    "duration": 216,
    "start_time": "2023-05-22T12:26:04.098Z"
   },
   {
    "duration": 91,
    "start_time": "2023-05-22T12:26:18.194Z"
   },
   {
    "duration": 149,
    "start_time": "2023-05-22T12:29:20.639Z"
   },
   {
    "duration": 160,
    "start_time": "2023-05-22T12:44:48.587Z"
   },
   {
    "duration": 4,
    "start_time": "2023-05-22T13:48:40.561Z"
   },
   {
    "duration": 41,
    "start_time": "2023-05-22T13:48:40.567Z"
   },
   {
    "duration": 13,
    "start_time": "2023-05-22T13:48:40.610Z"
   },
   {
    "duration": 12,
    "start_time": "2023-05-22T13:48:40.624Z"
   },
   {
    "duration": 149,
    "start_time": "2023-05-22T13:48:40.638Z"
   },
   {
    "duration": 6,
    "start_time": "2023-05-22T13:48:40.789Z"
   },
   {
    "duration": 7,
    "start_time": "2023-05-22T13:48:40.798Z"
   },
   {
    "duration": 4,
    "start_time": "2023-05-22T13:48:40.807Z"
   },
   {
    "duration": 243,
    "start_time": "2023-05-22T13:48:40.812Z"
   },
   {
    "duration": 4,
    "start_time": "2023-05-22T13:54:29.341Z"
   },
   {
    "duration": 41,
    "start_time": "2023-05-22T13:54:29.347Z"
   },
   {
    "duration": 14,
    "start_time": "2023-05-22T13:54:29.389Z"
   },
   {
    "duration": 13,
    "start_time": "2023-05-22T13:54:29.404Z"
   },
   {
    "duration": 180,
    "start_time": "2023-05-22T13:54:29.420Z"
   },
   {
    "duration": 4,
    "start_time": "2023-05-22T13:54:29.602Z"
   },
   {
    "duration": 12,
    "start_time": "2023-05-22T13:54:29.607Z"
   },
   {
    "duration": 16,
    "start_time": "2023-05-22T13:54:29.620Z"
   },
   {
    "duration": 146,
    "start_time": "2023-05-22T13:54:29.638Z"
   },
   {
    "duration": 4,
    "start_time": "2023-05-22T13:54:29.785Z"
   },
   {
    "duration": 24,
    "start_time": "2023-05-22T13:54:29.790Z"
   },
   {
    "duration": 2,
    "start_time": "2023-05-22T13:54:29.815Z"
   },
   {
    "duration": 8,
    "start_time": "2023-05-22T13:54:29.819Z"
   },
   {
    "duration": 8,
    "start_time": "2023-05-22T13:54:29.830Z"
   },
   {
    "duration": 4,
    "start_time": "2023-05-22T13:54:29.839Z"
   },
   {
    "duration": 5,
    "start_time": "2023-05-22T13:54:29.845Z"
   },
   {
    "duration": 32,
    "start_time": "2023-05-22T13:54:29.852Z"
   },
   {
    "duration": 0,
    "start_time": "2023-05-22T13:54:29.886Z"
   },
   {
    "duration": 0,
    "start_time": "2023-05-22T13:54:29.888Z"
   },
   {
    "duration": 0,
    "start_time": "2023-05-22T13:54:29.889Z"
   },
   {
    "duration": 0,
    "start_time": "2023-05-22T13:54:29.891Z"
   },
   {
    "duration": 0,
    "start_time": "2023-05-22T13:54:29.892Z"
   },
   {
    "duration": 0,
    "start_time": "2023-05-22T13:54:29.894Z"
   },
   {
    "duration": 0,
    "start_time": "2023-05-22T13:54:29.895Z"
   },
   {
    "duration": 0,
    "start_time": "2023-05-22T13:54:29.896Z"
   },
   {
    "duration": 0,
    "start_time": "2023-05-22T13:54:29.897Z"
   },
   {
    "duration": 0,
    "start_time": "2023-05-22T13:54:29.898Z"
   },
   {
    "duration": 0,
    "start_time": "2023-05-22T13:54:29.899Z"
   },
   {
    "duration": 0,
    "start_time": "2023-05-22T13:54:29.900Z"
   },
   {
    "duration": 0,
    "start_time": "2023-05-22T13:54:29.901Z"
   },
   {
    "duration": 0,
    "start_time": "2023-05-22T13:54:29.902Z"
   },
   {
    "duration": 0,
    "start_time": "2023-05-22T13:54:29.903Z"
   },
   {
    "duration": 0,
    "start_time": "2023-05-22T13:54:29.904Z"
   },
   {
    "duration": 0,
    "start_time": "2023-05-22T13:54:29.904Z"
   },
   {
    "duration": 0,
    "start_time": "2023-05-22T13:54:29.905Z"
   },
   {
    "duration": 0,
    "start_time": "2023-05-22T13:54:29.906Z"
   },
   {
    "duration": 0,
    "start_time": "2023-05-22T13:54:29.907Z"
   },
   {
    "duration": 0,
    "start_time": "2023-05-22T13:54:29.908Z"
   },
   {
    "duration": 0,
    "start_time": "2023-05-22T13:54:29.910Z"
   },
   {
    "duration": 0,
    "start_time": "2023-05-22T13:54:29.910Z"
   },
   {
    "duration": 0,
    "start_time": "2023-05-22T13:54:29.911Z"
   },
   {
    "duration": 4,
    "start_time": "2023-05-22T14:13:18.873Z"
   },
   {
    "duration": 51,
    "start_time": "2023-05-22T14:13:18.880Z"
   },
   {
    "duration": 19,
    "start_time": "2023-05-22T14:13:18.933Z"
   },
   {
    "duration": 21,
    "start_time": "2023-05-22T14:13:18.954Z"
   },
   {
    "duration": 184,
    "start_time": "2023-05-22T14:13:18.978Z"
   },
   {
    "duration": 6,
    "start_time": "2023-05-22T14:13:19.164Z"
   },
   {
    "duration": 7,
    "start_time": "2023-05-22T14:13:19.171Z"
   },
   {
    "duration": 5,
    "start_time": "2023-05-22T14:13:19.180Z"
   },
   {
    "duration": 161,
    "start_time": "2023-05-22T14:13:19.186Z"
   },
   {
    "duration": 4,
    "start_time": "2023-05-22T14:13:19.349Z"
   },
   {
    "duration": 26,
    "start_time": "2023-05-22T14:13:19.355Z"
   },
   {
    "duration": 3,
    "start_time": "2023-05-22T14:13:19.383Z"
   },
   {
    "duration": 8,
    "start_time": "2023-05-22T14:13:19.387Z"
   },
   {
    "duration": 8,
    "start_time": "2023-05-22T14:13:19.397Z"
   },
   {
    "duration": 5,
    "start_time": "2023-05-22T14:13:19.406Z"
   },
   {
    "duration": 8,
    "start_time": "2023-05-22T14:13:19.413Z"
   },
   {
    "duration": 12,
    "start_time": "2023-05-22T14:13:19.423Z"
   },
   {
    "duration": 0,
    "start_time": "2023-05-22T14:13:19.437Z"
   },
   {
    "duration": 0,
    "start_time": "2023-05-22T14:13:19.475Z"
   },
   {
    "duration": 734,
    "start_time": "2023-05-22T14:14:58.880Z"
   },
   {
    "duration": 31,
    "start_time": "2023-05-22T14:15:03.224Z"
   },
   {
    "duration": 823,
    "start_time": "2023-05-22T14:15:03.624Z"
   },
   {
    "duration": 646,
    "start_time": "2023-05-22T14:15:16.808Z"
   },
   {
    "duration": 39,
    "start_time": "2023-05-22T14:15:17.509Z"
   },
   {
    "duration": 702,
    "start_time": "2023-05-22T14:15:18.208Z"
   },
   {
    "duration": 4,
    "start_time": "2023-05-22T14:16:28.205Z"
   },
   {
    "duration": 5,
    "start_time": "2023-05-22T14:17:04.792Z"
   },
   {
    "duration": 43,
    "start_time": "2023-05-22T14:17:04.800Z"
   },
   {
    "duration": 14,
    "start_time": "2023-05-22T14:17:04.845Z"
   },
   {
    "duration": 14,
    "start_time": "2023-05-22T14:17:04.861Z"
   },
   {
    "duration": 167,
    "start_time": "2023-05-22T14:17:04.877Z"
   },
   {
    "duration": 5,
    "start_time": "2023-05-22T14:17:05.046Z"
   },
   {
    "duration": 22,
    "start_time": "2023-05-22T14:17:05.052Z"
   },
   {
    "duration": 8,
    "start_time": "2023-05-22T14:17:05.076Z"
   },
   {
    "duration": 148,
    "start_time": "2023-05-22T14:17:05.086Z"
   },
   {
    "duration": 4,
    "start_time": "2023-05-22T14:17:05.235Z"
   },
   {
    "duration": 20,
    "start_time": "2023-05-22T14:17:05.241Z"
   },
   {
    "duration": 2,
    "start_time": "2023-05-22T14:17:05.263Z"
   },
   {
    "duration": 6,
    "start_time": "2023-05-22T14:17:05.275Z"
   },
   {
    "duration": 8,
    "start_time": "2023-05-22T14:17:05.282Z"
   },
   {
    "duration": 4,
    "start_time": "2023-05-22T14:17:05.291Z"
   },
   {
    "duration": 7,
    "start_time": "2023-05-22T14:17:05.296Z"
   },
   {
    "duration": 780,
    "start_time": "2023-05-22T14:17:05.305Z"
   },
   {
    "duration": 34,
    "start_time": "2023-05-22T14:17:06.088Z"
   },
   {
    "duration": 2,
    "start_time": "2023-05-22T14:17:13.929Z"
   },
   {
    "duration": 665,
    "start_time": "2023-05-22T14:17:15.591Z"
   },
   {
    "duration": 5,
    "start_time": "2023-05-22T14:17:41.633Z"
   },
   {
    "duration": 51,
    "start_time": "2023-05-22T14:17:41.640Z"
   },
   {
    "duration": 19,
    "start_time": "2023-05-22T14:17:41.693Z"
   },
   {
    "duration": 18,
    "start_time": "2023-05-22T14:17:41.714Z"
   },
   {
    "duration": 163,
    "start_time": "2023-05-22T14:17:41.735Z"
   },
   {
    "duration": 6,
    "start_time": "2023-05-22T14:17:41.900Z"
   },
   {
    "duration": 9,
    "start_time": "2023-05-22T14:17:41.907Z"
   },
   {
    "duration": 20,
    "start_time": "2023-05-22T14:17:41.917Z"
   },
   {
    "duration": 158,
    "start_time": "2023-05-22T14:17:41.939Z"
   },
   {
    "duration": 5,
    "start_time": "2023-05-22T14:17:42.098Z"
   },
   {
    "duration": 12,
    "start_time": "2023-05-22T14:17:42.104Z"
   },
   {
    "duration": 2,
    "start_time": "2023-05-22T14:17:42.118Z"
   },
   {
    "duration": 8,
    "start_time": "2023-05-22T14:17:42.121Z"
   },
   {
    "duration": 14,
    "start_time": "2023-05-22T14:17:42.131Z"
   },
   {
    "duration": 28,
    "start_time": "2023-05-22T14:17:42.147Z"
   },
   {
    "duration": 4,
    "start_time": "2023-05-22T14:17:42.177Z"
   },
   {
    "duration": 708,
    "start_time": "2023-05-22T14:17:42.183Z"
   },
   {
    "duration": 28,
    "start_time": "2023-05-22T14:17:42.894Z"
   },
   {
    "duration": 2,
    "start_time": "2023-05-22T14:17:42.925Z"
   },
   {
    "duration": 759,
    "start_time": "2023-05-22T14:17:42.929Z"
   },
   {
    "duration": 5,
    "start_time": "2023-05-22T14:17:43.690Z"
   },
   {
    "duration": 11,
    "start_time": "2023-05-22T14:17:43.697Z"
   },
   {
    "duration": 6,
    "start_time": "2023-05-22T14:17:43.709Z"
   },
   {
    "duration": 53,
    "start_time": "2023-05-22T14:17:51.929Z"
   },
   {
    "duration": 6,
    "start_time": "2023-05-22T14:18:09.557Z"
   },
   {
    "duration": 48,
    "start_time": "2023-05-22T14:18:09.564Z"
   },
   {
    "duration": 12,
    "start_time": "2023-05-22T14:18:09.615Z"
   },
   {
    "duration": 12,
    "start_time": "2023-05-22T14:18:09.630Z"
   },
   {
    "duration": 149,
    "start_time": "2023-05-22T14:18:09.644Z"
   },
   {
    "duration": 5,
    "start_time": "2023-05-22T14:18:09.796Z"
   },
   {
    "duration": 5,
    "start_time": "2023-05-22T14:18:09.803Z"
   },
   {
    "duration": 4,
    "start_time": "2023-05-22T14:18:09.809Z"
   },
   {
    "duration": 172,
    "start_time": "2023-05-22T14:18:09.816Z"
   },
   {
    "duration": 4,
    "start_time": "2023-05-22T14:18:09.990Z"
   },
   {
    "duration": 15,
    "start_time": "2023-05-22T14:18:09.995Z"
   },
   {
    "duration": 21,
    "start_time": "2023-05-22T14:18:10.011Z"
   },
   {
    "duration": 9,
    "start_time": "2023-05-22T14:18:10.034Z"
   },
   {
    "duration": 11,
    "start_time": "2023-05-22T14:18:10.045Z"
   },
   {
    "duration": 17,
    "start_time": "2023-05-22T14:18:10.058Z"
   },
   {
    "duration": 6,
    "start_time": "2023-05-22T14:18:10.077Z"
   },
   {
    "duration": 787,
    "start_time": "2023-05-22T14:18:10.085Z"
   },
   {
    "duration": 3,
    "start_time": "2023-05-22T14:18:10.873Z"
   },
   {
    "duration": 28,
    "start_time": "2023-05-22T14:18:10.877Z"
   },
   {
    "duration": 742,
    "start_time": "2023-05-22T14:18:10.907Z"
   },
   {
    "duration": 5,
    "start_time": "2023-05-22T14:18:11.650Z"
   },
   {
    "duration": 19,
    "start_time": "2023-05-22T14:18:11.657Z"
   },
   {
    "duration": 6,
    "start_time": "2023-05-22T14:18:11.677Z"
   },
   {
    "duration": 189,
    "start_time": "2023-05-22T14:18:11.686Z"
   },
   {
    "duration": 4,
    "start_time": "2023-05-22T17:35:56.809Z"
   },
   {
    "duration": 43,
    "start_time": "2023-05-22T17:35:56.815Z"
   },
   {
    "duration": 12,
    "start_time": "2023-05-22T17:35:56.860Z"
   },
   {
    "duration": 13,
    "start_time": "2023-05-22T17:35:56.874Z"
   },
   {
    "duration": 155,
    "start_time": "2023-05-22T17:35:56.889Z"
   },
   {
    "duration": 7,
    "start_time": "2023-05-22T17:35:57.046Z"
   },
   {
    "duration": 8,
    "start_time": "2023-05-22T17:35:57.054Z"
   },
   {
    "duration": 5,
    "start_time": "2023-05-22T17:35:57.075Z"
   },
   {
    "duration": 230,
    "start_time": "2023-05-22T17:35:57.081Z"
   },
   {
    "duration": 3,
    "start_time": "2023-05-22T17:35:57.313Z"
   },
   {
    "duration": 10,
    "start_time": "2023-05-22T17:35:57.318Z"
   },
   {
    "duration": 2,
    "start_time": "2023-05-22T17:35:57.330Z"
   },
   {
    "duration": 6,
    "start_time": "2023-05-22T17:35:57.334Z"
   },
   {
    "duration": 35,
    "start_time": "2023-05-22T17:35:57.344Z"
   },
   {
    "duration": 4,
    "start_time": "2023-05-22T17:35:57.381Z"
   },
   {
    "duration": 7,
    "start_time": "2023-05-22T17:35:57.387Z"
   },
   {
    "duration": 716,
    "start_time": "2023-05-22T17:35:57.395Z"
   },
   {
    "duration": 28,
    "start_time": "2023-05-22T17:35:58.113Z"
   },
   {
    "duration": 693,
    "start_time": "2023-05-22T17:35:58.143Z"
   },
   {
    "duration": 4,
    "start_time": "2023-05-22T17:35:58.838Z"
   },
   {
    "duration": 7,
    "start_time": "2023-05-22T17:35:58.844Z"
   },
   {
    "duration": 22,
    "start_time": "2023-05-22T17:35:58.853Z"
   },
   {
    "duration": 199,
    "start_time": "2023-05-22T17:35:58.877Z"
   },
   {
    "duration": 198,
    "start_time": "2023-05-22T17:35:59.078Z"
   },
   {
    "duration": 4,
    "start_time": "2023-05-22T17:35:59.277Z"
   },
   {
    "duration": 12,
    "start_time": "2023-05-22T17:35:59.282Z"
   },
   {
    "duration": 81,
    "start_time": "2023-05-22T17:35:59.295Z"
   },
   {
    "duration": 253,
    "start_time": "2023-05-22T17:35:59.379Z"
   },
   {
    "duration": 6,
    "start_time": "2023-05-22T17:35:59.634Z"
   },
   {
    "duration": 139,
    "start_time": "2023-05-22T17:35:59.642Z"
   },
   {
    "duration": 411,
    "start_time": "2023-05-22T17:35:59.783Z"
   },
   {
    "duration": 26,
    "start_time": "2023-05-22T17:36:00.196Z"
   },
   {
    "duration": 8,
    "start_time": "2023-05-22T17:36:00.224Z"
   },
   {
    "duration": 143,
    "start_time": "2023-05-22T17:36:00.234Z"
   },
   {
    "duration": 5354,
    "start_time": "2023-05-22T17:36:00.378Z"
   },
   {
    "duration": 56,
    "start_time": "2023-05-22T17:36:05.734Z"
   },
   {
    "duration": 11,
    "start_time": "2023-05-22T17:36:05.791Z"
   },
   {
    "duration": 136,
    "start_time": "2023-05-22T17:36:05.804Z"
   },
   {
    "duration": 11,
    "start_time": "2023-05-22T17:36:05.942Z"
   },
   {
    "duration": 4,
    "start_time": "2023-05-22T17:55:46.725Z"
   },
   {
    "duration": 46,
    "start_time": "2023-05-22T17:55:46.731Z"
   },
   {
    "duration": 22,
    "start_time": "2023-05-22T17:55:46.779Z"
   },
   {
    "duration": 13,
    "start_time": "2023-05-22T17:55:46.803Z"
   },
   {
    "duration": 256,
    "start_time": "2023-05-22T17:55:46.819Z"
   },
   {
    "duration": 7,
    "start_time": "2023-05-22T17:55:47.077Z"
   },
   {
    "duration": 7,
    "start_time": "2023-05-22T17:55:47.086Z"
   },
   {
    "duration": 7,
    "start_time": "2023-05-22T17:55:47.094Z"
   },
   {
    "duration": 182,
    "start_time": "2023-05-22T17:55:47.102Z"
   },
   {
    "duration": 4,
    "start_time": "2023-05-22T17:55:47.286Z"
   },
   {
    "duration": 12,
    "start_time": "2023-05-22T17:55:47.292Z"
   },
   {
    "duration": 3,
    "start_time": "2023-05-22T17:55:47.305Z"
   },
   {
    "duration": 6,
    "start_time": "2023-05-22T17:55:47.310Z"
   },
   {
    "duration": 7,
    "start_time": "2023-05-22T17:55:47.319Z"
   },
   {
    "duration": 4,
    "start_time": "2023-05-22T17:55:47.328Z"
   },
   {
    "duration": 43,
    "start_time": "2023-05-22T17:55:47.334Z"
   },
   {
    "duration": 743,
    "start_time": "2023-05-22T17:55:47.378Z"
   },
   {
    "duration": 752,
    "start_time": "2023-05-22T17:55:54.204Z"
   },
   {
    "duration": 4,
    "start_time": "2023-05-22T17:55:54.959Z"
   },
   {
    "duration": 42,
    "start_time": "2023-05-22T17:55:55.747Z"
   },
   {
    "duration": 3,
    "start_time": "2023-05-22T17:56:13.140Z"
   },
   {
    "duration": 37,
    "start_time": "2023-05-22T17:56:14.139Z"
   },
   {
    "duration": 3,
    "start_time": "2023-05-22T17:56:21.923Z"
   },
   {
    "duration": 23,
    "start_time": "2023-05-22T17:56:22.323Z"
   },
   {
    "duration": 6,
    "start_time": "2023-05-22T17:56:25.014Z"
   },
   {
    "duration": 25,
    "start_time": "2023-05-22T17:56:25.371Z"
   },
   {
    "duration": 4,
    "start_time": "2023-05-22T17:56:29.357Z"
   },
   {
    "duration": 43,
    "start_time": "2023-05-22T17:56:29.363Z"
   },
   {
    "duration": 16,
    "start_time": "2023-05-22T17:56:29.408Z"
   },
   {
    "duration": 18,
    "start_time": "2023-05-22T17:56:29.426Z"
   },
   {
    "duration": 183,
    "start_time": "2023-05-22T17:56:29.448Z"
   },
   {
    "duration": 5,
    "start_time": "2023-05-22T17:56:29.633Z"
   },
   {
    "duration": 5,
    "start_time": "2023-05-22T17:56:29.640Z"
   },
   {
    "duration": 28,
    "start_time": "2023-05-22T17:56:29.647Z"
   },
   {
    "duration": 263,
    "start_time": "2023-05-22T17:56:29.677Z"
   },
   {
    "duration": 4,
    "start_time": "2023-05-22T17:56:29.942Z"
   },
   {
    "duration": 30,
    "start_time": "2023-05-22T17:56:29.948Z"
   },
   {
    "duration": 3,
    "start_time": "2023-05-22T17:56:29.980Z"
   },
   {
    "duration": 7,
    "start_time": "2023-05-22T17:56:29.985Z"
   },
   {
    "duration": 10,
    "start_time": "2023-05-22T17:56:29.996Z"
   },
   {
    "duration": 26,
    "start_time": "2023-05-22T17:56:30.008Z"
   },
   {
    "duration": 16,
    "start_time": "2023-05-22T17:56:30.036Z"
   },
   {
    "duration": 725,
    "start_time": "2023-05-22T17:56:30.053Z"
   },
   {
    "duration": 7,
    "start_time": "2023-05-22T17:56:30.780Z"
   },
   {
    "duration": 89,
    "start_time": "2023-05-22T17:56:30.789Z"
   },
   {
    "duration": 27,
    "start_time": "2023-05-22T17:56:45.558Z"
   },
   {
    "duration": 668,
    "start_time": "2023-05-22T17:56:50.941Z"
   },
   {
    "duration": 57,
    "start_time": "2023-05-22T18:22:35.019Z"
   },
   {
    "duration": 30,
    "start_time": "2023-05-22T18:23:00.152Z"
   },
   {
    "duration": 4,
    "start_time": "2023-05-22T18:49:48.436Z"
   },
   {
    "duration": 51,
    "start_time": "2023-05-22T18:49:48.442Z"
   },
   {
    "duration": 12,
    "start_time": "2023-05-22T18:49:48.495Z"
   },
   {
    "duration": 13,
    "start_time": "2023-05-22T18:49:48.509Z"
   },
   {
    "duration": 177,
    "start_time": "2023-05-22T18:49:48.524Z"
   },
   {
    "duration": 4,
    "start_time": "2023-05-22T18:49:48.703Z"
   },
   {
    "duration": 7,
    "start_time": "2023-05-22T18:49:48.709Z"
   },
   {
    "duration": 6,
    "start_time": "2023-05-22T18:49:48.717Z"
   },
   {
    "duration": 165,
    "start_time": "2023-05-22T18:49:48.725Z"
   },
   {
    "duration": 4,
    "start_time": "2023-05-22T18:49:48.893Z"
   },
   {
    "duration": 10,
    "start_time": "2023-05-22T18:49:48.899Z"
   },
   {
    "duration": 2,
    "start_time": "2023-05-22T18:49:48.911Z"
   },
   {
    "duration": 6,
    "start_time": "2023-05-22T18:49:48.915Z"
   },
   {
    "duration": 7,
    "start_time": "2023-05-22T18:49:48.925Z"
   },
   {
    "duration": 4,
    "start_time": "2023-05-22T18:49:48.934Z"
   },
   {
    "duration": 7,
    "start_time": "2023-05-22T18:49:48.940Z"
   },
   {
    "duration": 683,
    "start_time": "2023-05-22T18:49:48.975Z"
   },
   {
    "duration": 3,
    "start_time": "2023-05-22T18:49:49.659Z"
   },
   {
    "duration": 39,
    "start_time": "2023-05-22T18:49:49.664Z"
   },
   {
    "duration": 732,
    "start_time": "2023-05-22T18:49:49.704Z"
   },
   {
    "duration": 5,
    "start_time": "2023-05-22T18:49:50.438Z"
   },
   {
    "duration": 21,
    "start_time": "2023-05-22T18:49:50.445Z"
   },
   {
    "duration": 23,
    "start_time": "2023-05-22T18:49:50.468Z"
   },
   {
    "duration": 103,
    "start_time": "2023-05-22T18:49:50.493Z"
   },
   {
    "duration": 181,
    "start_time": "2023-05-22T18:49:50.599Z"
   },
   {
    "duration": 8,
    "start_time": "2023-05-22T18:49:50.782Z"
   },
   {
    "duration": 113,
    "start_time": "2023-05-22T18:49:50.793Z"
   },
   {
    "duration": 71,
    "start_time": "2023-05-22T18:49:50.907Z"
   },
   {
    "duration": 256,
    "start_time": "2023-05-22T18:49:50.980Z"
   },
   {
    "duration": 7,
    "start_time": "2023-05-22T18:49:51.238Z"
   },
   {
    "duration": 141,
    "start_time": "2023-05-22T18:49:51.247Z"
   },
   {
    "duration": 401,
    "start_time": "2023-05-22T18:49:51.390Z"
   },
   {
    "duration": 24,
    "start_time": "2023-05-22T18:49:51.793Z"
   },
   {
    "duration": 7,
    "start_time": "2023-05-22T18:49:51.819Z"
   },
   {
    "duration": 140,
    "start_time": "2023-05-22T18:49:51.828Z"
   },
   {
    "duration": 5370,
    "start_time": "2023-05-22T18:49:51.970Z"
   },
   {
    "duration": 55,
    "start_time": "2023-05-22T18:49:57.341Z"
   },
   {
    "duration": 12,
    "start_time": "2023-05-22T18:49:57.398Z"
   },
   {
    "duration": 146,
    "start_time": "2023-05-22T18:49:57.412Z"
   },
   {
    "duration": 27,
    "start_time": "2023-05-22T18:49:57.560Z"
   },
   {
    "duration": 3,
    "start_time": "2023-05-22T18:58:09.346Z"
   },
   {
    "duration": 46,
    "start_time": "2023-05-22T18:58:09.351Z"
   },
   {
    "duration": 12,
    "start_time": "2023-05-22T18:58:09.399Z"
   },
   {
    "duration": 13,
    "start_time": "2023-05-22T18:58:09.413Z"
   },
   {
    "duration": 161,
    "start_time": "2023-05-22T18:58:09.428Z"
   },
   {
    "duration": 5,
    "start_time": "2023-05-22T18:58:09.591Z"
   },
   {
    "duration": 5,
    "start_time": "2023-05-22T18:58:09.598Z"
   },
   {
    "duration": 15,
    "start_time": "2023-05-22T18:58:09.604Z"
   },
   {
    "duration": 249,
    "start_time": "2023-05-22T18:58:09.620Z"
   },
   {
    "duration": 3,
    "start_time": "2023-05-22T18:58:09.876Z"
   },
   {
    "duration": 11,
    "start_time": "2023-05-22T18:58:09.881Z"
   },
   {
    "duration": 2,
    "start_time": "2023-05-22T18:58:09.894Z"
   },
   {
    "duration": 12,
    "start_time": "2023-05-22T18:58:09.898Z"
   },
   {
    "duration": 8,
    "start_time": "2023-05-22T18:58:09.912Z"
   },
   {
    "duration": 8,
    "start_time": "2023-05-22T18:58:09.921Z"
   },
   {
    "duration": 7,
    "start_time": "2023-05-22T18:58:09.930Z"
   },
   {
    "duration": 668,
    "start_time": "2023-05-22T18:58:09.938Z"
   },
   {
    "duration": 2,
    "start_time": "2023-05-22T18:58:10.608Z"
   },
   {
    "duration": 27,
    "start_time": "2023-05-22T18:58:10.612Z"
   },
   {
    "duration": 681,
    "start_time": "2023-05-22T18:58:10.641Z"
   },
   {
    "duration": 4,
    "start_time": "2023-05-22T18:58:11.324Z"
   },
   {
    "duration": 7,
    "start_time": "2023-05-22T18:58:11.329Z"
   },
   {
    "duration": 5,
    "start_time": "2023-05-22T18:58:11.338Z"
   },
   {
    "duration": 46,
    "start_time": "2023-05-22T18:58:11.345Z"
   },
   {
    "duration": 129,
    "start_time": "2023-05-22T18:58:11.477Z"
   },
   {
    "duration": 0,
    "start_time": "2023-05-22T18:58:11.608Z"
   },
   {
    "duration": 0,
    "start_time": "2023-05-22T18:58:11.609Z"
   },
   {
    "duration": 0,
    "start_time": "2023-05-22T18:58:11.610Z"
   },
   {
    "duration": 0,
    "start_time": "2023-05-22T18:58:11.611Z"
   },
   {
    "duration": 0,
    "start_time": "2023-05-22T18:58:11.612Z"
   },
   {
    "duration": 0,
    "start_time": "2023-05-22T18:58:11.613Z"
   },
   {
    "duration": 4,
    "start_time": "2023-05-22T18:58:55.507Z"
   },
   {
    "duration": 43,
    "start_time": "2023-05-22T18:58:55.513Z"
   },
   {
    "duration": 13,
    "start_time": "2023-05-22T18:58:55.558Z"
   },
   {
    "duration": 12,
    "start_time": "2023-05-22T18:58:55.573Z"
   },
   {
    "duration": 152,
    "start_time": "2023-05-22T18:58:55.587Z"
   },
   {
    "duration": 5,
    "start_time": "2023-05-22T18:58:55.741Z"
   },
   {
    "duration": 6,
    "start_time": "2023-05-22T18:58:55.747Z"
   },
   {
    "duration": 23,
    "start_time": "2023-05-22T18:58:55.754Z"
   },
   {
    "duration": 140,
    "start_time": "2023-05-22T18:58:55.779Z"
   },
   {
    "duration": 4,
    "start_time": "2023-05-22T18:58:55.921Z"
   },
   {
    "duration": 14,
    "start_time": "2023-05-22T18:58:55.926Z"
   },
   {
    "duration": 2,
    "start_time": "2023-05-22T18:58:55.942Z"
   },
   {
    "duration": 12,
    "start_time": "2023-05-22T18:58:55.945Z"
   },
   {
    "duration": 20,
    "start_time": "2023-05-22T18:58:55.959Z"
   },
   {
    "duration": 4,
    "start_time": "2023-05-22T18:58:55.980Z"
   },
   {
    "duration": 6,
    "start_time": "2023-05-22T18:58:55.985Z"
   },
   {
    "duration": 721,
    "start_time": "2023-05-22T18:58:55.993Z"
   },
   {
    "duration": 3,
    "start_time": "2023-05-22T18:58:56.716Z"
   },
   {
    "duration": 32,
    "start_time": "2023-05-22T18:58:56.721Z"
   },
   {
    "duration": 665,
    "start_time": "2023-05-22T18:58:56.754Z"
   },
   {
    "duration": 4,
    "start_time": "2023-05-22T18:58:57.421Z"
   },
   {
    "duration": 9,
    "start_time": "2023-05-22T18:58:57.426Z"
   },
   {
    "duration": 6,
    "start_time": "2023-05-22T18:58:57.436Z"
   },
   {
    "duration": 43,
    "start_time": "2023-05-22T18:58:57.443Z"
   },
   {
    "duration": 100,
    "start_time": "2023-05-22T18:58:57.577Z"
   },
   {
    "duration": 0,
    "start_time": "2023-05-22T18:58:57.680Z"
   },
   {
    "duration": 0,
    "start_time": "2023-05-22T18:58:57.681Z"
   },
   {
    "duration": 0,
    "start_time": "2023-05-22T18:58:57.683Z"
   },
   {
    "duration": 0,
    "start_time": "2023-05-22T18:58:57.684Z"
   },
   {
    "duration": 0,
    "start_time": "2023-05-22T18:58:57.686Z"
   },
   {
    "duration": 0,
    "start_time": "2023-05-22T18:58:57.687Z"
   },
   {
    "duration": 40,
    "start_time": "2023-05-22T18:59:05.935Z"
   },
   {
    "duration": 4,
    "start_time": "2023-05-22T18:59:07.723Z"
   },
   {
    "duration": 13,
    "start_time": "2023-05-22T18:59:08.221Z"
   },
   {
    "duration": 44,
    "start_time": "2023-05-22T18:59:08.736Z"
   },
   {
    "duration": 4,
    "start_time": "2023-05-22T18:59:15.317Z"
   },
   {
    "duration": 12,
    "start_time": "2023-05-22T18:59:17.567Z"
   },
   {
    "duration": 23,
    "start_time": "2023-05-22T18:59:17.936Z"
   },
   {
    "duration": 220,
    "start_time": "2023-05-22T18:59:41.005Z"
   },
   {
    "duration": 21,
    "start_time": "2023-05-22T19:00:09.757Z"
   },
   {
    "duration": 203,
    "start_time": "2023-05-22T19:00:10.813Z"
   },
   {
    "duration": 5,
    "start_time": "2023-05-22T19:01:08.115Z"
   },
   {
    "duration": 42,
    "start_time": "2023-05-22T19:01:08.123Z"
   },
   {
    "duration": 13,
    "start_time": "2023-05-22T19:01:08.167Z"
   },
   {
    "duration": 13,
    "start_time": "2023-05-22T19:01:08.181Z"
   },
   {
    "duration": 154,
    "start_time": "2023-05-22T19:01:08.196Z"
   },
   {
    "duration": 5,
    "start_time": "2023-05-22T19:01:08.352Z"
   },
   {
    "duration": 18,
    "start_time": "2023-05-22T19:01:08.359Z"
   },
   {
    "duration": 5,
    "start_time": "2023-05-22T19:01:08.378Z"
   },
   {
    "duration": 156,
    "start_time": "2023-05-22T19:01:08.384Z"
   },
   {
    "duration": 5,
    "start_time": "2023-05-22T19:01:08.541Z"
   },
   {
    "duration": 12,
    "start_time": "2023-05-22T19:01:08.547Z"
   },
   {
    "duration": 14,
    "start_time": "2023-05-22T19:01:08.561Z"
   },
   {
    "duration": 17,
    "start_time": "2023-05-22T19:01:08.577Z"
   },
   {
    "duration": 14,
    "start_time": "2023-05-22T19:01:08.596Z"
   },
   {
    "duration": 8,
    "start_time": "2023-05-22T19:01:08.612Z"
   },
   {
    "duration": 4,
    "start_time": "2023-05-22T19:01:08.622Z"
   },
   {
    "duration": 657,
    "start_time": "2023-05-22T19:01:08.627Z"
   },
   {
    "duration": 2,
    "start_time": "2023-05-22T19:01:09.286Z"
   },
   {
    "duration": 28,
    "start_time": "2023-05-22T19:01:09.290Z"
   },
   {
    "duration": 643,
    "start_time": "2023-05-22T19:01:09.319Z"
   },
   {
    "duration": 4,
    "start_time": "2023-05-22T19:01:09.964Z"
   },
   {
    "duration": 22,
    "start_time": "2023-05-22T19:01:09.974Z"
   },
   {
    "duration": 28,
    "start_time": "2023-05-22T19:01:09.997Z"
   },
   {
    "duration": 56,
    "start_time": "2023-05-22T19:01:10.027Z"
   },
   {
    "duration": 195,
    "start_time": "2023-05-22T19:01:10.085Z"
   },
   {
    "duration": 94,
    "start_time": "2023-05-22T19:01:10.282Z"
   },
   {
    "duration": 13,
    "start_time": "2023-05-22T19:01:10.378Z"
   },
   {
    "duration": 86,
    "start_time": "2023-05-22T19:01:10.393Z"
   },
   {
    "duration": 94,
    "start_time": "2023-05-22T19:01:10.482Z"
   },
   {
    "duration": 19,
    "start_time": "2023-05-22T19:01:10.578Z"
   },
   {
    "duration": 3,
    "start_time": "2023-05-22T19:01:10.598Z"
   },
   {
    "duration": 229,
    "start_time": "2023-05-22T19:01:10.602Z"
   },
   {
    "duration": 4,
    "start_time": "2023-05-22T19:01:23.627Z"
   },
   {
    "duration": 57,
    "start_time": "2023-05-22T19:01:23.633Z"
   },
   {
    "duration": 13,
    "start_time": "2023-05-22T19:01:23.692Z"
   },
   {
    "duration": 15,
    "start_time": "2023-05-22T19:01:23.706Z"
   },
   {
    "duration": 258,
    "start_time": "2023-05-22T19:01:23.723Z"
   },
   {
    "duration": 6,
    "start_time": "2023-05-22T19:01:23.983Z"
   },
   {
    "duration": 7,
    "start_time": "2023-05-22T19:01:23.991Z"
   },
   {
    "duration": 5,
    "start_time": "2023-05-22T19:01:24.000Z"
   },
   {
    "duration": 198,
    "start_time": "2023-05-22T19:01:24.007Z"
   },
   {
    "duration": 4,
    "start_time": "2023-05-22T19:01:24.206Z"
   },
   {
    "duration": 11,
    "start_time": "2023-05-22T19:01:24.212Z"
   },
   {
    "duration": 2,
    "start_time": "2023-05-22T19:01:24.224Z"
   },
   {
    "duration": 7,
    "start_time": "2023-05-22T19:01:24.227Z"
   },
   {
    "duration": 7,
    "start_time": "2023-05-22T19:01:24.236Z"
   },
   {
    "duration": 4,
    "start_time": "2023-05-22T19:01:24.245Z"
   },
   {
    "duration": 28,
    "start_time": "2023-05-22T19:01:24.250Z"
   },
   {
    "duration": 676,
    "start_time": "2023-05-22T19:01:24.280Z"
   },
   {
    "duration": 3,
    "start_time": "2023-05-22T19:01:24.957Z"
   },
   {
    "duration": 31,
    "start_time": "2023-05-22T19:01:24.962Z"
   },
   {
    "duration": 641,
    "start_time": "2023-05-22T19:01:24.994Z"
   },
   {
    "duration": 4,
    "start_time": "2023-05-22T19:01:25.637Z"
   },
   {
    "duration": 6,
    "start_time": "2023-05-22T19:01:25.642Z"
   },
   {
    "duration": 11,
    "start_time": "2023-05-22T19:01:25.650Z"
   },
   {
    "duration": 37,
    "start_time": "2023-05-22T19:01:25.662Z"
   },
   {
    "duration": 202,
    "start_time": "2023-05-22T19:01:25.777Z"
   },
   {
    "duration": 97,
    "start_time": "2023-05-22T19:01:25.982Z"
   },
   {
    "duration": 16,
    "start_time": "2023-05-22T19:01:26.081Z"
   },
   {
    "duration": 81,
    "start_time": "2023-05-22T19:01:26.099Z"
   },
   {
    "duration": 94,
    "start_time": "2023-05-22T19:01:26.182Z"
   },
   {
    "duration": 12,
    "start_time": "2023-05-22T19:01:26.278Z"
   },
   {
    "duration": 85,
    "start_time": "2023-05-22T19:01:26.292Z"
   },
   {
    "duration": 339,
    "start_time": "2023-05-22T19:01:26.380Z"
   },
   {
    "duration": 240,
    "start_time": "2023-05-22T19:01:34.189Z"
   },
   {
    "duration": 6,
    "start_time": "2023-05-22T19:01:35.621Z"
   },
   {
    "duration": 119,
    "start_time": "2023-05-22T19:01:36.433Z"
   },
   {
    "duration": 5,
    "start_time": "2023-05-22T19:02:55.940Z"
   },
   {
    "duration": 59,
    "start_time": "2023-05-22T19:02:55.946Z"
   },
   {
    "duration": 13,
    "start_time": "2023-05-22T19:02:56.006Z"
   },
   {
    "duration": 21,
    "start_time": "2023-05-22T19:02:56.021Z"
   },
   {
    "duration": 155,
    "start_time": "2023-05-22T19:02:56.043Z"
   },
   {
    "duration": 4,
    "start_time": "2023-05-22T19:02:56.200Z"
   },
   {
    "duration": 20,
    "start_time": "2023-05-22T19:02:56.206Z"
   },
   {
    "duration": 6,
    "start_time": "2023-05-22T19:02:56.228Z"
   },
   {
    "duration": 164,
    "start_time": "2023-05-22T19:02:56.236Z"
   },
   {
    "duration": 4,
    "start_time": "2023-05-22T19:02:56.404Z"
   },
   {
    "duration": 15,
    "start_time": "2023-05-22T19:02:56.410Z"
   },
   {
    "duration": 3,
    "start_time": "2023-05-22T19:02:56.427Z"
   },
   {
    "duration": 10,
    "start_time": "2023-05-22T19:02:56.432Z"
   },
   {
    "duration": 7,
    "start_time": "2023-05-22T19:02:56.444Z"
   },
   {
    "duration": 24,
    "start_time": "2023-05-22T19:02:56.453Z"
   },
   {
    "duration": 8,
    "start_time": "2023-05-22T19:02:56.478Z"
   },
   {
    "duration": 659,
    "start_time": "2023-05-22T19:02:56.488Z"
   },
   {
    "duration": 3,
    "start_time": "2023-05-22T19:02:57.148Z"
   },
   {
    "duration": 38,
    "start_time": "2023-05-22T19:02:57.152Z"
   },
   {
    "duration": 705,
    "start_time": "2023-05-22T19:02:57.192Z"
   },
   {
    "duration": 5,
    "start_time": "2023-05-22T19:02:57.900Z"
   },
   {
    "duration": 23,
    "start_time": "2023-05-22T19:02:57.907Z"
   },
   {
    "duration": 7,
    "start_time": "2023-05-22T19:02:57.932Z"
   },
   {
    "duration": 141,
    "start_time": "2023-05-22T19:02:57.940Z"
   },
   {
    "duration": 100,
    "start_time": "2023-05-22T19:02:58.084Z"
   },
   {
    "duration": 90,
    "start_time": "2023-05-22T19:02:58.186Z"
   },
   {
    "duration": 16,
    "start_time": "2023-05-22T19:02:58.278Z"
   },
   {
    "duration": 83,
    "start_time": "2023-05-22T19:02:58.298Z"
   },
   {
    "duration": 92,
    "start_time": "2023-05-22T19:02:58.384Z"
   },
   {
    "duration": 10,
    "start_time": "2023-05-22T19:02:58.478Z"
   },
   {
    "duration": 89,
    "start_time": "2023-05-22T19:02:58.490Z"
   },
   {
    "duration": 347,
    "start_time": "2023-05-22T19:02:58.581Z"
   },
   {
    "duration": 7,
    "start_time": "2023-05-22T19:02:58.929Z"
   },
   {
    "duration": 140,
    "start_time": "2023-05-22T19:02:58.937Z"
   },
   {
    "duration": 394,
    "start_time": "2023-05-22T19:03:01.305Z"
   },
   {
    "duration": 432,
    "start_time": "2023-05-22T19:03:23.013Z"
   },
   {
    "duration": 4,
    "start_time": "2023-05-22T19:03:32.875Z"
   },
   {
    "duration": 53,
    "start_time": "2023-05-22T19:03:32.881Z"
   },
   {
    "duration": 13,
    "start_time": "2023-05-22T19:03:32.936Z"
   },
   {
    "duration": 13,
    "start_time": "2023-05-22T19:03:32.951Z"
   },
   {
    "duration": 147,
    "start_time": "2023-05-22T19:03:32.966Z"
   },
   {
    "duration": 4,
    "start_time": "2023-05-22T19:03:33.115Z"
   },
   {
    "duration": 6,
    "start_time": "2023-05-22T19:03:33.121Z"
   },
   {
    "duration": 13,
    "start_time": "2023-05-22T19:03:33.128Z"
   },
   {
    "duration": 254,
    "start_time": "2023-05-22T19:03:33.143Z"
   },
   {
    "duration": 5,
    "start_time": "2023-05-22T19:03:33.399Z"
   },
   {
    "duration": 10,
    "start_time": "2023-05-22T19:03:33.407Z"
   },
   {
    "duration": 3,
    "start_time": "2023-05-22T19:03:33.419Z"
   },
   {
    "duration": 22,
    "start_time": "2023-05-22T19:03:33.423Z"
   },
   {
    "duration": 9,
    "start_time": "2023-05-22T19:03:33.446Z"
   },
   {
    "duration": 5,
    "start_time": "2023-05-22T19:03:33.474Z"
   },
   {
    "duration": 4,
    "start_time": "2023-05-22T19:03:33.481Z"
   },
   {
    "duration": 777,
    "start_time": "2023-05-22T19:03:33.487Z"
   },
   {
    "duration": 11,
    "start_time": "2023-05-22T19:03:34.266Z"
   },
   {
    "duration": 29,
    "start_time": "2023-05-22T19:03:34.279Z"
   },
   {
    "duration": 690,
    "start_time": "2023-05-22T19:03:34.309Z"
   },
   {
    "duration": 6,
    "start_time": "2023-05-22T19:03:35.001Z"
   },
   {
    "duration": 8,
    "start_time": "2023-05-22T19:03:35.008Z"
   },
   {
    "duration": 7,
    "start_time": "2023-05-22T19:03:35.017Z"
   },
   {
    "duration": 55,
    "start_time": "2023-05-22T19:03:35.025Z"
   },
   {
    "duration": 290,
    "start_time": "2023-05-22T19:03:35.085Z"
   },
   {
    "duration": 4,
    "start_time": "2023-05-22T19:03:35.377Z"
   },
   {
    "duration": 14,
    "start_time": "2023-05-22T19:03:35.382Z"
   },
   {
    "duration": 177,
    "start_time": "2023-05-22T19:03:35.398Z"
   },
   {
    "duration": 5,
    "start_time": "2023-05-22T19:03:35.578Z"
   },
   {
    "duration": 12,
    "start_time": "2023-05-22T19:03:35.584Z"
   },
   {
    "duration": 80,
    "start_time": "2023-05-22T19:03:35.597Z"
   },
   {
    "duration": 338,
    "start_time": "2023-05-22T19:03:35.680Z"
   },
   {
    "duration": 6,
    "start_time": "2023-05-22T19:03:36.020Z"
   },
   {
    "duration": 137,
    "start_time": "2023-05-22T19:03:36.027Z"
   },
   {
    "duration": 406,
    "start_time": "2023-05-22T19:03:36.165Z"
   },
   {
    "duration": 28,
    "start_time": "2023-05-22T19:03:36.574Z"
   },
   {
    "duration": 8,
    "start_time": "2023-05-22T19:03:36.604Z"
   },
   {
    "duration": 134,
    "start_time": "2023-05-22T19:03:36.614Z"
   },
   {
    "duration": 5070,
    "start_time": "2023-05-22T19:03:36.750Z"
   },
   {
    "duration": 44,
    "start_time": "2023-05-22T19:03:41.821Z"
   },
   {
    "duration": 15,
    "start_time": "2023-05-22T19:03:41.867Z"
   },
   {
    "duration": 143,
    "start_time": "2023-05-22T19:03:41.884Z"
   },
   {
    "duration": 12,
    "start_time": "2023-05-22T19:03:42.028Z"
   },
   {
    "duration": 54,
    "start_time": "2023-05-24T07:53:30.292Z"
   },
   {
    "duration": 4,
    "start_time": "2023-05-24T16:54:10.275Z"
   },
   {
    "duration": 43,
    "start_time": "2023-05-24T16:54:10.281Z"
   },
   {
    "duration": 13,
    "start_time": "2023-05-24T16:54:10.326Z"
   },
   {
    "duration": 17,
    "start_time": "2023-05-24T16:54:10.342Z"
   },
   {
    "duration": 159,
    "start_time": "2023-05-24T16:54:10.360Z"
   },
   {
    "duration": 2,
    "start_time": "2023-05-24T16:54:10.521Z"
   },
   {
    "duration": 18,
    "start_time": "2023-05-24T16:54:15.131Z"
   },
   {
    "duration": 4,
    "start_time": "2023-05-24T16:54:45.235Z"
   },
   {
    "duration": 6,
    "start_time": "2023-05-24T16:54:58.248Z"
   },
   {
    "duration": 7,
    "start_time": "2023-05-24T16:55:04.575Z"
   },
   {
    "duration": 5,
    "start_time": "2023-05-24T16:56:23.876Z"
   },
   {
    "duration": 6,
    "start_time": "2023-05-24T16:56:25.029Z"
   },
   {
    "duration": 140,
    "start_time": "2023-05-24T16:56:25.675Z"
   },
   {
    "duration": 4,
    "start_time": "2023-05-24T17:10:31.057Z"
   },
   {
    "duration": 4,
    "start_time": "2023-05-24T17:26:09.172Z"
   },
   {
    "duration": 46,
    "start_time": "2023-05-24T17:26:09.181Z"
   },
   {
    "duration": 12,
    "start_time": "2023-05-24T17:26:09.229Z"
   },
   {
    "duration": 37,
    "start_time": "2023-05-24T17:26:09.243Z"
   },
   {
    "duration": 145,
    "start_time": "2023-05-24T17:26:09.282Z"
   },
   {
    "duration": 2,
    "start_time": "2023-05-24T17:26:09.429Z"
   },
   {
    "duration": 7,
    "start_time": "2023-05-24T17:26:09.433Z"
   },
   {
    "duration": 16,
    "start_time": "2023-05-24T17:26:09.441Z"
   },
   {
    "duration": 19,
    "start_time": "2023-05-24T17:26:09.459Z"
   },
   {
    "duration": 149,
    "start_time": "2023-05-24T17:26:09.479Z"
   },
   {
    "duration": 5,
    "start_time": "2023-05-24T17:26:09.630Z"
   },
   {
    "duration": 30,
    "start_time": "2023-05-24T17:26:12.282Z"
   },
   {
    "duration": 4,
    "start_time": "2023-05-24T17:26:51.181Z"
   },
   {
    "duration": 43,
    "start_time": "2023-05-24T17:26:51.187Z"
   },
   {
    "duration": 11,
    "start_time": "2023-05-24T17:26:51.232Z"
   },
   {
    "duration": 13,
    "start_time": "2023-05-24T17:26:51.245Z"
   },
   {
    "duration": 150,
    "start_time": "2023-05-24T17:26:51.259Z"
   },
   {
    "duration": 2,
    "start_time": "2023-05-24T17:26:51.411Z"
   },
   {
    "duration": 7,
    "start_time": "2023-05-24T17:26:51.415Z"
   },
   {
    "duration": 4,
    "start_time": "2023-05-24T17:26:51.424Z"
   },
   {
    "duration": 6,
    "start_time": "2023-05-24T17:26:51.430Z"
   },
   {
    "duration": 263,
    "start_time": "2023-05-24T17:26:51.437Z"
   },
   {
    "duration": 5,
    "start_time": "2023-05-24T17:26:51.702Z"
   },
   {
    "duration": 31,
    "start_time": "2023-05-24T17:26:55.041Z"
   },
   {
    "duration": 9,
    "start_time": "2023-05-24T17:26:55.674Z"
   },
   {
    "duration": 16,
    "start_time": "2023-05-24T17:28:29.312Z"
   },
   {
    "duration": 375,
    "start_time": "2023-05-24T17:29:12.967Z"
   },
   {
    "duration": 13,
    "start_time": "2023-05-24T17:29:28.906Z"
   },
   {
    "duration": 13,
    "start_time": "2023-05-24T17:29:46.139Z"
   },
   {
    "duration": 4,
    "start_time": "2023-05-24T17:29:51.665Z"
   },
   {
    "duration": 67,
    "start_time": "2023-05-24T17:29:51.671Z"
   },
   {
    "duration": 13,
    "start_time": "2023-05-24T17:29:51.739Z"
   },
   {
    "duration": 28,
    "start_time": "2023-05-24T17:29:51.754Z"
   },
   {
    "duration": 163,
    "start_time": "2023-05-24T17:29:51.784Z"
   },
   {
    "duration": 2,
    "start_time": "2023-05-24T17:29:51.949Z"
   },
   {
    "duration": 22,
    "start_time": "2023-05-24T17:29:51.953Z"
   },
   {
    "duration": 23,
    "start_time": "2023-05-24T17:29:51.977Z"
   },
   {
    "duration": 5,
    "start_time": "2023-05-24T17:29:52.003Z"
   },
   {
    "duration": 165,
    "start_time": "2023-05-24T17:29:52.010Z"
   },
   {
    "duration": 4,
    "start_time": "2023-05-24T17:29:52.177Z"
   },
   {
    "duration": 20,
    "start_time": "2023-05-24T17:29:56.024Z"
   },
   {
    "duration": 4,
    "start_time": "2023-05-24T17:30:11.202Z"
   },
   {
    "duration": 47,
    "start_time": "2023-05-24T17:30:11.208Z"
   },
   {
    "duration": 12,
    "start_time": "2023-05-24T17:30:11.257Z"
   },
   {
    "duration": 19,
    "start_time": "2023-05-24T17:30:11.271Z"
   },
   {
    "duration": 155,
    "start_time": "2023-05-24T17:30:11.291Z"
   },
   {
    "duration": 2,
    "start_time": "2023-05-24T17:30:11.448Z"
   },
   {
    "duration": 12,
    "start_time": "2023-05-24T17:30:11.452Z"
   },
   {
    "duration": 4,
    "start_time": "2023-05-24T17:30:11.475Z"
   },
   {
    "duration": 14,
    "start_time": "2023-05-24T17:30:11.481Z"
   },
   {
    "duration": 144,
    "start_time": "2023-05-24T17:30:11.498Z"
   },
   {
    "duration": 4,
    "start_time": "2023-05-24T17:30:11.644Z"
   },
   {
    "duration": 411,
    "start_time": "2023-05-24T17:30:13.708Z"
   },
   {
    "duration": 4,
    "start_time": "2023-05-24T17:30:35.479Z"
   },
   {
    "duration": 55,
    "start_time": "2023-05-24T17:30:35.487Z"
   },
   {
    "duration": 13,
    "start_time": "2023-05-24T17:30:35.544Z"
   },
   {
    "duration": 21,
    "start_time": "2023-05-24T17:30:35.559Z"
   },
   {
    "duration": 151,
    "start_time": "2023-05-24T17:30:35.583Z"
   },
   {
    "duration": 3,
    "start_time": "2023-05-24T17:30:35.736Z"
   },
   {
    "duration": 7,
    "start_time": "2023-05-24T17:30:35.741Z"
   },
   {
    "duration": 26,
    "start_time": "2023-05-24T17:30:35.750Z"
   },
   {
    "duration": 5,
    "start_time": "2023-05-24T17:30:35.778Z"
   },
   {
    "duration": 156,
    "start_time": "2023-05-24T17:30:35.785Z"
   },
   {
    "duration": 5,
    "start_time": "2023-05-24T17:30:35.944Z"
   },
   {
    "duration": 27,
    "start_time": "2023-05-24T17:30:38.214Z"
   },
   {
    "duration": 20,
    "start_time": "2023-05-24T17:31:10.794Z"
   },
   {
    "duration": 27,
    "start_time": "2023-05-25T09:47:01.128Z"
   },
   {
    "duration": 5,
    "start_time": "2023-05-25T09:47:13.661Z"
   },
   {
    "duration": 192,
    "start_time": "2023-05-25T09:47:13.668Z"
   },
   {
    "duration": 17,
    "start_time": "2023-05-25T09:47:13.862Z"
   },
   {
    "duration": 16,
    "start_time": "2023-05-25T09:47:13.882Z"
   },
   {
    "duration": 214,
    "start_time": "2023-05-25T09:47:13.900Z"
   },
   {
    "duration": 3,
    "start_time": "2023-05-25T09:47:14.116Z"
   },
   {
    "duration": 10,
    "start_time": "2023-05-25T09:47:14.121Z"
   },
   {
    "duration": 8,
    "start_time": "2023-05-25T09:47:14.133Z"
   },
   {
    "duration": 12,
    "start_time": "2023-05-25T09:47:14.144Z"
   },
   {
    "duration": 192,
    "start_time": "2023-05-25T09:47:14.178Z"
   },
   {
    "duration": 6,
    "start_time": "2023-05-25T09:47:14.376Z"
   },
   {
    "duration": 5,
    "start_time": "2023-05-25T09:47:14.383Z"
   },
   {
    "duration": 3,
    "start_time": "2023-05-25T09:47:19.230Z"
   },
   {
    "duration": 18,
    "start_time": "2023-05-25T09:47:20.088Z"
   },
   {
    "duration": 14,
    "start_time": "2023-05-25T09:47:25.940Z"
   },
   {
    "duration": 26,
    "start_time": "2023-05-25T09:48:25.011Z"
   },
   {
    "duration": 21,
    "start_time": "2023-05-25T09:49:14.350Z"
   },
   {
    "duration": 4,
    "start_time": "2023-05-25T09:50:07.803Z"
   },
   {
    "duration": 48,
    "start_time": "2023-05-25T09:50:07.810Z"
   },
   {
    "duration": 24,
    "start_time": "2023-05-25T09:50:07.860Z"
   },
   {
    "duration": 20,
    "start_time": "2023-05-25T09:50:07.887Z"
   },
   {
    "duration": 154,
    "start_time": "2023-05-25T09:50:07.909Z"
   },
   {
    "duration": 13,
    "start_time": "2023-05-25T09:50:08.064Z"
   },
   {
    "duration": 12,
    "start_time": "2023-05-25T09:50:08.080Z"
   },
   {
    "duration": 8,
    "start_time": "2023-05-25T09:50:08.094Z"
   },
   {
    "duration": 16,
    "start_time": "2023-05-25T09:50:08.104Z"
   },
   {
    "duration": 164,
    "start_time": "2023-05-25T09:50:08.122Z"
   },
   {
    "duration": 6,
    "start_time": "2023-05-25T09:50:08.288Z"
   },
   {
    "duration": 21,
    "start_time": "2023-05-25T09:50:08.296Z"
   },
   {
    "duration": 36,
    "start_time": "2023-05-25T09:50:08.319Z"
   },
   {
    "duration": 0,
    "start_time": "2023-05-25T09:50:08.357Z"
   },
   {
    "duration": 5,
    "start_time": "2023-05-25T09:51:05.710Z"
   },
   {
    "duration": 64,
    "start_time": "2023-05-25T09:51:05.716Z"
   },
   {
    "duration": 17,
    "start_time": "2023-05-25T09:51:05.783Z"
   },
   {
    "duration": 34,
    "start_time": "2023-05-25T09:51:05.803Z"
   },
   {
    "duration": 308,
    "start_time": "2023-05-25T09:51:05.838Z"
   },
   {
    "duration": 3,
    "start_time": "2023-05-25T09:51:06.147Z"
   },
   {
    "duration": 34,
    "start_time": "2023-05-25T09:51:06.151Z"
   },
   {
    "duration": 9,
    "start_time": "2023-05-25T09:51:06.187Z"
   },
   {
    "duration": 30,
    "start_time": "2023-05-25T09:51:06.198Z"
   },
   {
    "duration": 188,
    "start_time": "2023-05-25T09:51:06.231Z"
   },
   {
    "duration": 4,
    "start_time": "2023-05-25T09:51:06.421Z"
   },
   {
    "duration": 6,
    "start_time": "2023-05-25T09:51:06.427Z"
   },
   {
    "duration": 34,
    "start_time": "2023-05-25T09:51:06.435Z"
   },
   {
    "duration": 21,
    "start_time": "2023-05-25T09:51:08.540Z"
   },
   {
    "duration": 15,
    "start_time": "2023-05-25T09:51:15.157Z"
   },
   {
    "duration": 5,
    "start_time": "2023-05-25T09:51:26.809Z"
   },
   {
    "duration": 45,
    "start_time": "2023-05-25T09:51:26.815Z"
   },
   {
    "duration": 12,
    "start_time": "2023-05-25T09:51:26.861Z"
   },
   {
    "duration": 21,
    "start_time": "2023-05-25T09:51:26.876Z"
   },
   {
    "duration": 160,
    "start_time": "2023-05-25T09:51:26.899Z"
   },
   {
    "duration": 2,
    "start_time": "2023-05-25T09:51:27.061Z"
   },
   {
    "duration": 32,
    "start_time": "2023-05-25T09:51:27.065Z"
   },
   {
    "duration": 7,
    "start_time": "2023-05-25T09:51:27.100Z"
   },
   {
    "duration": 5,
    "start_time": "2023-05-25T09:51:27.108Z"
   },
   {
    "duration": 143,
    "start_time": "2023-05-25T09:51:27.116Z"
   },
   {
    "duration": 4,
    "start_time": "2023-05-25T09:51:27.260Z"
   },
   {
    "duration": 24,
    "start_time": "2023-05-25T09:51:27.266Z"
   },
   {
    "duration": 14,
    "start_time": "2023-05-25T09:51:27.292Z"
   },
   {
    "duration": 17,
    "start_time": "2023-05-25T09:51:27.307Z"
   },
   {
    "duration": 16,
    "start_time": "2023-05-25T09:51:27.326Z"
   },
   {
    "duration": 16,
    "start_time": "2023-05-25T09:55:23.622Z"
   },
   {
    "duration": 26,
    "start_time": "2023-05-25T09:55:24.430Z"
   },
   {
    "duration": 19,
    "start_time": "2023-05-25T09:55:25.310Z"
   },
   {
    "duration": 6,
    "start_time": "2023-05-25T10:00:59.511Z"
   },
   {
    "duration": 52,
    "start_time": "2023-05-25T10:00:59.519Z"
   },
   {
    "duration": 17,
    "start_time": "2023-05-25T10:00:59.574Z"
   },
   {
    "duration": 19,
    "start_time": "2023-05-25T10:00:59.594Z"
   },
   {
    "duration": 233,
    "start_time": "2023-05-25T10:00:59.615Z"
   },
   {
    "duration": 3,
    "start_time": "2023-05-25T10:00:59.850Z"
   },
   {
    "duration": 22,
    "start_time": "2023-05-25T10:00:59.855Z"
   },
   {
    "duration": 6,
    "start_time": "2023-05-25T10:00:59.879Z"
   },
   {
    "duration": 5,
    "start_time": "2023-05-25T10:00:59.888Z"
   },
   {
    "duration": 177,
    "start_time": "2023-05-25T10:00:59.895Z"
   },
   {
    "duration": 5,
    "start_time": "2023-05-25T10:01:00.075Z"
   },
   {
    "duration": 28,
    "start_time": "2023-05-25T10:01:00.082Z"
   },
   {
    "duration": 3,
    "start_time": "2023-05-25T10:01:01.491Z"
   },
   {
    "duration": 392,
    "start_time": "2023-05-25T10:01:02.050Z"
   },
   {
    "duration": 22,
    "start_time": "2023-05-25T10:01:12.266Z"
   },
   {
    "duration": 20,
    "start_time": "2023-05-25T10:01:23.906Z"
   },
   {
    "duration": 4,
    "start_time": "2023-05-25T10:02:21.139Z"
   },
   {
    "duration": 82,
    "start_time": "2023-05-25T10:02:21.145Z"
   },
   {
    "duration": 13,
    "start_time": "2023-05-25T10:02:21.229Z"
   },
   {
    "duration": 24,
    "start_time": "2023-05-25T10:02:21.245Z"
   },
   {
    "duration": 163,
    "start_time": "2023-05-25T10:02:21.271Z"
   },
   {
    "duration": 3,
    "start_time": "2023-05-25T10:02:21.436Z"
   },
   {
    "duration": 21,
    "start_time": "2023-05-25T10:02:21.441Z"
   },
   {
    "duration": 14,
    "start_time": "2023-05-25T10:02:21.463Z"
   },
   {
    "duration": 5,
    "start_time": "2023-05-25T10:02:21.480Z"
   },
   {
    "duration": 175,
    "start_time": "2023-05-25T10:02:21.486Z"
   },
   {
    "duration": 4,
    "start_time": "2023-05-25T10:02:21.662Z"
   },
   {
    "duration": 5,
    "start_time": "2023-05-25T10:02:21.668Z"
   },
   {
    "duration": 3,
    "start_time": "2023-05-25T10:02:26.053Z"
   },
   {
    "duration": 20,
    "start_time": "2023-05-25T10:02:27.462Z"
   },
   {
    "duration": 37,
    "start_time": "2023-05-25T10:02:49.878Z"
   },
   {
    "duration": 24,
    "start_time": "2023-05-25T10:03:17.377Z"
   },
   {
    "duration": 21,
    "start_time": "2023-05-25T10:05:13.436Z"
   },
   {
    "duration": 5,
    "start_time": "2023-05-25T10:06:43.226Z"
   },
   {
    "duration": 51,
    "start_time": "2023-05-25T10:06:43.234Z"
   },
   {
    "duration": 17,
    "start_time": "2023-05-25T10:06:43.287Z"
   },
   {
    "duration": 13,
    "start_time": "2023-05-25T10:06:43.307Z"
   },
   {
    "duration": 216,
    "start_time": "2023-05-25T10:06:43.322Z"
   },
   {
    "duration": 2,
    "start_time": "2023-05-25T10:06:43.541Z"
   },
   {
    "duration": 51,
    "start_time": "2023-05-25T10:06:43.545Z"
   },
   {
    "duration": 6,
    "start_time": "2023-05-25T10:06:43.598Z"
   },
   {
    "duration": 7,
    "start_time": "2023-05-25T10:06:43.607Z"
   },
   {
    "duration": 140,
    "start_time": "2023-05-25T10:06:43.616Z"
   },
   {
    "duration": 5,
    "start_time": "2023-05-25T10:06:43.758Z"
   },
   {
    "duration": 21,
    "start_time": "2023-05-25T10:06:47.131Z"
   },
   {
    "duration": 3,
    "start_time": "2023-05-25T10:06:56.619Z"
   },
   {
    "duration": 28,
    "start_time": "2023-05-25T10:06:59.947Z"
   },
   {
    "duration": 35,
    "start_time": "2023-05-25T10:07:00.475Z"
   },
   {
    "duration": 28,
    "start_time": "2023-05-25T10:07:01.085Z"
   },
   {
    "duration": 2,
    "start_time": "2023-05-25T10:10:39.013Z"
   },
   {
    "duration": 3,
    "start_time": "2023-05-25T10:10:39.564Z"
   },
   {
    "duration": 27,
    "start_time": "2023-05-25T10:10:45.013Z"
   },
   {
    "duration": 31,
    "start_time": "2023-05-25T10:10:45.525Z"
   },
   {
    "duration": 24,
    "start_time": "2023-05-25T10:10:45.993Z"
   },
   {
    "duration": 4,
    "start_time": "2023-05-25T12:05:15.441Z"
   },
   {
    "duration": 58,
    "start_time": "2023-05-25T12:05:15.446Z"
   },
   {
    "duration": 12,
    "start_time": "2023-05-25T12:05:15.506Z"
   },
   {
    "duration": 21,
    "start_time": "2023-05-25T12:05:15.520Z"
   },
   {
    "duration": 157,
    "start_time": "2023-05-25T12:05:15.542Z"
   },
   {
    "duration": 2,
    "start_time": "2023-05-25T12:05:15.701Z"
   },
   {
    "duration": 12,
    "start_time": "2023-05-25T12:05:15.705Z"
   },
   {
    "duration": 10,
    "start_time": "2023-05-25T12:05:15.718Z"
   },
   {
    "duration": 4,
    "start_time": "2023-05-25T12:05:15.730Z"
   },
   {
    "duration": 252,
    "start_time": "2023-05-25T12:05:15.736Z"
   },
   {
    "duration": 8,
    "start_time": "2023-05-25T12:05:15.990Z"
   },
   {
    "duration": 5,
    "start_time": "2023-05-25T12:05:16.001Z"
   },
   {
    "duration": 16,
    "start_time": "2023-05-25T12:05:16.008Z"
   },
   {
    "duration": 5,
    "start_time": "2023-05-25T12:05:16.026Z"
   },
   {
    "duration": 10,
    "start_time": "2023-05-25T12:05:16.033Z"
   },
   {
    "duration": 4,
    "start_time": "2023-05-25T12:05:16.045Z"
   },
   {
    "duration": 6,
    "start_time": "2023-05-25T12:05:16.051Z"
   },
   {
    "duration": 17,
    "start_time": "2023-05-25T12:05:25.396Z"
   },
   {
    "duration": 21,
    "start_time": "2023-05-25T12:05:38.455Z"
   },
   {
    "duration": 17,
    "start_time": "2023-05-25T12:09:14.729Z"
   },
   {
    "duration": 20,
    "start_time": "2023-05-25T12:09:15.398Z"
   },
   {
    "duration": 17,
    "start_time": "2023-05-25T12:09:15.797Z"
   },
   {
    "duration": 5,
    "start_time": "2023-05-25T12:11:10.075Z"
   },
   {
    "duration": 47,
    "start_time": "2023-05-25T12:11:10.082Z"
   },
   {
    "duration": 12,
    "start_time": "2023-05-25T12:11:10.131Z"
   },
   {
    "duration": 13,
    "start_time": "2023-05-25T12:11:10.144Z"
   },
   {
    "duration": 161,
    "start_time": "2023-05-25T12:11:10.159Z"
   },
   {
    "duration": 6,
    "start_time": "2023-05-25T12:11:10.321Z"
   },
   {
    "duration": 13,
    "start_time": "2023-05-25T12:11:10.329Z"
   },
   {
    "duration": 21,
    "start_time": "2023-05-25T12:11:10.343Z"
   },
   {
    "duration": 5,
    "start_time": "2023-05-25T12:11:10.366Z"
   },
   {
    "duration": 153,
    "start_time": "2023-05-25T12:11:10.372Z"
   },
   {
    "duration": 4,
    "start_time": "2023-05-25T12:11:10.527Z"
   },
   {
    "duration": 9,
    "start_time": "2023-05-25T12:11:10.532Z"
   },
   {
    "duration": 8,
    "start_time": "2023-05-25T12:11:10.543Z"
   },
   {
    "duration": 3,
    "start_time": "2023-05-25T12:11:10.555Z"
   },
   {
    "duration": 7,
    "start_time": "2023-05-25T12:11:10.574Z"
   },
   {
    "duration": 6,
    "start_time": "2023-05-25T12:11:10.582Z"
   },
   {
    "duration": 15,
    "start_time": "2023-05-25T12:11:10.590Z"
   },
   {
    "duration": 20,
    "start_time": "2023-05-25T12:11:10.607Z"
   },
   {
    "duration": 19,
    "start_time": "2023-05-25T12:11:10.629Z"
   },
   {
    "duration": 26,
    "start_time": "2023-05-25T12:11:10.650Z"
   },
   {
    "duration": 13,
    "start_time": "2023-05-25T12:11:23.856Z"
   },
   {
    "duration": 6,
    "start_time": "2023-05-25T12:11:43.991Z"
   },
   {
    "duration": 49,
    "start_time": "2023-05-25T12:11:43.999Z"
   },
   {
    "duration": 15,
    "start_time": "2023-05-25T12:11:44.051Z"
   },
   {
    "duration": 17,
    "start_time": "2023-05-25T12:11:44.069Z"
   },
   {
    "duration": 214,
    "start_time": "2023-05-25T12:11:44.087Z"
   },
   {
    "duration": 2,
    "start_time": "2023-05-25T12:11:44.303Z"
   },
   {
    "duration": 7,
    "start_time": "2023-05-25T12:11:44.307Z"
   },
   {
    "duration": 4,
    "start_time": "2023-05-25T12:11:44.316Z"
   },
   {
    "duration": 6,
    "start_time": "2023-05-25T12:11:44.322Z"
   },
   {
    "duration": 154,
    "start_time": "2023-05-25T12:11:44.330Z"
   },
   {
    "duration": 4,
    "start_time": "2023-05-25T12:11:44.486Z"
   },
   {
    "duration": 7,
    "start_time": "2023-05-25T12:11:44.492Z"
   },
   {
    "duration": 9,
    "start_time": "2023-05-25T12:11:44.500Z"
   },
   {
    "duration": 4,
    "start_time": "2023-05-25T12:11:44.510Z"
   },
   {
    "duration": 5,
    "start_time": "2023-05-25T12:11:44.515Z"
   },
   {
    "duration": 3,
    "start_time": "2023-05-25T12:11:44.521Z"
   },
   {
    "duration": 6,
    "start_time": "2023-05-25T12:11:44.526Z"
   },
   {
    "duration": 49,
    "start_time": "2023-05-25T12:11:44.534Z"
   },
   {
    "duration": 20,
    "start_time": "2023-05-25T12:11:44.585Z"
   },
   {
    "duration": 16,
    "start_time": "2023-05-25T12:11:44.607Z"
   },
   {
    "duration": 25,
    "start_time": "2023-05-25T12:18:30.790Z"
   },
   {
    "duration": 15,
    "start_time": "2023-05-25T12:18:56.490Z"
   },
   {
    "duration": 7,
    "start_time": "2023-05-25T12:19:00.275Z"
   },
   {
    "duration": 77,
    "start_time": "2023-05-25T12:19:00.284Z"
   },
   {
    "duration": 12,
    "start_time": "2023-05-25T12:19:00.363Z"
   },
   {
    "duration": 55,
    "start_time": "2023-05-25T12:19:00.377Z"
   },
   {
    "duration": 202,
    "start_time": "2023-05-25T12:19:00.435Z"
   },
   {
    "duration": 3,
    "start_time": "2023-05-25T12:19:00.639Z"
   },
   {
    "duration": 52,
    "start_time": "2023-05-25T12:19:00.643Z"
   },
   {
    "duration": 31,
    "start_time": "2023-05-25T12:19:00.697Z"
   },
   {
    "duration": 64,
    "start_time": "2023-05-25T12:19:00.730Z"
   },
   {
    "duration": 179,
    "start_time": "2023-05-25T12:19:00.798Z"
   },
   {
    "duration": 6,
    "start_time": "2023-05-25T12:19:00.980Z"
   },
   {
    "duration": 55,
    "start_time": "2023-05-25T12:19:00.988Z"
   },
   {
    "duration": 71,
    "start_time": "2023-05-25T12:19:01.046Z"
   },
   {
    "duration": 72,
    "start_time": "2023-05-25T12:19:01.119Z"
   },
   {
    "duration": 36,
    "start_time": "2023-05-25T12:19:01.193Z"
   },
   {
    "duration": 36,
    "start_time": "2023-05-25T12:19:01.231Z"
   },
   {
    "duration": 43,
    "start_time": "2023-05-25T12:19:01.269Z"
   },
   {
    "duration": 52,
    "start_time": "2023-05-25T12:19:01.314Z"
   },
   {
    "duration": 29,
    "start_time": "2023-05-25T12:19:01.367Z"
   },
   {
    "duration": 20,
    "start_time": "2023-05-25T12:19:01.398Z"
   },
   {
    "duration": 13,
    "start_time": "2023-05-25T12:19:07.342Z"
   },
   {
    "duration": 26,
    "start_time": "2023-05-25T12:19:09.788Z"
   },
   {
    "duration": 1644,
    "start_time": "2023-05-25T12:20:22.893Z"
   },
   {
    "duration": 44,
    "start_time": "2023-05-25T12:20:24.539Z"
   },
   {
    "duration": 18,
    "start_time": "2023-05-25T12:20:24.585Z"
   },
   {
    "duration": 13,
    "start_time": "2023-05-25T12:20:24.605Z"
   },
   {
    "duration": 214,
    "start_time": "2023-05-25T12:20:24.620Z"
   },
   {
    "duration": 3,
    "start_time": "2023-05-25T12:20:24.836Z"
   },
   {
    "duration": 8,
    "start_time": "2023-05-25T12:20:24.840Z"
   },
   {
    "duration": 28,
    "start_time": "2023-05-25T12:20:24.849Z"
   },
   {
    "duration": 7,
    "start_time": "2023-05-25T12:20:24.879Z"
   },
   {
    "duration": 165,
    "start_time": "2023-05-25T12:20:24.887Z"
   },
   {
    "duration": 4,
    "start_time": "2023-05-25T12:20:25.054Z"
   },
   {
    "duration": 27,
    "start_time": "2023-05-25T12:20:25.060Z"
   },
   {
    "duration": 17,
    "start_time": "2023-05-25T12:20:25.089Z"
   },
   {
    "duration": 4,
    "start_time": "2023-05-25T12:20:25.108Z"
   },
   {
    "duration": 4,
    "start_time": "2023-05-25T12:20:25.114Z"
   },
   {
    "duration": 4,
    "start_time": "2023-05-25T12:20:25.120Z"
   },
   {
    "duration": 6,
    "start_time": "2023-05-25T12:20:25.125Z"
   },
   {
    "duration": 19,
    "start_time": "2023-05-25T12:20:25.132Z"
   },
   {
    "duration": 49,
    "start_time": "2023-05-25T12:20:25.153Z"
   },
   {
    "duration": 18,
    "start_time": "2023-05-25T12:20:25.203Z"
   },
   {
    "duration": 26,
    "start_time": "2023-05-25T12:20:25.223Z"
   },
   {
    "duration": 652,
    "start_time": "2023-05-25T12:22:23.494Z"
   },
   {
    "duration": 4,
    "start_time": "2023-05-25T12:22:24.148Z"
   },
   {
    "duration": 25,
    "start_time": "2023-05-25T12:22:24.872Z"
   },
   {
    "duration": 611,
    "start_time": "2023-05-25T12:22:25.381Z"
   },
   {
    "duration": 4,
    "start_time": "2023-05-25T12:22:36.518Z"
   },
   {
    "duration": 8,
    "start_time": "2023-05-25T12:22:37.214Z"
   },
   {
    "duration": 8,
    "start_time": "2023-05-25T12:22:37.780Z"
   },
   {
    "duration": 120,
    "start_time": "2023-05-25T12:22:57.193Z"
   },
   {
    "duration": 6,
    "start_time": "2023-05-25T12:28:36.948Z"
   },
   {
    "duration": 48,
    "start_time": "2023-05-25T12:28:36.956Z"
   },
   {
    "duration": 18,
    "start_time": "2023-05-25T12:28:37.006Z"
   },
   {
    "duration": 102,
    "start_time": "2023-05-25T12:28:37.027Z"
   },
   {
    "duration": 166,
    "start_time": "2023-05-25T12:28:37.131Z"
   },
   {
    "duration": 3,
    "start_time": "2023-05-25T12:28:37.298Z"
   },
   {
    "duration": 8,
    "start_time": "2023-05-25T12:28:37.303Z"
   },
   {
    "duration": 6,
    "start_time": "2023-05-25T12:28:37.313Z"
   },
   {
    "duration": 7,
    "start_time": "2023-05-25T12:28:37.321Z"
   },
   {
    "duration": 180,
    "start_time": "2023-05-25T12:28:37.331Z"
   },
   {
    "duration": 6,
    "start_time": "2023-05-25T12:28:37.513Z"
   },
   {
    "duration": 7,
    "start_time": "2023-05-25T12:28:37.521Z"
   },
   {
    "duration": 9,
    "start_time": "2023-05-25T12:28:37.530Z"
   },
   {
    "duration": 4,
    "start_time": "2023-05-25T12:28:37.541Z"
   },
   {
    "duration": 5,
    "start_time": "2023-05-25T12:28:37.574Z"
   },
   {
    "duration": 3,
    "start_time": "2023-05-25T12:28:37.581Z"
   },
   {
    "duration": 5,
    "start_time": "2023-05-25T12:28:37.586Z"
   },
   {
    "duration": 18,
    "start_time": "2023-05-25T12:28:37.593Z"
   },
   {
    "duration": 21,
    "start_time": "2023-05-25T12:28:37.612Z"
   },
   {
    "duration": 5,
    "start_time": "2023-05-25T12:30:23.625Z"
   },
   {
    "duration": 47,
    "start_time": "2023-05-25T12:30:23.633Z"
   },
   {
    "duration": 16,
    "start_time": "2023-05-25T12:30:23.682Z"
   },
   {
    "duration": 13,
    "start_time": "2023-05-25T12:30:23.701Z"
   },
   {
    "duration": 230,
    "start_time": "2023-05-25T12:30:23.716Z"
   },
   {
    "duration": 3,
    "start_time": "2023-05-25T12:30:23.948Z"
   },
   {
    "duration": 8,
    "start_time": "2023-05-25T12:30:23.953Z"
   },
   {
    "duration": 6,
    "start_time": "2023-05-25T12:30:23.978Z"
   },
   {
    "duration": 12,
    "start_time": "2023-05-25T12:30:23.987Z"
   },
   {
    "duration": 200,
    "start_time": "2023-05-25T12:30:24.001Z"
   },
   {
    "duration": 6,
    "start_time": "2023-05-25T12:30:24.203Z"
   },
   {
    "duration": 12,
    "start_time": "2023-05-25T12:30:24.211Z"
   },
   {
    "duration": 36,
    "start_time": "2023-05-25T12:30:24.225Z"
   },
   {
    "duration": 27,
    "start_time": "2023-05-25T12:30:24.263Z"
   },
   {
    "duration": 15,
    "start_time": "2023-05-25T12:30:24.292Z"
   },
   {
    "duration": 5,
    "start_time": "2023-05-25T12:30:24.309Z"
   },
   {
    "duration": 9,
    "start_time": "2023-05-25T12:30:24.316Z"
   },
   {
    "duration": 28,
    "start_time": "2023-05-25T12:30:24.328Z"
   },
   {
    "duration": 38,
    "start_time": "2023-05-25T12:30:24.358Z"
   },
   {
    "duration": 22,
    "start_time": "2023-05-25T12:35:58.041Z"
   },
   {
    "duration": 5,
    "start_time": "2023-05-25T12:36:52.249Z"
   },
   {
    "duration": 56,
    "start_time": "2023-05-25T12:36:52.256Z"
   },
   {
    "duration": 14,
    "start_time": "2023-05-25T12:36:52.314Z"
   },
   {
    "duration": 17,
    "start_time": "2023-05-25T12:36:52.331Z"
   },
   {
    "duration": 186,
    "start_time": "2023-05-25T12:36:52.350Z"
   },
   {
    "duration": 2,
    "start_time": "2023-05-25T12:36:52.538Z"
   },
   {
    "duration": 9,
    "start_time": "2023-05-25T12:36:52.542Z"
   },
   {
    "duration": 22,
    "start_time": "2023-05-25T12:36:52.553Z"
   },
   {
    "duration": 10,
    "start_time": "2023-05-25T12:36:52.577Z"
   },
   {
    "duration": 165,
    "start_time": "2023-05-25T12:36:52.590Z"
   },
   {
    "duration": 5,
    "start_time": "2023-05-25T12:36:52.756Z"
   },
   {
    "duration": 28,
    "start_time": "2023-05-25T12:36:52.776Z"
   },
   {
    "duration": 24,
    "start_time": "2023-05-25T12:36:52.806Z"
   },
   {
    "duration": 20,
    "start_time": "2023-05-25T12:36:52.831Z"
   },
   {
    "duration": 5,
    "start_time": "2023-05-25T12:36:52.875Z"
   },
   {
    "duration": 11,
    "start_time": "2023-05-25T12:36:52.882Z"
   },
   {
    "duration": 4,
    "start_time": "2023-05-25T12:36:52.895Z"
   },
   {
    "duration": 5,
    "start_time": "2023-05-25T12:36:52.901Z"
   },
   {
    "duration": 630,
    "start_time": "2023-05-25T12:37:01.425Z"
   },
   {
    "duration": 3,
    "start_time": "2023-05-25T12:37:02.057Z"
   },
   {
    "duration": 26,
    "start_time": "2023-05-25T12:37:02.353Z"
   },
   {
    "duration": 726,
    "start_time": "2023-05-25T12:37:03.112Z"
   },
   {
    "duration": 5,
    "start_time": "2023-05-25T12:37:29.316Z"
   },
   {
    "duration": 8,
    "start_time": "2023-05-25T12:37:29.829Z"
   },
   {
    "duration": 7,
    "start_time": "2023-05-25T12:37:30.337Z"
   },
   {
    "duration": 33,
    "start_time": "2023-05-25T12:37:32.929Z"
   },
   {
    "duration": 6,
    "start_time": "2023-05-25T12:39:34.276Z"
   },
   {
    "duration": 45,
    "start_time": "2023-05-25T12:39:34.284Z"
   },
   {
    "duration": 17,
    "start_time": "2023-05-25T12:39:34.331Z"
   },
   {
    "duration": 13,
    "start_time": "2023-05-25T12:39:34.351Z"
   },
   {
    "duration": 154,
    "start_time": "2023-05-25T12:39:34.366Z"
   },
   {
    "duration": 2,
    "start_time": "2023-05-25T12:39:34.522Z"
   },
   {
    "duration": 7,
    "start_time": "2023-05-25T12:39:34.526Z"
   },
   {
    "duration": 4,
    "start_time": "2023-05-25T12:39:34.535Z"
   },
   {
    "duration": 4,
    "start_time": "2023-05-25T12:39:34.541Z"
   },
   {
    "duration": 161,
    "start_time": "2023-05-25T12:39:34.547Z"
   },
   {
    "duration": 5,
    "start_time": "2023-05-25T12:39:34.709Z"
   },
   {
    "duration": 18,
    "start_time": "2023-05-25T12:39:34.715Z"
   },
   {
    "duration": 42,
    "start_time": "2023-05-25T12:39:34.734Z"
   },
   {
    "duration": 20,
    "start_time": "2023-05-25T12:39:34.777Z"
   },
   {
    "duration": 5,
    "start_time": "2023-05-25T12:39:34.798Z"
   },
   {
    "duration": 9,
    "start_time": "2023-05-25T12:39:34.805Z"
   },
   {
    "duration": 7,
    "start_time": "2023-05-25T12:39:34.815Z"
   },
   {
    "duration": 5,
    "start_time": "2023-05-25T12:39:34.824Z"
   },
   {
    "duration": 640,
    "start_time": "2023-05-25T12:39:54.668Z"
   },
   {
    "duration": 3,
    "start_time": "2023-05-25T12:39:55.543Z"
   },
   {
    "duration": 25,
    "start_time": "2023-05-25T12:39:56.372Z"
   },
   {
    "duration": 686,
    "start_time": "2023-05-25T12:40:00.006Z"
   },
   {
    "duration": 4,
    "start_time": "2023-05-25T12:40:04.415Z"
   },
   {
    "duration": 8,
    "start_time": "2023-05-25T12:40:04.872Z"
   },
   {
    "duration": 6,
    "start_time": "2023-05-25T12:40:07.151Z"
   },
   {
    "duration": 20,
    "start_time": "2023-05-25T12:40:14.787Z"
   },
   {
    "duration": 1413,
    "start_time": "2023-05-25T13:02:46.274Z"
   },
   {
    "duration": 42,
    "start_time": "2023-05-25T13:02:47.689Z"
   },
   {
    "duration": 18,
    "start_time": "2023-05-25T13:02:47.733Z"
   },
   {
    "duration": 29,
    "start_time": "2023-05-25T13:02:47.753Z"
   },
   {
    "duration": 180,
    "start_time": "2023-05-25T13:02:47.784Z"
   },
   {
    "duration": 3,
    "start_time": "2023-05-25T13:02:47.965Z"
   },
   {
    "duration": 21,
    "start_time": "2023-05-25T13:02:47.974Z"
   },
   {
    "duration": 6,
    "start_time": "2023-05-25T13:02:47.997Z"
   },
   {
    "duration": 15,
    "start_time": "2023-05-25T13:02:48.006Z"
   },
   {
    "duration": 153,
    "start_time": "2023-05-25T13:02:48.024Z"
   },
   {
    "duration": 5,
    "start_time": "2023-05-25T13:02:48.179Z"
   },
   {
    "duration": 25,
    "start_time": "2023-05-25T13:02:48.186Z"
   },
   {
    "duration": 24,
    "start_time": "2023-05-25T13:02:48.212Z"
   },
   {
    "duration": 41,
    "start_time": "2023-05-25T13:02:48.238Z"
   },
   {
    "duration": 5,
    "start_time": "2023-05-25T13:02:48.280Z"
   },
   {
    "duration": 11,
    "start_time": "2023-05-25T13:02:48.286Z"
   },
   {
    "duration": 4,
    "start_time": "2023-05-25T13:02:48.299Z"
   },
   {
    "duration": 9,
    "start_time": "2023-05-25T13:02:48.305Z"
   },
   {
    "duration": 4,
    "start_time": "2023-05-25T13:02:48.316Z"
   },
   {
    "duration": 5,
    "start_time": "2023-05-25T13:02:48.322Z"
   },
   {
    "duration": 8,
    "start_time": "2023-05-25T13:02:48.329Z"
   },
   {
    "duration": 3,
    "start_time": "2023-05-25T13:02:48.340Z"
   },
   {
    "duration": 2,
    "start_time": "2023-05-25T13:02:48.376Z"
   },
   {
    "duration": 12,
    "start_time": "2023-05-25T13:02:48.380Z"
   },
   {
    "duration": 650,
    "start_time": "2023-05-25T13:02:48.395Z"
   },
   {
    "duration": 3,
    "start_time": "2023-05-25T13:02:49.047Z"
   },
   {
    "duration": 38,
    "start_time": "2023-05-25T13:02:49.052Z"
   },
   {
    "duration": 635,
    "start_time": "2023-05-25T13:02:49.094Z"
   },
   {
    "duration": 5,
    "start_time": "2023-05-25T13:02:49.731Z"
   },
   {
    "duration": 9,
    "start_time": "2023-05-25T13:02:49.738Z"
   },
   {
    "duration": 30,
    "start_time": "2023-05-25T13:02:49.749Z"
   },
   {
    "duration": 145,
    "start_time": "2023-05-25T13:02:49.781Z"
   },
   {
    "duration": 0,
    "start_time": "2023-05-25T13:02:49.928Z"
   },
   {
    "duration": 0,
    "start_time": "2023-05-25T13:02:49.929Z"
   },
   {
    "duration": 0,
    "start_time": "2023-05-25T13:02:49.930Z"
   },
   {
    "duration": 0,
    "start_time": "2023-05-25T13:02:49.931Z"
   },
   {
    "duration": 0,
    "start_time": "2023-05-25T13:02:49.932Z"
   },
   {
    "duration": 0,
    "start_time": "2023-05-25T13:02:49.933Z"
   },
   {
    "duration": 0,
    "start_time": "2023-05-25T13:02:49.934Z"
   },
   {
    "duration": 0,
    "start_time": "2023-05-25T13:02:50.042Z"
   },
   {
    "duration": 0,
    "start_time": "2023-05-25T13:02:50.043Z"
   },
   {
    "duration": 0,
    "start_time": "2023-05-25T13:02:50.045Z"
   },
   {
    "duration": 0,
    "start_time": "2023-05-25T13:02:50.046Z"
   },
   {
    "duration": 0,
    "start_time": "2023-05-25T13:02:50.047Z"
   },
   {
    "duration": 0,
    "start_time": "2023-05-25T13:02:50.048Z"
   },
   {
    "duration": 0,
    "start_time": "2023-05-25T13:02:50.049Z"
   },
   {
    "duration": 0,
    "start_time": "2023-05-25T13:02:50.050Z"
   },
   {
    "duration": 0,
    "start_time": "2023-05-25T13:02:50.051Z"
   },
   {
    "duration": 0,
    "start_time": "2023-05-25T13:02:50.052Z"
   },
   {
    "duration": 0,
    "start_time": "2023-05-25T13:02:50.054Z"
   },
   {
    "duration": 0,
    "start_time": "2023-05-25T13:02:50.055Z"
   },
   {
    "duration": 4,
    "start_time": "2023-05-25T13:04:49.046Z"
   },
   {
    "duration": 60,
    "start_time": "2023-05-25T13:04:49.053Z"
   },
   {
    "duration": 13,
    "start_time": "2023-05-25T13:04:49.115Z"
   },
   {
    "duration": 21,
    "start_time": "2023-05-25T13:04:49.130Z"
   },
   {
    "duration": 151,
    "start_time": "2023-05-25T13:04:49.152Z"
   },
   {
    "duration": 2,
    "start_time": "2023-05-25T13:04:49.305Z"
   },
   {
    "duration": 10,
    "start_time": "2023-05-25T13:04:49.309Z"
   },
   {
    "duration": 6,
    "start_time": "2023-05-25T13:04:49.321Z"
   },
   {
    "duration": 12,
    "start_time": "2023-05-25T13:04:49.329Z"
   },
   {
    "duration": 143,
    "start_time": "2023-05-25T13:04:49.344Z"
   },
   {
    "duration": 5,
    "start_time": "2023-05-25T13:04:49.488Z"
   },
   {
    "duration": 5,
    "start_time": "2023-05-25T13:04:49.494Z"
   },
   {
    "duration": 12,
    "start_time": "2023-05-25T13:04:49.501Z"
   },
   {
    "duration": 8,
    "start_time": "2023-05-25T13:04:49.515Z"
   },
   {
    "duration": 14,
    "start_time": "2023-05-25T13:04:49.525Z"
   },
   {
    "duration": 5,
    "start_time": "2023-05-25T13:04:49.540Z"
   },
   {
    "duration": 11,
    "start_time": "2023-05-25T13:04:49.546Z"
   },
   {
    "duration": 18,
    "start_time": "2023-05-25T13:04:49.559Z"
   },
   {
    "duration": 10,
    "start_time": "2023-05-25T13:04:49.579Z"
   },
   {
    "duration": 4,
    "start_time": "2023-05-25T13:04:49.590Z"
   },
   {
    "duration": 16,
    "start_time": "2023-05-25T13:04:49.595Z"
   },
   {
    "duration": 5,
    "start_time": "2023-05-25T13:04:49.613Z"
   },
   {
    "duration": 13,
    "start_time": "2023-05-25T13:04:49.619Z"
   },
   {
    "duration": 4,
    "start_time": "2023-05-25T13:04:49.634Z"
   },
   {
    "duration": 610,
    "start_time": "2023-05-25T13:04:49.640Z"
   },
   {
    "duration": 3,
    "start_time": "2023-05-25T13:04:50.251Z"
   },
   {
    "duration": 36,
    "start_time": "2023-05-25T13:04:50.255Z"
   },
   {
    "duration": 628,
    "start_time": "2023-05-25T13:04:50.294Z"
   },
   {
    "duration": 5,
    "start_time": "2023-05-25T13:04:50.924Z"
   },
   {
    "duration": 26,
    "start_time": "2023-05-25T13:04:50.930Z"
   },
   {
    "duration": 21,
    "start_time": "2023-05-25T13:04:50.958Z"
   },
   {
    "duration": 19,
    "start_time": "2023-05-25T13:04:50.981Z"
   },
   {
    "duration": 0,
    "start_time": "2023-05-25T13:04:51.002Z"
   },
   {
    "duration": 0,
    "start_time": "2023-05-25T13:04:51.003Z"
   },
   {
    "duration": 0,
    "start_time": "2023-05-25T13:04:51.005Z"
   },
   {
    "duration": 0,
    "start_time": "2023-05-25T13:04:51.006Z"
   },
   {
    "duration": 0,
    "start_time": "2023-05-25T13:04:51.007Z"
   },
   {
    "duration": 0,
    "start_time": "2023-05-25T13:04:51.008Z"
   },
   {
    "duration": 0,
    "start_time": "2023-05-25T13:04:51.009Z"
   },
   {
    "duration": 0,
    "start_time": "2023-05-25T13:04:51.010Z"
   },
   {
    "duration": 0,
    "start_time": "2023-05-25T13:04:51.011Z"
   },
   {
    "duration": 0,
    "start_time": "2023-05-25T13:04:51.013Z"
   },
   {
    "duration": 0,
    "start_time": "2023-05-25T13:04:51.014Z"
   },
   {
    "duration": 0,
    "start_time": "2023-05-25T13:04:51.014Z"
   },
   {
    "duration": 0,
    "start_time": "2023-05-25T13:04:51.015Z"
   },
   {
    "duration": 0,
    "start_time": "2023-05-25T13:04:51.017Z"
   },
   {
    "duration": 0,
    "start_time": "2023-05-25T13:04:51.018Z"
   },
   {
    "duration": 0,
    "start_time": "2023-05-25T13:04:51.018Z"
   },
   {
    "duration": 0,
    "start_time": "2023-05-25T13:04:51.019Z"
   },
   {
    "duration": 0,
    "start_time": "2023-05-25T13:04:51.021Z"
   },
   {
    "duration": 0,
    "start_time": "2023-05-25T13:04:51.022Z"
   },
   {
    "duration": 4,
    "start_time": "2023-05-25T13:05:35.934Z"
   },
   {
    "duration": 50,
    "start_time": "2023-05-25T13:05:35.940Z"
   },
   {
    "duration": 13,
    "start_time": "2023-05-25T13:05:35.991Z"
   },
   {
    "duration": 49,
    "start_time": "2023-05-25T13:05:36.007Z"
   },
   {
    "duration": 155,
    "start_time": "2023-05-25T13:05:36.058Z"
   },
   {
    "duration": 3,
    "start_time": "2023-05-25T13:05:36.215Z"
   },
   {
    "duration": 30,
    "start_time": "2023-05-25T13:05:36.219Z"
   },
   {
    "duration": 5,
    "start_time": "2023-05-25T13:05:36.250Z"
   },
   {
    "duration": 16,
    "start_time": "2023-05-25T13:05:36.257Z"
   },
   {
    "duration": 147,
    "start_time": "2023-05-25T13:05:36.276Z"
   },
   {
    "duration": 4,
    "start_time": "2023-05-25T13:05:36.425Z"
   },
   {
    "duration": 4,
    "start_time": "2023-05-25T13:05:36.430Z"
   },
   {
    "duration": 6,
    "start_time": "2023-05-25T13:05:36.436Z"
   },
   {
    "duration": 6,
    "start_time": "2023-05-25T13:05:36.444Z"
   },
   {
    "duration": 26,
    "start_time": "2023-05-25T13:05:36.452Z"
   },
   {
    "duration": 4,
    "start_time": "2023-05-25T13:05:36.480Z"
   },
   {
    "duration": 10,
    "start_time": "2023-05-25T13:05:36.486Z"
   },
   {
    "duration": 4,
    "start_time": "2023-05-25T13:05:36.498Z"
   },
   {
    "duration": 6,
    "start_time": "2023-05-25T13:05:36.503Z"
   },
   {
    "duration": 4,
    "start_time": "2023-05-25T13:05:36.511Z"
   },
   {
    "duration": 13,
    "start_time": "2023-05-25T13:05:36.516Z"
   },
   {
    "duration": 4,
    "start_time": "2023-05-25T13:05:36.531Z"
   },
   {
    "duration": 4,
    "start_time": "2023-05-25T13:05:36.536Z"
   },
   {
    "duration": 5,
    "start_time": "2023-05-25T13:05:36.542Z"
   },
   {
    "duration": 615,
    "start_time": "2023-05-25T13:05:36.548Z"
   },
   {
    "duration": 3,
    "start_time": "2023-05-25T13:05:37.164Z"
   },
   {
    "duration": 28,
    "start_time": "2023-05-25T13:05:37.174Z"
   },
   {
    "duration": 624,
    "start_time": "2023-05-25T13:05:37.206Z"
   },
   {
    "duration": 4,
    "start_time": "2023-05-25T13:05:37.832Z"
   },
   {
    "duration": 8,
    "start_time": "2023-05-25T13:05:37.837Z"
   },
   {
    "duration": 5,
    "start_time": "2023-05-25T13:05:37.847Z"
   },
   {
    "duration": 108,
    "start_time": "2023-05-25T13:05:37.875Z"
   },
   {
    "duration": 99,
    "start_time": "2023-05-25T13:05:38.078Z"
   },
   {
    "duration": 5,
    "start_time": "2023-05-25T13:05:38.180Z"
   },
   {
    "duration": 10,
    "start_time": "2023-05-25T13:05:38.276Z"
   },
   {
    "duration": 90,
    "start_time": "2023-05-25T13:05:38.288Z"
   },
   {
    "duration": 96,
    "start_time": "2023-05-25T13:05:38.380Z"
   },
   {
    "duration": 14,
    "start_time": "2023-05-25T13:05:38.478Z"
   },
   {
    "duration": 84,
    "start_time": "2023-05-25T13:05:38.494Z"
   },
   {
    "duration": 341,
    "start_time": "2023-05-25T13:05:38.580Z"
   },
   {
    "duration": 6,
    "start_time": "2023-05-25T13:05:38.922Z"
   },
   {
    "duration": 140,
    "start_time": "2023-05-25T13:05:38.930Z"
   },
   {
    "duration": 379,
    "start_time": "2023-05-25T13:05:39.072Z"
   },
   {
    "duration": 29,
    "start_time": "2023-05-25T13:05:39.453Z"
   },
   {
    "duration": 8,
    "start_time": "2023-05-25T13:05:39.484Z"
   },
   {
    "duration": 131,
    "start_time": "2023-05-25T13:05:39.493Z"
   },
   {
    "duration": 4894,
    "start_time": "2023-05-25T13:05:39.626Z"
   },
   {
    "duration": 55,
    "start_time": "2023-05-25T13:05:44.522Z"
   },
   {
    "duration": 11,
    "start_time": "2023-05-25T13:05:44.578Z"
   },
   {
    "duration": 133,
    "start_time": "2023-05-25T13:05:44.591Z"
   },
   {
    "duration": 11,
    "start_time": "2023-05-25T13:05:44.726Z"
   },
   {
    "duration": 1455,
    "start_time": "2023-05-25T13:13:22.249Z"
   },
   {
    "duration": 50,
    "start_time": "2023-05-25T13:13:23.707Z"
   },
   {
    "duration": 18,
    "start_time": "2023-05-25T13:13:23.759Z"
   },
   {
    "duration": 14,
    "start_time": "2023-05-25T13:13:23.780Z"
   },
   {
    "duration": 190,
    "start_time": "2023-05-25T13:13:23.796Z"
   },
   {
    "duration": 3,
    "start_time": "2023-05-25T13:13:23.989Z"
   },
   {
    "duration": 16,
    "start_time": "2023-05-25T13:13:23.994Z"
   },
   {
    "duration": 6,
    "start_time": "2023-05-25T13:13:24.012Z"
   },
   {
    "duration": 7,
    "start_time": "2023-05-25T13:13:24.019Z"
   },
   {
    "duration": 214,
    "start_time": "2023-05-25T13:13:24.030Z"
   },
   {
    "duration": 6,
    "start_time": "2023-05-25T13:13:24.247Z"
   },
   {
    "duration": 3,
    "start_time": "2023-05-25T13:13:24.256Z"
   },
   {
    "duration": 6,
    "start_time": "2023-05-25T13:13:24.276Z"
   },
   {
    "duration": 8,
    "start_time": "2023-05-25T13:13:24.284Z"
   },
   {
    "duration": 15,
    "start_time": "2023-05-25T13:13:24.294Z"
   },
   {
    "duration": 6,
    "start_time": "2023-05-25T13:13:24.311Z"
   },
   {
    "duration": 10,
    "start_time": "2023-05-25T13:13:24.320Z"
   },
   {
    "duration": 5,
    "start_time": "2023-05-25T13:13:24.333Z"
   },
   {
    "duration": 6,
    "start_time": "2023-05-25T13:13:24.376Z"
   },
   {
    "duration": 4,
    "start_time": "2023-05-25T13:13:24.384Z"
   },
   {
    "duration": 6,
    "start_time": "2023-05-25T13:13:24.390Z"
   },
   {
    "duration": 4,
    "start_time": "2023-05-25T13:13:24.397Z"
   },
   {
    "duration": 4,
    "start_time": "2023-05-25T13:13:24.403Z"
   },
   {
    "duration": 4,
    "start_time": "2023-05-25T13:13:24.409Z"
   },
   {
    "duration": 730,
    "start_time": "2023-05-25T13:13:24.414Z"
   },
   {
    "duration": 3,
    "start_time": "2023-05-25T13:13:25.146Z"
   },
   {
    "duration": 52,
    "start_time": "2023-05-25T13:13:25.152Z"
   },
   {
    "duration": 679,
    "start_time": "2023-05-25T13:13:25.209Z"
   },
   {
    "duration": 5,
    "start_time": "2023-05-25T13:13:25.889Z"
   },
   {
    "duration": 11,
    "start_time": "2023-05-25T13:13:25.896Z"
   },
   {
    "duration": 6,
    "start_time": "2023-05-25T13:13:25.909Z"
   },
   {
    "duration": 159,
    "start_time": "2023-05-25T13:13:25.917Z"
   },
   {
    "duration": 196,
    "start_time": "2023-05-25T13:13:26.079Z"
   },
   {
    "duration": 5,
    "start_time": "2023-05-25T13:13:26.277Z"
   },
   {
    "duration": 119,
    "start_time": "2023-05-25T13:13:26.283Z"
   },
   {
    "duration": 171,
    "start_time": "2023-05-25T13:13:26.404Z"
   },
   {
    "duration": 6,
    "start_time": "2023-05-25T13:13:26.578Z"
   },
   {
    "duration": 15,
    "start_time": "2023-05-25T13:13:26.586Z"
   },
   {
    "duration": 176,
    "start_time": "2023-05-25T13:13:26.603Z"
   },
   {
    "duration": 249,
    "start_time": "2023-05-25T13:13:26.781Z"
   },
   {
    "duration": 10,
    "start_time": "2023-05-25T13:13:27.032Z"
   },
   {
    "duration": 142,
    "start_time": "2023-05-25T13:13:27.044Z"
   },
   {
    "duration": 399,
    "start_time": "2023-05-25T13:13:27.188Z"
   },
   {
    "duration": 27,
    "start_time": "2023-05-25T13:13:27.589Z"
   },
   {
    "duration": 9,
    "start_time": "2023-05-25T13:13:27.618Z"
   },
   {
    "duration": 157,
    "start_time": "2023-05-25T13:13:27.629Z"
   },
   {
    "duration": 5100,
    "start_time": "2023-05-25T13:13:27.787Z"
   },
   {
    "duration": 48,
    "start_time": "2023-05-25T13:13:32.888Z"
   },
   {
    "duration": 12,
    "start_time": "2023-05-25T13:13:32.938Z"
   },
   {
    "duration": 173,
    "start_time": "2023-05-25T13:13:32.952Z"
   },
   {
    "duration": 13,
    "start_time": "2023-05-25T13:13:33.127Z"
   },
   {
    "duration": 4,
    "start_time": "2023-05-25T13:14:31.506Z"
   },
   {
    "duration": 78,
    "start_time": "2023-05-25T13:14:31.512Z"
   },
   {
    "duration": 13,
    "start_time": "2023-05-25T13:14:31.591Z"
   },
   {
    "duration": 26,
    "start_time": "2023-05-25T13:14:31.606Z"
   },
   {
    "duration": 164,
    "start_time": "2023-05-25T13:14:31.633Z"
   },
   {
    "duration": 10,
    "start_time": "2023-05-25T13:14:31.798Z"
   },
   {
    "duration": 2,
    "start_time": "2023-05-25T13:14:31.810Z"
   },
   {
    "duration": 7,
    "start_time": "2023-05-25T13:14:31.814Z"
   },
   {
    "duration": 8,
    "start_time": "2023-05-25T13:14:31.822Z"
   },
   {
    "duration": 181,
    "start_time": "2023-05-25T13:14:31.833Z"
   },
   {
    "duration": 4,
    "start_time": "2023-05-25T13:14:32.016Z"
   },
   {
    "duration": 5,
    "start_time": "2023-05-25T13:14:32.022Z"
   },
   {
    "duration": 5,
    "start_time": "2023-05-25T13:14:32.029Z"
   },
   {
    "duration": 5,
    "start_time": "2023-05-25T13:14:32.035Z"
   },
   {
    "duration": 16,
    "start_time": "2023-05-25T13:14:32.042Z"
   },
   {
    "duration": 6,
    "start_time": "2023-05-25T13:14:32.076Z"
   },
   {
    "duration": 15,
    "start_time": "2023-05-25T13:14:32.084Z"
   },
   {
    "duration": 5,
    "start_time": "2023-05-25T13:14:32.101Z"
   },
   {
    "duration": 5,
    "start_time": "2023-05-25T13:14:32.108Z"
   },
   {
    "duration": 3,
    "start_time": "2023-05-25T13:14:32.114Z"
   },
   {
    "duration": 8,
    "start_time": "2023-05-25T13:14:32.119Z"
   },
   {
    "duration": 5,
    "start_time": "2023-05-25T13:14:32.128Z"
   },
   {
    "duration": 17,
    "start_time": "2023-05-25T13:14:32.134Z"
   },
   {
    "duration": 6,
    "start_time": "2023-05-25T13:14:32.153Z"
   },
   {
    "duration": 653,
    "start_time": "2023-05-25T13:14:32.175Z"
   },
   {
    "duration": 3,
    "start_time": "2023-05-25T13:14:32.829Z"
   },
   {
    "duration": 30,
    "start_time": "2023-05-25T13:14:32.833Z"
   },
   {
    "duration": 650,
    "start_time": "2023-05-25T13:14:32.876Z"
   },
   {
    "duration": 5,
    "start_time": "2023-05-25T13:14:33.528Z"
   },
   {
    "duration": 10,
    "start_time": "2023-05-25T13:14:33.535Z"
   },
   {
    "duration": 6,
    "start_time": "2023-05-25T13:14:33.547Z"
   },
   {
    "duration": 100,
    "start_time": "2023-05-25T13:14:33.575Z"
   },
   {
    "duration": 196,
    "start_time": "2023-05-25T13:14:33.681Z"
   },
   {
    "duration": 96,
    "start_time": "2023-05-25T13:14:33.879Z"
   },
   {
    "duration": 12,
    "start_time": "2023-05-25T13:14:33.977Z"
   },
   {
    "duration": 92,
    "start_time": "2023-05-25T13:14:33.991Z"
   },
   {
    "duration": 91,
    "start_time": "2023-05-25T13:14:34.087Z"
   },
   {
    "duration": 15,
    "start_time": "2023-05-25T13:14:34.181Z"
   },
   {
    "duration": 81,
    "start_time": "2023-05-25T13:14:34.198Z"
   },
   {
    "duration": 338,
    "start_time": "2023-05-25T13:14:34.282Z"
   },
   {
    "duration": 6,
    "start_time": "2023-05-25T13:14:34.622Z"
   },
   {
    "duration": 130,
    "start_time": "2023-05-25T13:14:34.629Z"
   },
   {
    "duration": 390,
    "start_time": "2023-05-25T13:14:34.760Z"
   },
   {
    "duration": 29,
    "start_time": "2023-05-25T13:14:35.152Z"
   },
   {
    "duration": 7,
    "start_time": "2023-05-25T13:14:35.183Z"
   },
   {
    "duration": 125,
    "start_time": "2023-05-25T13:14:35.192Z"
   },
   {
    "duration": 5066,
    "start_time": "2023-05-25T13:14:35.319Z"
   },
   {
    "duration": 46,
    "start_time": "2023-05-25T13:14:40.387Z"
   },
   {
    "duration": 11,
    "start_time": "2023-05-25T13:14:40.434Z"
   },
   {
    "duration": 136,
    "start_time": "2023-05-25T13:14:40.447Z"
   },
   {
    "duration": 12,
    "start_time": "2023-05-25T13:14:40.585Z"
   },
   {
    "duration": 4,
    "start_time": "2023-05-25T13:16:26.874Z"
   },
   {
    "duration": 47,
    "start_time": "2023-05-25T13:16:26.880Z"
   },
   {
    "duration": 14,
    "start_time": "2023-05-25T13:16:26.928Z"
   },
   {
    "duration": 34,
    "start_time": "2023-05-25T13:16:26.944Z"
   },
   {
    "duration": 165,
    "start_time": "2023-05-25T13:16:26.980Z"
   },
   {
    "duration": 4,
    "start_time": "2023-05-25T13:16:27.146Z"
   },
   {
    "duration": 3,
    "start_time": "2023-05-25T13:16:27.152Z"
   },
   {
    "duration": 19,
    "start_time": "2023-05-25T13:16:27.157Z"
   },
   {
    "duration": 5,
    "start_time": "2023-05-25T13:16:27.179Z"
   },
   {
    "duration": 259,
    "start_time": "2023-05-25T13:16:27.185Z"
   },
   {
    "duration": 5,
    "start_time": "2023-05-25T13:16:27.445Z"
   },
   {
    "duration": 3,
    "start_time": "2023-05-25T13:16:27.451Z"
   },
   {
    "duration": 19,
    "start_time": "2023-05-25T13:16:27.456Z"
   },
   {
    "duration": 2,
    "start_time": "2023-05-25T13:16:27.477Z"
   },
   {
    "duration": 12,
    "start_time": "2023-05-25T13:16:27.480Z"
   },
   {
    "duration": 5,
    "start_time": "2023-05-25T13:16:27.494Z"
   },
   {
    "duration": 9,
    "start_time": "2023-05-25T13:16:27.500Z"
   },
   {
    "duration": 6,
    "start_time": "2023-05-25T13:16:27.511Z"
   },
   {
    "duration": 6,
    "start_time": "2023-05-25T13:16:27.518Z"
   },
   {
    "duration": 3,
    "start_time": "2023-05-25T13:16:27.526Z"
   },
   {
    "duration": 5,
    "start_time": "2023-05-25T13:16:27.531Z"
   },
   {
    "duration": 36,
    "start_time": "2023-05-25T13:16:27.538Z"
   },
   {
    "duration": 3,
    "start_time": "2023-05-25T13:16:27.576Z"
   },
   {
    "duration": 3,
    "start_time": "2023-05-25T13:16:27.583Z"
   },
   {
    "duration": 705,
    "start_time": "2023-05-25T13:16:27.587Z"
   },
   {
    "duration": 3,
    "start_time": "2023-05-25T13:16:28.294Z"
   },
   {
    "duration": 29,
    "start_time": "2023-05-25T13:16:28.298Z"
   },
   {
    "duration": 701,
    "start_time": "2023-05-25T13:16:28.329Z"
   },
   {
    "duration": 5,
    "start_time": "2023-05-25T13:16:29.031Z"
   },
   {
    "duration": 9,
    "start_time": "2023-05-25T13:16:29.037Z"
   },
   {
    "duration": 12,
    "start_time": "2023-05-25T13:16:29.047Z"
   },
   {
    "duration": 38,
    "start_time": "2023-05-25T13:16:29.061Z"
   },
   {
    "duration": 102,
    "start_time": "2023-05-25T13:16:29.274Z"
   },
   {
    "duration": 96,
    "start_time": "2023-05-25T13:16:29.379Z"
   },
   {
    "duration": 14,
    "start_time": "2023-05-25T13:16:29.478Z"
   },
   {
    "duration": 88,
    "start_time": "2023-05-25T13:16:29.494Z"
   },
   {
    "duration": 91,
    "start_time": "2023-05-25T13:16:29.584Z"
   },
   {
    "duration": 10,
    "start_time": "2023-05-25T13:16:29.677Z"
   },
   {
    "duration": 191,
    "start_time": "2023-05-25T13:16:29.688Z"
   },
   {
    "duration": 255,
    "start_time": "2023-05-25T13:16:29.881Z"
   },
   {
    "duration": 7,
    "start_time": "2023-05-25T13:16:30.138Z"
   },
   {
    "duration": 136,
    "start_time": "2023-05-25T13:16:30.147Z"
   },
   {
    "duration": 404,
    "start_time": "2023-05-25T13:16:30.285Z"
   },
   {
    "duration": 26,
    "start_time": "2023-05-25T13:16:30.691Z"
   },
   {
    "duration": 29,
    "start_time": "2023-05-25T13:16:30.719Z"
   },
   {
    "duration": 171,
    "start_time": "2023-05-25T13:16:30.750Z"
   },
   {
    "duration": 5150,
    "start_time": "2023-05-25T13:16:30.923Z"
   },
   {
    "duration": 47,
    "start_time": "2023-05-25T13:16:36.076Z"
   },
   {
    "duration": 11,
    "start_time": "2023-05-25T13:16:36.124Z"
   },
   {
    "duration": 150,
    "start_time": "2023-05-25T13:16:36.137Z"
   },
   {
    "duration": 13,
    "start_time": "2023-05-25T13:16:36.289Z"
   },
   {
    "duration": 4,
    "start_time": "2023-05-25T13:25:01.990Z"
   },
   {
    "duration": 106,
    "start_time": "2023-05-25T13:25:01.996Z"
   },
   {
    "duration": 14,
    "start_time": "2023-05-25T13:25:02.104Z"
   },
   {
    "duration": 12,
    "start_time": "2023-05-25T13:25:02.120Z"
   },
   {
    "duration": 152,
    "start_time": "2023-05-25T13:25:02.134Z"
   },
   {
    "duration": 4,
    "start_time": "2023-05-25T13:25:02.288Z"
   },
   {
    "duration": 12,
    "start_time": "2023-05-25T13:25:02.293Z"
   },
   {
    "duration": 5,
    "start_time": "2023-05-25T13:25:02.307Z"
   },
   {
    "duration": 8,
    "start_time": "2023-05-25T13:25:02.314Z"
   },
   {
    "duration": 157,
    "start_time": "2023-05-25T13:25:02.324Z"
   },
   {
    "duration": 3,
    "start_time": "2023-05-25T13:25:02.483Z"
   },
   {
    "duration": 8,
    "start_time": "2023-05-25T13:25:02.488Z"
   },
   {
    "duration": 7,
    "start_time": "2023-05-25T13:25:02.498Z"
   },
   {
    "duration": 7,
    "start_time": "2023-05-25T13:25:02.507Z"
   },
   {
    "duration": 13,
    "start_time": "2023-05-25T13:25:02.515Z"
   },
   {
    "duration": 10,
    "start_time": "2023-05-25T13:25:02.530Z"
   },
   {
    "duration": 29,
    "start_time": "2023-05-25T13:25:02.541Z"
   },
   {
    "duration": 28,
    "start_time": "2023-05-25T13:25:02.572Z"
   },
   {
    "duration": 39,
    "start_time": "2023-05-25T13:25:02.602Z"
   },
   {
    "duration": 59,
    "start_time": "2023-05-25T13:25:02.643Z"
   },
   {
    "duration": 24,
    "start_time": "2023-05-25T13:25:02.704Z"
   },
   {
    "duration": 14,
    "start_time": "2023-05-25T13:25:02.730Z"
   },
   {
    "duration": 24,
    "start_time": "2023-05-25T13:25:02.746Z"
   },
   {
    "duration": 21,
    "start_time": "2023-05-25T13:25:02.771Z"
   },
   {
    "duration": 674,
    "start_time": "2023-05-25T13:25:02.794Z"
   },
   {
    "duration": 5,
    "start_time": "2023-05-25T13:25:03.470Z"
   },
   {
    "duration": 35,
    "start_time": "2023-05-25T13:25:03.477Z"
   },
   {
    "duration": 751,
    "start_time": "2023-05-25T13:25:03.517Z"
   },
   {
    "duration": 5,
    "start_time": "2023-05-25T13:25:04.275Z"
   },
   {
    "duration": 33,
    "start_time": "2023-05-25T13:25:04.281Z"
   },
   {
    "duration": 6,
    "start_time": "2023-05-25T13:25:04.316Z"
   },
   {
    "duration": 155,
    "start_time": "2023-05-25T13:25:04.323Z"
   },
   {
    "duration": 430,
    "start_time": "2023-05-25T13:25:04.480Z"
   },
   {
    "duration": 367,
    "start_time": "2023-05-25T13:25:08.217Z"
   },
   {
    "duration": 13,
    "start_time": "2023-05-25T13:25:08.869Z"
   },
   {
    "duration": 4,
    "start_time": "2023-05-25T13:26:19.323Z"
   },
   {
    "duration": 40,
    "start_time": "2023-05-25T13:26:19.351Z"
   },
   {
    "duration": 14,
    "start_time": "2023-05-25T13:26:19.393Z"
   },
   {
    "duration": 12,
    "start_time": "2023-05-25T13:26:19.409Z"
   },
   {
    "duration": 171,
    "start_time": "2023-05-25T13:26:19.423Z"
   },
   {
    "duration": 4,
    "start_time": "2023-05-25T13:26:19.596Z"
   },
   {
    "duration": 7,
    "start_time": "2023-05-25T13:26:19.601Z"
   },
   {
    "duration": 10,
    "start_time": "2023-05-25T13:26:19.609Z"
   },
   {
    "duration": 4,
    "start_time": "2023-05-25T13:26:19.621Z"
   },
   {
    "duration": 250,
    "start_time": "2023-05-25T13:26:19.626Z"
   },
   {
    "duration": 4,
    "start_time": "2023-05-25T13:26:19.878Z"
   },
   {
    "duration": 9,
    "start_time": "2023-05-25T13:26:19.884Z"
   },
   {
    "duration": 10,
    "start_time": "2023-05-25T13:26:19.895Z"
   },
   {
    "duration": 4,
    "start_time": "2023-05-25T13:26:19.907Z"
   },
   {
    "duration": 11,
    "start_time": "2023-05-25T13:26:19.913Z"
   },
   {
    "duration": 7,
    "start_time": "2023-05-25T13:26:19.925Z"
   },
   {
    "duration": 11,
    "start_time": "2023-05-25T13:26:19.934Z"
   },
   {
    "duration": 21,
    "start_time": "2023-05-25T13:26:19.947Z"
   },
   {
    "duration": 6,
    "start_time": "2023-05-25T13:26:19.969Z"
   },
   {
    "duration": 12,
    "start_time": "2023-05-25T13:26:19.977Z"
   },
   {
    "duration": 10,
    "start_time": "2023-05-25T13:26:19.991Z"
   },
   {
    "duration": 13,
    "start_time": "2023-05-25T13:26:20.003Z"
   },
   {
    "duration": 15,
    "start_time": "2023-05-25T13:26:20.017Z"
   },
   {
    "duration": 6,
    "start_time": "2023-05-25T13:26:20.034Z"
   },
   {
    "duration": 661,
    "start_time": "2023-05-25T13:26:20.042Z"
   },
   {
    "duration": 2,
    "start_time": "2023-05-25T13:26:20.705Z"
   },
   {
    "duration": 29,
    "start_time": "2023-05-25T13:26:20.709Z"
   },
   {
    "duration": 658,
    "start_time": "2023-05-25T13:26:20.739Z"
   },
   {
    "duration": 5,
    "start_time": "2023-05-25T13:26:21.398Z"
   },
   {
    "duration": 7,
    "start_time": "2023-05-25T13:26:21.404Z"
   },
   {
    "duration": 5,
    "start_time": "2023-05-25T13:26:21.412Z"
   },
   {
    "duration": 66,
    "start_time": "2023-05-25T13:26:21.419Z"
   },
   {
    "duration": 370,
    "start_time": "2023-05-25T13:26:21.576Z"
   },
   {
    "duration": 33,
    "start_time": "2023-05-25T13:26:21.947Z"
   },
   {
    "duration": 28,
    "start_time": "2023-05-25T13:26:24.115Z"
   },
   {
    "duration": 8,
    "start_time": "2023-05-25T13:26:24.550Z"
   },
   {
    "duration": 4,
    "start_time": "2023-05-25T13:28:09.050Z"
   },
   {
    "duration": 67,
    "start_time": "2023-05-25T13:28:09.056Z"
   },
   {
    "duration": 12,
    "start_time": "2023-05-25T13:28:09.125Z"
   },
   {
    "duration": 12,
    "start_time": "2023-05-25T13:28:09.138Z"
   },
   {
    "duration": 143,
    "start_time": "2023-05-25T13:28:09.152Z"
   },
   {
    "duration": 5,
    "start_time": "2023-05-25T13:28:09.296Z"
   },
   {
    "duration": 11,
    "start_time": "2023-05-25T13:28:09.302Z"
   },
   {
    "duration": 23,
    "start_time": "2023-05-25T13:28:09.314Z"
   },
   {
    "duration": 29,
    "start_time": "2023-05-25T13:28:09.338Z"
   },
   {
    "duration": 163,
    "start_time": "2023-05-25T13:28:09.370Z"
   },
   {
    "duration": 4,
    "start_time": "2023-05-25T13:28:09.534Z"
   },
   {
    "duration": 3,
    "start_time": "2023-05-25T13:28:09.540Z"
   },
   {
    "duration": 5,
    "start_time": "2023-05-25T13:28:09.545Z"
   },
   {
    "duration": 3,
    "start_time": "2023-05-25T13:28:09.551Z"
   },
   {
    "duration": 20,
    "start_time": "2023-05-25T13:28:09.556Z"
   },
   {
    "duration": 5,
    "start_time": "2023-05-25T13:28:09.577Z"
   },
   {
    "duration": 10,
    "start_time": "2023-05-25T13:28:09.583Z"
   },
   {
    "duration": 4,
    "start_time": "2023-05-25T13:28:09.594Z"
   },
   {
    "duration": 10,
    "start_time": "2023-05-25T13:28:09.599Z"
   },
   {
    "duration": 14,
    "start_time": "2023-05-25T13:28:09.610Z"
   },
   {
    "duration": 4,
    "start_time": "2023-05-25T13:28:09.625Z"
   },
   {
    "duration": 4,
    "start_time": "2023-05-25T13:28:09.631Z"
   },
   {
    "duration": 5,
    "start_time": "2023-05-25T13:28:09.637Z"
   },
   {
    "duration": 4,
    "start_time": "2023-05-25T13:28:09.644Z"
   },
   {
    "duration": 658,
    "start_time": "2023-05-25T13:28:09.650Z"
   },
   {
    "duration": 3,
    "start_time": "2023-05-25T13:28:10.310Z"
   },
   {
    "duration": 41,
    "start_time": "2023-05-25T13:28:10.314Z"
   },
   {
    "duration": 673,
    "start_time": "2023-05-25T13:28:10.358Z"
   },
   {
    "duration": 4,
    "start_time": "2023-05-25T13:28:11.033Z"
   },
   {
    "duration": 7,
    "start_time": "2023-05-25T13:28:11.038Z"
   },
   {
    "duration": 5,
    "start_time": "2023-05-25T13:28:11.047Z"
   },
   {
    "duration": 108,
    "start_time": "2023-05-25T13:28:11.074Z"
   },
   {
    "duration": 453,
    "start_time": "2023-05-25T13:28:11.184Z"
   },
   {
    "duration": 24,
    "start_time": "2023-05-25T13:28:11.639Z"
   },
   {
    "duration": 18,
    "start_time": "2023-05-25T13:28:11.664Z"
   },
   {
    "duration": 4997,
    "start_time": "2023-05-25T13:28:11.683Z"
   },
   {
    "duration": 47,
    "start_time": "2023-05-25T13:28:16.681Z"
   },
   {
    "duration": 10,
    "start_time": "2023-05-25T13:28:16.730Z"
   },
   {
    "duration": 72,
    "start_time": "2023-05-25T13:28:44.665Z"
   },
   {
    "duration": 15,
    "start_time": "2023-05-25T13:28:45.507Z"
   },
   {
    "duration": 115,
    "start_time": "2023-05-25T13:28:47.796Z"
   },
   {
    "duration": 4,
    "start_time": "2023-05-25T13:29:22.005Z"
   },
   {
    "duration": 55,
    "start_time": "2023-05-25T13:29:22.012Z"
   },
   {
    "duration": 16,
    "start_time": "2023-05-25T13:29:22.069Z"
   },
   {
    "duration": 23,
    "start_time": "2023-05-25T13:29:22.087Z"
   },
   {
    "duration": 157,
    "start_time": "2023-05-25T13:29:22.111Z"
   },
   {
    "duration": 4,
    "start_time": "2023-05-25T13:29:22.275Z"
   },
   {
    "duration": 3,
    "start_time": "2023-05-25T13:29:22.280Z"
   },
   {
    "duration": 6,
    "start_time": "2023-05-25T13:29:22.284Z"
   },
   {
    "duration": 4,
    "start_time": "2023-05-25T13:29:22.292Z"
   },
   {
    "duration": 164,
    "start_time": "2023-05-25T13:29:22.297Z"
   },
   {
    "duration": 4,
    "start_time": "2023-05-25T13:29:22.463Z"
   },
   {
    "duration": 7,
    "start_time": "2023-05-25T13:29:22.468Z"
   },
   {
    "duration": 3,
    "start_time": "2023-05-25T13:29:22.476Z"
   },
   {
    "duration": 10,
    "start_time": "2023-05-25T13:29:22.480Z"
   },
   {
    "duration": 16,
    "start_time": "2023-05-25T13:29:22.492Z"
   },
   {
    "duration": 16,
    "start_time": "2023-05-25T13:29:22.510Z"
   },
   {
    "duration": 8,
    "start_time": "2023-05-25T13:29:22.528Z"
   },
   {
    "duration": 4,
    "start_time": "2023-05-25T13:29:22.538Z"
   },
   {
    "duration": 5,
    "start_time": "2023-05-25T13:29:22.544Z"
   },
   {
    "duration": 5,
    "start_time": "2023-05-25T13:29:22.551Z"
   },
   {
    "duration": 23,
    "start_time": "2023-05-25T13:29:22.557Z"
   },
   {
    "duration": 12,
    "start_time": "2023-05-25T13:29:22.581Z"
   },
   {
    "duration": 14,
    "start_time": "2023-05-25T13:29:22.594Z"
   },
   {
    "duration": 2,
    "start_time": "2023-05-25T13:29:22.612Z"
   },
   {
    "duration": 648,
    "start_time": "2023-05-25T13:29:22.616Z"
   },
   {
    "duration": 9,
    "start_time": "2023-05-25T13:29:23.266Z"
   },
   {
    "duration": 28,
    "start_time": "2023-05-25T13:29:23.276Z"
   },
   {
    "duration": 760,
    "start_time": "2023-05-25T13:29:23.306Z"
   },
   {
    "duration": 10,
    "start_time": "2023-05-25T13:29:24.067Z"
   },
   {
    "duration": 7,
    "start_time": "2023-05-25T13:29:24.079Z"
   },
   {
    "duration": 6,
    "start_time": "2023-05-25T13:29:24.088Z"
   },
   {
    "duration": 84,
    "start_time": "2023-05-25T13:29:24.095Z"
   },
   {
    "duration": 119,
    "start_time": "2023-05-25T13:29:24.182Z"
   },
   {
    "duration": 155,
    "start_time": "2023-05-25T13:29:24.303Z"
   },
   {
    "duration": 24,
    "start_time": "2023-05-25T14:11:34.118Z"
   },
   {
    "duration": 6,
    "start_time": "2023-05-25T14:11:43.777Z"
   },
   {
    "duration": 8,
    "start_time": "2023-05-25T14:13:01.460Z"
   },
   {
    "duration": 10,
    "start_time": "2023-05-25T14:13:07.200Z"
   },
   {
    "duration": 8,
    "start_time": "2023-05-25T14:13:07.624Z"
   },
   {
    "duration": 73,
    "start_time": "2023-05-25T14:13:22.104Z"
   },
   {
    "duration": 4,
    "start_time": "2023-05-25T14:17:50.189Z"
   },
   {
    "duration": 42,
    "start_time": "2023-05-25T14:17:50.194Z"
   },
   {
    "duration": 13,
    "start_time": "2023-05-25T14:17:50.237Z"
   },
   {
    "duration": 19,
    "start_time": "2023-05-25T14:17:50.252Z"
   },
   {
    "duration": 149,
    "start_time": "2023-05-25T14:17:50.272Z"
   },
   {
    "duration": 4,
    "start_time": "2023-05-25T14:17:50.423Z"
   },
   {
    "duration": 12,
    "start_time": "2023-05-25T14:17:50.428Z"
   },
   {
    "duration": 12,
    "start_time": "2023-05-25T14:17:50.442Z"
   },
   {
    "duration": 20,
    "start_time": "2023-05-25T14:17:50.457Z"
   },
   {
    "duration": 163,
    "start_time": "2023-05-25T14:17:50.478Z"
   },
   {
    "duration": 5,
    "start_time": "2023-05-25T14:17:50.643Z"
   },
   {
    "duration": 42,
    "start_time": "2023-05-25T14:17:50.650Z"
   },
   {
    "duration": 16,
    "start_time": "2023-05-25T14:17:50.694Z"
   },
   {
    "duration": 35,
    "start_time": "2023-05-25T14:17:50.711Z"
   },
   {
    "duration": 23,
    "start_time": "2023-05-25T14:17:50.748Z"
   },
   {
    "duration": 16,
    "start_time": "2023-05-25T14:17:50.772Z"
   },
   {
    "duration": 14,
    "start_time": "2023-05-25T14:17:50.789Z"
   },
   {
    "duration": 5,
    "start_time": "2023-05-25T14:17:50.805Z"
   },
   {
    "duration": 7,
    "start_time": "2023-05-25T14:17:50.812Z"
   },
   {
    "duration": 16,
    "start_time": "2023-05-25T14:17:50.820Z"
   },
   {
    "duration": 8,
    "start_time": "2023-05-25T14:17:50.838Z"
   },
   {
    "duration": 5,
    "start_time": "2023-05-25T14:17:50.848Z"
   },
   {
    "duration": 6,
    "start_time": "2023-05-25T14:17:50.855Z"
   },
   {
    "duration": 24,
    "start_time": "2023-05-25T14:17:50.865Z"
   },
   {
    "duration": 645,
    "start_time": "2023-05-25T14:17:50.891Z"
   },
   {
    "duration": 3,
    "start_time": "2023-05-25T14:17:51.538Z"
   },
   {
    "duration": 33,
    "start_time": "2023-05-25T14:17:51.543Z"
   },
   {
    "duration": 670,
    "start_time": "2023-05-25T14:17:51.578Z"
   },
   {
    "duration": 4,
    "start_time": "2023-05-25T14:17:52.250Z"
   },
   {
    "duration": 30,
    "start_time": "2023-05-25T14:17:52.256Z"
   },
   {
    "duration": 10,
    "start_time": "2023-05-25T14:17:52.287Z"
   },
   {
    "duration": 80,
    "start_time": "2023-05-25T14:17:52.299Z"
   },
   {
    "duration": 101,
    "start_time": "2023-05-25T14:17:52.382Z"
   },
   {
    "duration": 311,
    "start_time": "2023-05-25T14:17:52.486Z"
   },
   {
    "duration": 350,
    "start_time": "2023-05-25T14:17:52.798Z"
   },
   {
    "duration": 29,
    "start_time": "2023-05-25T14:17:53.150Z"
   },
   {
    "duration": 7,
    "start_time": "2023-05-25T14:17:53.181Z"
   },
   {
    "duration": 126,
    "start_time": "2023-05-25T14:17:53.190Z"
   },
   {
    "duration": 5110,
    "start_time": "2023-05-25T14:17:53.317Z"
   },
   {
    "duration": 79,
    "start_time": "2023-05-25T14:17:58.429Z"
   },
   {
    "duration": 12,
    "start_time": "2023-05-25T14:17:58.510Z"
   },
   {
    "duration": 129,
    "start_time": "2023-05-25T14:17:58.524Z"
   },
   {
    "duration": 33,
    "start_time": "2023-05-25T14:17:58.654Z"
   },
   {
    "duration": 6,
    "start_time": "2023-05-25T14:17:58.777Z"
   },
   {
    "duration": 14,
    "start_time": "2023-05-25T14:17:58.876Z"
   },
   {
    "duration": 8,
    "start_time": "2023-05-25T14:17:58.891Z"
   },
   {
    "duration": 77,
    "start_time": "2023-05-25T14:17:58.900Z"
   },
   {
    "duration": 101,
    "start_time": "2023-05-25T14:17:58.981Z"
   },
   {
    "duration": 95,
    "start_time": "2023-05-25T14:17:59.084Z"
   },
   {
    "duration": 110,
    "start_time": "2023-05-25T14:17:59.181Z"
   },
   {
    "duration": 7,
    "start_time": "2023-05-25T14:17:59.292Z"
   },
   {
    "duration": 7,
    "start_time": "2023-05-25T14:18:03.717Z"
   },
   {
    "duration": 4,
    "start_time": "2023-05-25T14:18:35.187Z"
   },
   {
    "duration": 9,
    "start_time": "2023-05-25T14:18:35.545Z"
   },
   {
    "duration": 15,
    "start_time": "2023-05-25T14:18:35.978Z"
   },
   {
    "duration": 4,
    "start_time": "2023-05-26T08:37:52.941Z"
   },
   {
    "duration": 82,
    "start_time": "2023-05-26T08:37:52.947Z"
   },
   {
    "duration": 13,
    "start_time": "2023-05-26T08:37:53.031Z"
   },
   {
    "duration": 14,
    "start_time": "2023-05-26T08:37:53.046Z"
   },
   {
    "duration": 191,
    "start_time": "2023-05-26T08:37:53.062Z"
   },
   {
    "duration": 4,
    "start_time": "2023-05-26T08:37:53.255Z"
   },
   {
    "duration": 8,
    "start_time": "2023-05-26T08:37:53.261Z"
   },
   {
    "duration": 17,
    "start_time": "2023-05-26T08:37:53.281Z"
   },
   {
    "duration": 6,
    "start_time": "2023-05-26T08:37:53.301Z"
   },
   {
    "duration": 165,
    "start_time": "2023-05-26T08:37:53.312Z"
   },
   {
    "duration": 8,
    "start_time": "2023-05-26T08:37:53.480Z"
   },
   {
    "duration": 5,
    "start_time": "2023-05-26T08:37:53.494Z"
   },
   {
    "duration": 3,
    "start_time": "2023-05-26T08:37:53.507Z"
   },
   {
    "duration": 4,
    "start_time": "2023-05-26T08:37:53.512Z"
   },
   {
    "duration": 16,
    "start_time": "2023-05-26T08:37:53.518Z"
   },
   {
    "duration": 6,
    "start_time": "2023-05-26T08:37:53.536Z"
   },
   {
    "duration": 11,
    "start_time": "2023-05-26T08:37:53.544Z"
   },
   {
    "duration": 23,
    "start_time": "2023-05-26T08:37:53.557Z"
   },
   {
    "duration": 10,
    "start_time": "2023-05-26T08:37:53.582Z"
   },
   {
    "duration": 8,
    "start_time": "2023-05-26T08:37:53.594Z"
   },
   {
    "duration": 6,
    "start_time": "2023-05-26T08:37:53.605Z"
   },
   {
    "duration": 21,
    "start_time": "2023-05-26T08:37:53.613Z"
   },
   {
    "duration": 5,
    "start_time": "2023-05-26T08:37:53.637Z"
   },
   {
    "duration": 4,
    "start_time": "2023-05-26T08:37:53.644Z"
   },
   {
    "duration": 958,
    "start_time": "2023-05-26T08:37:53.650Z"
   },
   {
    "duration": 2,
    "start_time": "2023-05-26T08:37:54.610Z"
   },
   {
    "duration": 31,
    "start_time": "2023-05-26T08:37:54.613Z"
   },
   {
    "duration": 771,
    "start_time": "2023-05-26T08:37:54.646Z"
   },
   {
    "duration": 5,
    "start_time": "2023-05-26T08:37:55.420Z"
   },
   {
    "duration": 19,
    "start_time": "2023-05-26T08:37:55.427Z"
   },
   {
    "duration": 6,
    "start_time": "2023-05-26T08:37:55.448Z"
   },
   {
    "duration": 122,
    "start_time": "2023-05-26T08:37:55.456Z"
   },
   {
    "duration": 29,
    "start_time": "2023-05-26T08:37:55.580Z"
   },
   {
    "duration": 223,
    "start_time": "2023-05-26T08:37:55.678Z"
   },
   {
    "duration": 396,
    "start_time": "2023-05-26T08:37:55.903Z"
   },
   {
    "duration": 35,
    "start_time": "2023-05-26T08:37:56.301Z"
   },
   {
    "duration": 9,
    "start_time": "2023-05-26T08:37:56.337Z"
   },
   {
    "duration": 152,
    "start_time": "2023-05-26T08:37:56.347Z"
   },
   {
    "duration": 5525,
    "start_time": "2023-05-26T08:37:56.500Z"
   },
   {
    "duration": 89,
    "start_time": "2023-05-26T08:38:02.027Z"
   },
   {
    "duration": 12,
    "start_time": "2023-05-26T08:38:02.118Z"
   },
   {
    "duration": 149,
    "start_time": "2023-05-26T08:38:02.132Z"
   },
   {
    "duration": 41,
    "start_time": "2023-05-26T08:38:02.289Z"
   },
   {
    "duration": 8,
    "start_time": "2023-05-26T08:38:02.378Z"
   },
   {
    "duration": 93,
    "start_time": "2023-05-26T08:38:02.390Z"
   },
   {
    "duration": 18,
    "start_time": "2023-05-26T08:38:02.485Z"
   },
   {
    "duration": 88,
    "start_time": "2023-05-26T08:38:02.505Z"
   },
   {
    "duration": 100,
    "start_time": "2023-05-26T08:38:02.599Z"
   },
   {
    "duration": 194,
    "start_time": "2023-05-26T08:38:02.702Z"
   },
   {
    "duration": 7,
    "start_time": "2023-05-26T08:38:02.898Z"
   },
   {
    "duration": 13,
    "start_time": "2023-05-26T08:38:02.906Z"
   },
   {
    "duration": 8,
    "start_time": "2023-05-26T08:38:02.921Z"
   },
   {
    "duration": 67,
    "start_time": "2023-05-26T08:38:02.930Z"
   },
   {
    "duration": 26,
    "start_time": "2023-05-26T08:38:03.082Z"
   },
   {
    "duration": 292,
    "start_time": "2023-05-26T08:38:03.113Z"
   },
   {
    "duration": 248,
    "start_time": "2023-05-26T08:38:03.409Z"
   },
   {
    "duration": 8,
    "start_time": "2023-05-26T08:38:03.665Z"
   },
   {
    "duration": 153,
    "start_time": "2023-05-26T08:38:03.675Z"
   },
   {
    "duration": 457,
    "start_time": "2023-05-26T08:38:03.830Z"
   },
   {
    "duration": 36,
    "start_time": "2023-05-26T08:38:04.293Z"
   },
   {
    "duration": 11,
    "start_time": "2023-05-26T08:38:04.334Z"
   },
   {
    "duration": 148,
    "start_time": "2023-05-26T08:38:04.347Z"
   },
   {
    "duration": 501,
    "start_time": "2023-05-26T08:38:04.500Z"
   },
   {
    "duration": 33,
    "start_time": "2023-05-26T08:38:05.005Z"
   },
   {
    "duration": 9,
    "start_time": "2023-05-26T08:38:05.040Z"
   },
   {
    "duration": 5,
    "start_time": "2023-05-26T08:40:14.506Z"
   },
   {
    "duration": 45,
    "start_time": "2023-05-26T08:40:14.513Z"
   },
   {
    "duration": 17,
    "start_time": "2023-05-26T08:40:14.560Z"
   },
   {
    "duration": 26,
    "start_time": "2023-05-26T08:40:14.584Z"
   },
   {
    "duration": 178,
    "start_time": "2023-05-26T08:40:14.612Z"
   },
   {
    "duration": 10,
    "start_time": "2023-05-26T08:40:14.794Z"
   },
   {
    "duration": 2,
    "start_time": "2023-05-26T08:40:14.809Z"
   },
   {
    "duration": 5,
    "start_time": "2023-05-26T08:40:14.813Z"
   },
   {
    "duration": 6,
    "start_time": "2023-05-26T08:40:14.820Z"
   },
   {
    "duration": 177,
    "start_time": "2023-05-26T08:40:14.828Z"
   },
   {
    "duration": 6,
    "start_time": "2023-05-26T08:40:15.011Z"
   },
   {
    "duration": 31,
    "start_time": "2023-05-26T08:40:15.019Z"
   },
   {
    "duration": 47,
    "start_time": "2023-05-26T08:40:15.052Z"
   },
   {
    "duration": 14,
    "start_time": "2023-05-26T08:40:15.102Z"
   },
   {
    "duration": 24,
    "start_time": "2023-05-26T08:40:15.117Z"
   },
   {
    "duration": 16,
    "start_time": "2023-05-26T08:40:15.142Z"
   },
   {
    "duration": 8,
    "start_time": "2023-05-26T08:40:15.159Z"
   },
   {
    "duration": 5,
    "start_time": "2023-05-26T08:40:15.168Z"
   },
   {
    "duration": 26,
    "start_time": "2023-05-26T08:40:15.175Z"
   },
   {
    "duration": 4,
    "start_time": "2023-05-26T08:40:15.203Z"
   },
   {
    "duration": 8,
    "start_time": "2023-05-26T08:40:15.209Z"
   },
   {
    "duration": 15,
    "start_time": "2023-05-26T08:40:15.219Z"
   },
   {
    "duration": 4,
    "start_time": "2023-05-26T08:40:15.236Z"
   },
   {
    "duration": 12,
    "start_time": "2023-05-26T08:40:15.241Z"
   },
   {
    "duration": 860,
    "start_time": "2023-05-26T08:40:15.255Z"
   },
   {
    "duration": 4,
    "start_time": "2023-05-26T08:40:16.117Z"
   },
   {
    "duration": 31,
    "start_time": "2023-05-26T08:40:16.123Z"
   },
   {
    "duration": 786,
    "start_time": "2023-05-26T08:40:16.159Z"
   },
   {
    "duration": 5,
    "start_time": "2023-05-26T08:40:16.947Z"
   },
   {
    "duration": 10,
    "start_time": "2023-05-26T08:40:16.953Z"
   },
   {
    "duration": 16,
    "start_time": "2023-05-26T08:40:16.965Z"
   },
   {
    "duration": 113,
    "start_time": "2023-05-26T08:40:16.983Z"
   },
   {
    "duration": 91,
    "start_time": "2023-05-26T08:40:17.099Z"
   },
   {
    "duration": 213,
    "start_time": "2023-05-26T08:40:17.193Z"
   },
   {
    "duration": 387,
    "start_time": "2023-05-26T08:40:17.410Z"
   },
   {
    "duration": 24,
    "start_time": "2023-05-26T08:40:17.803Z"
   },
   {
    "duration": 8,
    "start_time": "2023-05-26T08:40:17.828Z"
   },
   {
    "duration": 129,
    "start_time": "2023-05-26T08:40:17.838Z"
   },
   {
    "duration": 5326,
    "start_time": "2023-05-26T08:40:17.969Z"
   },
   {
    "duration": 90,
    "start_time": "2023-05-26T08:40:23.300Z"
   },
   {
    "duration": 19,
    "start_time": "2023-05-26T08:40:23.393Z"
   },
   {
    "duration": 159,
    "start_time": "2023-05-26T08:40:23.414Z"
   },
   {
    "duration": 96,
    "start_time": "2023-05-26T08:40:23.579Z"
   },
   {
    "duration": 16,
    "start_time": "2023-05-26T08:40:23.677Z"
   },
   {
    "duration": 91,
    "start_time": "2023-05-26T08:40:23.697Z"
   },
   {
    "duration": 15,
    "start_time": "2023-05-26T08:40:23.792Z"
   },
   {
    "duration": 92,
    "start_time": "2023-05-26T08:40:23.809Z"
   },
   {
    "duration": 94,
    "start_time": "2023-05-26T08:40:23.994Z"
   },
   {
    "duration": 228,
    "start_time": "2023-05-26T08:40:24.096Z"
   },
   {
    "duration": 8,
    "start_time": "2023-05-26T08:40:24.326Z"
   },
   {
    "duration": 22,
    "start_time": "2023-05-26T08:40:24.336Z"
   },
   {
    "duration": 11,
    "start_time": "2023-05-26T08:40:24.360Z"
   },
   {
    "duration": 112,
    "start_time": "2023-05-26T08:40:24.373Z"
   },
   {
    "duration": 94,
    "start_time": "2023-05-26T08:40:24.489Z"
   },
   {
    "duration": 213,
    "start_time": "2023-05-26T08:40:24.585Z"
   },
   {
    "duration": 224,
    "start_time": "2023-05-26T08:40:24.800Z"
   },
   {
    "duration": 8,
    "start_time": "2023-05-26T08:40:25.025Z"
   },
   {
    "duration": 163,
    "start_time": "2023-05-26T08:40:25.034Z"
   },
   {
    "duration": 407,
    "start_time": "2023-05-26T08:40:25.199Z"
   },
   {
    "duration": 25,
    "start_time": "2023-05-26T08:40:25.608Z"
   },
   {
    "duration": 8,
    "start_time": "2023-05-26T08:40:25.635Z"
   },
   {
    "duration": 136,
    "start_time": "2023-05-26T08:40:25.644Z"
   },
   {
    "duration": 502,
    "start_time": "2023-05-26T08:40:25.798Z"
   },
   {
    "duration": 40,
    "start_time": "2023-05-26T08:40:26.302Z"
   },
   {
    "duration": 10,
    "start_time": "2023-05-26T08:40:26.344Z"
   },
   {
    "duration": 8,
    "start_time": "2023-05-26T08:40:28.628Z"
   },
   {
    "duration": 130,
    "start_time": "2023-05-26T08:40:30.923Z"
   },
   {
    "duration": 11,
    "start_time": "2023-05-26T08:53:23.592Z"
   },
   {
    "duration": 85,
    "start_time": "2023-05-26T08:53:23.606Z"
   },
   {
    "duration": 15,
    "start_time": "2023-05-26T08:53:23.703Z"
   },
   {
    "duration": 16,
    "start_time": "2023-05-26T08:53:23.720Z"
   },
   {
    "duration": 174,
    "start_time": "2023-05-26T08:53:23.737Z"
   },
   {
    "duration": 9,
    "start_time": "2023-05-26T08:53:23.915Z"
   },
   {
    "duration": 5,
    "start_time": "2023-05-26T08:53:23.926Z"
   },
   {
    "duration": 12,
    "start_time": "2023-05-26T08:53:23.933Z"
   },
   {
    "duration": 7,
    "start_time": "2023-05-26T08:53:23.947Z"
   },
   {
    "duration": 195,
    "start_time": "2023-05-26T08:53:23.957Z"
   },
   {
    "duration": 5,
    "start_time": "2023-05-26T08:53:24.153Z"
   },
   {
    "duration": 23,
    "start_time": "2023-05-26T08:53:24.160Z"
   },
   {
    "duration": 20,
    "start_time": "2023-05-26T08:53:24.184Z"
   },
   {
    "duration": 8,
    "start_time": "2023-05-26T08:53:24.207Z"
   },
   {
    "duration": 13,
    "start_time": "2023-05-26T08:53:24.219Z"
   },
   {
    "duration": 7,
    "start_time": "2023-05-26T08:53:24.234Z"
   },
   {
    "duration": 13,
    "start_time": "2023-05-26T08:53:24.243Z"
   },
   {
    "duration": 6,
    "start_time": "2023-05-26T08:53:24.258Z"
   },
   {
    "duration": 16,
    "start_time": "2023-05-26T08:53:24.266Z"
   },
   {
    "duration": 10,
    "start_time": "2023-05-26T08:53:24.290Z"
   },
   {
    "duration": 4,
    "start_time": "2023-05-26T08:53:24.302Z"
   },
   {
    "duration": 7,
    "start_time": "2023-05-26T08:53:24.307Z"
   },
   {
    "duration": 8,
    "start_time": "2023-05-26T08:53:24.315Z"
   },
   {
    "duration": 6,
    "start_time": "2023-05-26T08:53:24.325Z"
   },
   {
    "duration": 850,
    "start_time": "2023-05-26T08:53:24.332Z"
   },
   {
    "duration": 5,
    "start_time": "2023-05-26T08:53:25.184Z"
   },
   {
    "duration": 39,
    "start_time": "2023-05-26T08:53:25.193Z"
   },
   {
    "duration": 751,
    "start_time": "2023-05-26T08:53:25.234Z"
   },
   {
    "duration": 5,
    "start_time": "2023-05-26T08:53:25.987Z"
   },
   {
    "duration": 12,
    "start_time": "2023-05-26T08:53:25.993Z"
   },
   {
    "duration": 11,
    "start_time": "2023-05-26T08:53:26.007Z"
   },
   {
    "duration": 78,
    "start_time": "2023-05-26T08:53:26.020Z"
   },
   {
    "duration": 92,
    "start_time": "2023-05-26T08:53:26.107Z"
   },
   {
    "duration": 232,
    "start_time": "2023-05-26T08:53:26.202Z"
   },
   {
    "duration": 388,
    "start_time": "2023-05-26T08:53:26.435Z"
   },
   {
    "duration": 23,
    "start_time": "2023-05-26T08:53:26.825Z"
   },
   {
    "duration": 8,
    "start_time": "2023-05-26T08:53:26.850Z"
   },
   {
    "duration": 143,
    "start_time": "2023-05-26T08:53:26.874Z"
   },
   {
    "duration": 5413,
    "start_time": "2023-05-26T08:53:27.018Z"
   },
   {
    "duration": 79,
    "start_time": "2023-05-26T08:53:32.433Z"
   },
   {
    "duration": 12,
    "start_time": "2023-05-26T08:53:32.513Z"
   },
   {
    "duration": 132,
    "start_time": "2023-05-26T08:53:32.528Z"
   },
   {
    "duration": 52,
    "start_time": "2023-05-26T08:53:32.662Z"
   },
   {
    "duration": 69,
    "start_time": "2023-05-26T08:53:32.716Z"
   },
   {
    "duration": 95,
    "start_time": "2023-05-26T08:53:32.789Z"
   },
   {
    "duration": 14,
    "start_time": "2023-05-26T08:53:32.891Z"
   },
   {
    "duration": 74,
    "start_time": "2023-05-26T08:53:32.908Z"
   },
   {
    "duration": 100,
    "start_time": "2023-05-26T08:53:32.986Z"
   },
   {
    "duration": 220,
    "start_time": "2023-05-26T08:53:33.096Z"
   },
   {
    "duration": 5,
    "start_time": "2023-05-26T08:53:33.318Z"
   },
   {
    "duration": 20,
    "start_time": "2023-05-26T08:53:33.324Z"
   },
   {
    "duration": 8,
    "start_time": "2023-05-26T08:53:33.346Z"
   },
   {
    "duration": 50,
    "start_time": "2023-05-26T08:53:33.356Z"
   },
   {
    "duration": 67,
    "start_time": "2023-05-26T08:53:33.408Z"
   },
   {
    "duration": 209,
    "start_time": "2023-05-26T08:53:33.479Z"
   },
   {
    "duration": 244,
    "start_time": "2023-05-26T08:53:33.690Z"
   },
   {
    "duration": 7,
    "start_time": "2023-05-26T08:53:33.936Z"
   },
   {
    "duration": 179,
    "start_time": "2023-05-26T08:53:33.945Z"
   },
   {
    "duration": 460,
    "start_time": "2023-05-26T08:53:34.126Z"
   },
   {
    "duration": 32,
    "start_time": "2023-05-26T08:53:34.590Z"
   },
   {
    "duration": 9,
    "start_time": "2023-05-26T08:53:34.623Z"
   },
   {
    "duration": 135,
    "start_time": "2023-05-26T08:53:34.634Z"
   },
   {
    "duration": 10,
    "start_time": "2023-05-26T08:53:59.978Z"
   },
   {
    "duration": 45,
    "start_time": "2023-05-26T08:53:59.996Z"
   },
   {
    "duration": 13,
    "start_time": "2023-05-26T08:54:00.043Z"
   },
   {
    "duration": 27,
    "start_time": "2023-05-26T08:54:00.058Z"
   },
   {
    "duration": 168,
    "start_time": "2023-05-26T08:54:00.087Z"
   },
   {
    "duration": 4,
    "start_time": "2023-05-26T08:54:00.256Z"
   },
   {
    "duration": 25,
    "start_time": "2023-05-26T08:54:00.262Z"
   },
   {
    "duration": 20,
    "start_time": "2023-05-26T08:54:00.289Z"
   },
   {
    "duration": 18,
    "start_time": "2023-05-26T08:54:00.310Z"
   },
   {
    "duration": 163,
    "start_time": "2023-05-26T08:54:00.330Z"
   },
   {
    "duration": 8,
    "start_time": "2023-05-26T08:54:00.499Z"
   },
   {
    "duration": 22,
    "start_time": "2023-05-26T08:54:00.509Z"
   },
   {
    "duration": 29,
    "start_time": "2023-05-26T08:54:00.533Z"
   },
   {
    "duration": 36,
    "start_time": "2023-05-26T08:54:00.563Z"
   },
   {
    "duration": 51,
    "start_time": "2023-05-26T08:54:00.605Z"
   },
   {
    "duration": 47,
    "start_time": "2023-05-26T08:54:00.658Z"
   },
   {
    "duration": 40,
    "start_time": "2023-05-26T08:54:00.707Z"
   },
   {
    "duration": 55,
    "start_time": "2023-05-26T08:54:00.749Z"
   },
   {
    "duration": 42,
    "start_time": "2023-05-26T08:54:00.806Z"
   },
   {
    "duration": 39,
    "start_time": "2023-05-26T08:54:00.850Z"
   },
   {
    "duration": 28,
    "start_time": "2023-05-26T08:54:00.890Z"
   },
   {
    "duration": 37,
    "start_time": "2023-05-26T08:54:00.920Z"
   },
   {
    "duration": 36,
    "start_time": "2023-05-26T08:54:00.959Z"
   },
   {
    "duration": 51,
    "start_time": "2023-05-26T08:54:00.997Z"
   },
   {
    "duration": 879,
    "start_time": "2023-05-26T08:54:01.050Z"
   },
   {
    "duration": 5,
    "start_time": "2023-05-26T08:54:01.931Z"
   },
   {
    "duration": 90,
    "start_time": "2023-05-26T08:54:01.937Z"
   },
   {
    "duration": 803,
    "start_time": "2023-05-26T08:54:02.029Z"
   },
   {
    "duration": 6,
    "start_time": "2023-05-26T08:54:02.836Z"
   },
   {
    "duration": 11,
    "start_time": "2023-05-26T08:54:02.843Z"
   },
   {
    "duration": 8,
    "start_time": "2023-05-26T08:54:02.855Z"
   },
   {
    "duration": 110,
    "start_time": "2023-05-26T08:54:02.879Z"
   },
   {
    "duration": 84,
    "start_time": "2023-05-26T08:54:02.994Z"
   },
   {
    "duration": 209,
    "start_time": "2023-05-26T08:54:03.087Z"
   },
   {
    "duration": 400,
    "start_time": "2023-05-26T08:54:03.297Z"
   },
   {
    "duration": 26,
    "start_time": "2023-05-26T08:54:03.702Z"
   },
   {
    "duration": 11,
    "start_time": "2023-05-26T08:54:03.730Z"
   },
   {
    "duration": 169,
    "start_time": "2023-05-26T08:54:03.743Z"
   },
   {
    "duration": 5450,
    "start_time": "2023-05-26T08:54:03.913Z"
   },
   {
    "duration": 80,
    "start_time": "2023-05-26T08:54:09.364Z"
   },
   {
    "duration": 12,
    "start_time": "2023-05-26T08:54:09.446Z"
   },
   {
    "duration": 158,
    "start_time": "2023-05-26T08:54:09.459Z"
   },
   {
    "duration": 167,
    "start_time": "2023-05-26T08:54:09.618Z"
   },
   {
    "duration": 4,
    "start_time": "2023-05-26T08:54:09.791Z"
   },
   {
    "duration": 21,
    "start_time": "2023-05-26T08:54:09.797Z"
   },
   {
    "duration": 8,
    "start_time": "2023-05-26T08:54:09.819Z"
   },
   {
    "duration": 151,
    "start_time": "2023-05-26T08:54:09.829Z"
   },
   {
    "duration": 19,
    "start_time": "2023-05-26T08:54:09.982Z"
   },
   {
    "duration": 222,
    "start_time": "2023-05-26T08:54:10.081Z"
   },
   {
    "duration": 5,
    "start_time": "2023-05-26T08:54:10.307Z"
   },
   {
    "duration": 13,
    "start_time": "2023-05-26T08:54:10.313Z"
   },
   {
    "duration": 7,
    "start_time": "2023-05-26T08:54:10.328Z"
   },
   {
    "duration": 56,
    "start_time": "2023-05-26T08:54:10.336Z"
   },
   {
    "duration": 86,
    "start_time": "2023-05-26T08:54:10.395Z"
   },
   {
    "duration": 208,
    "start_time": "2023-05-26T08:54:10.487Z"
   },
   {
    "duration": 250,
    "start_time": "2023-05-26T08:54:10.697Z"
   },
   {
    "duration": 7,
    "start_time": "2023-05-26T08:54:10.949Z"
   },
   {
    "duration": 136,
    "start_time": "2023-05-26T08:54:10.958Z"
   },
   {
    "duration": 417,
    "start_time": "2023-05-26T08:54:11.096Z"
   },
   {
    "duration": 25,
    "start_time": "2023-05-26T08:54:11.515Z"
   },
   {
    "duration": 8,
    "start_time": "2023-05-26T08:54:11.541Z"
   },
   {
    "duration": 170,
    "start_time": "2023-05-26T08:54:11.551Z"
   },
   {
    "duration": 490,
    "start_time": "2023-05-26T08:54:11.723Z"
   },
   {
    "duration": 27,
    "start_time": "2023-05-26T08:54:12.215Z"
   },
   {
    "duration": 8,
    "start_time": "2023-05-26T08:54:12.244Z"
   },
   {
    "duration": 10,
    "start_time": "2023-05-26T08:55:28.102Z"
   },
   {
    "duration": 9,
    "start_time": "2023-05-26T08:55:34.851Z"
   },
   {
    "duration": 220,
    "start_time": "2023-05-26T08:57:00.591Z"
   },
   {
    "duration": 16,
    "start_time": "2023-05-26T08:57:02.005Z"
   },
   {
    "duration": 9,
    "start_time": "2023-05-26T08:57:02.690Z"
   },
   {
    "duration": 6,
    "start_time": "2023-05-26T09:14:35.163Z"
   },
   {
    "duration": 40,
    "start_time": "2023-05-26T09:14:35.196Z"
   },
   {
    "duration": 14,
    "start_time": "2023-05-26T09:14:35.239Z"
   },
   {
    "duration": 23,
    "start_time": "2023-05-26T09:14:35.255Z"
   },
   {
    "duration": 171,
    "start_time": "2023-05-26T09:14:35.280Z"
   },
   {
    "duration": 23,
    "start_time": "2023-05-26T09:14:35.454Z"
   },
   {
    "duration": 7,
    "start_time": "2023-05-26T09:14:35.479Z"
   },
   {
    "duration": 11,
    "start_time": "2023-05-26T09:14:35.488Z"
   },
   {
    "duration": 7,
    "start_time": "2023-05-26T09:14:35.503Z"
   },
   {
    "duration": 235,
    "start_time": "2023-05-26T09:14:35.512Z"
   },
   {
    "duration": 5,
    "start_time": "2023-05-26T09:14:35.749Z"
   },
   {
    "duration": 15,
    "start_time": "2023-05-26T09:14:35.756Z"
   },
   {
    "duration": 9,
    "start_time": "2023-05-26T09:14:35.773Z"
   },
   {
    "duration": 15,
    "start_time": "2023-05-26T09:14:35.783Z"
   },
   {
    "duration": 15,
    "start_time": "2023-05-26T09:14:35.801Z"
   },
   {
    "duration": 7,
    "start_time": "2023-05-26T09:14:35.818Z"
   },
   {
    "duration": 26,
    "start_time": "2023-05-26T09:14:35.827Z"
   },
   {
    "duration": 8,
    "start_time": "2023-05-26T09:14:35.855Z"
   },
   {
    "duration": 8,
    "start_time": "2023-05-26T09:14:35.865Z"
   },
   {
    "duration": 35,
    "start_time": "2023-05-26T09:14:35.875Z"
   },
   {
    "duration": 8,
    "start_time": "2023-05-26T09:14:35.912Z"
   },
   {
    "duration": 36,
    "start_time": "2023-05-26T09:14:35.922Z"
   },
   {
    "duration": 22,
    "start_time": "2023-05-26T09:14:35.960Z"
   },
   {
    "duration": 6,
    "start_time": "2023-05-26T09:14:35.983Z"
   },
   {
    "duration": 773,
    "start_time": "2023-05-26T09:14:35.991Z"
   },
   {
    "duration": 3,
    "start_time": "2023-05-26T09:14:36.766Z"
   },
   {
    "duration": 46,
    "start_time": "2023-05-26T09:14:36.775Z"
   },
   {
    "duration": 676,
    "start_time": "2023-05-26T09:14:36.823Z"
   },
   {
    "duration": 5,
    "start_time": "2023-05-26T09:14:37.501Z"
   },
   {
    "duration": 19,
    "start_time": "2023-05-26T09:14:37.507Z"
   },
   {
    "duration": 11,
    "start_time": "2023-05-26T09:14:37.528Z"
   },
   {
    "duration": 138,
    "start_time": "2023-05-26T09:14:37.541Z"
   },
   {
    "duration": 100,
    "start_time": "2023-05-26T09:14:37.682Z"
   },
   {
    "duration": 291,
    "start_time": "2023-05-26T09:14:37.784Z"
   },
   {
    "duration": 369,
    "start_time": "2023-05-26T09:14:38.077Z"
   },
   {
    "duration": 40,
    "start_time": "2023-05-26T09:14:38.448Z"
   },
   {
    "duration": 11,
    "start_time": "2023-05-26T09:14:38.490Z"
   },
   {
    "duration": 141,
    "start_time": "2023-05-26T09:14:38.503Z"
   },
   {
    "duration": 5032,
    "start_time": "2023-05-26T09:14:38.646Z"
   },
   {
    "duration": 100,
    "start_time": "2023-05-26T09:14:43.680Z"
   },
   {
    "duration": 15,
    "start_time": "2023-05-26T09:14:43.782Z"
   },
   {
    "duration": 150,
    "start_time": "2023-05-26T09:14:43.801Z"
   },
   {
    "duration": 222,
    "start_time": "2023-05-26T09:14:43.953Z"
   },
   {
    "duration": 16,
    "start_time": "2023-05-26T09:14:44.177Z"
   },
   {
    "duration": 205,
    "start_time": "2023-05-26T09:14:44.277Z"
   },
   {
    "duration": 4,
    "start_time": "2023-05-26T09:14:44.484Z"
   },
   {
    "duration": 11,
    "start_time": "2023-05-26T09:14:44.490Z"
   },
   {
    "duration": 9,
    "start_time": "2023-05-26T09:14:44.502Z"
   },
   {
    "duration": 164,
    "start_time": "2023-05-26T09:14:44.512Z"
   },
   {
    "duration": 98,
    "start_time": "2023-05-26T09:14:44.678Z"
   },
   {
    "duration": 224,
    "start_time": "2023-05-26T09:14:44.779Z"
   },
   {
    "duration": 7,
    "start_time": "2023-05-26T09:14:45.006Z"
   },
   {
    "duration": 43,
    "start_time": "2023-05-26T09:14:45.015Z"
   },
   {
    "duration": 15,
    "start_time": "2023-05-26T09:14:45.060Z"
   },
   {
    "duration": 103,
    "start_time": "2023-05-26T09:14:45.076Z"
   },
   {
    "duration": 100,
    "start_time": "2023-05-26T09:14:45.181Z"
   },
   {
    "duration": 300,
    "start_time": "2023-05-26T09:14:45.283Z"
   },
   {
    "duration": 235,
    "start_time": "2023-05-26T09:14:45.584Z"
   },
   {
    "duration": 6,
    "start_time": "2023-05-26T09:14:45.821Z"
   },
   {
    "duration": 133,
    "start_time": "2023-05-26T09:14:45.828Z"
   },
   {
    "duration": 404,
    "start_time": "2023-05-26T09:14:45.962Z"
   },
   {
    "duration": 39,
    "start_time": "2023-05-26T09:14:46.367Z"
   },
   {
    "duration": 11,
    "start_time": "2023-05-26T09:14:46.408Z"
   },
   {
    "duration": 385,
    "start_time": "2023-05-26T09:14:59.523Z"
   },
   {
    "duration": 127,
    "start_time": "2023-05-26T09:15:22.839Z"
   },
   {
    "duration": 421,
    "start_time": "2023-05-26T09:15:52.994Z"
   },
   {
    "duration": 419,
    "start_time": "2023-05-26T09:16:34.946Z"
   },
   {
    "duration": 25,
    "start_time": "2023-05-26T09:17:05.922Z"
   },
   {
    "duration": 473,
    "start_time": "2023-05-26T09:18:01.810Z"
   },
   {
    "duration": 9,
    "start_time": "2023-05-26T09:18:05.008Z"
   },
   {
    "duration": 455,
    "start_time": "2023-05-26T09:20:05.191Z"
   },
   {
    "duration": 30,
    "start_time": "2023-05-26T09:20:35.495Z"
   },
   {
    "duration": 11,
    "start_time": "2023-05-26T09:20:46.575Z"
   },
   {
    "duration": 120,
    "start_time": "2023-05-26T09:20:47.302Z"
   },
   {
    "duration": 217,
    "start_time": "2023-05-26T09:20:57.487Z"
   },
   {
    "duration": 17,
    "start_time": "2023-05-26T09:20:58.988Z"
   },
   {
    "duration": 9,
    "start_time": "2023-05-26T09:20:59.606Z"
   },
   {
    "duration": 128,
    "start_time": "2023-05-26T09:21:01.088Z"
   },
   {
    "duration": 222,
    "start_time": "2023-05-26T09:21:26.367Z"
   },
   {
    "duration": 15,
    "start_time": "2023-05-26T09:21:29.603Z"
   },
   {
    "duration": 9,
    "start_time": "2023-05-26T09:21:31.102Z"
   },
   {
    "duration": 131,
    "start_time": "2023-05-26T09:21:32.182Z"
   },
   {
    "duration": 5377,
    "start_time": "2023-05-26T09:22:04.012Z"
   },
   {
    "duration": 5,
    "start_time": "2023-05-26T09:22:12.853Z"
   },
   {
    "duration": 71,
    "start_time": "2023-05-26T09:22:12.860Z"
   },
   {
    "duration": 17,
    "start_time": "2023-05-26T09:22:12.934Z"
   },
   {
    "duration": 16,
    "start_time": "2023-05-26T09:22:12.953Z"
   },
   {
    "duration": 162,
    "start_time": "2023-05-26T09:22:12.971Z"
   },
   {
    "duration": 4,
    "start_time": "2023-05-26T09:22:13.135Z"
   },
   {
    "duration": 12,
    "start_time": "2023-05-26T09:22:13.140Z"
   },
   {
    "duration": 12,
    "start_time": "2023-05-26T09:22:13.153Z"
   },
   {
    "duration": 14,
    "start_time": "2023-05-26T09:22:13.166Z"
   },
   {
    "duration": 263,
    "start_time": "2023-05-26T09:22:13.182Z"
   },
   {
    "duration": 4,
    "start_time": "2023-05-26T09:22:13.448Z"
   },
   {
    "duration": 27,
    "start_time": "2023-05-26T09:22:13.454Z"
   },
   {
    "duration": 20,
    "start_time": "2023-05-26T09:22:13.483Z"
   },
   {
    "duration": 16,
    "start_time": "2023-05-26T09:22:13.505Z"
   },
   {
    "duration": 38,
    "start_time": "2023-05-26T09:22:13.523Z"
   },
   {
    "duration": 23,
    "start_time": "2023-05-26T09:22:13.562Z"
   },
   {
    "duration": 32,
    "start_time": "2023-05-26T09:22:13.586Z"
   },
   {
    "duration": 5,
    "start_time": "2023-05-26T09:22:13.620Z"
   },
   {
    "duration": 17,
    "start_time": "2023-05-26T09:22:13.627Z"
   },
   {
    "duration": 6,
    "start_time": "2023-05-26T09:22:13.646Z"
   },
   {
    "duration": 5,
    "start_time": "2023-05-26T09:22:13.654Z"
   },
   {
    "duration": 27,
    "start_time": "2023-05-26T09:22:13.660Z"
   },
   {
    "duration": 11,
    "start_time": "2023-05-26T09:22:13.688Z"
   },
   {
    "duration": 7,
    "start_time": "2023-05-26T09:22:13.701Z"
   },
   {
    "duration": 795,
    "start_time": "2023-05-26T09:22:13.710Z"
   },
   {
    "duration": 4,
    "start_time": "2023-05-26T09:22:14.507Z"
   },
   {
    "duration": 44,
    "start_time": "2023-05-26T09:22:14.512Z"
   },
   {
    "duration": 742,
    "start_time": "2023-05-26T09:22:14.557Z"
   },
   {
    "duration": 5,
    "start_time": "2023-05-26T09:22:15.303Z"
   },
   {
    "duration": 14,
    "start_time": "2023-05-26T09:22:15.309Z"
   },
   {
    "duration": 18,
    "start_time": "2023-05-26T09:22:15.325Z"
   },
   {
    "duration": 42,
    "start_time": "2023-05-26T09:22:15.345Z"
   },
   {
    "duration": 187,
    "start_time": "2023-05-26T09:22:15.394Z"
   },
   {
    "duration": 213,
    "start_time": "2023-05-26T09:22:15.583Z"
   },
   {
    "duration": 370,
    "start_time": "2023-05-26T09:22:15.798Z"
   },
   {
    "duration": 30,
    "start_time": "2023-05-26T09:22:16.169Z"
   },
   {
    "duration": 8,
    "start_time": "2023-05-26T09:22:16.200Z"
   },
   {
    "duration": 177,
    "start_time": "2023-05-26T09:22:16.210Z"
   },
   {
    "duration": 5099,
    "start_time": "2023-05-26T09:22:16.390Z"
   },
   {
    "duration": 76,
    "start_time": "2023-05-26T09:22:21.492Z"
   },
   {
    "duration": 20,
    "start_time": "2023-05-26T09:22:21.570Z"
   },
   {
    "duration": 126,
    "start_time": "2023-05-26T09:22:21.592Z"
   },
   {
    "duration": 69,
    "start_time": "2023-05-26T09:22:21.720Z"
   },
   {
    "duration": 96,
    "start_time": "2023-05-26T09:22:21.790Z"
   },
   {
    "duration": 278,
    "start_time": "2023-05-26T09:22:21.888Z"
   },
   {
    "duration": 19,
    "start_time": "2023-05-26T09:22:22.168Z"
   },
   {
    "duration": 22,
    "start_time": "2023-05-26T09:22:22.190Z"
   },
   {
    "duration": 15,
    "start_time": "2023-05-26T09:22:22.213Z"
   },
   {
    "duration": 61,
    "start_time": "2023-05-26T09:22:22.230Z"
   },
   {
    "duration": 90,
    "start_time": "2023-05-26T09:22:22.297Z"
   },
   {
    "duration": 309,
    "start_time": "2023-05-26T09:22:22.390Z"
   },
   {
    "duration": 5,
    "start_time": "2023-05-26T09:22:22.700Z"
   },
   {
    "duration": 20,
    "start_time": "2023-05-26T09:22:22.707Z"
   },
   {
    "duration": 9,
    "start_time": "2023-05-26T09:22:22.730Z"
   },
   {
    "duration": 46,
    "start_time": "2023-05-26T09:22:22.741Z"
   },
   {
    "duration": 108,
    "start_time": "2023-05-26T09:22:22.789Z"
   },
   {
    "duration": 206,
    "start_time": "2023-05-26T09:22:22.899Z"
   },
   {
    "duration": 218,
    "start_time": "2023-05-26T09:22:23.107Z"
   },
   {
    "duration": 6,
    "start_time": "2023-05-26T09:22:23.327Z"
   },
   {
    "duration": 139,
    "start_time": "2023-05-26T09:22:23.335Z"
   },
   {
    "duration": 386,
    "start_time": "2023-05-26T09:22:23.487Z"
   },
   {
    "duration": 32,
    "start_time": "2023-05-26T09:22:23.875Z"
   },
   {
    "duration": 10,
    "start_time": "2023-05-26T09:22:23.908Z"
   },
   {
    "duration": 156,
    "start_time": "2023-05-26T09:22:23.920Z"
   },
   {
    "duration": 498,
    "start_time": "2023-05-26T09:22:24.084Z"
   },
   {
    "duration": 30,
    "start_time": "2023-05-26T09:22:24.585Z"
   },
   {
    "duration": 8,
    "start_time": "2023-05-26T09:22:24.616Z"
   },
   {
    "duration": 125,
    "start_time": "2023-05-26T09:22:24.626Z"
   },
   {
    "duration": 334,
    "start_time": "2023-05-26T09:22:24.753Z"
   },
   {
    "duration": 15,
    "start_time": "2023-05-26T09:22:25.089Z"
   },
   {
    "duration": 9,
    "start_time": "2023-05-26T09:22:25.105Z"
   },
   {
    "duration": 145,
    "start_time": "2023-05-26T09:22:25.115Z"
   },
   {
    "duration": 5427,
    "start_time": "2023-05-26T09:22:25.262Z"
   },
   {
    "duration": 49,
    "start_time": "2023-05-26T09:22:30.692Z"
   },
   {
    "duration": 12,
    "start_time": "2023-05-26T09:22:30.742Z"
   },
   {
    "duration": 168,
    "start_time": "2023-05-26T09:22:30.755Z"
   },
   {
    "duration": 77,
    "start_time": "2023-05-26T09:29:16.725Z"
   },
   {
    "duration": 6506,
    "start_time": "2023-05-26T09:29:35.418Z"
   },
   {
    "duration": 86,
    "start_time": "2023-05-26T09:30:01.901Z"
   },
   {
    "duration": 13,
    "start_time": "2023-05-26T09:30:05.413Z"
   },
   {
    "duration": 120,
    "start_time": "2023-05-26T09:30:07.292Z"
   },
   {
    "duration": 3298,
    "start_time": "2023-05-26T09:30:46.233Z"
   },
   {
    "duration": 47,
    "start_time": "2023-05-26T09:31:04.544Z"
   },
   {
    "duration": 6787,
    "start_time": "2023-05-26T09:31:42.265Z"
   },
   {
    "duration": 106,
    "start_time": "2023-05-26T09:31:49.054Z"
   },
   {
    "duration": 30,
    "start_time": "2023-05-26T09:31:49.162Z"
   },
   {
    "duration": 129,
    "start_time": "2023-05-26T09:31:49.194Z"
   },
   {
    "duration": 3205,
    "start_time": "2023-05-26T09:31:49.325Z"
   },
   {
    "duration": 34,
    "start_time": "2023-05-26T09:31:52.532Z"
   },
   {
    "duration": 17,
    "start_time": "2023-05-26T09:31:52.576Z"
   },
   {
    "duration": 126,
    "start_time": "2023-05-26T09:31:52.594Z"
   },
   {
    "duration": 3100,
    "start_time": "2023-05-26T09:42:17.834Z"
   },
   {
    "duration": 33,
    "start_time": "2023-05-26T09:42:21.405Z"
   },
   {
    "duration": 6,
    "start_time": "2023-05-26T09:43:42.597Z"
   },
   {
    "duration": 4,
    "start_time": "2023-05-26T09:44:13.655Z"
   },
   {
    "duration": 64,
    "start_time": "2023-05-26T09:44:13.661Z"
   },
   {
    "duration": 13,
    "start_time": "2023-05-26T09:44:13.726Z"
   },
   {
    "duration": 19,
    "start_time": "2023-05-26T09:44:13.740Z"
   },
   {
    "duration": 174,
    "start_time": "2023-05-26T09:44:13.760Z"
   },
   {
    "duration": 8,
    "start_time": "2023-05-26T09:44:13.937Z"
   },
   {
    "duration": 6,
    "start_time": "2023-05-26T09:44:13.947Z"
   },
   {
    "duration": 30,
    "start_time": "2023-05-26T09:44:13.955Z"
   },
   {
    "duration": 9,
    "start_time": "2023-05-26T09:44:13.992Z"
   },
   {
    "duration": 195,
    "start_time": "2023-05-26T09:44:14.003Z"
   },
   {
    "duration": 6,
    "start_time": "2023-05-26T09:44:14.201Z"
   },
   {
    "duration": 9,
    "start_time": "2023-05-26T09:44:14.209Z"
   },
   {
    "duration": 6,
    "start_time": "2023-05-26T09:44:14.220Z"
   },
   {
    "duration": 6,
    "start_time": "2023-05-26T09:44:14.228Z"
   },
   {
    "duration": 36,
    "start_time": "2023-05-26T09:44:14.236Z"
   },
   {
    "duration": 15,
    "start_time": "2023-05-26T09:44:14.275Z"
   },
   {
    "duration": 13,
    "start_time": "2023-05-26T09:44:14.298Z"
   },
   {
    "duration": 6,
    "start_time": "2023-05-26T09:44:14.314Z"
   },
   {
    "duration": 33,
    "start_time": "2023-05-26T09:44:14.323Z"
   },
   {
    "duration": 31,
    "start_time": "2023-05-26T09:44:14.358Z"
   },
   {
    "duration": 26,
    "start_time": "2023-05-26T09:44:14.391Z"
   },
   {
    "duration": 13,
    "start_time": "2023-05-26T09:44:14.419Z"
   },
   {
    "duration": 10,
    "start_time": "2023-05-26T09:44:14.433Z"
   },
   {
    "duration": 5,
    "start_time": "2023-05-26T09:44:14.447Z"
   },
   {
    "duration": 718,
    "start_time": "2023-05-26T09:44:14.453Z"
   },
   {
    "duration": 8,
    "start_time": "2023-05-26T09:44:15.177Z"
   },
   {
    "duration": 33,
    "start_time": "2023-05-26T09:44:15.186Z"
   },
   {
    "duration": 708,
    "start_time": "2023-05-26T09:44:15.221Z"
   },
   {
    "duration": 4,
    "start_time": "2023-05-26T09:44:15.931Z"
   },
   {
    "duration": 11,
    "start_time": "2023-05-26T09:44:15.937Z"
   },
   {
    "duration": 26,
    "start_time": "2023-05-26T09:44:15.950Z"
   },
   {
    "duration": 40,
    "start_time": "2023-05-26T09:44:15.978Z"
   },
   {
    "duration": 18,
    "start_time": "2023-05-26T09:44:16.077Z"
   },
   {
    "duration": 317,
    "start_time": "2023-05-26T09:44:16.097Z"
   },
   {
    "duration": 375,
    "start_time": "2023-05-26T09:44:16.416Z"
   },
   {
    "duration": 23,
    "start_time": "2023-05-26T09:44:16.793Z"
   },
   {
    "duration": 8,
    "start_time": "2023-05-26T09:44:16.817Z"
   },
   {
    "duration": 138,
    "start_time": "2023-05-26T09:44:16.827Z"
   },
   {
    "duration": 5203,
    "start_time": "2023-05-26T09:44:16.967Z"
   },
   {
    "duration": 73,
    "start_time": "2023-05-26T09:44:22.175Z"
   },
   {
    "duration": 39,
    "start_time": "2023-05-26T09:44:22.249Z"
   },
   {
    "duration": 119,
    "start_time": "2023-05-26T09:44:22.291Z"
   },
   {
    "duration": 77,
    "start_time": "2023-05-26T09:44:22.411Z"
   },
   {
    "duration": 106,
    "start_time": "2023-05-26T09:44:22.489Z"
   },
   {
    "duration": 125,
    "start_time": "2023-05-26T09:44:22.678Z"
   },
   {
    "duration": 3,
    "start_time": "2023-05-26T09:44:22.805Z"
   },
   {
    "duration": 26,
    "start_time": "2023-05-26T09:44:22.810Z"
   },
   {
    "duration": 25,
    "start_time": "2023-05-26T09:44:22.837Z"
   },
   {
    "duration": 122,
    "start_time": "2023-05-26T09:44:22.864Z"
   },
   {
    "duration": 194,
    "start_time": "2023-05-26T09:44:22.988Z"
   },
   {
    "duration": 210,
    "start_time": "2023-05-26T09:44:23.193Z"
   },
   {
    "duration": 4,
    "start_time": "2023-05-26T09:44:23.405Z"
   },
   {
    "duration": 26,
    "start_time": "2023-05-26T09:44:23.411Z"
   },
   {
    "duration": 18,
    "start_time": "2023-05-26T09:44:23.438Z"
   },
   {
    "duration": 121,
    "start_time": "2023-05-26T09:44:23.458Z"
   },
   {
    "duration": 17,
    "start_time": "2023-05-26T09:44:23.581Z"
   },
   {
    "duration": 298,
    "start_time": "2023-05-26T09:44:23.600Z"
   },
   {
    "duration": 244,
    "start_time": "2023-05-26T09:44:23.899Z"
   },
   {
    "duration": 7,
    "start_time": "2023-05-26T09:44:24.145Z"
   },
   {
    "duration": 168,
    "start_time": "2023-05-26T09:44:24.154Z"
   },
   {
    "duration": 467,
    "start_time": "2023-05-26T09:44:24.323Z"
   },
   {
    "duration": 37,
    "start_time": "2023-05-26T09:44:24.792Z"
   },
   {
    "duration": 10,
    "start_time": "2023-05-26T09:44:24.831Z"
   },
   {
    "duration": 181,
    "start_time": "2023-05-26T09:44:24.842Z"
   },
   {
    "duration": 475,
    "start_time": "2023-05-26T09:44:25.026Z"
   },
   {
    "duration": 30,
    "start_time": "2023-05-26T09:44:25.503Z"
   },
   {
    "duration": 8,
    "start_time": "2023-05-26T09:44:25.534Z"
   },
   {
    "duration": 156,
    "start_time": "2023-05-26T09:44:25.544Z"
   },
   {
    "duration": 211,
    "start_time": "2023-05-26T09:44:25.705Z"
   },
   {
    "duration": 14,
    "start_time": "2023-05-26T09:44:25.918Z"
   },
   {
    "duration": 14,
    "start_time": "2023-05-26T09:44:25.934Z"
   },
   {
    "duration": 160,
    "start_time": "2023-05-26T09:44:25.950Z"
   },
   {
    "duration": 5452,
    "start_time": "2023-05-26T09:44:26.112Z"
   },
   {
    "duration": 63,
    "start_time": "2023-05-26T09:44:31.566Z"
   },
   {
    "duration": 20,
    "start_time": "2023-05-26T09:44:31.631Z"
   },
   {
    "duration": 149,
    "start_time": "2023-05-26T09:44:31.653Z"
   },
   {
    "duration": 6657,
    "start_time": "2023-05-26T09:44:31.804Z"
   },
   {
    "duration": 130,
    "start_time": "2023-05-26T09:44:38.462Z"
   },
   {
    "duration": 15,
    "start_time": "2023-05-26T09:44:38.594Z"
   },
   {
    "duration": 133,
    "start_time": "2023-05-26T09:44:38.611Z"
   },
   {
    "duration": 3362,
    "start_time": "2023-05-26T09:44:38.746Z"
   },
   {
    "duration": 36,
    "start_time": "2023-05-26T09:44:42.110Z"
   },
   {
    "duration": 11,
    "start_time": "2023-05-26T09:44:42.147Z"
   },
   {
    "duration": 145,
    "start_time": "2023-05-26T09:44:42.159Z"
   },
   {
    "duration": 13,
    "start_time": "2023-05-26T09:44:42.306Z"
   },
   {
    "duration": 6,
    "start_time": "2023-05-26T12:15:23.938Z"
   },
   {
    "duration": 48,
    "start_time": "2023-05-26T12:15:23.974Z"
   },
   {
    "duration": 20,
    "start_time": "2023-05-26T12:15:24.025Z"
   },
   {
    "duration": 37,
    "start_time": "2023-05-26T12:15:24.048Z"
   },
   {
    "duration": 255,
    "start_time": "2023-05-26T12:15:24.087Z"
   },
   {
    "duration": 5,
    "start_time": "2023-05-26T12:15:24.345Z"
   },
   {
    "duration": 14,
    "start_time": "2023-05-26T12:15:24.351Z"
   },
   {
    "duration": 12,
    "start_time": "2023-05-26T12:15:24.367Z"
   },
   {
    "duration": 24,
    "start_time": "2023-05-26T12:15:24.381Z"
   },
   {
    "duration": 224,
    "start_time": "2023-05-26T12:15:24.407Z"
   },
   {
    "duration": 5,
    "start_time": "2023-05-26T12:15:24.633Z"
   },
   {
    "duration": 4,
    "start_time": "2023-05-26T12:15:24.640Z"
   },
   {
    "duration": 5,
    "start_time": "2023-05-26T12:15:24.646Z"
   },
   {
    "duration": 5,
    "start_time": "2023-05-26T12:15:24.675Z"
   },
   {
    "duration": 11,
    "start_time": "2023-05-26T12:15:24.683Z"
   },
   {
    "duration": 5,
    "start_time": "2023-05-26T12:15:24.696Z"
   },
   {
    "duration": 9,
    "start_time": "2023-05-26T12:15:24.702Z"
   },
   {
    "duration": 8,
    "start_time": "2023-05-26T12:15:24.713Z"
   },
   {
    "duration": 7,
    "start_time": "2023-05-26T12:15:24.723Z"
   },
   {
    "duration": 3,
    "start_time": "2023-05-26T12:15:24.775Z"
   },
   {
    "duration": 6,
    "start_time": "2023-05-26T12:15:24.780Z"
   },
   {
    "duration": 3,
    "start_time": "2023-05-26T12:15:24.788Z"
   },
   {
    "duration": 5,
    "start_time": "2023-05-26T12:15:24.793Z"
   },
   {
    "duration": 7,
    "start_time": "2023-05-26T12:15:24.800Z"
   },
   {
    "duration": 824,
    "start_time": "2023-05-26T12:15:24.810Z"
   },
   {
    "duration": 3,
    "start_time": "2023-05-26T12:15:25.635Z"
   },
   {
    "duration": 48,
    "start_time": "2023-05-26T12:15:25.640Z"
   },
   {
    "duration": 700,
    "start_time": "2023-05-26T12:15:25.690Z"
   },
   {
    "duration": 5,
    "start_time": "2023-05-26T12:15:26.393Z"
   },
   {
    "duration": 8,
    "start_time": "2023-05-26T12:15:26.400Z"
   },
   {
    "duration": 7,
    "start_time": "2023-05-26T12:15:26.410Z"
   },
   {
    "duration": 159,
    "start_time": "2023-05-26T12:15:26.418Z"
   },
   {
    "duration": 96,
    "start_time": "2023-05-26T12:15:26.579Z"
   },
   {
    "duration": 263,
    "start_time": "2023-05-26T12:15:26.678Z"
   },
   {
    "duration": 387,
    "start_time": "2023-05-26T12:15:26.944Z"
   },
   {
    "duration": 42,
    "start_time": "2023-05-26T12:15:27.333Z"
   },
   {
    "duration": 12,
    "start_time": "2023-05-26T12:15:27.377Z"
   },
   {
    "duration": 209,
    "start_time": "2023-05-26T12:15:27.391Z"
   },
   {
    "duration": 5216,
    "start_time": "2023-05-26T12:15:27.602Z"
   },
   {
    "duration": 111,
    "start_time": "2023-05-26T12:15:32.820Z"
   },
   {
    "duration": 14,
    "start_time": "2023-05-26T12:15:32.934Z"
   },
   {
    "duration": 142,
    "start_time": "2023-05-26T12:15:32.976Z"
   },
   {
    "duration": 73,
    "start_time": "2023-05-26T12:15:33.120Z"
   },
   {
    "duration": 94,
    "start_time": "2023-05-26T12:15:33.195Z"
   },
   {
    "duration": 341,
    "start_time": "2023-05-26T12:15:33.291Z"
   },
   {
    "duration": 5,
    "start_time": "2023-05-26T12:15:33.634Z"
   },
   {
    "duration": 18,
    "start_time": "2023-05-26T12:15:33.641Z"
   },
   {
    "duration": 9,
    "start_time": "2023-05-26T12:15:33.676Z"
   },
   {
    "duration": 97,
    "start_time": "2023-05-26T12:15:33.687Z"
   },
   {
    "duration": 99,
    "start_time": "2023-05-26T12:15:33.786Z"
   },
   {
    "duration": 259,
    "start_time": "2023-05-26T12:15:33.888Z"
   },
   {
    "duration": 5,
    "start_time": "2023-05-26T12:15:34.149Z"
   },
   {
    "duration": 24,
    "start_time": "2023-05-26T12:15:34.156Z"
   },
   {
    "duration": 9,
    "start_time": "2023-05-26T12:15:34.185Z"
   },
   {
    "duration": 24,
    "start_time": "2023-05-26T12:15:34.195Z"
   },
   {
    "duration": 20,
    "start_time": "2023-05-26T12:15:34.275Z"
   },
   {
    "duration": 311,
    "start_time": "2023-05-26T12:15:34.298Z"
   },
   {
    "duration": 230,
    "start_time": "2023-05-26T12:15:34.611Z"
   },
   {
    "duration": 8,
    "start_time": "2023-05-26T12:15:34.843Z"
   },
   {
    "duration": 194,
    "start_time": "2023-05-26T12:15:34.853Z"
   },
   {
    "duration": 406,
    "start_time": "2023-05-26T12:15:35.049Z"
   },
   {
    "duration": 42,
    "start_time": "2023-05-26T12:15:35.457Z"
   },
   {
    "duration": 11,
    "start_time": "2023-05-26T12:15:35.501Z"
   },
   {
    "duration": 172,
    "start_time": "2023-05-26T12:15:35.514Z"
   },
   {
    "duration": 599,
    "start_time": "2023-05-26T12:15:35.688Z"
   },
   {
    "duration": 34,
    "start_time": "2023-05-26T12:15:36.289Z"
   },
   {
    "duration": 9,
    "start_time": "2023-05-26T12:15:36.326Z"
   },
   {
    "duration": 176,
    "start_time": "2023-05-26T12:15:36.338Z"
   },
   {
    "duration": 204,
    "start_time": "2023-05-26T12:15:36.516Z"
   },
   {
    "duration": 18,
    "start_time": "2023-05-26T12:15:36.722Z"
   },
   {
    "duration": 36,
    "start_time": "2023-05-26T12:15:36.742Z"
   },
   {
    "duration": 127,
    "start_time": "2023-05-26T12:15:36.780Z"
   },
   {
    "duration": 5379,
    "start_time": "2023-05-26T12:15:36.909Z"
   },
   {
    "duration": 61,
    "start_time": "2023-05-26T12:15:42.290Z"
   },
   {
    "duration": 32,
    "start_time": "2023-05-26T12:15:42.354Z"
   },
   {
    "duration": 192,
    "start_time": "2023-05-26T12:15:42.388Z"
   },
   {
    "duration": 7316,
    "start_time": "2023-05-26T12:15:42.582Z"
   },
   {
    "duration": 119,
    "start_time": "2023-05-26T12:15:49.901Z"
   },
   {
    "duration": 16,
    "start_time": "2023-05-26T12:15:50.022Z"
   },
   {
    "duration": 167,
    "start_time": "2023-05-26T12:15:50.040Z"
   },
   {
    "duration": 3156,
    "start_time": "2023-05-26T12:15:50.208Z"
   },
   {
    "duration": 53,
    "start_time": "2023-05-26T12:15:53.366Z"
   },
   {
    "duration": 14,
    "start_time": "2023-05-26T12:15:53.420Z"
   },
   {
    "duration": 160,
    "start_time": "2023-05-26T12:15:53.436Z"
   },
   {
    "duration": 14,
    "start_time": "2023-05-26T12:15:53.598Z"
   },
   {
    "duration": 5,
    "start_time": "2023-05-26T12:20:28.622Z"
   },
   {
    "duration": 47,
    "start_time": "2023-05-26T12:20:28.629Z"
   },
   {
    "duration": 12,
    "start_time": "2023-05-26T12:20:28.678Z"
   },
   {
    "duration": 21,
    "start_time": "2023-05-26T12:20:28.692Z"
   },
   {
    "duration": 190,
    "start_time": "2023-05-26T12:20:28.716Z"
   },
   {
    "duration": 5,
    "start_time": "2023-05-26T12:20:28.907Z"
   },
   {
    "duration": 4,
    "start_time": "2023-05-26T12:20:28.914Z"
   },
   {
    "duration": 17,
    "start_time": "2023-05-26T12:20:28.919Z"
   },
   {
    "duration": 7,
    "start_time": "2023-05-26T12:20:28.938Z"
   },
   {
    "duration": 177,
    "start_time": "2023-05-26T12:20:28.946Z"
   },
   {
    "duration": 5,
    "start_time": "2023-05-26T12:20:29.124Z"
   },
   {
    "duration": 8,
    "start_time": "2023-05-26T12:20:29.131Z"
   },
   {
    "duration": 4,
    "start_time": "2023-05-26T12:20:29.141Z"
   },
   {
    "duration": 3,
    "start_time": "2023-05-26T12:20:29.149Z"
   },
   {
    "duration": 13,
    "start_time": "2023-05-26T12:20:29.176Z"
   },
   {
    "duration": 6,
    "start_time": "2023-05-26T12:20:29.191Z"
   },
   {
    "duration": 10,
    "start_time": "2023-05-26T12:20:29.199Z"
   },
   {
    "duration": 6,
    "start_time": "2023-05-26T12:20:29.211Z"
   },
   {
    "duration": 17,
    "start_time": "2023-05-26T12:20:29.218Z"
   },
   {
    "duration": 6,
    "start_time": "2023-05-26T12:20:29.237Z"
   },
   {
    "duration": 31,
    "start_time": "2023-05-26T12:20:29.244Z"
   },
   {
    "duration": 16,
    "start_time": "2023-05-26T12:20:29.277Z"
   },
   {
    "duration": 9,
    "start_time": "2023-05-26T12:20:29.295Z"
   },
   {
    "duration": 4,
    "start_time": "2023-05-26T12:20:29.306Z"
   },
   {
    "duration": 682,
    "start_time": "2023-05-26T12:20:29.312Z"
   },
   {
    "duration": 2,
    "start_time": "2023-05-26T12:20:29.996Z"
   },
   {
    "duration": 40,
    "start_time": "2023-05-26T12:20:30.000Z"
   },
   {
    "duration": 739,
    "start_time": "2023-05-26T12:20:30.042Z"
   },
   {
    "duration": 9,
    "start_time": "2023-05-26T12:20:30.786Z"
   },
   {
    "duration": 44,
    "start_time": "2023-05-26T12:20:30.800Z"
   },
   {
    "duration": 53,
    "start_time": "2023-05-26T12:20:30.846Z"
   },
   {
    "duration": 87,
    "start_time": "2023-05-26T12:20:30.901Z"
   },
   {
    "duration": 198,
    "start_time": "2023-05-26T12:20:30.991Z"
   },
   {
    "duration": 290,
    "start_time": "2023-05-26T12:20:31.191Z"
   },
   {
    "duration": 395,
    "start_time": "2023-05-26T12:20:31.483Z"
   },
   {
    "duration": 26,
    "start_time": "2023-05-26T12:20:31.880Z"
   },
   {
    "duration": 10,
    "start_time": "2023-05-26T12:20:31.908Z"
   },
   {
    "duration": 169,
    "start_time": "2023-05-26T12:20:31.921Z"
   },
   {
    "duration": 5908,
    "start_time": "2023-05-26T12:20:32.091Z"
   },
   {
    "duration": 110,
    "start_time": "2023-05-26T12:20:38.001Z"
   },
   {
    "duration": 23,
    "start_time": "2023-05-26T12:20:38.118Z"
   },
   {
    "duration": 153,
    "start_time": "2023-05-26T12:20:38.143Z"
   },
   {
    "duration": 87,
    "start_time": "2023-05-26T12:20:38.299Z"
   },
   {
    "duration": 94,
    "start_time": "2023-05-26T12:20:38.388Z"
   },
   {
    "duration": 268,
    "start_time": "2023-05-26T12:20:38.484Z"
   },
   {
    "duration": 5,
    "start_time": "2023-05-26T12:20:38.754Z"
   },
   {
    "duration": 14,
    "start_time": "2023-05-26T12:20:38.775Z"
   },
   {
    "duration": 10,
    "start_time": "2023-05-26T12:20:38.791Z"
   },
   {
    "duration": 81,
    "start_time": "2023-05-26T12:20:38.803Z"
   },
   {
    "duration": 110,
    "start_time": "2023-05-26T12:20:38.888Z"
   },
   {
    "duration": 371,
    "start_time": "2023-05-26T12:20:39.000Z"
   },
   {
    "duration": 6,
    "start_time": "2023-05-26T12:20:39.374Z"
   },
   {
    "duration": 27,
    "start_time": "2023-05-26T12:20:39.383Z"
   },
   {
    "duration": 8,
    "start_time": "2023-05-26T12:20:39.412Z"
   },
   {
    "duration": 157,
    "start_time": "2023-05-26T12:20:39.423Z"
   },
   {
    "duration": 107,
    "start_time": "2023-05-26T12:20:39.582Z"
   },
   {
    "duration": 214,
    "start_time": "2023-05-26T12:20:39.696Z"
   },
   {
    "duration": 249,
    "start_time": "2023-05-26T12:20:39.913Z"
   },
   {
    "duration": 17,
    "start_time": "2023-05-26T12:20:40.164Z"
   },
   {
    "duration": 163,
    "start_time": "2023-05-26T12:20:40.183Z"
   },
   {
    "duration": 466,
    "start_time": "2023-05-26T12:20:40.348Z"
   },
   {
    "duration": 29,
    "start_time": "2023-05-26T12:20:40.816Z"
   },
   {
    "duration": 32,
    "start_time": "2023-05-26T12:20:40.848Z"
   },
   {
    "duration": 162,
    "start_time": "2023-05-26T12:20:40.883Z"
   },
   {
    "duration": 484,
    "start_time": "2023-05-26T12:20:41.047Z"
   },
   {
    "duration": 46,
    "start_time": "2023-05-26T12:20:41.533Z"
   },
   {
    "duration": 9,
    "start_time": "2023-05-26T12:20:41.581Z"
   },
   {
    "duration": 149,
    "start_time": "2023-05-26T12:20:41.592Z"
   },
   {
    "duration": 218,
    "start_time": "2023-05-26T12:20:41.743Z"
   },
   {
    "duration": 24,
    "start_time": "2023-05-26T12:20:41.963Z"
   },
   {
    "duration": 9,
    "start_time": "2023-05-26T12:20:41.988Z"
   },
   {
    "duration": 149,
    "start_time": "2023-05-26T12:20:41.999Z"
   },
   {
    "duration": 5318,
    "start_time": "2023-05-26T12:20:42.150Z"
   },
   {
    "duration": 57,
    "start_time": "2023-05-26T12:20:47.474Z"
   },
   {
    "duration": 11,
    "start_time": "2023-05-26T12:20:47.533Z"
   },
   {
    "duration": 144,
    "start_time": "2023-05-26T12:20:47.546Z"
   },
   {
    "duration": 6674,
    "start_time": "2023-05-26T12:20:47.692Z"
   },
   {
    "duration": 153,
    "start_time": "2023-05-26T12:20:54.368Z"
   },
   {
    "duration": 22,
    "start_time": "2023-05-26T12:20:54.524Z"
   },
   {
    "duration": 191,
    "start_time": "2023-05-26T12:20:54.549Z"
   },
   {
    "duration": 3398,
    "start_time": "2023-05-26T12:20:54.742Z"
   },
   {
    "duration": 49,
    "start_time": "2023-05-26T12:20:58.142Z"
   },
   {
    "duration": 16,
    "start_time": "2023-05-26T12:20:58.193Z"
   },
   {
    "duration": 167,
    "start_time": "2023-05-26T12:20:58.211Z"
   },
   {
    "duration": 15,
    "start_time": "2023-05-26T12:20:58.380Z"
   },
   {
    "duration": 47,
    "start_time": "2023-05-26T12:31:50.444Z"
   },
   {
    "duration": 15,
    "start_time": "2023-05-26T12:31:51.251Z"
   },
   {
    "duration": 162,
    "start_time": "2023-05-26T12:31:52.022Z"
   },
   {
    "duration": 12,
    "start_time": "2023-05-26T12:31:56.041Z"
   },
   {
    "duration": 4,
    "start_time": "2023-05-26T12:33:11.985Z"
   },
   {
    "duration": 54,
    "start_time": "2023-05-26T12:33:11.991Z"
   },
   {
    "duration": 14,
    "start_time": "2023-05-26T12:33:12.046Z"
   },
   {
    "duration": 23,
    "start_time": "2023-05-26T12:33:12.062Z"
   },
   {
    "duration": 176,
    "start_time": "2023-05-26T12:33:12.087Z"
   },
   {
    "duration": 12,
    "start_time": "2023-05-26T12:33:12.265Z"
   },
   {
    "duration": 9,
    "start_time": "2023-05-26T12:33:12.279Z"
   },
   {
    "duration": 6,
    "start_time": "2023-05-26T12:33:12.290Z"
   },
   {
    "duration": 12,
    "start_time": "2023-05-26T12:33:12.298Z"
   },
   {
    "duration": 220,
    "start_time": "2023-05-26T12:33:12.312Z"
   },
   {
    "duration": 5,
    "start_time": "2023-05-26T12:33:12.534Z"
   },
   {
    "duration": 5,
    "start_time": "2023-05-26T12:33:12.542Z"
   },
   {
    "duration": 4,
    "start_time": "2023-05-26T12:33:12.550Z"
   },
   {
    "duration": 3,
    "start_time": "2023-05-26T12:33:12.576Z"
   },
   {
    "duration": 15,
    "start_time": "2023-05-26T12:33:12.581Z"
   },
   {
    "duration": 13,
    "start_time": "2023-05-26T12:33:12.598Z"
   },
   {
    "duration": 19,
    "start_time": "2023-05-26T12:33:12.613Z"
   },
   {
    "duration": 18,
    "start_time": "2023-05-26T12:33:12.634Z"
   },
   {
    "duration": 8,
    "start_time": "2023-05-26T12:33:12.654Z"
   },
   {
    "duration": 3,
    "start_time": "2023-05-26T12:33:12.676Z"
   },
   {
    "duration": 8,
    "start_time": "2023-05-26T12:33:12.681Z"
   },
   {
    "duration": 6,
    "start_time": "2023-05-26T12:33:12.691Z"
   },
   {
    "duration": 8,
    "start_time": "2023-05-26T12:33:12.699Z"
   },
   {
    "duration": 7,
    "start_time": "2023-05-26T12:33:12.709Z"
   },
   {
    "duration": 640,
    "start_time": "2023-05-26T12:33:12.717Z"
   },
   {
    "duration": 3,
    "start_time": "2023-05-26T12:33:13.359Z"
   },
   {
    "duration": 44,
    "start_time": "2023-05-26T12:33:13.375Z"
   },
   {
    "duration": 833,
    "start_time": "2023-05-26T12:33:13.422Z"
   },
   {
    "duration": 6,
    "start_time": "2023-05-26T12:33:14.257Z"
   },
   {
    "duration": 8,
    "start_time": "2023-05-26T12:33:14.275Z"
   },
   {
    "duration": 7,
    "start_time": "2023-05-26T12:33:14.285Z"
   },
   {
    "duration": 82,
    "start_time": "2023-05-26T12:33:14.294Z"
   },
   {
    "duration": 105,
    "start_time": "2023-05-26T12:33:14.379Z"
   },
   {
    "duration": 103,
    "start_time": "2023-05-26T12:33:14.486Z"
   },
   {
    "duration": 0,
    "start_time": "2023-05-26T12:33:14.676Z"
   },
   {
    "duration": 0,
    "start_time": "2023-05-26T12:33:14.677Z"
   },
   {
    "duration": 0,
    "start_time": "2023-05-26T12:33:14.678Z"
   },
   {
    "duration": 0,
    "start_time": "2023-05-26T12:33:14.679Z"
   },
   {
    "duration": 0,
    "start_time": "2023-05-26T12:33:14.680Z"
   },
   {
    "duration": 0,
    "start_time": "2023-05-26T12:33:14.681Z"
   },
   {
    "duration": 0,
    "start_time": "2023-05-26T12:33:14.683Z"
   },
   {
    "duration": 0,
    "start_time": "2023-05-26T12:33:14.684Z"
   },
   {
    "duration": 0,
    "start_time": "2023-05-26T12:33:14.685Z"
   },
   {
    "duration": 0,
    "start_time": "2023-05-26T12:33:14.685Z"
   },
   {
    "duration": 0,
    "start_time": "2023-05-26T12:33:14.687Z"
   },
   {
    "duration": 0,
    "start_time": "2023-05-26T12:33:14.687Z"
   },
   {
    "duration": 0,
    "start_time": "2023-05-26T12:33:14.689Z"
   },
   {
    "duration": 0,
    "start_time": "2023-05-26T12:33:14.690Z"
   },
   {
    "duration": 0,
    "start_time": "2023-05-26T12:33:14.691Z"
   },
   {
    "duration": 0,
    "start_time": "2023-05-26T12:33:14.692Z"
   },
   {
    "duration": 0,
    "start_time": "2023-05-26T12:33:14.693Z"
   },
   {
    "duration": 0,
    "start_time": "2023-05-26T12:33:14.694Z"
   },
   {
    "duration": 0,
    "start_time": "2023-05-26T12:33:14.695Z"
   },
   {
    "duration": 0,
    "start_time": "2023-05-26T12:33:14.696Z"
   },
   {
    "duration": 1,
    "start_time": "2023-05-26T12:33:14.697Z"
   },
   {
    "duration": 0,
    "start_time": "2023-05-26T12:33:14.699Z"
   },
   {
    "duration": 0,
    "start_time": "2023-05-26T12:33:14.700Z"
   },
   {
    "duration": 0,
    "start_time": "2023-05-26T12:33:14.702Z"
   },
   {
    "duration": 0,
    "start_time": "2023-05-26T12:33:14.703Z"
   },
   {
    "duration": 0,
    "start_time": "2023-05-26T12:33:14.704Z"
   },
   {
    "duration": 0,
    "start_time": "2023-05-26T12:33:14.705Z"
   },
   {
    "duration": 0,
    "start_time": "2023-05-26T12:33:14.706Z"
   },
   {
    "duration": 0,
    "start_time": "2023-05-26T12:33:14.707Z"
   },
   {
    "duration": 0,
    "start_time": "2023-05-26T12:33:14.708Z"
   },
   {
    "duration": 0,
    "start_time": "2023-05-26T12:33:14.709Z"
   },
   {
    "duration": 0,
    "start_time": "2023-05-26T12:33:14.710Z"
   },
   {
    "duration": 0,
    "start_time": "2023-05-26T12:33:14.711Z"
   },
   {
    "duration": 0,
    "start_time": "2023-05-26T12:33:14.775Z"
   },
   {
    "duration": 0,
    "start_time": "2023-05-26T12:33:14.777Z"
   },
   {
    "duration": 0,
    "start_time": "2023-05-26T12:33:14.778Z"
   },
   {
    "duration": 0,
    "start_time": "2023-05-26T12:33:14.779Z"
   },
   {
    "duration": 0,
    "start_time": "2023-05-26T12:33:14.780Z"
   },
   {
    "duration": 0,
    "start_time": "2023-05-26T12:33:14.781Z"
   },
   {
    "duration": 0,
    "start_time": "2023-05-26T12:33:14.782Z"
   },
   {
    "duration": 0,
    "start_time": "2023-05-26T12:33:14.783Z"
   },
   {
    "duration": 0,
    "start_time": "2023-05-26T12:33:14.784Z"
   },
   {
    "duration": 0,
    "start_time": "2023-05-26T12:33:14.785Z"
   },
   {
    "duration": 0,
    "start_time": "2023-05-26T12:33:14.786Z"
   },
   {
    "duration": 0,
    "start_time": "2023-05-26T12:33:14.787Z"
   },
   {
    "duration": 0,
    "start_time": "2023-05-26T12:33:14.788Z"
   },
   {
    "duration": 0,
    "start_time": "2023-05-26T12:33:14.789Z"
   },
   {
    "duration": 0,
    "start_time": "2023-05-26T12:33:14.790Z"
   },
   {
    "duration": 0,
    "start_time": "2023-05-26T12:33:14.792Z"
   },
   {
    "duration": 0,
    "start_time": "2023-05-26T12:33:14.793Z"
   },
   {
    "duration": 0,
    "start_time": "2023-05-26T12:33:14.794Z"
   },
   {
    "duration": 0,
    "start_time": "2023-05-26T12:33:14.795Z"
   },
   {
    "duration": 3,
    "start_time": "2023-05-26T12:36:07.340Z"
   },
   {
    "duration": 34,
    "start_time": "2023-05-26T12:36:08.552Z"
   },
   {
    "duration": 4,
    "start_time": "2023-05-26T12:36:17.987Z"
   },
   {
    "duration": 31,
    "start_time": "2023-05-26T12:36:18.980Z"
   },
   {
    "duration": 5,
    "start_time": "2023-05-26T12:41:18.558Z"
   },
   {
    "duration": 40,
    "start_time": "2023-05-26T12:41:18.589Z"
   },
   {
    "duration": 13,
    "start_time": "2023-05-26T12:41:18.631Z"
   },
   {
    "duration": 16,
    "start_time": "2023-05-26T12:41:18.646Z"
   },
   {
    "duration": 155,
    "start_time": "2023-05-26T12:41:18.664Z"
   },
   {
    "duration": 2,
    "start_time": "2023-05-26T12:41:18.822Z"
   },
   {
    "duration": 50,
    "start_time": "2023-05-26T12:41:18.826Z"
   },
   {
    "duration": 6,
    "start_time": "2023-05-26T12:41:18.877Z"
   },
   {
    "duration": 13,
    "start_time": "2023-05-26T12:41:18.884Z"
   },
   {
    "duration": 156,
    "start_time": "2023-05-26T12:41:18.899Z"
   },
   {
    "duration": 4,
    "start_time": "2023-05-26T12:41:19.057Z"
   },
   {
    "duration": 3,
    "start_time": "2023-05-26T12:41:19.076Z"
   },
   {
    "duration": 4,
    "start_time": "2023-05-26T12:41:19.080Z"
   },
   {
    "duration": 5,
    "start_time": "2023-05-26T12:41:19.086Z"
   },
   {
    "duration": 11,
    "start_time": "2023-05-26T12:41:19.093Z"
   },
   {
    "duration": 5,
    "start_time": "2023-05-26T12:41:19.106Z"
   },
   {
    "duration": 8,
    "start_time": "2023-05-26T12:41:19.113Z"
   },
   {
    "duration": 4,
    "start_time": "2023-05-26T12:41:19.123Z"
   },
   {
    "duration": 6,
    "start_time": "2023-05-26T12:41:19.128Z"
   },
   {
    "duration": 3,
    "start_time": "2023-05-26T12:41:19.175Z"
   },
   {
    "duration": 4,
    "start_time": "2023-05-26T12:41:19.180Z"
   },
   {
    "duration": 3,
    "start_time": "2023-05-26T12:41:19.186Z"
   },
   {
    "duration": 4,
    "start_time": "2023-05-26T12:41:19.191Z"
   },
   {
    "duration": 14,
    "start_time": "2023-05-26T12:41:19.197Z"
   },
   {
    "duration": 638,
    "start_time": "2023-05-26T12:41:19.213Z"
   },
   {
    "duration": 3,
    "start_time": "2023-05-26T12:41:19.853Z"
   },
   {
    "duration": 37,
    "start_time": "2023-05-26T12:41:19.857Z"
   },
   {
    "duration": 665,
    "start_time": "2023-05-26T12:41:19.896Z"
   },
   {
    "duration": 13,
    "start_time": "2023-05-26T12:41:20.562Z"
   },
   {
    "duration": 9,
    "start_time": "2023-05-26T12:41:20.579Z"
   },
   {
    "duration": 8,
    "start_time": "2023-05-26T12:41:20.590Z"
   },
   {
    "duration": 176,
    "start_time": "2023-05-26T12:41:20.600Z"
   },
   {
    "duration": 17,
    "start_time": "2023-05-26T12:41:20.778Z"
   },
   {
    "duration": 285,
    "start_time": "2023-05-26T12:41:20.798Z"
   },
   {
    "duration": 352,
    "start_time": "2023-05-26T12:41:21.085Z"
   },
   {
    "duration": 23,
    "start_time": "2023-05-26T12:41:21.439Z"
   },
   {
    "duration": 9,
    "start_time": "2023-05-26T12:41:21.475Z"
   },
   {
    "duration": 146,
    "start_time": "2023-05-26T12:41:21.486Z"
   },
   {
    "duration": 4794,
    "start_time": "2023-05-26T12:41:21.634Z"
   },
   {
    "duration": 75,
    "start_time": "2023-05-26T12:41:26.429Z"
   },
   {
    "duration": 12,
    "start_time": "2023-05-26T12:41:26.506Z"
   },
   {
    "duration": 130,
    "start_time": "2023-05-26T12:41:26.520Z"
   },
   {
    "duration": 128,
    "start_time": "2023-05-26T12:41:26.651Z"
   },
   {
    "duration": 101,
    "start_time": "2023-05-26T12:41:26.782Z"
   },
   {
    "duration": 292,
    "start_time": "2023-05-26T12:41:26.885Z"
   },
   {
    "duration": 5,
    "start_time": "2023-05-26T12:41:27.179Z"
   },
   {
    "duration": 39,
    "start_time": "2023-05-26T12:41:27.185Z"
   },
   {
    "duration": 9,
    "start_time": "2023-05-26T12:41:27.227Z"
   },
   {
    "duration": 138,
    "start_time": "2023-05-26T12:41:27.237Z"
   },
   {
    "duration": 99,
    "start_time": "2023-05-26T12:41:27.378Z"
   },
   {
    "duration": 219,
    "start_time": "2023-05-26T12:41:27.483Z"
   },
   {
    "duration": 5,
    "start_time": "2023-05-26T12:41:27.704Z"
   },
   {
    "duration": 15,
    "start_time": "2023-05-26T12:41:27.711Z"
   },
   {
    "duration": 8,
    "start_time": "2023-05-26T12:41:27.728Z"
   },
   {
    "duration": 55,
    "start_time": "2023-05-26T12:41:27.738Z"
   },
   {
    "duration": 184,
    "start_time": "2023-05-26T12:41:27.795Z"
   },
   {
    "duration": 264,
    "start_time": "2023-05-26T12:41:27.982Z"
   },
   {
    "duration": 233,
    "start_time": "2023-05-26T12:41:28.248Z"
   },
   {
    "duration": 7,
    "start_time": "2023-05-26T12:41:28.483Z"
   },
   {
    "duration": 228,
    "start_time": "2023-05-26T12:41:28.491Z"
   },
   {
    "duration": 356,
    "start_time": "2023-05-26T12:41:28.721Z"
   },
   {
    "duration": 27,
    "start_time": "2023-05-26T12:41:29.080Z"
   },
   {
    "duration": 11,
    "start_time": "2023-05-26T12:41:29.109Z"
   },
   {
    "duration": 143,
    "start_time": "2023-05-26T12:41:29.122Z"
   },
   {
    "duration": 448,
    "start_time": "2023-05-26T12:41:29.267Z"
   },
   {
    "duration": 35,
    "start_time": "2023-05-26T12:41:29.716Z"
   },
   {
    "duration": 26,
    "start_time": "2023-05-26T12:41:29.753Z"
   },
   {
    "duration": 141,
    "start_time": "2023-05-26T12:41:29.782Z"
   },
   {
    "duration": 220,
    "start_time": "2023-05-26T12:41:29.925Z"
   },
   {
    "duration": 31,
    "start_time": "2023-05-26T12:41:30.147Z"
   },
   {
    "duration": 28,
    "start_time": "2023-05-26T12:41:30.180Z"
   },
   {
    "duration": 143,
    "start_time": "2023-05-26T12:41:30.211Z"
   },
   {
    "duration": 4950,
    "start_time": "2023-05-26T12:41:30.356Z"
   },
   {
    "duration": 45,
    "start_time": "2023-05-26T12:41:35.309Z"
   },
   {
    "duration": 30,
    "start_time": "2023-05-26T12:41:35.356Z"
   },
   {
    "duration": 128,
    "start_time": "2023-05-26T12:41:35.387Z"
   },
   {
    "duration": 6035,
    "start_time": "2023-05-26T12:41:35.517Z"
   },
   {
    "duration": 106,
    "start_time": "2023-05-26T12:41:41.554Z"
   },
   {
    "duration": 19,
    "start_time": "2023-05-26T12:41:41.662Z"
   },
   {
    "duration": 132,
    "start_time": "2023-05-26T12:41:41.683Z"
   },
   {
    "duration": 3212,
    "start_time": "2023-05-26T12:41:41.817Z"
   },
   {
    "duration": 59,
    "start_time": "2023-05-26T12:41:45.031Z"
   },
   {
    "duration": 15,
    "start_time": "2023-05-26T12:41:45.092Z"
   },
   {
    "duration": 159,
    "start_time": "2023-05-26T12:41:45.114Z"
   },
   {
    "duration": 51,
    "start_time": "2023-05-26T12:41:45.275Z"
   },
   {
    "duration": 14,
    "start_time": "2023-05-26T12:41:45.329Z"
   },
   {
    "duration": 64,
    "start_time": "2023-05-26T12:44:07.542Z"
   },
   {
    "duration": 12,
    "start_time": "2023-05-26T12:44:08.127Z"
   },
   {
    "duration": 5,
    "start_time": "2023-05-26T12:50:14.519Z"
   },
   {
    "duration": 51,
    "start_time": "2023-05-26T12:50:14.526Z"
   },
   {
    "duration": 14,
    "start_time": "2023-05-26T12:50:14.579Z"
   },
   {
    "duration": 15,
    "start_time": "2023-05-26T12:50:14.595Z"
   },
   {
    "duration": 171,
    "start_time": "2023-05-26T12:50:14.612Z"
   },
   {
    "duration": 4,
    "start_time": "2023-05-26T12:50:14.785Z"
   },
   {
    "duration": 3,
    "start_time": "2023-05-26T12:50:14.790Z"
   },
   {
    "duration": 8,
    "start_time": "2023-05-26T12:50:14.794Z"
   },
   {
    "duration": 5,
    "start_time": "2023-05-26T12:50:14.805Z"
   },
   {
    "duration": 192,
    "start_time": "2023-05-26T12:50:14.812Z"
   },
   {
    "duration": 6,
    "start_time": "2023-05-26T12:50:15.006Z"
   },
   {
    "duration": 36,
    "start_time": "2023-05-26T12:50:15.014Z"
   },
   {
    "duration": 19,
    "start_time": "2023-05-26T12:50:15.052Z"
   },
   {
    "duration": 19,
    "start_time": "2023-05-26T12:50:15.072Z"
   },
   {
    "duration": 25,
    "start_time": "2023-05-26T12:50:15.093Z"
   },
   {
    "duration": 6,
    "start_time": "2023-05-26T12:50:15.120Z"
   },
   {
    "duration": 16,
    "start_time": "2023-05-26T12:50:15.128Z"
   },
   {
    "duration": 5,
    "start_time": "2023-05-26T12:50:15.146Z"
   },
   {
    "duration": 4,
    "start_time": "2023-05-26T12:50:15.153Z"
   },
   {
    "duration": 42,
    "start_time": "2023-05-26T12:50:15.158Z"
   },
   {
    "duration": 0,
    "start_time": "2023-05-26T12:50:15.201Z"
   },
   {
    "duration": 0,
    "start_time": "2023-05-26T12:50:15.202Z"
   },
   {
    "duration": 0,
    "start_time": "2023-05-26T12:50:15.204Z"
   },
   {
    "duration": 0,
    "start_time": "2023-05-26T12:50:15.205Z"
   },
   {
    "duration": 16,
    "start_time": "2023-05-26T12:50:59.697Z"
   },
   {
    "duration": 3,
    "start_time": "2023-05-26T12:51:24.284Z"
   },
   {
    "duration": 14,
    "start_time": "2023-05-26T12:51:32.103Z"
   },
   {
    "duration": 4,
    "start_time": "2023-05-26T12:51:59.860Z"
   },
   {
    "duration": 37,
    "start_time": "2023-05-26T12:51:59.870Z"
   },
   {
    "duration": 12,
    "start_time": "2023-05-26T12:51:59.910Z"
   },
   {
    "duration": 12,
    "start_time": "2023-05-26T12:51:59.924Z"
   },
   {
    "duration": 163,
    "start_time": "2023-05-26T12:51:59.938Z"
   },
   {
    "duration": 5,
    "start_time": "2023-05-26T12:52:00.103Z"
   },
   {
    "duration": 12,
    "start_time": "2023-05-26T12:52:00.109Z"
   },
   {
    "duration": 28,
    "start_time": "2023-05-26T12:52:00.122Z"
   },
   {
    "duration": 31,
    "start_time": "2023-05-26T12:52:00.151Z"
   },
   {
    "duration": 156,
    "start_time": "2023-05-26T12:52:00.184Z"
   },
   {
    "duration": 4,
    "start_time": "2023-05-26T12:52:00.342Z"
   },
   {
    "duration": 18,
    "start_time": "2023-05-26T12:52:00.348Z"
   },
   {
    "duration": 20,
    "start_time": "2023-05-26T12:52:00.368Z"
   },
   {
    "duration": 16,
    "start_time": "2023-05-26T12:52:00.390Z"
   },
   {
    "duration": 40,
    "start_time": "2023-05-26T12:52:00.408Z"
   },
   {
    "duration": 39,
    "start_time": "2023-05-26T12:52:00.449Z"
   },
   {
    "duration": 30,
    "start_time": "2023-05-26T12:52:00.490Z"
   },
   {
    "duration": 45,
    "start_time": "2023-05-26T12:52:00.524Z"
   },
   {
    "duration": 40,
    "start_time": "2023-05-26T12:52:00.571Z"
   },
   {
    "duration": 58,
    "start_time": "2023-05-26T12:52:00.613Z"
   },
   {
    "duration": 59,
    "start_time": "2023-05-26T12:52:00.673Z"
   },
   {
    "duration": 152,
    "start_time": "2023-05-26T12:52:00.734Z"
   },
   {
    "duration": 18,
    "start_time": "2023-05-26T12:52:00.887Z"
   },
   {
    "duration": 67,
    "start_time": "2023-05-26T12:52:00.907Z"
   },
   {
    "duration": 4,
    "start_time": "2023-05-26T12:54:43.492Z"
   },
   {
    "duration": 53,
    "start_time": "2023-05-26T12:54:43.498Z"
   },
   {
    "duration": 13,
    "start_time": "2023-05-26T12:54:43.552Z"
   },
   {
    "duration": 14,
    "start_time": "2023-05-26T12:54:43.566Z"
   },
   {
    "duration": 151,
    "start_time": "2023-05-26T12:54:43.581Z"
   },
   {
    "duration": 4,
    "start_time": "2023-05-26T12:54:43.734Z"
   },
   {
    "duration": 11,
    "start_time": "2023-05-26T12:54:43.739Z"
   },
   {
    "duration": 7,
    "start_time": "2023-05-26T12:54:43.751Z"
   },
   {
    "duration": 5,
    "start_time": "2023-05-26T12:54:43.774Z"
   },
   {
    "duration": 162,
    "start_time": "2023-05-26T12:54:43.781Z"
   },
   {
    "duration": 6,
    "start_time": "2023-05-26T12:54:43.945Z"
   },
   {
    "duration": 43,
    "start_time": "2023-05-26T12:54:43.953Z"
   },
   {
    "duration": 29,
    "start_time": "2023-05-26T12:54:43.998Z"
   },
   {
    "duration": 47,
    "start_time": "2023-05-26T12:54:44.029Z"
   },
   {
    "duration": 15,
    "start_time": "2023-05-26T12:54:54.487Z"
   },
   {
    "duration": 705,
    "start_time": "2023-05-26T12:54:58.006Z"
   },
   {
    "duration": 1410,
    "start_time": "2023-05-26T12:55:45.285Z"
   },
   {
    "duration": 40,
    "start_time": "2023-05-26T12:55:46.697Z"
   },
   {
    "duration": 17,
    "start_time": "2023-05-26T12:55:46.739Z"
   },
   {
    "duration": 17,
    "start_time": "2023-05-26T12:55:46.758Z"
   },
   {
    "duration": 167,
    "start_time": "2023-05-26T12:55:46.777Z"
   },
   {
    "duration": 5,
    "start_time": "2023-05-26T12:55:46.946Z"
   },
   {
    "duration": 18,
    "start_time": "2023-05-26T12:55:46.953Z"
   },
   {
    "duration": 12,
    "start_time": "2023-05-26T12:55:46.973Z"
   },
   {
    "duration": 5,
    "start_time": "2023-05-26T12:55:46.987Z"
   },
   {
    "duration": 155,
    "start_time": "2023-05-26T12:55:46.995Z"
   },
   {
    "duration": 4,
    "start_time": "2023-05-26T12:55:47.152Z"
   },
   {
    "duration": 30,
    "start_time": "2023-05-26T12:55:47.158Z"
   },
   {
    "duration": 20,
    "start_time": "2023-05-26T12:55:47.189Z"
   },
   {
    "duration": 17,
    "start_time": "2023-05-26T12:55:47.210Z"
   },
   {
    "duration": 830,
    "start_time": "2023-05-26T12:55:47.229Z"
   },
   {
    "duration": 5,
    "start_time": "2023-05-26T12:56:28.474Z"
   },
   {
    "duration": 43,
    "start_time": "2023-05-26T12:56:28.480Z"
   },
   {
    "duration": 15,
    "start_time": "2023-05-26T12:56:28.524Z"
   },
   {
    "duration": 11,
    "start_time": "2023-05-26T12:56:28.541Z"
   },
   {
    "duration": 181,
    "start_time": "2023-05-26T12:56:28.554Z"
   },
   {
    "duration": 5,
    "start_time": "2023-05-26T12:56:28.736Z"
   },
   {
    "duration": 9,
    "start_time": "2023-05-26T12:56:28.742Z"
   },
   {
    "duration": 7,
    "start_time": "2023-05-26T12:56:28.752Z"
   },
   {
    "duration": 4,
    "start_time": "2023-05-26T12:56:28.777Z"
   },
   {
    "duration": 165,
    "start_time": "2023-05-26T12:56:28.783Z"
   },
   {
    "duration": 4,
    "start_time": "2023-05-26T12:56:28.950Z"
   },
   {
    "duration": 32,
    "start_time": "2023-05-26T12:56:28.956Z"
   },
   {
    "duration": 22,
    "start_time": "2023-05-26T12:56:28.989Z"
   },
   {
    "duration": 18,
    "start_time": "2023-05-26T12:56:29.013Z"
   },
   {
    "duration": 3,
    "start_time": "2023-05-26T12:56:29.032Z"
   },
   {
    "duration": 6,
    "start_time": "2023-05-26T12:56:29.036Z"
   },
   {
    "duration": 88,
    "start_time": "2023-05-26T12:56:29.075Z"
   },
   {
    "duration": 5,
    "start_time": "2023-05-26T12:56:29.174Z"
   },
   {
    "duration": 8,
    "start_time": "2023-05-26T12:56:29.181Z"
   },
   {
    "duration": 4,
    "start_time": "2023-05-26T12:56:29.191Z"
   },
   {
    "duration": 4,
    "start_time": "2023-05-26T12:56:29.197Z"
   },
   {
    "duration": 14,
    "start_time": "2023-05-26T12:56:29.203Z"
   },
   {
    "duration": 4,
    "start_time": "2023-05-26T12:56:29.219Z"
   },
   {
    "duration": 11,
    "start_time": "2023-05-26T12:56:29.227Z"
   },
   {
    "duration": 688,
    "start_time": "2023-05-26T12:56:29.239Z"
   },
   {
    "duration": 3,
    "start_time": "2023-05-26T12:56:29.929Z"
   },
   {
    "duration": 43,
    "start_time": "2023-05-26T12:56:29.933Z"
   },
   {
    "duration": 700,
    "start_time": "2023-05-26T12:56:29.978Z"
   },
   {
    "duration": 5,
    "start_time": "2023-05-26T12:56:30.680Z"
   },
   {
    "duration": 49,
    "start_time": "2023-05-26T12:56:30.686Z"
   },
   {
    "duration": 41,
    "start_time": "2023-05-26T12:56:30.738Z"
   },
   {
    "duration": 72,
    "start_time": "2023-05-26T12:56:30.781Z"
   },
   {
    "duration": 0,
    "start_time": "2023-05-26T12:56:30.856Z"
   },
   {
    "duration": 0,
    "start_time": "2023-05-26T12:56:30.859Z"
   },
   {
    "duration": 0,
    "start_time": "2023-05-26T12:56:30.860Z"
   },
   {
    "duration": 0,
    "start_time": "2023-05-26T12:56:30.861Z"
   },
   {
    "duration": 0,
    "start_time": "2023-05-26T12:56:30.862Z"
   },
   {
    "duration": 0,
    "start_time": "2023-05-26T12:56:30.863Z"
   },
   {
    "duration": 0,
    "start_time": "2023-05-26T12:56:30.864Z"
   },
   {
    "duration": 0,
    "start_time": "2023-05-26T12:56:30.865Z"
   },
   {
    "duration": 0,
    "start_time": "2023-05-26T12:56:30.866Z"
   },
   {
    "duration": 0,
    "start_time": "2023-05-26T12:56:30.867Z"
   },
   {
    "duration": 0,
    "start_time": "2023-05-26T12:56:30.868Z"
   },
   {
    "duration": 0,
    "start_time": "2023-05-26T12:56:30.869Z"
   },
   {
    "duration": 0,
    "start_time": "2023-05-26T12:56:30.870Z"
   },
   {
    "duration": 0,
    "start_time": "2023-05-26T12:56:30.871Z"
   },
   {
    "duration": 0,
    "start_time": "2023-05-26T12:56:30.872Z"
   },
   {
    "duration": 0,
    "start_time": "2023-05-26T12:56:30.873Z"
   },
   {
    "duration": 0,
    "start_time": "2023-05-26T12:56:30.874Z"
   },
   {
    "duration": 0,
    "start_time": "2023-05-26T12:56:30.875Z"
   },
   {
    "duration": 0,
    "start_time": "2023-05-26T12:56:30.877Z"
   },
   {
    "duration": 0,
    "start_time": "2023-05-26T12:56:30.878Z"
   },
   {
    "duration": 0,
    "start_time": "2023-05-26T12:56:30.879Z"
   },
   {
    "duration": 0,
    "start_time": "2023-05-26T12:56:30.880Z"
   },
   {
    "duration": 0,
    "start_time": "2023-05-26T12:56:30.881Z"
   },
   {
    "duration": 0,
    "start_time": "2023-05-26T12:56:30.882Z"
   },
   {
    "duration": 0,
    "start_time": "2023-05-26T12:56:30.882Z"
   },
   {
    "duration": 0,
    "start_time": "2023-05-26T12:56:30.883Z"
   },
   {
    "duration": 0,
    "start_time": "2023-05-26T12:56:30.884Z"
   },
   {
    "duration": 0,
    "start_time": "2023-05-26T12:56:30.885Z"
   },
   {
    "duration": 0,
    "start_time": "2023-05-26T12:56:30.886Z"
   },
   {
    "duration": 0,
    "start_time": "2023-05-26T12:56:30.887Z"
   },
   {
    "duration": 0,
    "start_time": "2023-05-26T12:56:30.888Z"
   },
   {
    "duration": 0,
    "start_time": "2023-05-26T12:56:30.889Z"
   },
   {
    "duration": 0,
    "start_time": "2023-05-26T12:56:30.890Z"
   },
   {
    "duration": 0,
    "start_time": "2023-05-26T12:56:30.891Z"
   },
   {
    "duration": 0,
    "start_time": "2023-05-26T12:56:30.892Z"
   },
   {
    "duration": 0,
    "start_time": "2023-05-26T12:56:30.893Z"
   },
   {
    "duration": 0,
    "start_time": "2023-05-26T12:56:30.894Z"
   },
   {
    "duration": 0,
    "start_time": "2023-05-26T12:56:30.895Z"
   },
   {
    "duration": 0,
    "start_time": "2023-05-26T12:56:30.896Z"
   },
   {
    "duration": 0,
    "start_time": "2023-05-26T12:56:30.897Z"
   },
   {
    "duration": 0,
    "start_time": "2023-05-26T12:56:30.898Z"
   },
   {
    "duration": 0,
    "start_time": "2023-05-26T12:56:30.899Z"
   },
   {
    "duration": 0,
    "start_time": "2023-05-26T12:56:30.900Z"
   },
   {
    "duration": 0,
    "start_time": "2023-05-26T12:56:30.901Z"
   },
   {
    "duration": 0,
    "start_time": "2023-05-26T12:56:30.902Z"
   },
   {
    "duration": 0,
    "start_time": "2023-05-26T12:56:30.903Z"
   },
   {
    "duration": 0,
    "start_time": "2023-05-26T12:56:30.904Z"
   },
   {
    "duration": 0,
    "start_time": "2023-05-26T12:56:30.906Z"
   },
   {
    "duration": 0,
    "start_time": "2023-05-26T12:56:30.906Z"
   },
   {
    "duration": 0,
    "start_time": "2023-05-26T12:56:30.908Z"
   },
   {
    "duration": 0,
    "start_time": "2023-05-26T12:56:30.909Z"
   },
   {
    "duration": 0,
    "start_time": "2023-05-26T12:56:30.910Z"
   },
   {
    "duration": 0,
    "start_time": "2023-05-26T12:56:30.911Z"
   },
   {
    "duration": 4,
    "start_time": "2023-05-26T12:58:15.502Z"
   },
   {
    "duration": 38,
    "start_time": "2023-05-26T12:58:15.534Z"
   },
   {
    "duration": 12,
    "start_time": "2023-05-26T12:58:15.574Z"
   },
   {
    "duration": 21,
    "start_time": "2023-05-26T12:58:15.588Z"
   },
   {
    "duration": 177,
    "start_time": "2023-05-26T12:58:15.611Z"
   },
   {
    "duration": 4,
    "start_time": "2023-05-26T12:58:15.790Z"
   },
   {
    "duration": 8,
    "start_time": "2023-05-26T12:58:15.796Z"
   },
   {
    "duration": 9,
    "start_time": "2023-05-26T12:58:15.806Z"
   },
   {
    "duration": 18,
    "start_time": "2023-05-26T12:58:15.816Z"
   },
   {
    "duration": 155,
    "start_time": "2023-05-26T12:58:15.836Z"
   },
   {
    "duration": 5,
    "start_time": "2023-05-26T12:58:15.994Z"
   },
   {
    "duration": 26,
    "start_time": "2023-05-26T12:58:16.001Z"
   },
   {
    "duration": 24,
    "start_time": "2023-05-26T12:58:16.029Z"
   },
   {
    "duration": 20,
    "start_time": "2023-05-26T12:58:16.075Z"
   },
   {
    "duration": 2,
    "start_time": "2023-05-26T12:58:16.097Z"
   },
   {
    "duration": 8,
    "start_time": "2023-05-26T12:58:16.101Z"
   },
   {
    "duration": 15,
    "start_time": "2023-05-26T12:58:16.111Z"
   },
   {
    "duration": 6,
    "start_time": "2023-05-26T12:58:16.128Z"
   },
   {
    "duration": 6,
    "start_time": "2023-05-26T12:58:16.136Z"
   },
   {
    "duration": 2,
    "start_time": "2023-05-26T12:58:16.175Z"
   },
   {
    "duration": 7,
    "start_time": "2023-05-26T12:58:16.179Z"
   },
   {
    "duration": 4,
    "start_time": "2023-05-26T12:58:16.188Z"
   },
   {
    "duration": 6,
    "start_time": "2023-05-26T12:58:16.194Z"
   },
   {
    "duration": 4,
    "start_time": "2023-05-26T12:58:16.202Z"
   },
   {
    "duration": 722,
    "start_time": "2023-05-26T12:58:16.208Z"
   },
   {
    "duration": 3,
    "start_time": "2023-05-26T12:58:16.932Z"
   },
   {
    "duration": 53,
    "start_time": "2023-05-26T12:58:16.937Z"
   },
   {
    "duration": 685,
    "start_time": "2023-05-26T12:58:16.992Z"
   },
   {
    "duration": 4,
    "start_time": "2023-05-26T12:58:17.682Z"
   },
   {
    "duration": 24,
    "start_time": "2023-05-26T12:58:17.688Z"
   },
   {
    "duration": 8,
    "start_time": "2023-05-26T12:58:17.714Z"
   },
   {
    "duration": 53,
    "start_time": "2023-05-26T12:58:17.724Z"
   },
   {
    "duration": 104,
    "start_time": "2023-05-26T12:58:17.780Z"
   },
   {
    "duration": 257,
    "start_time": "2023-05-26T12:58:17.887Z"
   },
   {
    "duration": 367,
    "start_time": "2023-05-26T12:58:18.146Z"
   },
   {
    "duration": 23,
    "start_time": "2023-05-26T12:58:18.515Z"
   },
   {
    "duration": 13,
    "start_time": "2023-05-26T12:58:18.540Z"
   },
   {
    "duration": 132,
    "start_time": "2023-05-26T12:58:18.555Z"
   },
   {
    "duration": 4341,
    "start_time": "2023-05-26T12:58:18.688Z"
   },
   {
    "duration": 73,
    "start_time": "2023-05-26T12:58:23.031Z"
   },
   {
    "duration": 12,
    "start_time": "2023-05-26T12:58:23.106Z"
   },
   {
    "duration": 129,
    "start_time": "2023-05-26T12:58:23.120Z"
   },
   {
    "duration": 36,
    "start_time": "2023-05-26T12:58:23.251Z"
   },
   {
    "duration": 12,
    "start_time": "2023-05-26T12:58:23.374Z"
   },
   {
    "duration": 223,
    "start_time": "2023-05-26T12:58:23.477Z"
   },
   {
    "duration": 4,
    "start_time": "2023-05-26T12:58:23.702Z"
   },
   {
    "duration": 31,
    "start_time": "2023-05-26T12:58:23.708Z"
   },
   {
    "duration": 7,
    "start_time": "2023-05-26T12:58:23.741Z"
   },
   {
    "duration": 134,
    "start_time": "2023-05-26T12:58:23.750Z"
   },
   {
    "duration": 14,
    "start_time": "2023-05-26T12:58:23.974Z"
   },
   {
    "duration": 311,
    "start_time": "2023-05-26T12:58:23.990Z"
   },
   {
    "duration": 4,
    "start_time": "2023-05-26T12:58:24.304Z"
   },
   {
    "duration": 11,
    "start_time": "2023-05-26T12:58:24.310Z"
   },
   {
    "duration": 7,
    "start_time": "2023-05-26T12:58:24.323Z"
   },
   {
    "duration": 146,
    "start_time": "2023-05-26T12:58:24.332Z"
   },
   {
    "duration": 11,
    "start_time": "2023-05-26T12:58:24.480Z"
   },
   {
    "duration": 438,
    "start_time": "2023-05-26T12:58:24.493Z"
   },
   {
    "duration": 249,
    "start_time": "2023-05-26T12:58:24.932Z"
   },
   {
    "duration": 7,
    "start_time": "2023-05-26T12:58:25.182Z"
   },
   {
    "duration": 205,
    "start_time": "2023-05-26T12:58:25.190Z"
   },
   {
    "duration": 502,
    "start_time": "2023-05-26T12:58:25.396Z"
   },
   {
    "duration": 27,
    "start_time": "2023-05-26T12:58:25.899Z"
   },
   {
    "duration": 8,
    "start_time": "2023-05-26T12:58:25.928Z"
   },
   {
    "duration": 161,
    "start_time": "2023-05-26T12:58:25.937Z"
   },
   {
    "duration": 514,
    "start_time": "2023-05-26T12:58:26.100Z"
   },
   {
    "duration": 30,
    "start_time": "2023-05-26T12:58:26.616Z"
   },
   {
    "duration": 31,
    "start_time": "2023-05-26T12:58:26.647Z"
   },
   {
    "duration": 131,
    "start_time": "2023-05-26T12:58:26.680Z"
   },
   {
    "duration": 198,
    "start_time": "2023-05-26T12:58:26.813Z"
   },
   {
    "duration": 12,
    "start_time": "2023-05-26T12:58:27.013Z"
   },
   {
    "duration": 7,
    "start_time": "2023-05-26T12:58:27.027Z"
   },
   {
    "duration": 146,
    "start_time": "2023-05-26T12:58:27.036Z"
   },
   {
    "duration": 4899,
    "start_time": "2023-05-26T12:58:27.184Z"
   },
   {
    "duration": 52,
    "start_time": "2023-05-26T12:58:32.085Z"
   },
   {
    "duration": 11,
    "start_time": "2023-05-26T12:58:32.139Z"
   },
   {
    "duration": 134,
    "start_time": "2023-05-26T12:58:32.152Z"
   },
   {
    "duration": 5798,
    "start_time": "2023-05-26T12:58:32.287Z"
   },
   {
    "duration": 107,
    "start_time": "2023-05-26T12:58:38.088Z"
   },
   {
    "duration": 13,
    "start_time": "2023-05-26T12:58:38.197Z"
   },
   {
    "duration": 137,
    "start_time": "2023-05-26T12:58:38.212Z"
   },
   {
    "duration": 2938,
    "start_time": "2023-05-26T12:58:38.351Z"
   },
   {
    "duration": 34,
    "start_time": "2023-05-26T12:58:41.291Z"
   },
   {
    "duration": 14,
    "start_time": "2023-05-26T12:58:41.330Z"
   },
   {
    "duration": 152,
    "start_time": "2023-05-26T12:58:41.345Z"
   },
   {
    "duration": 47,
    "start_time": "2023-05-26T12:58:41.499Z"
   },
   {
    "duration": 69,
    "start_time": "2023-05-26T12:59:36.934Z"
   },
   {
    "duration": 689,
    "start_time": "2023-05-26T13:08:10.696Z"
   },
   {
    "duration": 5,
    "start_time": "2023-05-26T13:08:28.348Z"
   },
   {
    "duration": 56,
    "start_time": "2023-05-26T13:08:28.355Z"
   },
   {
    "duration": 15,
    "start_time": "2023-05-26T13:08:28.413Z"
   },
   {
    "duration": 22,
    "start_time": "2023-05-26T13:08:28.430Z"
   },
   {
    "duration": 170,
    "start_time": "2023-05-26T13:08:28.454Z"
   },
   {
    "duration": 4,
    "start_time": "2023-05-26T13:08:28.626Z"
   },
   {
    "duration": 3,
    "start_time": "2023-05-26T13:08:28.632Z"
   },
   {
    "duration": 8,
    "start_time": "2023-05-26T13:08:28.636Z"
   },
   {
    "duration": 32,
    "start_time": "2023-05-26T13:08:28.646Z"
   },
   {
    "duration": 174,
    "start_time": "2023-05-26T13:08:28.680Z"
   },
   {
    "duration": 5,
    "start_time": "2023-05-26T13:08:28.856Z"
   },
   {
    "duration": 42,
    "start_time": "2023-05-26T13:08:28.876Z"
   },
   {
    "duration": 79,
    "start_time": "2023-05-26T13:08:28.922Z"
   },
   {
    "duration": 37,
    "start_time": "2023-05-26T13:08:29.004Z"
   },
   {
    "duration": 19,
    "start_time": "2023-05-26T13:08:31.234Z"
   },
   {
    "duration": 1471,
    "start_time": "2023-05-26T13:08:56.427Z"
   },
   {
    "duration": 41,
    "start_time": "2023-05-26T13:08:57.900Z"
   },
   {
    "duration": 20,
    "start_time": "2023-05-26T13:08:57.943Z"
   },
   {
    "duration": 21,
    "start_time": "2023-05-26T13:08:57.965Z"
   },
   {
    "duration": 217,
    "start_time": "2023-05-26T13:08:57.989Z"
   },
   {
    "duration": 5,
    "start_time": "2023-05-26T13:08:58.208Z"
   },
   {
    "duration": 4,
    "start_time": "2023-05-26T13:08:58.215Z"
   },
   {
    "duration": 7,
    "start_time": "2023-05-26T13:08:58.221Z"
   },
   {
    "duration": 11,
    "start_time": "2023-05-26T13:08:58.229Z"
   },
   {
    "duration": 238,
    "start_time": "2023-05-26T13:08:58.242Z"
   },
   {
    "duration": 4,
    "start_time": "2023-05-26T13:08:58.482Z"
   },
   {
    "duration": 34,
    "start_time": "2023-05-26T13:08:58.488Z"
   },
   {
    "duration": 28,
    "start_time": "2023-05-26T13:08:58.525Z"
   },
   {
    "duration": 27,
    "start_time": "2023-05-26T13:08:58.575Z"
   },
   {
    "duration": 111,
    "start_time": "2023-05-26T13:09:21.616Z"
   },
   {
    "duration": 5,
    "start_time": "2023-05-26T13:09:31.694Z"
   },
   {
    "duration": 70,
    "start_time": "2023-05-26T13:09:31.701Z"
   },
   {
    "duration": 17,
    "start_time": "2023-05-26T13:09:31.774Z"
   },
   {
    "duration": 27,
    "start_time": "2023-05-26T13:09:31.792Z"
   },
   {
    "duration": 173,
    "start_time": "2023-05-26T13:09:31.822Z"
   },
   {
    "duration": 5,
    "start_time": "2023-05-26T13:09:31.997Z"
   },
   {
    "duration": 3,
    "start_time": "2023-05-26T13:09:32.003Z"
   },
   {
    "duration": 15,
    "start_time": "2023-05-26T13:09:32.007Z"
   },
   {
    "duration": 11,
    "start_time": "2023-05-26T13:09:32.023Z"
   },
   {
    "duration": 197,
    "start_time": "2023-05-26T13:09:32.035Z"
   },
   {
    "duration": 5,
    "start_time": "2023-05-26T13:09:32.234Z"
   },
   {
    "duration": 22,
    "start_time": "2023-05-26T13:09:32.240Z"
   },
   {
    "duration": 22,
    "start_time": "2023-05-26T13:09:32.275Z"
   },
   {
    "duration": 19,
    "start_time": "2023-05-26T13:09:32.301Z"
   },
   {
    "duration": 1409,
    "start_time": "2023-05-26T13:09:52.003Z"
   },
   {
    "duration": 40,
    "start_time": "2023-05-26T13:09:53.414Z"
   },
   {
    "duration": 17,
    "start_time": "2023-05-26T13:09:53.456Z"
   },
   {
    "duration": 24,
    "start_time": "2023-05-26T13:09:53.475Z"
   },
   {
    "duration": 177,
    "start_time": "2023-05-26T13:09:53.502Z"
   },
   {
    "duration": 5,
    "start_time": "2023-05-26T13:09:53.681Z"
   },
   {
    "duration": 13,
    "start_time": "2023-05-26T13:09:53.688Z"
   },
   {
    "duration": 15,
    "start_time": "2023-05-26T13:09:53.703Z"
   },
   {
    "duration": 6,
    "start_time": "2023-05-26T13:09:53.720Z"
   },
   {
    "duration": 183,
    "start_time": "2023-05-26T13:09:53.727Z"
   },
   {
    "duration": 4,
    "start_time": "2023-05-26T13:09:53.912Z"
   },
   {
    "duration": 29,
    "start_time": "2023-05-26T13:09:53.918Z"
   },
   {
    "duration": 53,
    "start_time": "2023-05-26T13:09:53.949Z"
   },
   {
    "duration": 25,
    "start_time": "2023-05-26T13:09:54.005Z"
   },
   {
    "duration": 901,
    "start_time": "2023-05-26T13:09:54.032Z"
   },
   {
    "duration": 7,
    "start_time": "2023-05-26T13:10:19.393Z"
   },
   {
    "duration": 690,
    "start_time": "2023-05-26T13:10:40.932Z"
   },
   {
    "duration": 966,
    "start_time": "2023-05-26T13:11:03.640Z"
   },
   {
    "duration": 807,
    "start_time": "2023-05-26T13:11:33.634Z"
   },
   {
    "duration": 4,
    "start_time": "2023-05-26T13:12:31.881Z"
   },
   {
    "duration": 67,
    "start_time": "2023-05-26T13:12:55.602Z"
   },
   {
    "duration": 11,
    "start_time": "2023-05-26T13:13:06.174Z"
   },
   {
    "duration": 6,
    "start_time": "2023-05-26T13:13:23.134Z"
   },
   {
    "duration": 6,
    "start_time": "2023-05-26T13:13:33.716Z"
   },
   {
    "duration": 5,
    "start_time": "2023-05-26T13:13:40.170Z"
   },
   {
    "duration": 5,
    "start_time": "2023-05-26T13:13:51.086Z"
   },
   {
    "duration": 5,
    "start_time": "2023-05-26T13:14:43.268Z"
   },
   {
    "duration": 6,
    "start_time": "2023-05-26T13:15:21.423Z"
   },
   {
    "duration": 5,
    "start_time": "2023-05-26T13:16:16.618Z"
   },
   {
    "duration": 42,
    "start_time": "2023-05-26T13:16:16.625Z"
   },
   {
    "duration": 15,
    "start_time": "2023-05-26T13:16:16.669Z"
   },
   {
    "duration": 19,
    "start_time": "2023-05-26T13:16:16.686Z"
   },
   {
    "duration": 188,
    "start_time": "2023-05-26T13:16:16.709Z"
   },
   {
    "duration": 4,
    "start_time": "2023-05-26T13:16:16.899Z"
   },
   {
    "duration": 7,
    "start_time": "2023-05-26T13:16:16.905Z"
   },
   {
    "duration": 7,
    "start_time": "2023-05-26T13:16:16.913Z"
   },
   {
    "duration": 5,
    "start_time": "2023-05-26T13:16:16.921Z"
   },
   {
    "duration": 189,
    "start_time": "2023-05-26T13:16:16.928Z"
   },
   {
    "duration": 6,
    "start_time": "2023-05-26T13:16:17.119Z"
   },
   {
    "duration": 5,
    "start_time": "2023-05-26T13:16:17.127Z"
   },
   {
    "duration": 6,
    "start_time": "2023-05-26T13:16:17.134Z"
   },
   {
    "duration": 3,
    "start_time": "2023-05-26T13:16:17.142Z"
   },
   {
    "duration": 29,
    "start_time": "2023-05-26T13:16:17.147Z"
   },
   {
    "duration": 7,
    "start_time": "2023-05-26T13:16:17.178Z"
   },
   {
    "duration": 7,
    "start_time": "2023-05-26T13:16:17.187Z"
   },
   {
    "duration": 14,
    "start_time": "2023-05-26T13:16:17.196Z"
   },
   {
    "duration": 11,
    "start_time": "2023-05-26T13:16:17.212Z"
   },
   {
    "duration": 6,
    "start_time": "2023-05-26T13:16:17.225Z"
   },
   {
    "duration": 8,
    "start_time": "2023-05-26T13:16:17.233Z"
   },
   {
    "duration": 3,
    "start_time": "2023-05-26T13:16:17.275Z"
   },
   {
    "duration": 27,
    "start_time": "2023-05-26T13:16:17.279Z"
   },
   {
    "duration": 1,
    "start_time": "2023-05-26T13:16:17.308Z"
   },
   {
    "duration": 0,
    "start_time": "2023-05-26T13:16:17.311Z"
   },
   {
    "duration": 0,
    "start_time": "2023-05-26T13:16:17.312Z"
   },
   {
    "duration": 5,
    "start_time": "2023-05-26T13:17:43.003Z"
   },
   {
    "duration": 71,
    "start_time": "2023-05-26T13:17:43.011Z"
   },
   {
    "duration": 13,
    "start_time": "2023-05-26T13:17:43.084Z"
   },
   {
    "duration": 22,
    "start_time": "2023-05-26T13:17:43.099Z"
   },
   {
    "duration": 251,
    "start_time": "2023-05-26T13:17:43.124Z"
   },
   {
    "duration": 4,
    "start_time": "2023-05-26T13:17:43.377Z"
   },
   {
    "duration": 3,
    "start_time": "2023-05-26T13:17:43.383Z"
   },
   {
    "duration": 6,
    "start_time": "2023-05-26T13:17:43.387Z"
   },
   {
    "duration": 5,
    "start_time": "2023-05-26T13:17:43.394Z"
   },
   {
    "duration": 194,
    "start_time": "2023-05-26T13:17:43.401Z"
   },
   {
    "duration": 4,
    "start_time": "2023-05-26T13:17:43.597Z"
   },
   {
    "duration": 5,
    "start_time": "2023-05-26T13:17:43.603Z"
   },
   {
    "duration": 6,
    "start_time": "2023-05-26T13:17:43.610Z"
   },
   {
    "duration": 9,
    "start_time": "2023-05-26T13:17:43.618Z"
   },
   {
    "duration": 14,
    "start_time": "2023-05-26T13:17:43.629Z"
   },
   {
    "duration": 15,
    "start_time": "2023-05-26T13:17:43.645Z"
   },
   {
    "duration": 3,
    "start_time": "2023-05-26T13:17:43.675Z"
   },
   {
    "duration": 11,
    "start_time": "2023-05-26T13:17:43.679Z"
   },
   {
    "duration": 12,
    "start_time": "2023-05-26T13:17:43.691Z"
   },
   {
    "duration": 4,
    "start_time": "2023-05-26T13:17:43.706Z"
   },
   {
    "duration": 4,
    "start_time": "2023-05-26T13:17:43.712Z"
   },
   {
    "duration": 3,
    "start_time": "2023-05-26T13:17:43.718Z"
   },
   {
    "duration": 54,
    "start_time": "2023-05-26T13:17:43.723Z"
   },
   {
    "duration": 22,
    "start_time": "2023-05-26T13:17:43.779Z"
   },
   {
    "duration": 18,
    "start_time": "2023-05-26T13:17:43.802Z"
   },
   {
    "duration": 57,
    "start_time": "2023-05-26T13:17:43.822Z"
   },
   {
    "duration": 6,
    "start_time": "2023-05-26T13:21:33.602Z"
   },
   {
    "duration": 4,
    "start_time": "2023-05-26T13:21:41.025Z"
   },
   {
    "duration": 7,
    "start_time": "2023-05-26T13:22:00.581Z"
   },
   {
    "duration": 7,
    "start_time": "2023-05-26T13:22:13.983Z"
   },
   {
    "duration": 16,
    "start_time": "2023-05-26T13:23:11.990Z"
   },
   {
    "duration": 13,
    "start_time": "2023-05-26T14:15:26.214Z"
   },
   {
    "duration": 21,
    "start_time": "2023-05-26T14:15:30.922Z"
   },
   {
    "duration": 21,
    "start_time": "2023-05-26T14:16:03.965Z"
   },
   {
    "duration": 5,
    "start_time": "2023-05-26T14:16:16.408Z"
   },
   {
    "duration": 15,
    "start_time": "2023-05-26T14:19:06.700Z"
   },
   {
    "duration": 1483,
    "start_time": "2023-05-26T14:20:42.900Z"
   },
   {
    "duration": 40,
    "start_time": "2023-05-26T14:20:44.385Z"
   },
   {
    "duration": 18,
    "start_time": "2023-05-26T14:20:44.426Z"
   },
   {
    "duration": 13,
    "start_time": "2023-05-26T14:20:44.446Z"
   },
   {
    "duration": 186,
    "start_time": "2023-05-26T14:20:44.462Z"
   },
   {
    "duration": 4,
    "start_time": "2023-05-26T14:20:44.649Z"
   },
   {
    "duration": 4,
    "start_time": "2023-05-26T14:20:44.655Z"
   },
   {
    "duration": 5,
    "start_time": "2023-05-26T14:20:44.675Z"
   },
   {
    "duration": 7,
    "start_time": "2023-05-26T14:20:44.681Z"
   },
   {
    "duration": 181,
    "start_time": "2023-05-26T14:20:44.689Z"
   },
   {
    "duration": 6,
    "start_time": "2023-05-26T14:20:44.874Z"
   },
   {
    "duration": 5,
    "start_time": "2023-05-26T14:20:44.883Z"
   },
   {
    "duration": 6,
    "start_time": "2023-05-26T14:20:44.891Z"
   },
   {
    "duration": 3,
    "start_time": "2023-05-26T14:20:44.901Z"
   },
   {
    "duration": 6,
    "start_time": "2023-05-26T14:20:44.905Z"
   },
   {
    "duration": 4,
    "start_time": "2023-05-26T14:20:44.913Z"
   },
   {
    "duration": 5,
    "start_time": "2023-05-26T14:20:44.918Z"
   },
   {
    "duration": 6,
    "start_time": "2023-05-26T14:20:44.924Z"
   },
   {
    "duration": 54,
    "start_time": "2023-05-26T14:20:44.931Z"
   },
   {
    "duration": 9,
    "start_time": "2023-05-26T14:20:44.987Z"
   },
   {
    "duration": 41,
    "start_time": "2023-05-26T14:20:44.998Z"
   },
   {
    "duration": 27,
    "start_time": "2023-05-26T14:20:45.041Z"
   },
   {
    "duration": 41,
    "start_time": "2023-05-26T14:20:45.070Z"
   },
   {
    "duration": 6,
    "start_time": "2023-05-26T14:20:45.113Z"
   },
   {
    "duration": 14,
    "start_time": "2023-05-26T14:20:45.120Z"
   },
   {
    "duration": 17,
    "start_time": "2023-05-26T14:20:45.136Z"
   },
   {
    "duration": 21,
    "start_time": "2023-05-26T14:20:45.155Z"
   },
   {
    "duration": 22,
    "start_time": "2023-05-26T14:20:45.177Z"
   },
   {
    "duration": 17,
    "start_time": "2023-05-26T14:20:45.200Z"
   },
   {
    "duration": 27,
    "start_time": "2023-05-26T14:20:45.219Z"
   },
   {
    "duration": 5,
    "start_time": "2023-05-26T14:29:44.604Z"
   },
   {
    "duration": 50,
    "start_time": "2023-05-26T14:29:44.612Z"
   },
   {
    "duration": 20,
    "start_time": "2023-05-26T14:29:44.665Z"
   },
   {
    "duration": 22,
    "start_time": "2023-05-26T14:29:44.687Z"
   },
   {
    "duration": 219,
    "start_time": "2023-05-26T14:29:44.711Z"
   },
   {
    "duration": 8,
    "start_time": "2023-05-26T14:29:44.933Z"
   },
   {
    "duration": 7,
    "start_time": "2023-05-26T14:29:44.944Z"
   },
   {
    "duration": 33,
    "start_time": "2023-05-26T14:29:44.952Z"
   },
   {
    "duration": 14,
    "start_time": "2023-05-26T14:29:44.987Z"
   },
   {
    "duration": 226,
    "start_time": "2023-05-26T14:29:45.003Z"
   },
   {
    "duration": 5,
    "start_time": "2023-05-26T14:29:45.231Z"
   },
   {
    "duration": 22,
    "start_time": "2023-05-26T14:29:45.238Z"
   },
   {
    "duration": 20,
    "start_time": "2023-05-26T14:29:45.263Z"
   },
   {
    "duration": 13,
    "start_time": "2023-05-26T14:29:45.285Z"
   },
   {
    "duration": 11,
    "start_time": "2023-05-26T14:29:45.300Z"
   },
   {
    "duration": 7,
    "start_time": "2023-05-26T14:29:45.313Z"
   },
   {
    "duration": 13,
    "start_time": "2023-05-26T14:29:45.322Z"
   },
   {
    "duration": 8,
    "start_time": "2023-05-26T14:29:45.338Z"
   },
   {
    "duration": 11,
    "start_time": "2023-05-26T14:29:45.348Z"
   },
   {
    "duration": 6,
    "start_time": "2023-05-26T14:29:45.362Z"
   },
   {
    "duration": 24,
    "start_time": "2023-05-26T14:29:45.370Z"
   },
   {
    "duration": 12,
    "start_time": "2023-05-26T14:29:45.395Z"
   },
   {
    "duration": 131,
    "start_time": "2023-05-26T14:29:45.409Z"
   },
   {
    "duration": 5,
    "start_time": "2023-05-26T14:29:45.543Z"
   },
   {
    "duration": 7,
    "start_time": "2023-05-26T14:29:45.549Z"
   },
   {
    "duration": 26,
    "start_time": "2023-05-26T14:29:45.557Z"
   },
   {
    "duration": 37,
    "start_time": "2023-05-26T14:29:45.585Z"
   },
   {
    "duration": 1385,
    "start_time": "2023-05-26T14:31:07.818Z"
   },
   {
    "duration": 40,
    "start_time": "2023-05-26T14:31:09.205Z"
   },
   {
    "duration": 18,
    "start_time": "2023-05-26T14:31:09.248Z"
   },
   {
    "duration": 20,
    "start_time": "2023-05-26T14:31:09.269Z"
   },
   {
    "duration": 197,
    "start_time": "2023-05-26T14:31:09.290Z"
   },
   {
    "duration": 8,
    "start_time": "2023-05-26T14:31:09.489Z"
   },
   {
    "duration": 5,
    "start_time": "2023-05-26T14:31:09.499Z"
   },
   {
    "duration": 6,
    "start_time": "2023-05-26T14:31:09.506Z"
   },
   {
    "duration": 5,
    "start_time": "2023-05-26T14:31:09.514Z"
   },
   {
    "duration": 184,
    "start_time": "2023-05-26T14:31:09.522Z"
   },
   {
    "duration": 4,
    "start_time": "2023-05-26T14:31:09.708Z"
   },
   {
    "duration": 13,
    "start_time": "2023-05-26T14:31:09.714Z"
   },
   {
    "duration": 10,
    "start_time": "2023-05-26T14:31:09.729Z"
   },
   {
    "duration": 15,
    "start_time": "2023-05-26T14:31:09.741Z"
   },
   {
    "duration": 4,
    "start_time": "2023-05-26T14:31:09.758Z"
   },
   {
    "duration": 6,
    "start_time": "2023-05-26T14:31:09.763Z"
   },
   {
    "duration": 3,
    "start_time": "2023-05-26T14:31:09.780Z"
   },
   {
    "duration": 11,
    "start_time": "2023-05-26T14:31:09.784Z"
   },
   {
    "duration": 14,
    "start_time": "2023-05-26T14:31:09.797Z"
   },
   {
    "duration": 4,
    "start_time": "2023-05-26T14:31:09.813Z"
   },
   {
    "duration": 5,
    "start_time": "2023-05-26T14:31:09.819Z"
   },
   {
    "duration": 8,
    "start_time": "2023-05-26T14:31:09.825Z"
   },
   {
    "duration": 48,
    "start_time": "2023-05-26T14:31:09.834Z"
   },
   {
    "duration": 5,
    "start_time": "2023-05-26T14:31:09.887Z"
   },
   {
    "duration": 6,
    "start_time": "2023-05-26T14:31:09.894Z"
   },
   {
    "duration": 15,
    "start_time": "2023-05-26T14:31:09.902Z"
   },
   {
    "duration": 31,
    "start_time": "2023-05-26T14:31:09.919Z"
   },
   {
    "duration": 5,
    "start_time": "2023-05-26T14:32:30.159Z"
   },
   {
    "duration": 71,
    "start_time": "2023-05-26T14:32:30.167Z"
   },
   {
    "duration": 14,
    "start_time": "2023-05-26T14:32:30.240Z"
   },
   {
    "duration": 40,
    "start_time": "2023-05-26T14:32:30.256Z"
   },
   {
    "duration": 173,
    "start_time": "2023-05-26T14:32:30.298Z"
   },
   {
    "duration": 19,
    "start_time": "2023-05-26T14:32:30.475Z"
   },
   {
    "duration": 43,
    "start_time": "2023-05-26T14:32:30.496Z"
   },
   {
    "duration": 52,
    "start_time": "2023-05-26T14:32:30.541Z"
   },
   {
    "duration": 58,
    "start_time": "2023-05-26T14:32:30.595Z"
   },
   {
    "duration": 200,
    "start_time": "2023-05-26T14:32:30.655Z"
   },
   {
    "duration": 5,
    "start_time": "2023-05-26T14:32:30.857Z"
   },
   {
    "duration": 74,
    "start_time": "2023-05-26T14:32:30.863Z"
   },
   {
    "duration": 50,
    "start_time": "2023-05-26T14:32:30.939Z"
   },
   {
    "duration": 91,
    "start_time": "2023-05-26T14:32:30.991Z"
   },
   {
    "duration": 71,
    "start_time": "2023-05-26T14:32:31.084Z"
   },
   {
    "duration": 51,
    "start_time": "2023-05-26T14:32:31.157Z"
   },
   {
    "duration": 36,
    "start_time": "2023-05-26T14:32:31.210Z"
   },
   {
    "duration": 51,
    "start_time": "2023-05-26T14:32:31.248Z"
   },
   {
    "duration": 64,
    "start_time": "2023-05-26T14:32:31.300Z"
   },
   {
    "duration": 46,
    "start_time": "2023-05-26T14:32:31.366Z"
   },
   {
    "duration": 52,
    "start_time": "2023-05-26T14:32:31.414Z"
   },
   {
    "duration": 40,
    "start_time": "2023-05-26T14:32:31.468Z"
   },
   {
    "duration": 189,
    "start_time": "2023-05-26T14:32:34.167Z"
   },
   {
    "duration": 19,
    "start_time": "2023-05-26T14:33:04.147Z"
   },
   {
    "duration": 17,
    "start_time": "2023-05-26T14:34:43.143Z"
   },
   {
    "duration": 15,
    "start_time": "2023-05-26T14:35:06.258Z"
   },
   {
    "duration": 4,
    "start_time": "2023-05-26T14:47:04.805Z"
   },
   {
    "duration": 42,
    "start_time": "2023-05-26T14:47:04.817Z"
   },
   {
    "duration": 16,
    "start_time": "2023-05-26T14:47:04.863Z"
   },
   {
    "duration": 18,
    "start_time": "2023-05-26T14:47:04.881Z"
   },
   {
    "duration": 259,
    "start_time": "2023-05-26T14:47:04.902Z"
   },
   {
    "duration": 12,
    "start_time": "2023-05-26T14:47:05.163Z"
   },
   {
    "duration": 24,
    "start_time": "2023-05-26T14:47:05.177Z"
   },
   {
    "duration": 9,
    "start_time": "2023-05-26T14:47:05.202Z"
   },
   {
    "duration": 5,
    "start_time": "2023-05-26T14:47:05.212Z"
   },
   {
    "duration": 173,
    "start_time": "2023-05-26T14:47:05.218Z"
   },
   {
    "duration": 4,
    "start_time": "2023-05-26T14:47:05.394Z"
   },
   {
    "duration": 21,
    "start_time": "2023-05-26T14:47:05.399Z"
   },
   {
    "duration": 23,
    "start_time": "2023-05-26T14:47:05.421Z"
   },
   {
    "duration": 29,
    "start_time": "2023-05-26T14:47:05.474Z"
   },
   {
    "duration": 2,
    "start_time": "2023-05-26T14:47:05.504Z"
   },
   {
    "duration": 6,
    "start_time": "2023-05-26T14:47:05.508Z"
   },
   {
    "duration": 15,
    "start_time": "2023-05-26T14:47:05.516Z"
   },
   {
    "duration": 7,
    "start_time": "2023-05-26T14:47:05.533Z"
   },
   {
    "duration": 23,
    "start_time": "2023-05-26T14:47:05.542Z"
   },
   {
    "duration": 25,
    "start_time": "2023-05-26T14:47:05.566Z"
   },
   {
    "duration": 13,
    "start_time": "2023-05-26T14:47:05.593Z"
   },
   {
    "duration": 721,
    "start_time": "2023-05-26T14:47:05.607Z"
   },
   {
    "duration": 3,
    "start_time": "2023-05-26T14:47:06.330Z"
   },
   {
    "duration": 54,
    "start_time": "2023-05-26T14:47:06.335Z"
   },
   {
    "duration": 717,
    "start_time": "2023-05-26T14:47:06.391Z"
   },
   {
    "duration": 5,
    "start_time": "2023-05-26T14:47:07.109Z"
   },
   {
    "duration": 13,
    "start_time": "2023-05-26T14:47:07.115Z"
   },
   {
    "duration": 8,
    "start_time": "2023-05-26T14:47:07.129Z"
   },
   {
    "duration": 62,
    "start_time": "2023-05-26T14:47:07.140Z"
   },
   {
    "duration": 20,
    "start_time": "2023-05-26T14:47:07.275Z"
   },
   {
    "duration": 222,
    "start_time": "2023-05-26T14:47:07.377Z"
   },
   {
    "duration": 400,
    "start_time": "2023-05-26T14:47:07.601Z"
   },
   {
    "duration": 25,
    "start_time": "2023-05-26T14:47:08.002Z"
   },
   {
    "duration": 4,
    "start_time": "2023-05-26T14:48:48.014Z"
   },
   {
    "duration": 48,
    "start_time": "2023-05-26T14:48:48.043Z"
   },
   {
    "duration": 14,
    "start_time": "2023-05-26T14:48:48.093Z"
   },
   {
    "duration": 15,
    "start_time": "2023-05-26T14:48:48.109Z"
   },
   {
    "duration": 208,
    "start_time": "2023-05-26T14:48:48.126Z"
   },
   {
    "duration": 5,
    "start_time": "2023-05-26T14:48:48.337Z"
   },
   {
    "duration": 3,
    "start_time": "2023-05-26T14:48:48.344Z"
   },
   {
    "duration": 31,
    "start_time": "2023-05-26T14:48:48.348Z"
   },
   {
    "duration": 6,
    "start_time": "2023-05-26T14:48:48.386Z"
   },
   {
    "duration": 151,
    "start_time": "2023-05-26T14:48:48.394Z"
   },
   {
    "duration": 5,
    "start_time": "2023-05-26T14:48:48.546Z"
   },
   {
    "duration": 39,
    "start_time": "2023-05-26T14:48:48.552Z"
   },
   {
    "duration": 20,
    "start_time": "2023-05-26T14:48:48.592Z"
   },
   {
    "duration": 16,
    "start_time": "2023-05-26T14:48:48.614Z"
   },
   {
    "duration": 2,
    "start_time": "2023-05-26T14:48:48.634Z"
   },
   {
    "duration": 42,
    "start_time": "2023-05-26T14:48:48.638Z"
   },
   {
    "duration": 10,
    "start_time": "2023-05-26T14:48:48.685Z"
   },
   {
    "duration": 5,
    "start_time": "2023-05-26T14:48:48.697Z"
   },
   {
    "duration": 5,
    "start_time": "2023-05-26T14:48:48.704Z"
   },
   {
    "duration": 4,
    "start_time": "2023-05-26T14:48:48.711Z"
   },
   {
    "duration": 6,
    "start_time": "2023-05-26T14:48:48.717Z"
   },
   {
    "duration": 712,
    "start_time": "2023-05-26T14:48:48.724Z"
   },
   {
    "duration": 3,
    "start_time": "2023-05-26T14:48:49.438Z"
   },
   {
    "duration": 44,
    "start_time": "2023-05-26T14:48:49.443Z"
   },
   {
    "duration": 718,
    "start_time": "2023-05-26T14:48:49.491Z"
   },
   {
    "duration": 6,
    "start_time": "2023-05-26T14:48:50.210Z"
   },
   {
    "duration": 9,
    "start_time": "2023-05-26T14:48:50.218Z"
   },
   {
    "duration": 7,
    "start_time": "2023-05-26T14:48:50.229Z"
   },
   {
    "duration": 139,
    "start_time": "2023-05-26T14:48:50.238Z"
   },
   {
    "duration": 112,
    "start_time": "2023-05-26T14:48:50.379Z"
   },
   {
    "duration": 201,
    "start_time": "2023-05-26T14:48:50.496Z"
   },
   {
    "duration": 393,
    "start_time": "2023-05-26T14:48:50.699Z"
   },
   {
    "duration": 29,
    "start_time": "2023-05-26T14:48:51.093Z"
   },
   {
    "duration": 10,
    "start_time": "2023-05-26T14:48:51.124Z"
   },
   {
    "duration": 130,
    "start_time": "2023-05-26T14:48:51.137Z"
   },
   {
    "duration": 4694,
    "start_time": "2023-05-26T14:48:51.274Z"
   },
   {
    "duration": 74,
    "start_time": "2023-05-26T14:48:55.983Z"
   },
   {
    "duration": 27,
    "start_time": "2023-05-26T14:48:56.059Z"
   },
   {
    "duration": 115,
    "start_time": "2023-05-26T14:48:56.088Z"
   },
   {
    "duration": 174,
    "start_time": "2023-05-26T14:48:56.204Z"
   },
   {
    "duration": 101,
    "start_time": "2023-05-26T14:48:56.382Z"
   },
   {
    "duration": 201,
    "start_time": "2023-05-26T14:48:56.489Z"
   },
   {
    "duration": 4,
    "start_time": "2023-05-26T14:48:56.692Z"
   },
   {
    "duration": 11,
    "start_time": "2023-05-26T14:48:56.697Z"
   },
   {
    "duration": 7,
    "start_time": "2023-05-26T14:48:56.710Z"
   },
   {
    "duration": 80,
    "start_time": "2023-05-26T14:48:56.719Z"
   },
   {
    "duration": 20,
    "start_time": "2023-05-26T14:48:56.876Z"
   },
   {
    "duration": 291,
    "start_time": "2023-05-26T14:48:56.899Z"
   },
   {
    "duration": 4,
    "start_time": "2023-05-26T14:48:57.194Z"
   },
   {
    "duration": 15,
    "start_time": "2023-05-26T14:48:57.200Z"
   },
   {
    "duration": 21,
    "start_time": "2023-05-26T14:48:57.216Z"
   },
   {
    "duration": 58,
    "start_time": "2023-05-26T14:48:57.239Z"
   },
   {
    "duration": 99,
    "start_time": "2023-05-26T14:48:57.298Z"
   },
   {
    "duration": 194,
    "start_time": "2023-05-26T14:48:57.477Z"
   },
   {
    "duration": 256,
    "start_time": "2023-05-26T14:48:57.675Z"
   },
   {
    "duration": 8,
    "start_time": "2023-05-26T14:48:57.932Z"
   },
   {
    "duration": 170,
    "start_time": "2023-05-26T14:48:57.941Z"
   },
   {
    "duration": 442,
    "start_time": "2023-05-26T14:48:58.113Z"
   },
   {
    "duration": 41,
    "start_time": "2023-05-26T14:48:58.557Z"
   },
   {
    "duration": 9,
    "start_time": "2023-05-26T14:48:58.600Z"
   },
   {
    "duration": 145,
    "start_time": "2023-05-26T14:48:58.610Z"
   },
   {
    "duration": 494,
    "start_time": "2023-05-26T14:48:58.757Z"
   },
   {
    "duration": 42,
    "start_time": "2023-05-26T14:48:59.253Z"
   },
   {
    "duration": 8,
    "start_time": "2023-05-26T14:48:59.296Z"
   },
   {
    "duration": 131,
    "start_time": "2023-05-26T14:48:59.306Z"
   },
   {
    "duration": 221,
    "start_time": "2023-05-26T14:48:59.439Z"
   },
   {
    "duration": 25,
    "start_time": "2023-05-26T14:48:59.662Z"
   },
   {
    "duration": 16,
    "start_time": "2023-05-26T14:48:59.692Z"
   },
   {
    "duration": 144,
    "start_time": "2023-05-26T14:48:59.710Z"
   },
   {
    "duration": 4976,
    "start_time": "2023-05-26T14:48:59.855Z"
   },
   {
    "duration": 59,
    "start_time": "2023-05-26T14:49:04.833Z"
   },
   {
    "duration": 15,
    "start_time": "2023-05-26T14:49:04.895Z"
   },
   {
    "duration": 138,
    "start_time": "2023-05-26T14:49:04.911Z"
   },
   {
    "duration": 6165,
    "start_time": "2023-05-26T14:49:05.052Z"
   },
   {
    "duration": 112,
    "start_time": "2023-05-26T14:49:11.219Z"
   },
   {
    "duration": 16,
    "start_time": "2023-05-26T14:49:11.333Z"
   },
   {
    "duration": 152,
    "start_time": "2023-05-26T14:49:11.351Z"
   },
   {
    "duration": 3220,
    "start_time": "2023-05-26T14:49:11.505Z"
   },
   {
    "duration": 35,
    "start_time": "2023-05-26T14:49:14.727Z"
   },
   {
    "duration": 21,
    "start_time": "2023-05-26T14:49:14.775Z"
   },
   {
    "duration": 156,
    "start_time": "2023-05-26T14:49:14.799Z"
   },
   {
    "duration": 93,
    "start_time": "2023-05-26T14:49:14.957Z"
   },
   {
    "duration": 30,
    "start_time": "2023-05-26T14:50:30.412Z"
   },
   {
    "duration": 8,
    "start_time": "2023-05-26T14:58:38.046Z"
   },
   {
    "duration": 65,
    "start_time": "2023-05-26T14:58:38.057Z"
   },
   {
    "duration": 17,
    "start_time": "2023-05-26T14:58:38.125Z"
   },
   {
    "duration": 22,
    "start_time": "2023-05-26T14:58:38.144Z"
   },
   {
    "duration": 200,
    "start_time": "2023-05-26T14:58:38.169Z"
   },
   {
    "duration": 12,
    "start_time": "2023-05-26T14:58:38.376Z"
   },
   {
    "duration": 11,
    "start_time": "2023-05-26T14:58:38.395Z"
   },
   {
    "duration": 22,
    "start_time": "2023-05-26T14:58:38.407Z"
   },
   {
    "duration": 7,
    "start_time": "2023-05-26T14:58:38.432Z"
   },
   {
    "duration": 174,
    "start_time": "2023-05-26T14:58:38.441Z"
   },
   {
    "duration": 5,
    "start_time": "2023-05-26T14:58:38.617Z"
   },
   {
    "duration": 38,
    "start_time": "2023-05-26T14:58:38.624Z"
   },
   {
    "duration": 47,
    "start_time": "2023-05-26T14:58:38.664Z"
   },
   {
    "duration": 25,
    "start_time": "2023-05-26T14:58:38.715Z"
   },
   {
    "duration": 2,
    "start_time": "2023-05-26T14:58:38.742Z"
   },
   {
    "duration": 6,
    "start_time": "2023-05-26T14:58:38.746Z"
   },
   {
    "duration": 143,
    "start_time": "2023-05-26T14:58:38.754Z"
   },
   {
    "duration": 27,
    "start_time": "2023-05-26T14:58:38.898Z"
   },
   {
    "duration": 11,
    "start_time": "2023-05-26T14:58:38.927Z"
   },
   {
    "duration": 14,
    "start_time": "2023-05-26T14:58:38.940Z"
   },
   {
    "duration": 10,
    "start_time": "2023-05-26T14:58:38.955Z"
   },
   {
    "duration": 764,
    "start_time": "2023-05-26T14:58:38.966Z"
   },
   {
    "duration": 3,
    "start_time": "2023-05-26T14:58:39.732Z"
   },
   {
    "duration": 47,
    "start_time": "2023-05-26T14:58:39.737Z"
   },
   {
    "duration": 764,
    "start_time": "2023-05-26T14:58:39.796Z"
   },
   {
    "duration": 14,
    "start_time": "2023-05-26T14:58:40.562Z"
   },
   {
    "duration": 11,
    "start_time": "2023-05-26T14:58:40.579Z"
   },
   {
    "duration": 7,
    "start_time": "2023-05-26T14:58:40.592Z"
   },
   {
    "duration": 180,
    "start_time": "2023-05-26T14:58:40.601Z"
   },
   {
    "duration": 33,
    "start_time": "2023-05-26T14:58:40.783Z"
   },
   {
    "duration": 270,
    "start_time": "2023-05-26T14:58:40.818Z"
   },
   {
    "duration": 405,
    "start_time": "2023-05-26T14:58:41.090Z"
   },
   {
    "duration": 32,
    "start_time": "2023-05-26T14:58:41.497Z"
   },
   {
    "duration": 9,
    "start_time": "2023-05-26T14:58:41.530Z"
   },
   {
    "duration": 154,
    "start_time": "2023-05-26T14:58:41.541Z"
   },
   {
    "duration": 4954,
    "start_time": "2023-05-26T14:58:41.697Z"
   },
   {
    "duration": 88,
    "start_time": "2023-05-26T14:58:46.653Z"
   },
   {
    "duration": 13,
    "start_time": "2023-05-26T14:58:46.742Z"
   },
   {
    "duration": 155,
    "start_time": "2023-05-26T14:58:46.757Z"
   },
   {
    "duration": 82,
    "start_time": "2023-05-26T14:58:46.914Z"
   },
   {
    "duration": 36,
    "start_time": "2023-05-26T14:58:47.074Z"
   },
   {
    "duration": 269,
    "start_time": "2023-05-26T14:58:47.113Z"
   },
   {
    "duration": 5,
    "start_time": "2023-05-26T14:58:47.390Z"
   },
   {
    "duration": 16,
    "start_time": "2023-05-26T14:58:47.397Z"
   },
   {
    "duration": 9,
    "start_time": "2023-05-26T14:58:47.415Z"
   },
   {
    "duration": 67,
    "start_time": "2023-05-26T14:58:47.426Z"
   },
   {
    "duration": 27,
    "start_time": "2023-05-26T14:58:47.580Z"
   },
   {
    "duration": 260,
    "start_time": "2023-05-26T14:58:47.609Z"
   },
   {
    "duration": 8,
    "start_time": "2023-05-26T14:58:47.875Z"
   },
   {
    "duration": 22,
    "start_time": "2023-05-26T14:58:47.886Z"
   },
   {
    "duration": 7,
    "start_time": "2023-05-26T14:58:47.910Z"
   },
   {
    "duration": 78,
    "start_time": "2023-05-26T14:58:47.918Z"
   },
   {
    "duration": 82,
    "start_time": "2023-05-26T14:58:47.998Z"
   },
   {
    "duration": 222,
    "start_time": "2023-05-26T14:58:48.082Z"
   },
   {
    "duration": 227,
    "start_time": "2023-05-26T14:58:48.306Z"
   },
   {
    "duration": 7,
    "start_time": "2023-05-26T14:58:48.535Z"
   },
   {
    "duration": 143,
    "start_time": "2023-05-26T14:58:48.543Z"
   },
   {
    "duration": 422,
    "start_time": "2023-05-26T14:58:48.688Z"
   },
   {
    "duration": 26,
    "start_time": "2023-05-26T14:58:49.112Z"
   },
   {
    "duration": 12,
    "start_time": "2023-05-26T14:58:49.139Z"
   },
   {
    "duration": 166,
    "start_time": "2023-05-26T14:58:49.153Z"
   },
   {
    "duration": 516,
    "start_time": "2023-05-26T14:58:49.322Z"
   },
   {
    "duration": 48,
    "start_time": "2023-05-26T14:58:49.840Z"
   },
   {
    "duration": 12,
    "start_time": "2023-05-26T14:58:49.889Z"
   },
   {
    "duration": 119,
    "start_time": "2023-05-26T14:58:49.902Z"
   },
   {
    "duration": 236,
    "start_time": "2023-05-26T14:58:50.023Z"
   },
   {
    "duration": 22,
    "start_time": "2023-05-26T14:58:50.260Z"
   },
   {
    "duration": 18,
    "start_time": "2023-05-26T14:58:50.284Z"
   },
   {
    "duration": 143,
    "start_time": "2023-05-26T14:58:50.305Z"
   },
   {
    "duration": 5322,
    "start_time": "2023-05-26T14:58:50.449Z"
   },
   {
    "duration": 62,
    "start_time": "2023-05-26T14:58:55.774Z"
   },
   {
    "duration": 14,
    "start_time": "2023-05-26T14:58:55.838Z"
   },
   {
    "duration": 162,
    "start_time": "2023-05-26T14:58:55.853Z"
   },
   {
    "duration": 6434,
    "start_time": "2023-05-26T14:58:56.017Z"
   },
   {
    "duration": 104,
    "start_time": "2023-05-26T14:59:02.453Z"
   },
   {
    "duration": 36,
    "start_time": "2023-05-26T14:59:02.558Z"
   },
   {
    "duration": 125,
    "start_time": "2023-05-26T14:59:02.596Z"
   },
   {
    "duration": 3308,
    "start_time": "2023-05-26T14:59:02.723Z"
   },
   {
    "duration": 62,
    "start_time": "2023-05-26T14:59:06.034Z"
   },
   {
    "duration": 24,
    "start_time": "2023-05-26T14:59:06.099Z"
   },
   {
    "duration": 166,
    "start_time": "2023-05-26T14:59:06.126Z"
   },
   {
    "duration": 102,
    "start_time": "2023-05-26T14:59:06.294Z"
   },
   {
    "duration": 15,
    "start_time": "2023-05-26T14:59:06.402Z"
   },
   {
    "duration": 126,
    "start_time": "2023-05-26T14:59:06.419Z"
   },
   {
    "duration": 13,
    "start_time": "2023-05-26T15:21:28.506Z"
   },
   {
    "duration": 138,
    "start_time": "2023-05-26T15:21:28.970Z"
   },
   {
    "duration": 5,
    "start_time": "2023-05-26T15:27:31.342Z"
   },
   {
    "duration": 80,
    "start_time": "2023-05-26T15:27:31.349Z"
   },
   {
    "duration": 14,
    "start_time": "2023-05-26T15:27:31.431Z"
   },
   {
    "duration": 40,
    "start_time": "2023-05-26T15:27:31.447Z"
   },
   {
    "duration": 180,
    "start_time": "2023-05-26T15:27:31.491Z"
   },
   {
    "duration": 18,
    "start_time": "2023-05-26T15:27:31.673Z"
   },
   {
    "duration": 31,
    "start_time": "2023-05-26T15:27:31.692Z"
   },
   {
    "duration": 17,
    "start_time": "2023-05-26T15:27:31.725Z"
   },
   {
    "duration": 10,
    "start_time": "2023-05-26T15:27:31.744Z"
   },
   {
    "duration": 181,
    "start_time": "2023-05-26T15:27:31.755Z"
   },
   {
    "duration": 5,
    "start_time": "2023-05-26T15:28:06.419Z"
   },
   {
    "duration": 40,
    "start_time": "2023-05-26T15:28:06.426Z"
   },
   {
    "duration": 29,
    "start_time": "2023-05-26T15:28:06.468Z"
   },
   {
    "duration": 21,
    "start_time": "2023-05-26T15:28:06.506Z"
   },
   {
    "duration": 188,
    "start_time": "2023-05-26T15:28:06.530Z"
   },
   {
    "duration": 9,
    "start_time": "2023-05-26T15:28:06.722Z"
   },
   {
    "duration": 6,
    "start_time": "2023-05-26T15:28:06.733Z"
   },
   {
    "duration": 5,
    "start_time": "2023-05-26T15:28:06.741Z"
   },
   {
    "duration": 5,
    "start_time": "2023-05-26T15:28:09.151Z"
   },
   {
    "duration": 160,
    "start_time": "2023-05-26T15:28:09.742Z"
   },
   {
    "duration": 5,
    "start_time": "2023-05-26T15:28:20.544Z"
   },
   {
    "duration": 19,
    "start_time": "2023-05-26T15:28:23.625Z"
   },
   {
    "duration": 36,
    "start_time": "2023-05-26T15:28:35.260Z"
   },
   {
    "duration": 32,
    "start_time": "2023-05-26T15:28:35.865Z"
   },
   {
    "duration": 3,
    "start_time": "2023-05-26T15:28:36.655Z"
   },
   {
    "duration": 5,
    "start_time": "2023-05-26T15:28:50.857Z"
   },
   {
    "duration": 9,
    "start_time": "2023-05-26T15:28:51.446Z"
   },
   {
    "duration": 5,
    "start_time": "2023-05-26T15:28:52.555Z"
   },
   {
    "duration": 6,
    "start_time": "2023-05-26T15:28:53.220Z"
   },
   {
    "duration": 3,
    "start_time": "2023-05-26T15:29:07.644Z"
   },
   {
    "duration": 2,
    "start_time": "2023-05-26T15:29:08.132Z"
   },
   {
    "duration": 925,
    "start_time": "2023-05-26T15:29:28.955Z"
   },
   {
    "duration": 3,
    "start_time": "2023-05-26T15:29:29.947Z"
   },
   {
    "duration": 37,
    "start_time": "2023-05-26T15:29:32.312Z"
   },
   {
    "duration": 8,
    "start_time": "2023-05-26T15:29:37.727Z"
   },
   {
    "duration": 32,
    "start_time": "2023-05-26T15:29:38.160Z"
   },
   {
    "duration": 780,
    "start_time": "2023-05-26T15:29:40.347Z"
   },
   {
    "duration": 5,
    "start_time": "2023-05-26T15:29:48.620Z"
   },
   {
    "duration": 8,
    "start_time": "2023-05-26T15:29:49.246Z"
   },
   {
    "duration": 9,
    "start_time": "2023-05-26T15:29:49.662Z"
   },
   {
    "duration": 35,
    "start_time": "2023-05-26T15:30:12.109Z"
   },
   {
    "duration": 5,
    "start_time": "2023-05-26T15:30:24.024Z"
   },
   {
    "duration": 48,
    "start_time": "2023-05-26T15:30:24.032Z"
   },
   {
    "duration": 15,
    "start_time": "2023-05-26T15:30:24.084Z"
   },
   {
    "duration": 17,
    "start_time": "2023-05-26T15:30:24.101Z"
   },
   {
    "duration": 303,
    "start_time": "2023-05-26T15:30:24.120Z"
   },
   {
    "duration": 8,
    "start_time": "2023-05-26T15:30:24.425Z"
   },
   {
    "duration": 6,
    "start_time": "2023-05-26T15:30:24.435Z"
   },
   {
    "duration": 6,
    "start_time": "2023-05-26T15:30:24.442Z"
   },
   {
    "duration": 192,
    "start_time": "2023-05-26T15:30:24.479Z"
   },
   {
    "duration": 15,
    "start_time": "2023-05-26T15:30:24.677Z"
   },
   {
    "duration": 25,
    "start_time": "2023-05-26T15:30:24.698Z"
   },
   {
    "duration": 22,
    "start_time": "2023-05-26T15:30:24.725Z"
   },
   {
    "duration": 56,
    "start_time": "2023-05-26T15:30:24.749Z"
   },
   {
    "duration": 2,
    "start_time": "2023-05-26T15:30:24.809Z"
   },
   {
    "duration": 20,
    "start_time": "2023-05-26T15:30:24.813Z"
   },
   {
    "duration": 26,
    "start_time": "2023-05-26T15:30:24.835Z"
   },
   {
    "duration": 43,
    "start_time": "2023-05-26T15:30:24.863Z"
   },
   {
    "duration": 14,
    "start_time": "2023-05-26T15:30:24.908Z"
   },
   {
    "duration": 8,
    "start_time": "2023-05-26T15:30:24.924Z"
   },
   {
    "duration": 6,
    "start_time": "2023-05-26T15:30:24.935Z"
   },
   {
    "duration": 720,
    "start_time": "2023-05-26T15:30:24.943Z"
   },
   {
    "duration": 13,
    "start_time": "2023-05-26T15:30:25.666Z"
   },
   {
    "duration": 41,
    "start_time": "2023-05-26T15:30:25.689Z"
   },
   {
    "duration": 745,
    "start_time": "2023-05-26T15:30:25.732Z"
   },
   {
    "duration": 14,
    "start_time": "2023-05-26T15:30:26.478Z"
   },
   {
    "duration": 9,
    "start_time": "2023-05-26T15:30:26.494Z"
   },
   {
    "duration": 15,
    "start_time": "2023-05-26T15:30:26.505Z"
   },
   {
    "duration": 24,
    "start_time": "2023-05-26T15:30:26.521Z"
   },
   {
    "duration": 0,
    "start_time": "2023-05-26T15:30:26.547Z"
   },
   {
    "duration": 18,
    "start_time": "2023-05-26T15:33:47.906Z"
   },
   {
    "duration": 1523,
    "start_time": "2023-05-26T15:35:31.207Z"
   },
   {
    "duration": 53,
    "start_time": "2023-05-26T15:35:32.732Z"
   },
   {
    "duration": 30,
    "start_time": "2023-05-26T15:35:32.787Z"
   },
   {
    "duration": 16,
    "start_time": "2023-05-26T15:35:32.821Z"
   },
   {
    "duration": 207,
    "start_time": "2023-05-26T15:35:32.839Z"
   },
   {
    "duration": 7,
    "start_time": "2023-05-26T15:35:33.048Z"
   },
   {
    "duration": 24,
    "start_time": "2023-05-26T15:35:33.057Z"
   },
   {
    "duration": 16,
    "start_time": "2023-05-26T15:35:33.082Z"
   },
   {
    "duration": 157,
    "start_time": "2023-05-26T15:35:33.104Z"
   },
   {
    "duration": 5,
    "start_time": "2023-05-26T15:35:33.263Z"
   },
   {
    "duration": 46,
    "start_time": "2023-05-26T15:35:33.269Z"
   },
   {
    "duration": 37,
    "start_time": "2023-05-26T15:35:33.317Z"
   },
   {
    "duration": 55,
    "start_time": "2023-05-26T15:35:33.356Z"
   },
   {
    "duration": 2,
    "start_time": "2023-05-26T15:35:33.413Z"
   },
   {
    "duration": 7,
    "start_time": "2023-05-26T15:35:33.418Z"
   },
   {
    "duration": 10,
    "start_time": "2023-05-26T15:35:33.426Z"
   },
   {
    "duration": 7,
    "start_time": "2023-05-26T15:35:33.438Z"
   },
   {
    "duration": 42,
    "start_time": "2023-05-26T15:35:33.447Z"
   },
   {
    "duration": 5,
    "start_time": "2023-05-26T15:35:33.500Z"
   },
   {
    "duration": 30,
    "start_time": "2023-05-26T15:35:33.507Z"
   },
   {
    "duration": 830,
    "start_time": "2023-05-26T15:35:33.539Z"
   },
   {
    "duration": 13,
    "start_time": "2023-05-26T15:35:34.370Z"
   },
   {
    "duration": 47,
    "start_time": "2023-05-26T15:35:34.385Z"
   },
   {
    "duration": 706,
    "start_time": "2023-05-26T15:35:34.434Z"
   },
   {
    "duration": 4,
    "start_time": "2023-05-26T15:35:35.141Z"
   },
   {
    "duration": 22,
    "start_time": "2023-05-26T15:35:35.147Z"
   },
   {
    "duration": 10,
    "start_time": "2023-05-26T15:35:35.181Z"
   },
   {
    "duration": 210,
    "start_time": "2023-05-26T15:35:35.199Z"
   },
   {
    "duration": 0,
    "start_time": "2023-05-26T15:35:35.411Z"
   },
   {
    "duration": 0,
    "start_time": "2023-05-26T15:35:35.412Z"
   },
   {
    "duration": 0,
    "start_time": "2023-05-26T15:35:35.413Z"
   },
   {
    "duration": 0,
    "start_time": "2023-05-26T15:35:35.414Z"
   },
   {
    "duration": 0,
    "start_time": "2023-05-26T15:35:35.415Z"
   },
   {
    "duration": 0,
    "start_time": "2023-05-26T15:35:35.416Z"
   },
   {
    "duration": 0,
    "start_time": "2023-05-26T15:35:35.417Z"
   },
   {
    "duration": 0,
    "start_time": "2023-05-26T15:35:35.418Z"
   },
   {
    "duration": 0,
    "start_time": "2023-05-26T15:35:35.419Z"
   },
   {
    "duration": 0,
    "start_time": "2023-05-26T15:35:35.420Z"
   },
   {
    "duration": 0,
    "start_time": "2023-05-26T15:35:35.422Z"
   },
   {
    "duration": 0,
    "start_time": "2023-05-26T15:35:35.423Z"
   },
   {
    "duration": 0,
    "start_time": "2023-05-26T15:35:35.424Z"
   },
   {
    "duration": 0,
    "start_time": "2023-05-26T15:35:35.425Z"
   },
   {
    "duration": 0,
    "start_time": "2023-05-26T15:35:35.426Z"
   },
   {
    "duration": 0,
    "start_time": "2023-05-26T15:35:35.427Z"
   },
   {
    "duration": 0,
    "start_time": "2023-05-26T15:35:35.428Z"
   },
   {
    "duration": 0,
    "start_time": "2023-05-26T15:35:35.429Z"
   },
   {
    "duration": 0,
    "start_time": "2023-05-26T15:35:35.430Z"
   },
   {
    "duration": 0,
    "start_time": "2023-05-26T15:35:35.431Z"
   },
   {
    "duration": 0,
    "start_time": "2023-05-26T15:35:35.432Z"
   },
   {
    "duration": 0,
    "start_time": "2023-05-26T15:35:35.433Z"
   },
   {
    "duration": 0,
    "start_time": "2023-05-26T15:35:35.434Z"
   },
   {
    "duration": 0,
    "start_time": "2023-05-26T15:35:35.435Z"
   },
   {
    "duration": 0,
    "start_time": "2023-05-26T15:35:35.436Z"
   },
   {
    "duration": 0,
    "start_time": "2023-05-26T15:35:35.437Z"
   },
   {
    "duration": 0,
    "start_time": "2023-05-26T15:35:35.438Z"
   },
   {
    "duration": 0,
    "start_time": "2023-05-26T15:35:35.439Z"
   },
   {
    "duration": 0,
    "start_time": "2023-05-26T15:35:35.440Z"
   },
   {
    "duration": 0,
    "start_time": "2023-05-26T15:35:35.441Z"
   },
   {
    "duration": 0,
    "start_time": "2023-05-26T15:35:35.475Z"
   },
   {
    "duration": 0,
    "start_time": "2023-05-26T15:35:35.476Z"
   },
   {
    "duration": 0,
    "start_time": "2023-05-26T15:35:35.477Z"
   },
   {
    "duration": 0,
    "start_time": "2023-05-26T15:35:35.478Z"
   },
   {
    "duration": 0,
    "start_time": "2023-05-26T15:35:35.479Z"
   },
   {
    "duration": 0,
    "start_time": "2023-05-26T15:35:35.481Z"
   },
   {
    "duration": 0,
    "start_time": "2023-05-26T15:35:35.482Z"
   },
   {
    "duration": 0,
    "start_time": "2023-05-26T15:35:35.488Z"
   },
   {
    "duration": 0,
    "start_time": "2023-05-26T15:35:35.491Z"
   },
   {
    "duration": 0,
    "start_time": "2023-05-26T15:35:35.493Z"
   },
   {
    "duration": 0,
    "start_time": "2023-05-26T15:35:35.494Z"
   },
   {
    "duration": 0,
    "start_time": "2023-05-26T15:35:35.495Z"
   },
   {
    "duration": 0,
    "start_time": "2023-05-26T15:35:35.495Z"
   },
   {
    "duration": 0,
    "start_time": "2023-05-26T15:35:35.496Z"
   },
   {
    "duration": 0,
    "start_time": "2023-05-26T15:35:35.501Z"
   },
   {
    "duration": 0,
    "start_time": "2023-05-26T15:35:35.504Z"
   },
   {
    "duration": 0,
    "start_time": "2023-05-26T15:35:35.505Z"
   },
   {
    "duration": 0,
    "start_time": "2023-05-26T15:35:35.507Z"
   },
   {
    "duration": 0,
    "start_time": "2023-05-26T15:35:35.508Z"
   },
   {
    "duration": 1,
    "start_time": "2023-05-26T15:35:35.509Z"
   },
   {
    "duration": 0,
    "start_time": "2023-05-26T15:35:35.510Z"
   },
   {
    "duration": 0,
    "start_time": "2023-05-26T15:35:35.512Z"
   },
   {
    "duration": 0,
    "start_time": "2023-05-26T15:35:35.513Z"
   },
   {
    "duration": 0,
    "start_time": "2023-05-26T15:35:35.514Z"
   },
   {
    "duration": 1,
    "start_time": "2023-05-26T15:35:35.515Z"
   },
   {
    "duration": 5,
    "start_time": "2023-05-26T15:37:17.809Z"
   },
   {
    "duration": 5,
    "start_time": "2023-05-26T15:37:21.883Z"
   },
   {
    "duration": 53,
    "start_time": "2023-05-26T15:37:21.891Z"
   },
   {
    "duration": 14,
    "start_time": "2023-05-26T15:37:21.945Z"
   },
   {
    "duration": 34,
    "start_time": "2023-05-26T15:37:21.961Z"
   },
   {
    "duration": 162,
    "start_time": "2023-05-26T15:37:21.997Z"
   },
   {
    "duration": 23,
    "start_time": "2023-05-26T15:37:22.160Z"
   },
   {
    "duration": 33,
    "start_time": "2023-05-26T15:37:22.184Z"
   },
   {
    "duration": 27,
    "start_time": "2023-05-26T15:37:22.218Z"
   },
   {
    "duration": 158,
    "start_time": "2023-05-26T15:37:22.247Z"
   },
   {
    "duration": 5,
    "start_time": "2023-05-26T15:37:22.407Z"
   },
   {
    "duration": 45,
    "start_time": "2023-05-26T15:37:22.413Z"
   },
   {
    "duration": 28,
    "start_time": "2023-05-26T15:37:22.460Z"
   },
   {
    "duration": 19,
    "start_time": "2023-05-26T15:37:22.490Z"
   },
   {
    "duration": 2,
    "start_time": "2023-05-26T15:37:22.512Z"
   },
   {
    "duration": 7,
    "start_time": "2023-05-26T15:37:22.516Z"
   },
   {
    "duration": 20,
    "start_time": "2023-05-26T15:37:22.524Z"
   },
   {
    "duration": 21,
    "start_time": "2023-05-26T15:37:22.545Z"
   },
   {
    "duration": 20,
    "start_time": "2023-05-26T15:37:22.568Z"
   },
   {
    "duration": 9,
    "start_time": "2023-05-26T15:37:22.590Z"
   },
   {
    "duration": 14,
    "start_time": "2023-05-26T15:37:22.600Z"
   },
   {
    "duration": 704,
    "start_time": "2023-05-26T15:37:22.616Z"
   },
   {
    "duration": 3,
    "start_time": "2023-05-26T15:37:23.322Z"
   },
   {
    "duration": 28,
    "start_time": "2023-05-26T15:37:23.326Z"
   },
   {
    "duration": 768,
    "start_time": "2023-05-26T15:37:23.376Z"
   },
   {
    "duration": 8,
    "start_time": "2023-05-26T15:37:24.146Z"
   },
   {
    "duration": 27,
    "start_time": "2023-05-26T15:37:24.156Z"
   },
   {
    "duration": 12,
    "start_time": "2023-05-26T15:37:24.186Z"
   },
   {
    "duration": 83,
    "start_time": "2023-05-26T15:37:24.200Z"
   },
   {
    "duration": 14,
    "start_time": "2023-05-26T15:37:24.285Z"
   },
   {
    "duration": 280,
    "start_time": "2023-05-26T15:37:24.300Z"
   },
   {
    "duration": 382,
    "start_time": "2023-05-26T15:37:24.587Z"
   },
   {
    "duration": 32,
    "start_time": "2023-05-26T15:37:24.971Z"
   },
   {
    "duration": 8,
    "start_time": "2023-05-26T15:37:25.004Z"
   },
   {
    "duration": 145,
    "start_time": "2023-05-26T15:37:25.014Z"
   },
   {
    "duration": 4800,
    "start_time": "2023-05-26T15:37:25.160Z"
   },
   {
    "duration": 81,
    "start_time": "2023-05-26T15:37:29.962Z"
   },
   {
    "duration": 30,
    "start_time": "2023-05-26T15:37:30.045Z"
   },
   {
    "duration": 173,
    "start_time": "2023-05-26T15:37:30.077Z"
   },
   {
    "duration": 130,
    "start_time": "2023-05-26T15:37:30.252Z"
   },
   {
    "duration": 95,
    "start_time": "2023-05-26T15:37:30.383Z"
   },
   {
    "duration": 253,
    "start_time": "2023-05-26T15:37:30.480Z"
   },
   {
    "duration": 5,
    "start_time": "2023-05-26T15:37:30.735Z"
   },
   {
    "duration": 53,
    "start_time": "2023-05-26T15:37:30.741Z"
   },
   {
    "duration": 52,
    "start_time": "2023-05-26T15:37:30.796Z"
   },
   {
    "duration": 87,
    "start_time": "2023-05-26T15:37:30.850Z"
   },
   {
    "duration": 102,
    "start_time": "2023-05-26T15:37:30.993Z"
   },
   {
    "duration": 307,
    "start_time": "2023-05-26T15:37:31.098Z"
   },
   {
    "duration": 4,
    "start_time": "2023-05-26T15:37:31.407Z"
   },
   {
    "duration": 35,
    "start_time": "2023-05-26T15:37:31.413Z"
   },
   {
    "duration": 31,
    "start_time": "2023-05-26T15:37:31.450Z"
   },
   {
    "duration": 101,
    "start_time": "2023-05-26T15:37:31.482Z"
   },
   {
    "duration": 103,
    "start_time": "2023-05-26T15:37:31.591Z"
   },
   {
    "duration": 301,
    "start_time": "2023-05-26T15:37:31.702Z"
   },
   {
    "duration": 222,
    "start_time": "2023-05-26T15:37:32.005Z"
   },
   {
    "duration": 6,
    "start_time": "2023-05-26T15:37:32.228Z"
   },
   {
    "duration": 157,
    "start_time": "2023-05-26T15:37:32.236Z"
   },
   {
    "duration": 523,
    "start_time": "2023-05-26T15:37:32.396Z"
   },
   {
    "duration": 26,
    "start_time": "2023-05-26T15:37:32.921Z"
   },
   {
    "duration": 9,
    "start_time": "2023-05-26T15:37:32.949Z"
   },
   {
    "duration": 154,
    "start_time": "2023-05-26T15:37:32.959Z"
   },
   {
    "duration": 533,
    "start_time": "2023-05-26T15:37:33.115Z"
   },
   {
    "duration": 42,
    "start_time": "2023-05-26T15:37:33.650Z"
   },
   {
    "duration": 11,
    "start_time": "2023-05-26T15:37:33.694Z"
   },
   {
    "duration": 152,
    "start_time": "2023-05-26T15:37:33.707Z"
   },
   {
    "duration": 303,
    "start_time": "2023-05-26T15:37:33.861Z"
   },
   {
    "duration": 29,
    "start_time": "2023-05-26T15:37:34.166Z"
   },
   {
    "duration": 17,
    "start_time": "2023-05-26T15:37:34.196Z"
   },
   {
    "duration": 188,
    "start_time": "2023-05-26T15:37:34.215Z"
   },
   {
    "duration": 4913,
    "start_time": "2023-05-26T15:37:34.410Z"
   },
   {
    "duration": 60,
    "start_time": "2023-05-26T15:37:39.325Z"
   },
   {
    "duration": 14,
    "start_time": "2023-05-26T15:37:39.387Z"
   },
   {
    "duration": 138,
    "start_time": "2023-05-26T15:37:39.403Z"
   },
   {
    "duration": 6103,
    "start_time": "2023-05-26T15:37:39.542Z"
   },
   {
    "duration": 99,
    "start_time": "2023-05-26T15:37:45.647Z"
   },
   {
    "duration": 29,
    "start_time": "2023-05-26T15:37:45.747Z"
   },
   {
    "duration": 136,
    "start_time": "2023-05-26T15:37:45.783Z"
   },
   {
    "duration": 3216,
    "start_time": "2023-05-26T15:37:45.921Z"
   },
   {
    "duration": 48,
    "start_time": "2023-05-26T15:37:49.139Z"
   },
   {
    "duration": 21,
    "start_time": "2023-05-26T15:37:49.188Z"
   },
   {
    "duration": 142,
    "start_time": "2023-05-26T15:37:49.211Z"
   },
   {
    "duration": 89,
    "start_time": "2023-05-26T15:37:49.355Z"
   },
   {
    "duration": 13,
    "start_time": "2023-05-26T15:37:49.446Z"
   },
   {
    "duration": 150,
    "start_time": "2023-05-26T15:37:49.461Z"
   },
   {
    "duration": 4,
    "start_time": "2023-05-26T16:07:35.730Z"
   },
   {
    "duration": 85,
    "start_time": "2023-05-26T16:07:35.737Z"
   },
   {
    "duration": 16,
    "start_time": "2023-05-26T16:07:35.824Z"
   },
   {
    "duration": 25,
    "start_time": "2023-05-26T16:07:35.841Z"
   },
   {
    "duration": 169,
    "start_time": "2023-05-26T16:07:35.867Z"
   },
   {
    "duration": 4,
    "start_time": "2023-05-26T16:07:36.039Z"
   },
   {
    "duration": 13,
    "start_time": "2023-05-26T16:07:36.044Z"
   },
   {
    "duration": 27,
    "start_time": "2023-05-26T16:07:36.059Z"
   },
   {
    "duration": 161,
    "start_time": "2023-05-26T16:07:36.087Z"
   },
   {
    "duration": 4,
    "start_time": "2023-05-26T16:07:36.250Z"
   },
   {
    "duration": 38,
    "start_time": "2023-05-26T16:07:36.256Z"
   },
   {
    "duration": 23,
    "start_time": "2023-05-26T16:07:36.296Z"
   },
   {
    "duration": 18,
    "start_time": "2023-05-26T16:07:36.321Z"
   },
   {
    "duration": 2,
    "start_time": "2023-05-26T16:07:36.341Z"
   },
   {
    "duration": 11,
    "start_time": "2023-05-26T16:07:36.379Z"
   },
   {
    "duration": 8,
    "start_time": "2023-05-26T16:07:36.392Z"
   },
   {
    "duration": 3,
    "start_time": "2023-05-26T16:07:36.402Z"
   },
   {
    "duration": 7,
    "start_time": "2023-05-26T16:07:36.406Z"
   },
   {
    "duration": 4,
    "start_time": "2023-05-26T16:07:36.414Z"
   },
   {
    "duration": 5,
    "start_time": "2023-05-26T16:07:36.419Z"
   },
   {
    "duration": 718,
    "start_time": "2023-05-26T16:07:36.425Z"
   },
   {
    "duration": 3,
    "start_time": "2023-05-26T16:07:37.145Z"
   },
   {
    "duration": 47,
    "start_time": "2023-05-26T16:07:37.149Z"
   },
   {
    "duration": 702,
    "start_time": "2023-05-26T16:07:37.197Z"
   },
   {
    "duration": 5,
    "start_time": "2023-05-26T16:07:37.901Z"
   },
   {
    "duration": 8,
    "start_time": "2023-05-26T16:07:37.907Z"
   },
   {
    "duration": 7,
    "start_time": "2023-05-26T16:07:37.917Z"
   },
   {
    "duration": 69,
    "start_time": "2023-05-26T16:07:37.925Z"
   },
   {
    "duration": 182,
    "start_time": "2023-05-26T16:07:37.998Z"
   },
   {
    "duration": 320,
    "start_time": "2023-05-26T16:07:38.185Z"
   },
   {
    "duration": 414,
    "start_time": "2023-05-26T16:07:38.507Z"
   },
   {
    "duration": 30,
    "start_time": "2023-05-26T16:07:38.922Z"
   },
   {
    "duration": 27,
    "start_time": "2023-05-26T16:07:38.954Z"
   },
   {
    "duration": 122,
    "start_time": "2023-05-26T16:07:38.990Z"
   },
   {
    "duration": 4670,
    "start_time": "2023-05-26T16:07:39.114Z"
   },
   {
    "duration": 80,
    "start_time": "2023-05-26T16:07:43.786Z"
   },
   {
    "duration": 27,
    "start_time": "2023-05-26T16:07:43.867Z"
   },
   {
    "duration": 163,
    "start_time": "2023-05-26T16:07:43.896Z"
   },
   {
    "duration": 117,
    "start_time": "2023-05-26T16:07:44.061Z"
   },
   {
    "duration": 12,
    "start_time": "2023-05-26T16:07:44.181Z"
   },
   {
    "duration": 294,
    "start_time": "2023-05-26T16:07:44.195Z"
   },
   {
    "duration": 5,
    "start_time": "2023-05-26T16:07:44.497Z"
   },
   {
    "duration": 12,
    "start_time": "2023-05-26T16:07:44.504Z"
   },
   {
    "duration": 8,
    "start_time": "2023-05-26T16:07:44.518Z"
   },
   {
    "duration": 63,
    "start_time": "2023-05-26T16:07:44.528Z"
   },
   {
    "duration": 13,
    "start_time": "2023-05-26T16:07:44.678Z"
   },
   {
    "duration": 307,
    "start_time": "2023-05-26T16:07:44.693Z"
   },
   {
    "duration": 5,
    "start_time": "2023-05-26T16:07:45.002Z"
   },
   {
    "duration": 27,
    "start_time": "2023-05-26T16:07:45.009Z"
   },
   {
    "duration": 9,
    "start_time": "2023-05-26T16:07:45.037Z"
   },
   {
    "duration": 54,
    "start_time": "2023-05-26T16:07:45.048Z"
   },
   {
    "duration": 20,
    "start_time": "2023-05-26T16:07:45.179Z"
   },
   {
    "duration": 300,
    "start_time": "2023-05-26T16:07:45.201Z"
   },
   {
    "duration": 214,
    "start_time": "2023-05-26T16:07:45.503Z"
   },
   {
    "duration": 6,
    "start_time": "2023-05-26T16:07:45.719Z"
   },
   {
    "duration": 143,
    "start_time": "2023-05-26T16:07:45.727Z"
   },
   {
    "duration": 434,
    "start_time": "2023-05-26T16:07:45.872Z"
   },
   {
    "duration": 26,
    "start_time": "2023-05-26T16:07:46.307Z"
   },
   {
    "duration": 8,
    "start_time": "2023-05-26T16:07:46.335Z"
   },
   {
    "duration": 151,
    "start_time": "2023-05-26T16:07:46.344Z"
   },
   {
    "duration": 487,
    "start_time": "2023-05-26T16:07:46.497Z"
   },
   {
    "duration": 33,
    "start_time": "2023-05-26T16:07:46.986Z"
   },
   {
    "duration": 10,
    "start_time": "2023-05-26T16:07:47.021Z"
   },
   {
    "duration": 168,
    "start_time": "2023-05-26T16:07:47.033Z"
   },
   {
    "duration": 245,
    "start_time": "2023-05-26T16:07:47.203Z"
   },
   {
    "duration": 28,
    "start_time": "2023-05-26T16:07:47.450Z"
   },
   {
    "duration": 14,
    "start_time": "2023-05-26T16:07:47.479Z"
   },
   {
    "duration": 133,
    "start_time": "2023-05-26T16:07:47.495Z"
   },
   {
    "duration": 4805,
    "start_time": "2023-05-26T16:07:47.629Z"
   },
   {
    "duration": 50,
    "start_time": "2023-05-26T16:07:52.436Z"
   },
   {
    "duration": 12,
    "start_time": "2023-05-26T16:07:52.487Z"
   },
   {
    "duration": 142,
    "start_time": "2023-05-26T16:07:52.500Z"
   },
   {
    "duration": 6191,
    "start_time": "2023-05-26T16:07:52.644Z"
   },
   {
    "duration": 103,
    "start_time": "2023-05-26T16:07:58.837Z"
   },
   {
    "duration": 14,
    "start_time": "2023-05-26T16:07:58.942Z"
   },
   {
    "duration": 148,
    "start_time": "2023-05-26T16:07:58.957Z"
   },
   {
    "duration": 3195,
    "start_time": "2023-05-26T16:07:59.106Z"
   },
   {
    "duration": 34,
    "start_time": "2023-05-26T16:08:02.302Z"
   },
   {
    "duration": 11,
    "start_time": "2023-05-26T16:08:02.337Z"
   },
   {
    "duration": 155,
    "start_time": "2023-05-26T16:08:02.350Z"
   },
   {
    "duration": 85,
    "start_time": "2023-05-26T16:08:02.506Z"
   },
   {
    "duration": 15,
    "start_time": "2023-05-26T16:08:02.592Z"
   },
   {
    "duration": 218,
    "start_time": "2023-05-26T16:08:02.608Z"
   },
   {
    "duration": 6,
    "start_time": "2023-05-26T16:26:54.136Z"
   },
   {
    "duration": 57,
    "start_time": "2023-05-26T16:26:54.145Z"
   },
   {
    "duration": 20,
    "start_time": "2023-05-26T16:26:54.204Z"
   },
   {
    "duration": 22,
    "start_time": "2023-05-26T16:26:54.227Z"
   },
   {
    "duration": 223,
    "start_time": "2023-05-26T16:26:54.252Z"
   },
   {
    "duration": 21,
    "start_time": "2023-05-26T16:26:54.477Z"
   },
   {
    "duration": 6,
    "start_time": "2023-05-26T16:26:54.499Z"
   },
   {
    "duration": 4,
    "start_time": "2023-05-26T16:26:54.507Z"
   },
   {
    "duration": 178,
    "start_time": "2023-05-26T16:26:54.513Z"
   },
   {
    "duration": 11,
    "start_time": "2023-05-26T16:26:54.694Z"
   },
   {
    "duration": 20,
    "start_time": "2023-05-26T16:26:54.710Z"
   },
   {
    "duration": 78,
    "start_time": "2023-05-26T16:26:54.732Z"
   },
   {
    "duration": 25,
    "start_time": "2023-05-26T16:26:54.815Z"
   },
   {
    "duration": 3,
    "start_time": "2023-05-26T16:26:54.841Z"
   },
   {
    "duration": 6,
    "start_time": "2023-05-26T16:26:54.846Z"
   },
   {
    "duration": 26,
    "start_time": "2023-05-26T16:26:54.853Z"
   },
   {
    "duration": 7,
    "start_time": "2023-05-26T16:26:54.880Z"
   },
   {
    "duration": 7,
    "start_time": "2023-05-26T16:26:54.889Z"
   },
   {
    "duration": 4,
    "start_time": "2023-05-26T16:26:54.899Z"
   },
   {
    "duration": 6,
    "start_time": "2023-05-26T16:26:54.905Z"
   },
   {
    "duration": 743,
    "start_time": "2023-05-26T16:26:54.914Z"
   },
   {
    "duration": 3,
    "start_time": "2023-05-26T16:26:55.658Z"
   },
   {
    "duration": 46,
    "start_time": "2023-05-26T16:26:55.663Z"
   },
   {
    "duration": 760,
    "start_time": "2023-05-26T16:26:55.711Z"
   },
   {
    "duration": 22,
    "start_time": "2023-05-26T16:26:56.478Z"
   },
   {
    "duration": 10,
    "start_time": "2023-05-26T16:26:56.506Z"
   },
   {
    "duration": 8,
    "start_time": "2023-05-26T16:26:56.518Z"
   },
   {
    "duration": 68,
    "start_time": "2023-05-26T16:26:56.532Z"
   },
   {
    "duration": 102,
    "start_time": "2023-05-26T16:26:56.601Z"
   },
   {
    "duration": 270,
    "start_time": "2023-05-26T16:26:56.710Z"
   },
   {
    "duration": 401,
    "start_time": "2023-05-26T16:26:56.982Z"
   },
   {
    "duration": 37,
    "start_time": "2023-05-26T16:26:57.385Z"
   },
   {
    "duration": 9,
    "start_time": "2023-05-26T16:26:57.425Z"
   },
   {
    "duration": 167,
    "start_time": "2023-05-26T16:26:57.436Z"
   },
   {
    "duration": 4982,
    "start_time": "2023-05-26T16:26:57.605Z"
   },
   {
    "duration": 123,
    "start_time": "2023-05-26T16:27:02.591Z"
   },
   {
    "duration": 67,
    "start_time": "2023-05-26T16:27:02.715Z"
   },
   {
    "duration": 237,
    "start_time": "2023-05-26T16:27:02.784Z"
   },
   {
    "duration": 184,
    "start_time": "2023-05-26T16:27:03.022Z"
   },
   {
    "duration": 169,
    "start_time": "2023-05-26T16:27:03.210Z"
   },
   {
    "duration": 393,
    "start_time": "2023-05-26T16:27:03.387Z"
   },
   {
    "duration": 10,
    "start_time": "2023-05-26T16:27:03.788Z"
   },
   {
    "duration": 17,
    "start_time": "2023-05-26T16:27:03.801Z"
   },
   {
    "duration": 8,
    "start_time": "2023-05-26T16:27:03.820Z"
   },
   {
    "duration": 157,
    "start_time": "2023-05-26T16:27:03.830Z"
   },
   {
    "duration": 100,
    "start_time": "2023-05-26T16:27:03.993Z"
   },
   {
    "duration": 327,
    "start_time": "2023-05-26T16:27:04.097Z"
   },
   {
    "duration": 55,
    "start_time": "2023-05-26T16:27:04.426Z"
   },
   {
    "duration": 25,
    "start_time": "2023-05-26T16:27:04.483Z"
   },
   {
    "duration": 8,
    "start_time": "2023-05-26T16:27:04.512Z"
   },
   {
    "duration": 160,
    "start_time": "2023-05-26T16:27:04.521Z"
   },
   {
    "duration": 17,
    "start_time": "2023-05-26T16:27:04.683Z"
   },
   {
    "duration": 381,
    "start_time": "2023-05-26T16:27:04.703Z"
   },
   {
    "duration": 306,
    "start_time": "2023-05-26T16:27:05.091Z"
   },
   {
    "duration": 8,
    "start_time": "2023-05-26T16:27:05.402Z"
   },
   {
    "duration": 407,
    "start_time": "2023-05-26T16:27:05.414Z"
   },
   {
    "duration": 429,
    "start_time": "2023-05-26T16:27:05.823Z"
   },
   {
    "duration": 60,
    "start_time": "2023-05-26T16:27:06.254Z"
   },
   {
    "duration": 10,
    "start_time": "2023-05-26T16:27:06.316Z"
   },
   {
    "duration": 140,
    "start_time": "2023-05-26T16:27:06.327Z"
   },
   {
    "duration": 502,
    "start_time": "2023-05-26T16:27:06.468Z"
   },
   {
    "duration": 44,
    "start_time": "2023-05-26T16:27:06.972Z"
   },
   {
    "duration": 10,
    "start_time": "2023-05-26T16:27:07.017Z"
   },
   {
    "duration": 178,
    "start_time": "2023-05-26T16:27:07.028Z"
   },
   {
    "duration": 226,
    "start_time": "2023-05-26T16:27:07.209Z"
   },
   {
    "duration": 14,
    "start_time": "2023-05-26T16:27:07.437Z"
   },
   {
    "duration": 28,
    "start_time": "2023-05-26T16:27:07.452Z"
   },
   {
    "duration": 137,
    "start_time": "2023-05-26T16:27:07.481Z"
   },
   {
    "duration": 5012,
    "start_time": "2023-05-26T16:27:07.620Z"
   },
   {
    "duration": 86,
    "start_time": "2023-05-26T16:27:12.634Z"
   },
   {
    "duration": 18,
    "start_time": "2023-05-26T16:27:12.722Z"
   },
   {
    "duration": 161,
    "start_time": "2023-05-26T16:27:12.742Z"
   },
   {
    "duration": 6486,
    "start_time": "2023-05-26T16:27:12.906Z"
   },
   {
    "duration": 114,
    "start_time": "2023-05-26T16:27:19.394Z"
   },
   {
    "duration": 15,
    "start_time": "2023-05-26T16:27:19.510Z"
   },
   {
    "duration": 191,
    "start_time": "2023-05-26T16:27:19.528Z"
   },
   {
    "duration": 3479,
    "start_time": "2023-05-26T16:27:19.721Z"
   },
   {
    "duration": 36,
    "start_time": "2023-05-26T16:27:23.201Z"
   },
   {
    "duration": 10,
    "start_time": "2023-05-26T16:27:23.239Z"
   },
   {
    "duration": 156,
    "start_time": "2023-05-26T16:27:23.250Z"
   },
   {
    "duration": 85,
    "start_time": "2023-05-26T16:27:23.408Z"
   },
   {
    "duration": 14,
    "start_time": "2023-05-26T16:27:23.499Z"
   },
   {
    "duration": 143,
    "start_time": "2023-05-26T16:27:23.514Z"
   },
   {
    "duration": 5,
    "start_time": "2023-05-26T16:28:29.300Z"
   },
   {
    "duration": 43,
    "start_time": "2023-05-26T16:28:29.307Z"
   },
   {
    "duration": 16,
    "start_time": "2023-05-26T16:28:29.352Z"
   },
   {
    "duration": 19,
    "start_time": "2023-05-26T16:28:29.370Z"
   },
   {
    "duration": 202,
    "start_time": "2023-05-26T16:28:29.394Z"
   },
   {
    "duration": 5,
    "start_time": "2023-05-26T16:28:29.598Z"
   },
   {
    "duration": 6,
    "start_time": "2023-05-26T16:28:29.604Z"
   },
   {
    "duration": 5,
    "start_time": "2023-05-26T16:28:29.611Z"
   },
   {
    "duration": 192,
    "start_time": "2023-05-26T16:28:29.617Z"
   },
   {
    "duration": 6,
    "start_time": "2023-05-26T16:28:29.811Z"
   },
   {
    "duration": 25,
    "start_time": "2023-05-26T16:28:29.821Z"
   },
   {
    "duration": 48,
    "start_time": "2023-05-26T16:28:29.848Z"
   },
   {
    "duration": 24,
    "start_time": "2023-05-26T16:28:29.899Z"
   },
   {
    "duration": 3,
    "start_time": "2023-05-26T16:28:29.925Z"
   },
   {
    "duration": 8,
    "start_time": "2023-05-26T16:28:29.930Z"
   },
   {
    "duration": 48,
    "start_time": "2023-05-26T16:28:29.940Z"
   },
   {
    "duration": 6,
    "start_time": "2023-05-26T16:28:29.990Z"
   },
   {
    "duration": 5,
    "start_time": "2023-05-26T16:28:29.998Z"
   },
   {
    "duration": 31,
    "start_time": "2023-05-26T16:28:30.005Z"
   },
   {
    "duration": 21,
    "start_time": "2023-05-26T16:28:30.038Z"
   },
   {
    "duration": 747,
    "start_time": "2023-05-26T16:28:30.061Z"
   },
   {
    "duration": 5,
    "start_time": "2023-05-26T16:28:30.811Z"
   },
   {
    "duration": 88,
    "start_time": "2023-05-26T16:28:30.817Z"
   },
   {
    "duration": 723,
    "start_time": "2023-05-26T16:28:30.907Z"
   },
   {
    "duration": 6,
    "start_time": "2023-05-26T16:28:31.632Z"
   },
   {
    "duration": 21,
    "start_time": "2023-05-26T16:28:31.640Z"
   },
   {
    "duration": 20,
    "start_time": "2023-05-26T16:28:31.663Z"
   },
   {
    "duration": 91,
    "start_time": "2023-05-26T16:28:31.684Z"
   },
   {
    "duration": 12,
    "start_time": "2023-05-26T16:28:31.781Z"
   },
   {
    "duration": 309,
    "start_time": "2023-05-26T16:28:31.879Z"
   },
   {
    "duration": 390,
    "start_time": "2023-05-26T16:28:32.189Z"
   },
   {
    "duration": 44,
    "start_time": "2023-05-26T16:28:32.581Z"
   },
   {
    "duration": 9,
    "start_time": "2023-05-26T16:28:32.627Z"
   },
   {
    "duration": 156,
    "start_time": "2023-05-26T16:28:32.638Z"
   },
   {
    "duration": 4896,
    "start_time": "2023-05-26T16:28:32.796Z"
   },
   {
    "duration": 72,
    "start_time": "2023-05-26T16:28:37.694Z"
   },
   {
    "duration": 27,
    "start_time": "2023-05-26T16:28:37.768Z"
   },
   {
    "duration": 141,
    "start_time": "2023-05-26T16:28:37.798Z"
   },
   {
    "duration": 65,
    "start_time": "2023-05-26T16:28:37.941Z"
   },
   {
    "duration": 28,
    "start_time": "2023-05-26T16:28:38.076Z"
   },
   {
    "duration": 238,
    "start_time": "2023-05-26T16:28:38.189Z"
   },
   {
    "duration": 7,
    "start_time": "2023-05-26T16:28:38.430Z"
   },
   {
    "duration": 18,
    "start_time": "2023-05-26T16:28:38.438Z"
   },
   {
    "duration": 30,
    "start_time": "2023-05-26T16:28:38.458Z"
   },
   {
    "duration": 188,
    "start_time": "2023-05-26T16:28:38.489Z"
   },
   {
    "duration": 24,
    "start_time": "2023-05-26T16:28:38.679Z"
   },
   {
    "duration": 290,
    "start_time": "2023-05-26T16:28:38.706Z"
   },
   {
    "duration": 4,
    "start_time": "2023-05-26T16:28:38.998Z"
   },
   {
    "duration": 16,
    "start_time": "2023-05-26T16:28:39.004Z"
   },
   {
    "duration": 8,
    "start_time": "2023-05-26T16:28:39.022Z"
   },
   {
    "duration": 69,
    "start_time": "2023-05-26T16:28:39.032Z"
   },
   {
    "duration": 97,
    "start_time": "2023-05-26T16:28:39.103Z"
   },
   {
    "duration": 204,
    "start_time": "2023-05-26T16:28:39.275Z"
   },
   {
    "duration": 241,
    "start_time": "2023-05-26T16:28:39.481Z"
   },
   {
    "duration": 7,
    "start_time": "2023-05-26T16:28:39.724Z"
   },
   {
    "duration": 164,
    "start_time": "2023-05-26T16:28:39.733Z"
   },
   {
    "duration": 414,
    "start_time": "2023-05-26T16:28:39.899Z"
   },
   {
    "duration": 28,
    "start_time": "2023-05-26T16:28:40.315Z"
   },
   {
    "duration": 35,
    "start_time": "2023-05-26T16:28:40.345Z"
   },
   {
    "duration": 155,
    "start_time": "2023-05-26T16:28:40.382Z"
   },
   {
    "duration": 515,
    "start_time": "2023-05-26T16:28:40.539Z"
   },
   {
    "duration": 47,
    "start_time": "2023-05-26T16:28:41.056Z"
   },
   {
    "duration": 9,
    "start_time": "2023-05-26T16:28:41.104Z"
   },
   {
    "duration": 144,
    "start_time": "2023-05-26T16:28:41.114Z"
   },
   {
    "duration": 228,
    "start_time": "2023-05-26T16:28:41.261Z"
   },
   {
    "duration": 17,
    "start_time": "2023-05-26T16:28:41.491Z"
   },
   {
    "duration": 9,
    "start_time": "2023-05-26T16:28:41.509Z"
   },
   {
    "duration": 144,
    "start_time": "2023-05-26T16:28:41.520Z"
   },
   {
    "duration": 5189,
    "start_time": "2023-05-26T16:28:41.675Z"
   },
   {
    "duration": 83,
    "start_time": "2023-05-26T16:28:46.866Z"
   },
   {
    "duration": 32,
    "start_time": "2023-05-26T16:28:46.951Z"
   },
   {
    "duration": 133,
    "start_time": "2023-05-26T16:28:46.989Z"
   },
   {
    "duration": 6367,
    "start_time": "2023-05-26T16:28:47.124Z"
   },
   {
    "duration": 204,
    "start_time": "2023-05-26T16:28:53.493Z"
   },
   {
    "duration": 17,
    "start_time": "2023-05-26T16:28:53.706Z"
   },
   {
    "duration": 358,
    "start_time": "2023-05-26T16:28:53.724Z"
   },
   {
    "duration": 4027,
    "start_time": "2023-05-26T16:28:54.083Z"
   },
   {
    "duration": 5,
    "start_time": "2023-05-26T17:49:39.009Z"
   },
   {
    "duration": 43,
    "start_time": "2023-05-26T17:49:39.017Z"
   },
   {
    "duration": 15,
    "start_time": "2023-05-26T17:49:39.062Z"
   },
   {
    "duration": 17,
    "start_time": "2023-05-26T17:49:39.086Z"
   },
   {
    "duration": 187,
    "start_time": "2023-05-26T17:49:39.105Z"
   },
   {
    "duration": 6,
    "start_time": "2023-05-26T17:49:39.294Z"
   },
   {
    "duration": 4,
    "start_time": "2023-05-26T17:49:39.302Z"
   },
   {
    "duration": 4,
    "start_time": "2023-05-26T17:49:39.308Z"
   },
   {
    "duration": 254,
    "start_time": "2023-05-26T17:49:39.315Z"
   },
   {
    "duration": 12,
    "start_time": "2023-05-26T17:49:39.581Z"
   },
   {
    "duration": 20,
    "start_time": "2023-05-26T17:49:39.595Z"
   },
   {
    "duration": 29,
    "start_time": "2023-05-26T17:49:39.617Z"
   },
   {
    "duration": 42,
    "start_time": "2023-05-26T17:49:39.648Z"
   },
   {
    "duration": 3,
    "start_time": "2023-05-26T17:49:39.692Z"
   },
   {
    "duration": 10,
    "start_time": "2023-05-26T17:49:39.696Z"
   },
   {
    "duration": 11,
    "start_time": "2023-05-26T17:49:39.707Z"
   },
   {
    "duration": 4,
    "start_time": "2023-05-26T17:49:39.720Z"
   },
   {
    "duration": 6,
    "start_time": "2023-05-26T17:49:39.725Z"
   },
   {
    "duration": 3,
    "start_time": "2023-05-26T17:49:39.733Z"
   },
   {
    "duration": 5,
    "start_time": "2023-05-26T17:49:39.737Z"
   },
   {
    "duration": 690,
    "start_time": "2023-05-26T17:49:39.744Z"
   },
   {
    "duration": 3,
    "start_time": "2023-05-26T17:49:40.436Z"
   },
   {
    "duration": 36,
    "start_time": "2023-05-26T17:49:40.440Z"
   },
   {
    "duration": 690,
    "start_time": "2023-05-26T17:49:40.481Z"
   },
   {
    "duration": 11,
    "start_time": "2023-05-26T17:49:41.174Z"
   },
   {
    "duration": 9,
    "start_time": "2023-05-26T17:49:41.188Z"
   },
   {
    "duration": 6,
    "start_time": "2023-05-26T17:49:41.199Z"
   },
   {
    "duration": 21,
    "start_time": "2023-05-26T17:49:41.207Z"
   },
   {
    "duration": 0,
    "start_time": "2023-05-26T17:49:41.230Z"
   },
   {
    "duration": 0,
    "start_time": "2023-05-26T17:49:41.232Z"
   },
   {
    "duration": 0,
    "start_time": "2023-05-26T17:49:41.233Z"
   },
   {
    "duration": 0,
    "start_time": "2023-05-26T17:49:41.235Z"
   },
   {
    "duration": 0,
    "start_time": "2023-05-26T17:49:41.235Z"
   },
   {
    "duration": 0,
    "start_time": "2023-05-26T17:49:41.237Z"
   },
   {
    "duration": 0,
    "start_time": "2023-05-26T17:49:41.238Z"
   },
   {
    "duration": 0,
    "start_time": "2023-05-26T17:49:41.239Z"
   },
   {
    "duration": 0,
    "start_time": "2023-05-26T17:49:41.240Z"
   },
   {
    "duration": 0,
    "start_time": "2023-05-26T17:49:41.241Z"
   },
   {
    "duration": 0,
    "start_time": "2023-05-26T17:49:41.283Z"
   },
   {
    "duration": 0,
    "start_time": "2023-05-26T17:49:41.285Z"
   },
   {
    "duration": 0,
    "start_time": "2023-05-26T17:49:41.285Z"
   },
   {
    "duration": 0,
    "start_time": "2023-05-26T17:49:41.287Z"
   },
   {
    "duration": 0,
    "start_time": "2023-05-26T17:49:41.288Z"
   },
   {
    "duration": 0,
    "start_time": "2023-05-26T17:49:41.289Z"
   },
   {
    "duration": 0,
    "start_time": "2023-05-26T17:49:41.290Z"
   },
   {
    "duration": 0,
    "start_time": "2023-05-26T17:49:41.290Z"
   },
   {
    "duration": 0,
    "start_time": "2023-05-26T17:49:41.291Z"
   },
   {
    "duration": 0,
    "start_time": "2023-05-26T17:49:41.294Z"
   },
   {
    "duration": 0,
    "start_time": "2023-05-26T17:49:41.295Z"
   },
   {
    "duration": 0,
    "start_time": "2023-05-26T17:49:41.297Z"
   },
   {
    "duration": 0,
    "start_time": "2023-05-26T17:49:41.298Z"
   },
   {
    "duration": 0,
    "start_time": "2023-05-26T17:49:41.299Z"
   },
   {
    "duration": 0,
    "start_time": "2023-05-26T17:49:41.301Z"
   },
   {
    "duration": 0,
    "start_time": "2023-05-26T17:49:41.303Z"
   },
   {
    "duration": 0,
    "start_time": "2023-05-26T17:49:41.305Z"
   },
   {
    "duration": 0,
    "start_time": "2023-05-26T17:49:41.306Z"
   },
   {
    "duration": 0,
    "start_time": "2023-05-26T17:49:41.308Z"
   },
   {
    "duration": 20,
    "start_time": "2023-05-26T17:49:41.382Z"
   },
   {
    "duration": 0,
    "start_time": "2023-05-26T17:49:41.404Z"
   },
   {
    "duration": 0,
    "start_time": "2023-05-26T17:49:41.405Z"
   },
   {
    "duration": 82,
    "start_time": "2023-05-26T17:49:41.546Z"
   },
   {
    "duration": 0,
    "start_time": "2023-05-26T17:49:41.630Z"
   },
   {
    "duration": 0,
    "start_time": "2023-05-26T17:49:41.631Z"
   },
   {
    "duration": 0,
    "start_time": "2023-05-26T17:49:41.632Z"
   },
   {
    "duration": 0,
    "start_time": "2023-05-26T17:49:41.633Z"
   },
   {
    "duration": 22,
    "start_time": "2023-05-26T17:49:41.786Z"
   },
   {
    "duration": 0,
    "start_time": "2023-05-26T17:49:41.810Z"
   },
   {
    "duration": 0,
    "start_time": "2023-05-26T17:49:41.812Z"
   },
   {
    "duration": 76,
    "start_time": "2023-05-26T17:49:42.509Z"
   },
   {
    "duration": 0,
    "start_time": "2023-05-26T17:49:42.587Z"
   },
   {
    "duration": 0,
    "start_time": "2023-05-26T17:49:42.588Z"
   },
   {
    "duration": 0,
    "start_time": "2023-05-26T17:49:42.589Z"
   },
   {
    "duration": 80,
    "start_time": "2023-05-26T17:49:42.748Z"
   },
   {
    "duration": 0,
    "start_time": "2023-05-26T17:49:42.831Z"
   },
   {
    "duration": 0,
    "start_time": "2023-05-26T17:49:42.832Z"
   },
   {
    "duration": 0,
    "start_time": "2023-05-26T17:49:42.833Z"
   },
   {
    "duration": 0,
    "start_time": "2023-05-26T17:49:42.834Z"
   },
   {
    "duration": 0,
    "start_time": "2023-05-26T17:49:42.835Z"
   },
   {
    "duration": 0,
    "start_time": "2023-05-26T17:49:42.836Z"
   },
   {
    "duration": 0,
    "start_time": "2023-05-26T17:49:42.837Z"
   },
   {
    "duration": 27,
    "start_time": "2023-05-26T17:49:42.970Z"
   },
   {
    "duration": 0,
    "start_time": "2023-05-26T17:49:42.999Z"
   },
   {
    "duration": 0,
    "start_time": "2023-05-26T17:49:43.000Z"
   },
   {
    "duration": 6,
    "start_time": "2023-05-26T17:51:01.149Z"
   },
   {
    "duration": 9,
    "start_time": "2023-05-26T17:51:06.972Z"
   },
   {
    "duration": 10,
    "start_time": "2023-05-26T17:53:04.275Z"
   },
   {
    "duration": 40,
    "start_time": "2023-05-26T17:53:04.290Z"
   },
   {
    "duration": 12,
    "start_time": "2023-05-26T17:53:04.332Z"
   },
   {
    "duration": 11,
    "start_time": "2023-05-26T17:53:04.346Z"
   },
   {
    "duration": 186,
    "start_time": "2023-05-26T17:53:04.422Z"
   },
   {
    "duration": 3,
    "start_time": "2023-05-26T17:53:04.610Z"
   },
   {
    "duration": 23,
    "start_time": "2023-05-26T17:53:04.614Z"
   },
   {
    "duration": 23,
    "start_time": "2023-05-26T17:53:04.638Z"
   },
   {
    "duration": 6,
    "start_time": "2023-05-26T17:53:04.663Z"
   },
   {
    "duration": 21,
    "start_time": "2023-05-26T17:53:04.670Z"
   },
   {
    "duration": 160,
    "start_time": "2023-05-26T17:53:04.692Z"
   },
   {
    "duration": 5,
    "start_time": "2023-05-26T17:53:04.855Z"
   },
   {
    "duration": 35,
    "start_time": "2023-05-26T17:53:04.862Z"
   },
   {
    "duration": 23,
    "start_time": "2023-05-26T17:53:04.901Z"
   },
   {
    "duration": 18,
    "start_time": "2023-05-26T17:53:04.925Z"
   },
   {
    "duration": 3,
    "start_time": "2023-05-26T17:53:04.944Z"
   },
   {
    "duration": 37,
    "start_time": "2023-05-26T17:53:04.949Z"
   },
   {
    "duration": 11,
    "start_time": "2023-05-26T17:53:04.988Z"
   },
   {
    "duration": 4,
    "start_time": "2023-05-26T17:53:05.001Z"
   },
   {
    "duration": 11,
    "start_time": "2023-05-26T17:53:05.007Z"
   },
   {
    "duration": 12,
    "start_time": "2023-05-26T17:53:05.020Z"
   },
   {
    "duration": 3,
    "start_time": "2023-05-26T17:53:05.034Z"
   },
   {
    "duration": 785,
    "start_time": "2023-05-26T17:53:05.039Z"
   },
   {
    "duration": 3,
    "start_time": "2023-05-26T17:53:05.826Z"
   },
   {
    "duration": 33,
    "start_time": "2023-05-26T17:53:05.831Z"
   },
   {
    "duration": 708,
    "start_time": "2023-05-26T17:53:05.866Z"
   },
   {
    "duration": 5,
    "start_time": "2023-05-26T17:53:06.587Z"
   },
   {
    "duration": 18,
    "start_time": "2023-05-26T17:53:06.594Z"
   },
   {
    "duration": 38,
    "start_time": "2023-05-26T17:53:06.614Z"
   },
   {
    "duration": 133,
    "start_time": "2023-05-26T17:53:06.653Z"
   },
   {
    "duration": 99,
    "start_time": "2023-05-26T17:53:06.794Z"
   },
   {
    "duration": 299,
    "start_time": "2023-05-26T17:53:06.900Z"
   },
   {
    "duration": 400,
    "start_time": "2023-05-26T17:53:07.201Z"
   },
   {
    "duration": 40,
    "start_time": "2023-05-26T17:53:07.602Z"
   },
   {
    "duration": 10,
    "start_time": "2023-05-26T17:53:07.644Z"
   },
   {
    "duration": 150,
    "start_time": "2023-05-26T17:53:07.656Z"
   },
   {
    "duration": 4631,
    "start_time": "2023-05-26T17:53:07.809Z"
   },
   {
    "duration": 76,
    "start_time": "2023-05-26T17:53:12.441Z"
   },
   {
    "duration": 13,
    "start_time": "2023-05-26T17:53:12.519Z"
   },
   {
    "duration": 137,
    "start_time": "2023-05-26T17:53:12.534Z"
   },
   {
    "duration": 103,
    "start_time": "2023-05-26T17:53:12.674Z"
   },
   {
    "duration": 13,
    "start_time": "2023-05-26T17:53:12.785Z"
   },
   {
    "duration": 285,
    "start_time": "2023-05-26T17:53:12.800Z"
   },
   {
    "duration": 5,
    "start_time": "2023-05-26T17:53:13.091Z"
   },
   {
    "duration": 19,
    "start_time": "2023-05-26T17:53:13.098Z"
   },
   {
    "duration": 13,
    "start_time": "2023-05-26T17:53:13.119Z"
   },
   {
    "duration": 47,
    "start_time": "2023-05-26T17:53:13.134Z"
   },
   {
    "duration": 97,
    "start_time": "2023-05-26T17:53:13.187Z"
   },
   {
    "duration": 314,
    "start_time": "2023-05-26T17:53:13.286Z"
   },
   {
    "duration": 4,
    "start_time": "2023-05-26T17:53:13.602Z"
   },
   {
    "duration": 19,
    "start_time": "2023-05-26T17:53:13.608Z"
   },
   {
    "duration": 10,
    "start_time": "2023-05-26T17:53:13.629Z"
   },
   {
    "duration": 60,
    "start_time": "2023-05-26T17:53:13.641Z"
   },
   {
    "duration": 186,
    "start_time": "2023-05-26T17:53:13.703Z"
   },
   {
    "duration": 236,
    "start_time": "2023-05-26T17:53:13.891Z"
   },
   {
    "duration": 213,
    "start_time": "2023-05-26T17:53:14.129Z"
   },
   {
    "duration": 9,
    "start_time": "2023-05-26T17:53:14.345Z"
   },
   {
    "duration": 153,
    "start_time": "2023-05-26T17:53:14.356Z"
   },
   {
    "duration": 416,
    "start_time": "2023-05-26T17:53:14.511Z"
   },
   {
    "duration": 25,
    "start_time": "2023-05-26T17:53:14.929Z"
   },
   {
    "duration": 26,
    "start_time": "2023-05-26T17:53:14.956Z"
   },
   {
    "duration": 126,
    "start_time": "2023-05-26T17:53:14.988Z"
   },
   {
    "duration": 482,
    "start_time": "2023-05-26T17:53:15.116Z"
   },
   {
    "duration": 29,
    "start_time": "2023-05-26T17:53:15.600Z"
   },
   {
    "duration": 8,
    "start_time": "2023-05-26T17:53:15.631Z"
   },
   {
    "duration": 145,
    "start_time": "2023-05-26T17:53:15.640Z"
   },
   {
    "duration": 217,
    "start_time": "2023-05-26T17:53:15.789Z"
   },
   {
    "duration": 16,
    "start_time": "2023-05-26T17:53:16.007Z"
   },
   {
    "duration": 9,
    "start_time": "2023-05-26T17:53:16.024Z"
   },
   {
    "duration": 172,
    "start_time": "2023-05-26T17:53:16.035Z"
   },
   {
    "duration": 4879,
    "start_time": "2023-05-26T17:53:16.209Z"
   },
   {
    "duration": 61,
    "start_time": "2023-05-26T17:53:21.090Z"
   },
   {
    "duration": 12,
    "start_time": "2023-05-26T17:53:21.153Z"
   },
   {
    "duration": 145,
    "start_time": "2023-05-26T17:53:21.166Z"
   },
   {
    "duration": 6250,
    "start_time": "2023-05-26T17:53:21.312Z"
   },
   {
    "duration": 90,
    "start_time": "2023-05-26T17:53:27.564Z"
   },
   {
    "duration": 21,
    "start_time": "2023-05-26T17:53:27.656Z"
   },
   {
    "duration": 157,
    "start_time": "2023-05-26T17:53:27.678Z"
   },
   {
    "duration": 3367,
    "start_time": "2023-05-26T17:53:27.837Z"
   },
   {
    "duration": 35,
    "start_time": "2023-05-26T17:53:31.205Z"
   },
   {
    "duration": 13,
    "start_time": "2023-05-26T17:53:31.242Z"
   },
   {
    "duration": 149,
    "start_time": "2023-05-26T17:53:31.277Z"
   },
   {
    "duration": 89,
    "start_time": "2023-05-26T17:53:31.428Z"
   },
   {
    "duration": 14,
    "start_time": "2023-05-26T17:53:31.519Z"
   },
   {
    "duration": 158,
    "start_time": "2023-05-26T17:53:31.536Z"
   },
   {
    "duration": 1859,
    "start_time": "2023-05-27T08:12:42.107Z"
   },
   {
    "duration": 171,
    "start_time": "2023-05-27T08:12:43.968Z"
   },
   {
    "duration": 17,
    "start_time": "2023-05-27T08:12:44.141Z"
   },
   {
    "duration": 22,
    "start_time": "2023-05-27T08:12:44.160Z"
   },
   {
    "duration": 161,
    "start_time": "2023-05-27T08:12:44.184Z"
   },
   {
    "duration": 2,
    "start_time": "2023-05-27T08:12:44.347Z"
   },
   {
    "duration": 23,
    "start_time": "2023-05-27T08:13:01.016Z"
   },
   {
    "duration": 4,
    "start_time": "2023-05-27T08:13:20.489Z"
   },
   {
    "duration": 5,
    "start_time": "2023-05-27T08:13:33.506Z"
   },
   {
    "duration": 7,
    "start_time": "2023-05-27T08:13:43.002Z"
   },
   {
    "duration": 6,
    "start_time": "2023-05-27T10:11:57.105Z"
   },
   {
    "duration": 42,
    "start_time": "2023-05-27T10:11:57.113Z"
   },
   {
    "duration": 13,
    "start_time": "2023-05-27T10:11:57.156Z"
   },
   {
    "duration": 13,
    "start_time": "2023-05-27T10:11:57.171Z"
   },
   {
    "duration": 161,
    "start_time": "2023-05-27T10:11:57.186Z"
   },
   {
    "duration": 2,
    "start_time": "2023-05-27T10:11:57.348Z"
   },
   {
    "duration": 27,
    "start_time": "2023-05-27T10:11:57.352Z"
   },
   {
    "duration": 5,
    "start_time": "2023-05-27T10:11:57.381Z"
   },
   {
    "duration": 8,
    "start_time": "2023-05-27T10:11:57.389Z"
   },
   {
    "duration": 11,
    "start_time": "2023-05-27T10:11:57.398Z"
   },
   {
    "duration": 171,
    "start_time": "2023-05-27T10:11:57.411Z"
   },
   {
    "duration": 4,
    "start_time": "2023-05-27T10:11:57.584Z"
   },
   {
    "duration": 34,
    "start_time": "2023-05-27T10:11:57.590Z"
   },
   {
    "duration": 0,
    "start_time": "2023-05-27T10:11:57.629Z"
   },
   {
    "duration": 0,
    "start_time": "2023-05-27T10:11:57.630Z"
   },
   {
    "duration": 0,
    "start_time": "2023-05-27T10:11:57.631Z"
   },
   {
    "duration": 0,
    "start_time": "2023-05-27T10:11:57.632Z"
   },
   {
    "duration": 0,
    "start_time": "2023-05-27T10:11:57.634Z"
   },
   {
    "duration": 0,
    "start_time": "2023-05-27T10:11:57.635Z"
   },
   {
    "duration": 0,
    "start_time": "2023-05-27T10:11:57.636Z"
   },
   {
    "duration": 0,
    "start_time": "2023-05-27T10:11:57.638Z"
   },
   {
    "duration": 0,
    "start_time": "2023-05-27T10:11:57.639Z"
   },
   {
    "duration": 0,
    "start_time": "2023-05-27T10:11:57.640Z"
   },
   {
    "duration": 0,
    "start_time": "2023-05-27T10:11:57.641Z"
   },
   {
    "duration": 0,
    "start_time": "2023-05-27T10:11:57.675Z"
   },
   {
    "duration": 0,
    "start_time": "2023-05-27T10:11:57.676Z"
   },
   {
    "duration": 0,
    "start_time": "2023-05-27T10:11:57.677Z"
   },
   {
    "duration": 0,
    "start_time": "2023-05-27T10:11:57.678Z"
   },
   {
    "duration": 0,
    "start_time": "2023-05-27T10:11:57.679Z"
   },
   {
    "duration": 0,
    "start_time": "2023-05-27T10:11:57.681Z"
   },
   {
    "duration": 0,
    "start_time": "2023-05-27T10:11:57.682Z"
   },
   {
    "duration": 0,
    "start_time": "2023-05-27T10:11:57.683Z"
   },
   {
    "duration": 0,
    "start_time": "2023-05-27T10:11:57.684Z"
   },
   {
    "duration": 0,
    "start_time": "2023-05-27T10:11:57.685Z"
   },
   {
    "duration": 0,
    "start_time": "2023-05-27T10:11:57.686Z"
   },
   {
    "duration": 0,
    "start_time": "2023-05-27T10:11:57.687Z"
   },
   {
    "duration": 0,
    "start_time": "2023-05-27T10:11:57.688Z"
   },
   {
    "duration": 0,
    "start_time": "2023-05-27T10:11:57.689Z"
   },
   {
    "duration": 0,
    "start_time": "2023-05-27T10:11:57.690Z"
   },
   {
    "duration": 0,
    "start_time": "2023-05-27T10:11:57.691Z"
   },
   {
    "duration": 0,
    "start_time": "2023-05-27T10:11:57.692Z"
   },
   {
    "duration": 0,
    "start_time": "2023-05-27T10:11:57.693Z"
   },
   {
    "duration": 0,
    "start_time": "2023-05-27T10:11:57.694Z"
   },
   {
    "duration": 0,
    "start_time": "2023-05-27T10:11:57.695Z"
   },
   {
    "duration": 0,
    "start_time": "2023-05-27T10:11:57.696Z"
   },
   {
    "duration": 0,
    "start_time": "2023-05-27T10:11:57.696Z"
   },
   {
    "duration": 0,
    "start_time": "2023-05-27T10:11:57.698Z"
   },
   {
    "duration": 0,
    "start_time": "2023-05-27T10:11:57.699Z"
   },
   {
    "duration": 0,
    "start_time": "2023-05-27T10:11:57.700Z"
   },
   {
    "duration": 0,
    "start_time": "2023-05-27T10:11:57.702Z"
   },
   {
    "duration": 0,
    "start_time": "2023-05-27T10:11:57.702Z"
   },
   {
    "duration": 0,
    "start_time": "2023-05-27T10:11:57.704Z"
   },
   {
    "duration": 0,
    "start_time": "2023-05-27T10:11:57.705Z"
   },
   {
    "duration": 0,
    "start_time": "2023-05-27T10:11:57.707Z"
   },
   {
    "duration": 0,
    "start_time": "2023-05-27T10:11:57.708Z"
   },
   {
    "duration": 0,
    "start_time": "2023-05-27T10:11:57.709Z"
   },
   {
    "duration": 0,
    "start_time": "2023-05-27T10:11:57.710Z"
   },
   {
    "duration": 0,
    "start_time": "2023-05-27T10:11:57.711Z"
   },
   {
    "duration": 0,
    "start_time": "2023-05-27T10:11:57.712Z"
   },
   {
    "duration": 0,
    "start_time": "2023-05-27T10:11:57.776Z"
   },
   {
    "duration": 0,
    "start_time": "2023-05-27T10:11:57.777Z"
   },
   {
    "duration": 0,
    "start_time": "2023-05-27T10:11:57.779Z"
   },
   {
    "duration": 0,
    "start_time": "2023-05-27T10:11:57.780Z"
   },
   {
    "duration": 0,
    "start_time": "2023-05-27T10:11:57.781Z"
   },
   {
    "duration": 0,
    "start_time": "2023-05-27T10:11:57.782Z"
   },
   {
    "duration": 0,
    "start_time": "2023-05-27T10:11:57.783Z"
   },
   {
    "duration": 0,
    "start_time": "2023-05-27T10:11:57.785Z"
   },
   {
    "duration": 0,
    "start_time": "2023-05-27T10:11:57.786Z"
   },
   {
    "duration": 0,
    "start_time": "2023-05-27T10:11:57.787Z"
   },
   {
    "duration": 0,
    "start_time": "2023-05-27T10:11:57.788Z"
   },
   {
    "duration": 0,
    "start_time": "2023-05-27T10:11:57.789Z"
   },
   {
    "duration": 0,
    "start_time": "2023-05-27T10:11:57.790Z"
   },
   {
    "duration": 0,
    "start_time": "2023-05-27T10:11:57.791Z"
   },
   {
    "duration": 0,
    "start_time": "2023-05-27T10:11:57.792Z"
   },
   {
    "duration": 0,
    "start_time": "2023-05-27T10:11:57.793Z"
   },
   {
    "duration": 1,
    "start_time": "2023-05-27T10:11:57.794Z"
   },
   {
    "duration": 0,
    "start_time": "2023-05-27T10:11:57.796Z"
   },
   {
    "duration": 0,
    "start_time": "2023-05-27T10:11:57.797Z"
   },
   {
    "duration": 0,
    "start_time": "2023-05-27T10:11:57.798Z"
   },
   {
    "duration": 0,
    "start_time": "2023-05-27T10:11:57.799Z"
   },
   {
    "duration": 0,
    "start_time": "2023-05-27T10:11:57.800Z"
   },
   {
    "duration": 0,
    "start_time": "2023-05-27T10:11:57.802Z"
   },
   {
    "duration": 0,
    "start_time": "2023-05-27T10:11:57.803Z"
   },
   {
    "duration": 0,
    "start_time": "2023-05-27T10:11:57.804Z"
   },
   {
    "duration": 0,
    "start_time": "2023-05-27T10:11:57.805Z"
   },
   {
    "duration": 1503,
    "start_time": "2023-05-27T10:12:35.199Z"
   },
   {
    "duration": 41,
    "start_time": "2023-05-27T10:12:36.704Z"
   },
   {
    "duration": 17,
    "start_time": "2023-05-27T10:12:36.747Z"
   },
   {
    "duration": 15,
    "start_time": "2023-05-27T10:12:36.765Z"
   },
   {
    "duration": 184,
    "start_time": "2023-05-27T10:12:36.782Z"
   },
   {
    "duration": 8,
    "start_time": "2023-05-27T10:12:36.968Z"
   },
   {
    "duration": 9,
    "start_time": "2023-05-27T10:12:36.978Z"
   },
   {
    "duration": 6,
    "start_time": "2023-05-27T10:12:36.989Z"
   },
   {
    "duration": 8,
    "start_time": "2023-05-27T10:12:36.997Z"
   },
   {
    "duration": 9,
    "start_time": "2023-05-27T10:12:37.007Z"
   },
   {
    "duration": 176,
    "start_time": "2023-05-27T10:12:37.018Z"
   },
   {
    "duration": 4,
    "start_time": "2023-05-27T10:12:37.196Z"
   },
   {
    "duration": 126,
    "start_time": "2023-05-27T10:12:40.018Z"
   },
   {
    "duration": 21,
    "start_time": "2023-05-27T10:12:45.243Z"
   },
   {
    "duration": 4,
    "start_time": "2023-05-27T10:12:57.595Z"
   },
   {
    "duration": 44,
    "start_time": "2023-05-27T10:12:57.601Z"
   },
   {
    "duration": 14,
    "start_time": "2023-05-27T10:12:57.647Z"
   },
   {
    "duration": 15,
    "start_time": "2023-05-27T10:12:57.662Z"
   },
   {
    "duration": 176,
    "start_time": "2023-05-27T10:12:57.680Z"
   },
   {
    "duration": 3,
    "start_time": "2023-05-27T10:12:57.858Z"
   },
   {
    "duration": 13,
    "start_time": "2023-05-27T10:12:57.862Z"
   },
   {
    "duration": 18,
    "start_time": "2023-05-27T10:12:57.877Z"
   },
   {
    "duration": 5,
    "start_time": "2023-05-27T10:12:57.896Z"
   },
   {
    "duration": 7,
    "start_time": "2023-05-27T10:12:57.903Z"
   },
   {
    "duration": 185,
    "start_time": "2023-05-27T10:12:57.912Z"
   },
   {
    "duration": 6,
    "start_time": "2023-05-27T10:12:58.099Z"
   },
   {
    "duration": 15,
    "start_time": "2023-05-27T10:13:20.235Z"
   },
   {
    "duration": 20,
    "start_time": "2023-05-27T10:13:43.011Z"
   },
   {
    "duration": 4,
    "start_time": "2023-05-27T10:16:39.322Z"
   },
   {
    "duration": 45,
    "start_time": "2023-05-27T10:16:39.327Z"
   },
   {
    "duration": 13,
    "start_time": "2023-05-27T10:16:39.374Z"
   },
   {
    "duration": 21,
    "start_time": "2023-05-27T10:16:39.388Z"
   },
   {
    "duration": 237,
    "start_time": "2023-05-27T10:16:39.411Z"
   },
   {
    "duration": 3,
    "start_time": "2023-05-27T10:16:39.650Z"
   },
   {
    "duration": 24,
    "start_time": "2023-05-27T10:16:39.655Z"
   },
   {
    "duration": 18,
    "start_time": "2023-05-27T10:16:39.681Z"
   },
   {
    "duration": 9,
    "start_time": "2023-05-27T10:16:39.701Z"
   },
   {
    "duration": 9,
    "start_time": "2023-05-27T10:16:39.712Z"
   },
   {
    "duration": 145,
    "start_time": "2023-05-27T10:16:39.722Z"
   },
   {
    "duration": 4,
    "start_time": "2023-05-27T10:16:39.869Z"
   },
   {
    "duration": 24,
    "start_time": "2023-05-27T10:16:47.496Z"
   },
   {
    "duration": 24,
    "start_time": "2023-05-27T10:19:21.843Z"
   },
   {
    "duration": 5,
    "start_time": "2023-05-27T10:26:37.834Z"
   },
   {
    "duration": 52,
    "start_time": "2023-05-27T10:26:37.841Z"
   },
   {
    "duration": 13,
    "start_time": "2023-05-27T10:26:37.895Z"
   },
   {
    "duration": 16,
    "start_time": "2023-05-27T10:26:37.910Z"
   },
   {
    "duration": 195,
    "start_time": "2023-05-27T10:26:37.928Z"
   },
   {
    "duration": 3,
    "start_time": "2023-05-27T10:26:38.125Z"
   },
   {
    "duration": 5,
    "start_time": "2023-05-27T10:26:38.129Z"
   },
   {
    "duration": 5,
    "start_time": "2023-05-27T10:26:38.136Z"
   },
   {
    "duration": 5,
    "start_time": "2023-05-27T10:26:38.143Z"
   },
   {
    "duration": 6,
    "start_time": "2023-05-27T10:26:38.179Z"
   },
   {
    "duration": 166,
    "start_time": "2023-05-27T10:26:38.193Z"
   },
   {
    "duration": 5,
    "start_time": "2023-05-27T10:26:38.361Z"
   },
   {
    "duration": 23,
    "start_time": "2023-05-27T10:26:40.991Z"
   },
   {
    "duration": 4,
    "start_time": "2023-05-27T10:29:42.939Z"
   },
   {
    "duration": 47,
    "start_time": "2023-05-27T10:29:42.945Z"
   },
   {
    "duration": 12,
    "start_time": "2023-05-27T10:29:42.994Z"
   },
   {
    "duration": 16,
    "start_time": "2023-05-27T10:29:43.008Z"
   },
   {
    "duration": 163,
    "start_time": "2023-05-27T10:29:43.026Z"
   },
   {
    "duration": 3,
    "start_time": "2023-05-27T10:29:43.190Z"
   },
   {
    "duration": 22,
    "start_time": "2023-05-27T10:29:43.195Z"
   },
   {
    "duration": 6,
    "start_time": "2023-05-27T10:29:43.219Z"
   },
   {
    "duration": 8,
    "start_time": "2023-05-27T10:29:43.226Z"
   },
   {
    "duration": 6,
    "start_time": "2023-05-27T10:29:43.235Z"
   },
   {
    "duration": 161,
    "start_time": "2023-05-27T10:29:43.244Z"
   },
   {
    "duration": 4,
    "start_time": "2023-05-27T10:29:43.407Z"
   },
   {
    "duration": 6,
    "start_time": "2023-05-27T10:31:21.815Z"
   },
   {
    "duration": 7,
    "start_time": "2023-05-27T10:31:28.407Z"
   },
   {
    "duration": 19,
    "start_time": "2023-05-27T10:31:51.572Z"
   },
   {
    "duration": 18,
    "start_time": "2023-05-27T10:31:59.576Z"
   },
   {
    "duration": 14,
    "start_time": "2023-05-27T10:32:27.191Z"
   },
   {
    "duration": 17,
    "start_time": "2023-05-27T10:32:42.787Z"
   },
   {
    "duration": 14,
    "start_time": "2023-05-27T10:32:49.750Z"
   },
   {
    "duration": 5,
    "start_time": "2023-05-27T10:32:54.031Z"
   },
   {
    "duration": 55,
    "start_time": "2023-05-27T10:32:54.039Z"
   },
   {
    "duration": 15,
    "start_time": "2023-05-27T10:32:54.096Z"
   },
   {
    "duration": 17,
    "start_time": "2023-05-27T10:32:54.113Z"
   },
   {
    "duration": 193,
    "start_time": "2023-05-27T10:32:54.132Z"
   },
   {
    "duration": 3,
    "start_time": "2023-05-27T10:32:54.327Z"
   },
   {
    "duration": 10,
    "start_time": "2023-05-27T10:32:54.332Z"
   },
   {
    "duration": 5,
    "start_time": "2023-05-27T10:32:54.344Z"
   },
   {
    "duration": 37,
    "start_time": "2023-05-27T10:32:54.351Z"
   },
   {
    "duration": 4,
    "start_time": "2023-05-27T10:32:54.392Z"
   },
   {
    "duration": 167,
    "start_time": "2023-05-27T10:32:54.398Z"
   },
   {
    "duration": 5,
    "start_time": "2023-05-27T10:32:54.567Z"
   },
   {
    "duration": 19,
    "start_time": "2023-05-27T10:32:59.135Z"
   },
   {
    "duration": 5,
    "start_time": "2023-05-27T10:33:31.144Z"
   },
   {
    "duration": 89,
    "start_time": "2023-05-27T10:33:31.151Z"
   },
   {
    "duration": 14,
    "start_time": "2023-05-27T10:33:31.242Z"
   },
   {
    "duration": 71,
    "start_time": "2023-05-27T10:33:31.257Z"
   },
   {
    "duration": 181,
    "start_time": "2023-05-27T10:33:31.330Z"
   },
   {
    "duration": 2,
    "start_time": "2023-05-27T10:33:31.513Z"
   },
   {
    "duration": 40,
    "start_time": "2023-05-27T10:33:31.517Z"
   },
   {
    "duration": 46,
    "start_time": "2023-05-27T10:33:31.559Z"
   },
   {
    "duration": 29,
    "start_time": "2023-05-27T10:33:31.606Z"
   },
   {
    "duration": 24,
    "start_time": "2023-05-27T10:33:31.637Z"
   },
   {
    "duration": 181,
    "start_time": "2023-05-27T10:33:31.663Z"
   },
   {
    "duration": 6,
    "start_time": "2023-05-27T10:33:31.846Z"
   },
   {
    "duration": 25,
    "start_time": "2023-05-27T10:33:47.810Z"
   },
   {
    "duration": 4,
    "start_time": "2023-05-27T10:35:52.662Z"
   },
   {
    "duration": 48,
    "start_time": "2023-05-27T10:35:52.671Z"
   },
   {
    "duration": 16,
    "start_time": "2023-05-27T10:35:52.721Z"
   },
   {
    "duration": 13,
    "start_time": "2023-05-27T10:35:52.739Z"
   },
   {
    "duration": 164,
    "start_time": "2023-05-27T10:35:52.754Z"
   },
   {
    "duration": 2,
    "start_time": "2023-05-27T10:35:52.920Z"
   },
   {
    "duration": 6,
    "start_time": "2023-05-27T10:35:52.924Z"
   },
   {
    "duration": 5,
    "start_time": "2023-05-27T10:35:52.931Z"
   },
   {
    "duration": 5,
    "start_time": "2023-05-27T10:35:52.938Z"
   },
   {
    "duration": 7,
    "start_time": "2023-05-27T10:35:52.944Z"
   },
   {
    "duration": 267,
    "start_time": "2023-05-27T10:35:52.953Z"
   },
   {
    "duration": 4,
    "start_time": "2023-05-27T10:35:53.222Z"
   },
   {
    "duration": 5,
    "start_time": "2023-05-27T10:35:53.228Z"
   },
   {
    "duration": 2,
    "start_time": "2023-05-27T10:35:56.420Z"
   },
   {
    "duration": 22,
    "start_time": "2023-05-27T10:35:56.973Z"
   },
   {
    "duration": 21,
    "start_time": "2023-05-27T10:37:06.308Z"
   },
   {
    "duration": 4,
    "start_time": "2023-05-27T10:38:04.629Z"
   },
   {
    "duration": 43,
    "start_time": "2023-05-27T10:38:04.635Z"
   },
   {
    "duration": 17,
    "start_time": "2023-05-27T10:38:04.681Z"
   },
   {
    "duration": 12,
    "start_time": "2023-05-27T10:38:04.699Z"
   },
   {
    "duration": 179,
    "start_time": "2023-05-27T10:38:04.713Z"
   },
   {
    "duration": 3,
    "start_time": "2023-05-27T10:38:04.896Z"
   },
   {
    "duration": 16,
    "start_time": "2023-05-27T10:38:04.900Z"
   },
   {
    "duration": 7,
    "start_time": "2023-05-27T10:38:04.917Z"
   },
   {
    "duration": 5,
    "start_time": "2023-05-27T10:38:04.926Z"
   },
   {
    "duration": 5,
    "start_time": "2023-05-27T10:38:04.933Z"
   },
   {
    "duration": 170,
    "start_time": "2023-05-27T10:38:04.940Z"
   },
   {
    "duration": 5,
    "start_time": "2023-05-27T10:38:05.111Z"
   },
   {
    "duration": 9,
    "start_time": "2023-05-27T10:38:46.092Z"
   },
   {
    "duration": 10,
    "start_time": "2023-05-27T10:38:54.267Z"
   },
   {
    "duration": 30,
    "start_time": "2023-05-27T10:39:26.247Z"
   },
   {
    "duration": 7,
    "start_time": "2023-05-27T10:40:19.288Z"
   },
   {
    "duration": 50,
    "start_time": "2023-05-27T10:40:19.298Z"
   },
   {
    "duration": 13,
    "start_time": "2023-05-27T10:40:19.351Z"
   },
   {
    "duration": 19,
    "start_time": "2023-05-27T10:40:19.366Z"
   },
   {
    "duration": 165,
    "start_time": "2023-05-27T10:40:19.389Z"
   },
   {
    "duration": 3,
    "start_time": "2023-05-27T10:40:19.557Z"
   },
   {
    "duration": 20,
    "start_time": "2023-05-27T10:40:19.562Z"
   },
   {
    "duration": 18,
    "start_time": "2023-05-27T10:40:19.584Z"
   },
   {
    "duration": 7,
    "start_time": "2023-05-27T10:40:19.605Z"
   },
   {
    "duration": 6,
    "start_time": "2023-05-27T10:40:19.616Z"
   },
   {
    "duration": 195,
    "start_time": "2023-05-27T10:40:19.624Z"
   },
   {
    "duration": 5,
    "start_time": "2023-05-27T10:40:19.820Z"
   },
   {
    "duration": 6,
    "start_time": "2023-05-27T10:40:27.841Z"
   },
   {
    "duration": 12,
    "start_time": "2023-05-27T10:40:37.245Z"
   },
   {
    "duration": 13,
    "start_time": "2023-05-27T10:40:42.405Z"
   },
   {
    "duration": 8,
    "start_time": "2023-05-27T10:40:51.543Z"
   },
   {
    "duration": 20,
    "start_time": "2023-05-27T12:08:34.370Z"
   },
   {
    "duration": 5,
    "start_time": "2023-05-27T12:08:56.844Z"
   },
   {
    "duration": 13,
    "start_time": "2023-05-27T12:09:03.613Z"
   },
   {
    "duration": 13,
    "start_time": "2023-05-27T12:09:19.604Z"
   },
   {
    "duration": 5,
    "start_time": "2023-05-27T12:09:32.942Z"
   },
   {
    "duration": 64,
    "start_time": "2023-05-27T12:09:32.949Z"
   },
   {
    "duration": 12,
    "start_time": "2023-05-27T12:09:33.014Z"
   },
   {
    "duration": 12,
    "start_time": "2023-05-27T12:09:33.029Z"
   },
   {
    "duration": 167,
    "start_time": "2023-05-27T12:09:33.043Z"
   },
   {
    "duration": 3,
    "start_time": "2023-05-27T12:09:33.211Z"
   },
   {
    "duration": 12,
    "start_time": "2023-05-27T12:09:33.215Z"
   },
   {
    "duration": 4,
    "start_time": "2023-05-27T12:09:33.229Z"
   },
   {
    "duration": 5,
    "start_time": "2023-05-27T12:09:33.235Z"
   },
   {
    "duration": 17,
    "start_time": "2023-05-27T12:09:33.242Z"
   },
   {
    "duration": 183,
    "start_time": "2023-05-27T12:09:33.261Z"
   },
   {
    "duration": 5,
    "start_time": "2023-05-27T12:09:33.446Z"
   },
   {
    "duration": 7,
    "start_time": "2023-05-27T12:09:33.453Z"
   },
   {
    "duration": 4,
    "start_time": "2023-05-27T12:09:40.943Z"
   },
   {
    "duration": 48,
    "start_time": "2023-05-27T12:09:40.948Z"
   },
   {
    "duration": 19,
    "start_time": "2023-05-27T12:09:40.999Z"
   },
   {
    "duration": 12,
    "start_time": "2023-05-27T12:09:41.020Z"
   },
   {
    "duration": 180,
    "start_time": "2023-05-27T12:09:41.034Z"
   },
   {
    "duration": 2,
    "start_time": "2023-05-27T12:09:41.216Z"
   },
   {
    "duration": 6,
    "start_time": "2023-05-27T12:09:41.220Z"
   },
   {
    "duration": 5,
    "start_time": "2023-05-27T12:09:41.228Z"
   },
   {
    "duration": 6,
    "start_time": "2023-05-27T12:09:41.234Z"
   },
   {
    "duration": 4,
    "start_time": "2023-05-27T12:09:41.242Z"
   },
   {
    "duration": 175,
    "start_time": "2023-05-27T12:09:41.277Z"
   },
   {
    "duration": 4,
    "start_time": "2023-05-27T12:09:41.455Z"
   },
   {
    "duration": 19,
    "start_time": "2023-05-27T12:09:44.408Z"
   },
   {
    "duration": 3,
    "start_time": "2023-05-27T12:09:51.790Z"
   },
   {
    "duration": 5,
    "start_time": "2023-05-27T12:09:55.248Z"
   },
   {
    "duration": 57,
    "start_time": "2023-05-27T12:09:55.256Z"
   },
   {
    "duration": 14,
    "start_time": "2023-05-27T12:09:55.315Z"
   },
   {
    "duration": 13,
    "start_time": "2023-05-27T12:09:55.330Z"
   },
   {
    "duration": 180,
    "start_time": "2023-05-27T12:09:55.345Z"
   },
   {
    "duration": 2,
    "start_time": "2023-05-27T12:09:55.527Z"
   },
   {
    "duration": 8,
    "start_time": "2023-05-27T12:09:55.530Z"
   },
   {
    "duration": 6,
    "start_time": "2023-05-27T12:09:55.539Z"
   },
   {
    "duration": 6,
    "start_time": "2023-05-27T12:09:55.546Z"
   },
   {
    "duration": 5,
    "start_time": "2023-05-27T12:09:55.553Z"
   },
   {
    "duration": 177,
    "start_time": "2023-05-27T12:09:55.575Z"
   },
   {
    "duration": 5,
    "start_time": "2023-05-27T12:09:55.753Z"
   },
   {
    "duration": 5,
    "start_time": "2023-05-27T12:09:55.759Z"
   },
   {
    "duration": 8,
    "start_time": "2023-05-27T12:10:36.502Z"
   },
   {
    "duration": 16,
    "start_time": "2023-05-27T12:11:54.455Z"
   },
   {
    "duration": 6,
    "start_time": "2023-05-27T12:12:15.903Z"
   },
   {
    "duration": 8,
    "start_time": "2023-05-27T12:12:42.858Z"
   },
   {
    "duration": 10,
    "start_time": "2023-05-27T12:12:53.604Z"
   },
   {
    "duration": 13,
    "start_time": "2023-05-27T12:13:08.902Z"
   },
   {
    "duration": 27,
    "start_time": "2023-05-27T12:13:24.419Z"
   },
   {
    "duration": 13,
    "start_time": "2023-05-27T12:13:48.127Z"
   },
   {
    "duration": 7,
    "start_time": "2023-05-27T12:14:25.027Z"
   },
   {
    "duration": 17,
    "start_time": "2023-05-27T12:14:31.775Z"
   },
   {
    "duration": 26,
    "start_time": "2023-05-27T12:14:46.110Z"
   },
   {
    "duration": 10,
    "start_time": "2023-05-27T12:14:54.704Z"
   },
   {
    "duration": 6,
    "start_time": "2023-05-27T12:16:23.053Z"
   },
   {
    "duration": 8,
    "start_time": "2023-05-27T12:16:25.757Z"
   },
   {
    "duration": 7,
    "start_time": "2023-05-27T12:16:28.904Z"
   },
   {
    "duration": 20,
    "start_time": "2023-05-27T12:16:49.398Z"
   },
   {
    "duration": 28,
    "start_time": "2023-05-27T12:17:02.719Z"
   },
   {
    "duration": 6,
    "start_time": "2023-05-27T12:17:09.357Z"
   },
   {
    "duration": 62,
    "start_time": "2023-05-27T12:17:09.374Z"
   },
   {
    "duration": 15,
    "start_time": "2023-05-27T12:17:09.438Z"
   },
   {
    "duration": 38,
    "start_time": "2023-05-27T12:17:09.456Z"
   },
   {
    "duration": 355,
    "start_time": "2023-05-27T12:17:09.498Z"
   },
   {
    "duration": 4,
    "start_time": "2023-05-27T12:17:09.856Z"
   },
   {
    "duration": 18,
    "start_time": "2023-05-27T12:17:09.867Z"
   },
   {
    "duration": 22,
    "start_time": "2023-05-27T12:17:09.890Z"
   },
   {
    "duration": 8,
    "start_time": "2023-05-27T12:17:09.920Z"
   },
   {
    "duration": 8,
    "start_time": "2023-05-27T12:17:09.930Z"
   },
   {
    "duration": 283,
    "start_time": "2023-05-27T12:17:09.941Z"
   },
   {
    "duration": 8,
    "start_time": "2023-05-27T12:17:10.226Z"
   },
   {
    "duration": 20,
    "start_time": "2023-05-27T12:17:10.236Z"
   },
   {
    "duration": 8,
    "start_time": "2023-05-27T12:17:11.801Z"
   },
   {
    "duration": 22,
    "start_time": "2023-05-27T12:17:12.244Z"
   },
   {
    "duration": 6,
    "start_time": "2023-05-27T12:17:25.327Z"
   },
   {
    "duration": 8,
    "start_time": "2023-05-27T12:17:31.508Z"
   },
   {
    "duration": 33,
    "start_time": "2023-05-27T12:18:15.875Z"
   },
   {
    "duration": 7,
    "start_time": "2023-05-27T12:18:38.952Z"
   },
   {
    "duration": 21,
    "start_time": "2023-05-27T12:18:40.040Z"
   },
   {
    "duration": 26,
    "start_time": "2023-05-27T12:20:48.293Z"
   },
   {
    "duration": 13,
    "start_time": "2023-05-27T12:21:02.741Z"
   },
   {
    "duration": 14,
    "start_time": "2023-05-27T12:21:58.779Z"
   },
   {
    "duration": 6,
    "start_time": "2023-05-27T12:22:14.812Z"
   },
   {
    "duration": 42,
    "start_time": "2023-05-27T12:22:14.821Z"
   },
   {
    "duration": 25,
    "start_time": "2023-05-27T12:22:14.865Z"
   },
   {
    "duration": 35,
    "start_time": "2023-05-27T12:22:14.893Z"
   },
   {
    "duration": 173,
    "start_time": "2023-05-27T12:22:14.930Z"
   },
   {
    "duration": 3,
    "start_time": "2023-05-27T12:22:15.105Z"
   },
   {
    "duration": 5,
    "start_time": "2023-05-27T12:22:15.115Z"
   },
   {
    "duration": 9,
    "start_time": "2023-05-27T12:22:15.122Z"
   },
   {
    "duration": 6,
    "start_time": "2023-05-27T12:22:15.132Z"
   },
   {
    "duration": 5,
    "start_time": "2023-05-27T12:22:15.141Z"
   },
   {
    "duration": 191,
    "start_time": "2023-05-27T12:22:15.148Z"
   },
   {
    "duration": 5,
    "start_time": "2023-05-27T12:22:15.341Z"
   },
   {
    "duration": 5,
    "start_time": "2023-05-27T12:22:15.347Z"
   },
   {
    "duration": 4,
    "start_time": "2023-05-27T12:22:15.354Z"
   },
   {
    "duration": 33,
    "start_time": "2023-05-27T12:22:15.360Z"
   },
   {
    "duration": 4,
    "start_time": "2023-05-27T12:22:18.306Z"
   },
   {
    "duration": 8,
    "start_time": "2023-05-27T12:22:18.728Z"
   },
   {
    "duration": 21,
    "start_time": "2023-05-27T12:22:19.252Z"
   },
   {
    "duration": 16,
    "start_time": "2023-05-27T12:22:46.857Z"
   },
   {
    "duration": 20,
    "start_time": "2023-05-27T12:23:11.610Z"
   },
   {
    "duration": 19,
    "start_time": "2023-05-27T12:26:38.474Z"
   },
   {
    "duration": 7,
    "start_time": "2023-05-27T12:26:43.690Z"
   },
   {
    "duration": 6,
    "start_time": "2023-05-27T12:26:52.526Z"
   },
   {
    "duration": 5,
    "start_time": "2023-05-27T12:27:15.418Z"
   },
   {
    "duration": 14,
    "start_time": "2023-05-27T12:27:19.977Z"
   },
   {
    "duration": 5,
    "start_time": "2023-05-27T12:27:20.457Z"
   },
   {
    "duration": 6,
    "start_time": "2023-05-27T12:27:23.130Z"
   },
   {
    "duration": 16,
    "start_time": "2023-05-27T12:29:13.401Z"
   },
   {
    "duration": 6,
    "start_time": "2023-05-27T12:31:47.617Z"
   },
   {
    "duration": 12,
    "start_time": "2023-05-27T12:32:49.826Z"
   },
   {
    "duration": 19,
    "start_time": "2023-05-27T12:35:41.239Z"
   },
   {
    "duration": 10,
    "start_time": "2023-05-27T12:36:09.273Z"
   },
   {
    "duration": 14,
    "start_time": "2023-05-27T12:36:31.573Z"
   },
   {
    "duration": 13,
    "start_time": "2023-05-27T12:36:37.348Z"
   },
   {
    "duration": 8,
    "start_time": "2023-05-27T12:36:44.653Z"
   },
   {
    "duration": 7,
    "start_time": "2023-05-27T12:37:11.994Z"
   },
   {
    "duration": 9,
    "start_time": "2023-05-27T12:37:19.806Z"
   },
   {
    "duration": 8,
    "start_time": "2023-05-27T12:37:34.394Z"
   },
   {
    "duration": 16,
    "start_time": "2023-05-27T12:38:03.039Z"
   },
   {
    "duration": 7,
    "start_time": "2023-05-27T12:38:10.722Z"
   },
   {
    "duration": 10,
    "start_time": "2023-05-27T12:38:23.410Z"
   },
   {
    "duration": 25,
    "start_time": "2023-05-27T12:38:36.802Z"
   },
   {
    "duration": 18,
    "start_time": "2023-05-27T12:38:45.470Z"
   },
   {
    "duration": 6,
    "start_time": "2023-05-27T12:38:57.930Z"
   },
   {
    "duration": 24,
    "start_time": "2023-05-27T12:39:11.574Z"
   },
   {
    "duration": 21,
    "start_time": "2023-05-27T12:39:16.614Z"
   },
   {
    "duration": 8,
    "start_time": "2023-05-27T12:39:20.427Z"
   },
   {
    "duration": 23,
    "start_time": "2023-05-27T12:39:42.614Z"
   },
   {
    "duration": 15,
    "start_time": "2023-05-27T12:40:08.710Z"
   },
   {
    "duration": 8,
    "start_time": "2023-05-27T12:40:59.594Z"
   },
   {
    "duration": 8,
    "start_time": "2023-05-27T12:41:19.726Z"
   },
   {
    "duration": 6,
    "start_time": "2023-05-27T12:41:32.585Z"
   },
   {
    "duration": 52,
    "start_time": "2023-05-27T12:41:32.599Z"
   },
   {
    "duration": 18,
    "start_time": "2023-05-27T12:41:32.654Z"
   },
   {
    "duration": 22,
    "start_time": "2023-05-27T12:41:32.677Z"
   },
   {
    "duration": 229,
    "start_time": "2023-05-27T12:41:32.704Z"
   },
   {
    "duration": 3,
    "start_time": "2023-05-27T12:41:32.937Z"
   },
   {
    "duration": 6,
    "start_time": "2023-05-27T12:41:32.941Z"
   },
   {
    "duration": 9,
    "start_time": "2023-05-27T12:41:32.949Z"
   },
   {
    "duration": 5,
    "start_time": "2023-05-27T12:41:32.959Z"
   },
   {
    "duration": 17,
    "start_time": "2023-05-27T12:41:32.966Z"
   },
   {
    "duration": 187,
    "start_time": "2023-05-27T12:41:32.991Z"
   },
   {
    "duration": 5,
    "start_time": "2023-05-27T12:41:33.183Z"
   },
   {
    "duration": 6,
    "start_time": "2023-05-27T12:41:33.190Z"
   },
   {
    "duration": 4,
    "start_time": "2023-05-27T12:41:33.197Z"
   },
   {
    "duration": 4,
    "start_time": "2023-05-27T12:41:33.202Z"
   },
   {
    "duration": 8,
    "start_time": "2023-05-27T12:42:29.773Z"
   },
   {
    "duration": 23,
    "start_time": "2023-05-27T12:42:31.003Z"
   },
   {
    "duration": 35,
    "start_time": "2023-05-27T12:43:17.476Z"
   },
   {
    "duration": 2,
    "start_time": "2023-05-27T12:45:03.537Z"
   },
   {
    "duration": 16,
    "start_time": "2023-05-27T12:46:10.006Z"
   },
   {
    "duration": 7,
    "start_time": "2023-05-27T12:46:20.402Z"
   },
   {
    "duration": 52,
    "start_time": "2023-05-27T12:46:20.412Z"
   },
   {
    "duration": 27,
    "start_time": "2023-05-27T12:46:20.466Z"
   },
   {
    "duration": 37,
    "start_time": "2023-05-27T12:46:20.495Z"
   },
   {
    "duration": 219,
    "start_time": "2023-05-27T12:46:20.535Z"
   },
   {
    "duration": 3,
    "start_time": "2023-05-27T12:46:20.755Z"
   },
   {
    "duration": 5,
    "start_time": "2023-05-27T12:46:20.760Z"
   },
   {
    "duration": 12,
    "start_time": "2023-05-27T12:46:20.767Z"
   },
   {
    "duration": 6,
    "start_time": "2023-05-27T12:46:20.781Z"
   },
   {
    "duration": 15,
    "start_time": "2023-05-27T12:46:20.790Z"
   },
   {
    "duration": 249,
    "start_time": "2023-05-27T12:46:20.807Z"
   },
   {
    "duration": 5,
    "start_time": "2023-05-27T12:46:21.059Z"
   },
   {
    "duration": 20,
    "start_time": "2023-05-27T12:46:21.067Z"
   },
   {
    "duration": 9,
    "start_time": "2023-05-27T12:46:22.599Z"
   },
   {
    "duration": 18,
    "start_time": "2023-05-27T12:46:23.414Z"
   },
   {
    "duration": 6,
    "start_time": "2023-05-27T12:47:00.645Z"
   },
   {
    "duration": 16,
    "start_time": "2023-05-27T12:47:12.905Z"
   },
   {
    "duration": 34,
    "start_time": "2023-05-27T12:47:24.700Z"
   },
   {
    "duration": 16,
    "start_time": "2023-05-27T12:47:25.157Z"
   },
   {
    "duration": 4,
    "start_time": "2023-05-27T12:47:43.267Z"
   },
   {
    "duration": 54,
    "start_time": "2023-05-27T12:47:43.294Z"
   },
   {
    "duration": 15,
    "start_time": "2023-05-27T12:47:43.350Z"
   },
   {
    "duration": 32,
    "start_time": "2023-05-27T12:47:43.367Z"
   },
   {
    "duration": 222,
    "start_time": "2023-05-27T12:47:43.401Z"
   },
   {
    "duration": 5,
    "start_time": "2023-05-27T12:47:43.628Z"
   },
   {
    "duration": 5,
    "start_time": "2023-05-27T12:47:43.635Z"
   },
   {
    "duration": 5,
    "start_time": "2023-05-27T12:47:43.641Z"
   },
   {
    "duration": 4,
    "start_time": "2023-05-27T12:47:43.648Z"
   },
   {
    "duration": 6,
    "start_time": "2023-05-27T12:47:43.679Z"
   },
   {
    "duration": 185,
    "start_time": "2023-05-27T12:47:43.687Z"
   },
   {
    "duration": 7,
    "start_time": "2023-05-27T12:47:43.874Z"
   },
   {
    "duration": 8,
    "start_time": "2023-05-27T12:47:43.884Z"
   },
   {
    "duration": 18,
    "start_time": "2023-05-27T12:47:43.893Z"
   },
   {
    "duration": 6,
    "start_time": "2023-05-27T12:47:43.915Z"
   },
   {
    "duration": 19,
    "start_time": "2023-05-27T12:47:43.922Z"
   },
   {
    "duration": 3,
    "start_time": "2023-05-27T12:47:43.943Z"
   },
   {
    "duration": 73,
    "start_time": "2023-05-27T12:47:43.948Z"
   },
   {
    "duration": 18,
    "start_time": "2023-05-27T12:47:44.025Z"
   },
   {
    "duration": 5,
    "start_time": "2023-05-27T12:47:44.045Z"
   },
   {
    "duration": 10,
    "start_time": "2023-05-27T12:47:44.052Z"
   },
   {
    "duration": 4,
    "start_time": "2023-05-27T12:47:44.064Z"
   },
   {
    "duration": 7,
    "start_time": "2023-05-27T12:47:44.087Z"
   },
   {
    "duration": 7,
    "start_time": "2023-05-27T12:47:44.096Z"
   },
   {
    "duration": 8,
    "start_time": "2023-05-27T12:47:44.107Z"
   },
   {
    "duration": 924,
    "start_time": "2023-05-27T12:47:44.121Z"
   },
   {
    "duration": 3,
    "start_time": "2023-05-27T12:47:45.047Z"
   },
   {
    "duration": 54,
    "start_time": "2023-05-27T12:47:45.052Z"
   },
   {
    "duration": 905,
    "start_time": "2023-05-27T12:47:45.109Z"
   },
   {
    "duration": 5,
    "start_time": "2023-05-27T12:47:46.016Z"
   },
   {
    "duration": 12,
    "start_time": "2023-05-27T12:47:46.023Z"
   },
   {
    "duration": 7,
    "start_time": "2023-05-27T12:47:46.037Z"
   },
   {
    "duration": 153,
    "start_time": "2023-05-27T12:47:46.045Z"
   },
   {
    "duration": 28,
    "start_time": "2023-05-27T12:47:46.204Z"
   },
   {
    "duration": 298,
    "start_time": "2023-05-27T12:47:46.234Z"
   },
   {
    "duration": 440,
    "start_time": "2023-05-27T12:47:46.534Z"
   },
   {
    "duration": 47,
    "start_time": "2023-05-27T12:47:46.978Z"
   },
   {
    "duration": 10,
    "start_time": "2023-05-27T12:47:47.030Z"
   },
   {
    "duration": 151,
    "start_time": "2023-05-27T12:47:47.041Z"
   },
   {
    "duration": 6205,
    "start_time": "2023-05-27T12:47:47.193Z"
   },
   {
    "duration": 83,
    "start_time": "2023-05-27T12:47:53.407Z"
   },
   {
    "duration": 24,
    "start_time": "2023-05-27T12:47:53.502Z"
   },
   {
    "duration": 178,
    "start_time": "2023-05-27T12:47:53.528Z"
   },
   {
    "duration": 70,
    "start_time": "2023-05-27T12:47:53.709Z"
   },
   {
    "duration": 17,
    "start_time": "2023-05-27T12:47:53.782Z"
   },
   {
    "duration": 319,
    "start_time": "2023-05-27T12:47:53.803Z"
   },
   {
    "duration": 5,
    "start_time": "2023-05-27T12:47:54.124Z"
   },
   {
    "duration": 18,
    "start_time": "2023-05-27T12:47:54.131Z"
   },
   {
    "duration": 11,
    "start_time": "2023-05-27T12:47:54.151Z"
   },
   {
    "duration": 122,
    "start_time": "2023-05-27T12:47:54.164Z"
   },
   {
    "duration": 34,
    "start_time": "2023-05-27T12:47:54.292Z"
   },
   {
    "duration": 257,
    "start_time": "2023-05-27T12:47:54.384Z"
   },
   {
    "duration": 4,
    "start_time": "2023-05-27T12:47:54.643Z"
   },
   {
    "duration": 13,
    "start_time": "2023-05-27T12:47:54.648Z"
   },
   {
    "duration": 17,
    "start_time": "2023-05-27T12:47:54.662Z"
   },
   {
    "duration": 114,
    "start_time": "2023-05-27T12:47:54.680Z"
   },
   {
    "duration": 103,
    "start_time": "2023-05-27T12:47:54.803Z"
   },
   {
    "duration": 215,
    "start_time": "2023-05-27T12:47:54.916Z"
   },
   {
    "duration": 225,
    "start_time": "2023-05-27T12:47:55.132Z"
   },
   {
    "duration": 7,
    "start_time": "2023-05-27T12:47:55.359Z"
   },
   {
    "duration": 165,
    "start_time": "2023-05-27T12:47:55.368Z"
   },
   {
    "duration": 489,
    "start_time": "2023-05-27T12:47:55.535Z"
   },
   {
    "duration": 26,
    "start_time": "2023-05-27T12:47:56.026Z"
   },
   {
    "duration": 10,
    "start_time": "2023-05-27T12:47:56.054Z"
   },
   {
    "duration": 173,
    "start_time": "2023-05-27T12:47:56.066Z"
   },
   {
    "duration": 548,
    "start_time": "2023-05-27T12:47:56.242Z"
   },
   {
    "duration": 41,
    "start_time": "2023-05-27T12:47:56.792Z"
   },
   {
    "duration": 9,
    "start_time": "2023-05-27T12:47:56.834Z"
   },
   {
    "duration": 167,
    "start_time": "2023-05-27T12:47:56.844Z"
   },
   {
    "duration": 252,
    "start_time": "2023-05-27T12:47:57.013Z"
   },
   {
    "duration": 19,
    "start_time": "2023-05-27T12:47:57.267Z"
   },
   {
    "duration": 10,
    "start_time": "2023-05-27T12:47:57.288Z"
   },
   {
    "duration": 153,
    "start_time": "2023-05-27T12:47:57.300Z"
   },
   {
    "duration": 6066,
    "start_time": "2023-05-27T12:47:57.455Z"
   },
   {
    "duration": 79,
    "start_time": "2023-05-27T12:48:03.523Z"
   },
   {
    "duration": 20,
    "start_time": "2023-05-27T12:48:03.614Z"
   },
   {
    "duration": 137,
    "start_time": "2023-05-27T12:48:03.636Z"
   },
   {
    "duration": 7515,
    "start_time": "2023-05-27T12:48:03.775Z"
   },
   {
    "duration": 100,
    "start_time": "2023-05-27T12:48:11.295Z"
   },
   {
    "duration": 16,
    "start_time": "2023-05-27T12:48:11.397Z"
   },
   {
    "duration": 156,
    "start_time": "2023-05-27T12:48:11.416Z"
   },
   {
    "duration": 3985,
    "start_time": "2023-05-27T12:48:11.574Z"
   },
   {
    "duration": 58,
    "start_time": "2023-05-27T12:48:15.561Z"
   },
   {
    "duration": 14,
    "start_time": "2023-05-27T12:48:15.621Z"
   },
   {
    "duration": 174,
    "start_time": "2023-05-27T12:48:15.638Z"
   },
   {
    "duration": 83,
    "start_time": "2023-05-27T12:48:15.814Z"
   },
   {
    "duration": 21,
    "start_time": "2023-05-27T12:48:15.899Z"
   },
   {
    "duration": 139,
    "start_time": "2023-05-27T12:48:15.921Z"
   },
   {
    "duration": 3,
    "start_time": "2023-05-27T12:55:36.423Z"
   },
   {
    "duration": 12,
    "start_time": "2023-05-27T12:55:40.476Z"
   },
   {
    "duration": 6,
    "start_time": "2023-05-27T12:55:45.491Z"
   },
   {
    "duration": 47,
    "start_time": "2023-05-27T12:55:45.503Z"
   },
   {
    "duration": 15,
    "start_time": "2023-05-27T12:55:45.553Z"
   },
   {
    "duration": 32,
    "start_time": "2023-05-27T12:55:45.570Z"
   },
   {
    "duration": 239,
    "start_time": "2023-05-27T12:55:45.604Z"
   },
   {
    "duration": 6,
    "start_time": "2023-05-27T12:55:45.847Z"
   },
   {
    "duration": 7,
    "start_time": "2023-05-27T12:55:45.854Z"
   },
   {
    "duration": 6,
    "start_time": "2023-05-27T12:55:45.862Z"
   },
   {
    "duration": 19,
    "start_time": "2023-05-27T12:55:45.870Z"
   },
   {
    "duration": 20,
    "start_time": "2023-05-27T12:55:45.890Z"
   },
   {
    "duration": 234,
    "start_time": "2023-05-27T12:55:45.912Z"
   },
   {
    "duration": 5,
    "start_time": "2023-05-27T12:55:46.148Z"
   },
   {
    "duration": 10,
    "start_time": "2023-05-27T12:55:46.155Z"
   },
   {
    "duration": 9,
    "start_time": "2023-05-27T12:55:49.014Z"
   },
   {
    "duration": 5,
    "start_time": "2023-05-27T12:55:49.703Z"
   },
   {
    "duration": 14,
    "start_time": "2023-05-27T12:56:04.415Z"
   },
   {
    "duration": 7,
    "start_time": "2023-05-27T12:56:13.813Z"
   },
   {
    "duration": 4,
    "start_time": "2023-05-27T12:56:28.325Z"
   },
   {
    "duration": 6,
    "start_time": "2023-05-27T12:56:34.822Z"
   },
   {
    "duration": 10,
    "start_time": "2023-05-27T12:56:49.636Z"
   },
   {
    "duration": 9,
    "start_time": "2023-05-27T12:56:57.055Z"
   },
   {
    "duration": 6,
    "start_time": "2023-05-27T13:00:44.669Z"
   },
   {
    "duration": 5,
    "start_time": "2023-05-27T13:01:18.321Z"
   },
   {
    "duration": 4,
    "start_time": "2023-05-27T13:01:22.362Z"
   },
   {
    "duration": 5,
    "start_time": "2023-05-27T13:01:29.064Z"
   },
   {
    "duration": 6,
    "start_time": "2023-05-27T13:01:51.259Z"
   },
   {
    "duration": 104,
    "start_time": "2023-05-27T13:01:51.268Z"
   },
   {
    "duration": 24,
    "start_time": "2023-05-27T13:01:51.375Z"
   },
   {
    "duration": 21,
    "start_time": "2023-05-27T13:01:51.401Z"
   },
   {
    "duration": 211,
    "start_time": "2023-05-27T13:01:51.424Z"
   },
   {
    "duration": 3,
    "start_time": "2023-05-27T13:01:51.638Z"
   },
   {
    "duration": 11,
    "start_time": "2023-05-27T13:01:51.643Z"
   },
   {
    "duration": 9,
    "start_time": "2023-05-27T13:01:51.656Z"
   },
   {
    "duration": 19,
    "start_time": "2023-05-27T13:01:51.667Z"
   },
   {
    "duration": 8,
    "start_time": "2023-05-27T13:01:51.688Z"
   },
   {
    "duration": 251,
    "start_time": "2023-05-27T13:01:51.698Z"
   },
   {
    "duration": 4,
    "start_time": "2023-05-27T13:01:51.951Z"
   },
   {
    "duration": 6,
    "start_time": "2023-05-27T13:01:53.659Z"
   },
   {
    "duration": 3,
    "start_time": "2023-05-27T13:01:54.094Z"
   },
   {
    "duration": 23,
    "start_time": "2023-05-27T13:01:54.500Z"
   },
   {
    "duration": 5,
    "start_time": "2023-05-27T13:02:32.310Z"
   },
   {
    "duration": 56,
    "start_time": "2023-05-27T13:02:32.316Z"
   },
   {
    "duration": 30,
    "start_time": "2023-05-27T13:02:32.375Z"
   },
   {
    "duration": 21,
    "start_time": "2023-05-27T13:02:32.408Z"
   },
   {
    "duration": 220,
    "start_time": "2023-05-27T13:02:32.431Z"
   },
   {
    "duration": 3,
    "start_time": "2023-05-27T13:02:32.653Z"
   },
   {
    "duration": 10,
    "start_time": "2023-05-27T13:02:32.657Z"
   },
   {
    "duration": 8,
    "start_time": "2023-05-27T13:02:32.669Z"
   },
   {
    "duration": 27,
    "start_time": "2023-05-27T13:02:32.678Z"
   },
   {
    "duration": 18,
    "start_time": "2023-05-27T13:02:32.707Z"
   },
   {
    "duration": 205,
    "start_time": "2023-05-27T13:02:32.728Z"
   },
   {
    "duration": 5,
    "start_time": "2023-05-27T13:02:32.935Z"
   },
   {
    "duration": 24,
    "start_time": "2023-05-27T13:02:32.941Z"
   },
   {
    "duration": 4,
    "start_time": "2023-05-27T13:02:32.967Z"
   },
   {
    "duration": 3,
    "start_time": "2023-05-27T13:02:34.275Z"
   },
   {
    "duration": 16,
    "start_time": "2023-05-27T13:02:34.843Z"
   },
   {
    "duration": 27,
    "start_time": "2023-05-27T13:03:03.747Z"
   },
   {
    "duration": 3,
    "start_time": "2023-05-27T13:04:07.660Z"
   },
   {
    "duration": 6,
    "start_time": "2023-05-27T13:04:18.602Z"
   },
   {
    "duration": 50,
    "start_time": "2023-05-27T13:04:18.612Z"
   },
   {
    "duration": 16,
    "start_time": "2023-05-27T13:04:18.664Z"
   },
   {
    "duration": 41,
    "start_time": "2023-05-27T13:04:18.682Z"
   },
   {
    "duration": 273,
    "start_time": "2023-05-27T13:04:18.726Z"
   },
   {
    "duration": 5,
    "start_time": "2023-05-27T13:04:19.000Z"
   },
   {
    "duration": 14,
    "start_time": "2023-05-27T13:04:19.006Z"
   },
   {
    "duration": 13,
    "start_time": "2023-05-27T13:04:19.023Z"
   },
   {
    "duration": 6,
    "start_time": "2023-05-27T13:04:19.038Z"
   },
   {
    "duration": 15,
    "start_time": "2023-05-27T13:04:19.046Z"
   },
   {
    "duration": 246,
    "start_time": "2023-05-27T13:04:19.063Z"
   },
   {
    "duration": 8,
    "start_time": "2023-05-27T13:04:19.312Z"
   },
   {
    "duration": 9,
    "start_time": "2023-05-27T13:04:19.325Z"
   },
   {
    "duration": 3,
    "start_time": "2023-05-27T13:04:19.337Z"
   },
   {
    "duration": 18,
    "start_time": "2023-05-27T13:04:19.342Z"
   },
   {
    "duration": 3,
    "start_time": "2023-05-27T13:04:19.362Z"
   },
   {
    "duration": 2,
    "start_time": "2023-05-27T13:04:20.802Z"
   },
   {
    "duration": 7,
    "start_time": "2023-05-27T13:04:21.339Z"
   },
   {
    "duration": 6,
    "start_time": "2023-05-27T13:04:22.199Z"
   },
   {
    "duration": 13,
    "start_time": "2023-05-27T13:04:27.614Z"
   },
   {
    "duration": 15,
    "start_time": "2023-05-27T13:04:40.054Z"
   },
   {
    "duration": 27,
    "start_time": "2023-05-27T13:04:45.502Z"
   },
   {
    "duration": 5,
    "start_time": "2023-05-27T13:04:51.244Z"
   },
   {
    "duration": 73,
    "start_time": "2023-05-27T13:04:51.251Z"
   },
   {
    "duration": 20,
    "start_time": "2023-05-27T13:04:51.327Z"
   },
   {
    "duration": 44,
    "start_time": "2023-05-27T13:04:51.349Z"
   },
   {
    "duration": 776,
    "start_time": "2023-05-27T13:04:51.396Z"
   },
   {
    "duration": 7,
    "start_time": "2023-05-27T13:04:52.175Z"
   },
   {
    "duration": 10,
    "start_time": "2023-05-27T13:04:52.184Z"
   },
   {
    "duration": 11,
    "start_time": "2023-05-27T13:04:52.197Z"
   },
   {
    "duration": 32,
    "start_time": "2023-05-27T13:04:52.210Z"
   },
   {
    "duration": 16,
    "start_time": "2023-05-27T13:04:52.244Z"
   },
   {
    "duration": 219,
    "start_time": "2023-05-27T13:04:52.270Z"
   },
   {
    "duration": 10,
    "start_time": "2023-05-27T13:04:52.496Z"
   },
   {
    "duration": 8,
    "start_time": "2023-05-27T13:04:52.516Z"
   },
   {
    "duration": 10,
    "start_time": "2023-05-27T13:04:52.531Z"
   },
   {
    "duration": 25,
    "start_time": "2023-05-27T13:04:52.547Z"
   },
   {
    "duration": 0,
    "start_time": "2023-05-27T13:04:52.574Z"
   },
   {
    "duration": 0,
    "start_time": "2023-05-27T13:04:52.575Z"
   },
   {
    "duration": 0,
    "start_time": "2023-05-27T13:04:52.575Z"
   },
   {
    "duration": 53,
    "start_time": "2023-05-27T13:06:16.109Z"
   },
   {
    "duration": 1800,
    "start_time": "2023-05-27T13:06:27.834Z"
   },
   {
    "duration": 49,
    "start_time": "2023-05-27T13:06:29.637Z"
   },
   {
    "duration": 28,
    "start_time": "2023-05-27T13:06:29.687Z"
   },
   {
    "duration": 20,
    "start_time": "2023-05-27T13:06:29.717Z"
   },
   {
    "duration": 217,
    "start_time": "2023-05-27T13:06:29.738Z"
   },
   {
    "duration": 4,
    "start_time": "2023-05-27T13:06:29.956Z"
   },
   {
    "duration": 7,
    "start_time": "2023-05-27T13:06:29.962Z"
   },
   {
    "duration": 8,
    "start_time": "2023-05-27T13:06:29.971Z"
   },
   {
    "duration": 13,
    "start_time": "2023-05-27T13:06:29.981Z"
   },
   {
    "duration": 5,
    "start_time": "2023-05-27T13:06:29.997Z"
   },
   {
    "duration": 244,
    "start_time": "2023-05-27T13:06:30.005Z"
   },
   {
    "duration": 5,
    "start_time": "2023-05-27T13:06:30.251Z"
   },
   {
    "duration": 21,
    "start_time": "2023-05-27T13:06:30.258Z"
   },
   {
    "duration": 12,
    "start_time": "2023-05-27T13:06:30.281Z"
   },
   {
    "duration": 110,
    "start_time": "2023-05-27T13:06:30.295Z"
   },
   {
    "duration": 13,
    "start_time": "2023-05-27T13:07:13.318Z"
   },
   {
    "duration": 6,
    "start_time": "2023-05-27T13:07:13.830Z"
   },
   {
    "duration": 6,
    "start_time": "2023-05-27T13:08:01.802Z"
   },
   {
    "duration": 74,
    "start_time": "2023-05-27T13:08:01.817Z"
   },
   {
    "duration": 24,
    "start_time": "2023-05-27T13:08:01.896Z"
   },
   {
    "duration": 21,
    "start_time": "2023-05-27T13:08:01.926Z"
   },
   {
    "duration": 201,
    "start_time": "2023-05-27T13:08:01.949Z"
   },
   {
    "duration": 2,
    "start_time": "2023-05-27T13:08:02.152Z"
   },
   {
    "duration": 7,
    "start_time": "2023-05-27T13:08:02.156Z"
   },
   {
    "duration": 16,
    "start_time": "2023-05-27T13:08:02.164Z"
   },
   {
    "duration": 12,
    "start_time": "2023-05-27T13:08:02.185Z"
   },
   {
    "duration": 26,
    "start_time": "2023-05-27T13:08:02.199Z"
   },
   {
    "duration": 210,
    "start_time": "2023-05-27T13:08:02.227Z"
   },
   {
    "duration": 9,
    "start_time": "2023-05-27T13:08:02.440Z"
   },
   {
    "duration": 10,
    "start_time": "2023-05-27T13:08:11.402Z"
   },
   {
    "duration": 5,
    "start_time": "2023-05-27T13:08:17.268Z"
   },
   {
    "duration": 32,
    "start_time": "2023-05-27T13:08:32.067Z"
   },
   {
    "duration": 6,
    "start_time": "2023-05-27T13:08:51.632Z"
   },
   {
    "duration": 79,
    "start_time": "2023-05-27T13:08:51.640Z"
   },
   {
    "duration": 21,
    "start_time": "2023-05-27T13:08:51.722Z"
   },
   {
    "duration": 12,
    "start_time": "2023-05-27T13:08:51.744Z"
   },
   {
    "duration": 343,
    "start_time": "2023-05-27T13:08:51.758Z"
   },
   {
    "duration": 2,
    "start_time": "2023-05-27T13:08:52.103Z"
   },
   {
    "duration": 6,
    "start_time": "2023-05-27T13:08:52.107Z"
   },
   {
    "duration": 7,
    "start_time": "2023-05-27T13:08:52.116Z"
   },
   {
    "duration": 14,
    "start_time": "2023-05-27T13:08:52.125Z"
   },
   {
    "duration": 5,
    "start_time": "2023-05-27T13:08:52.141Z"
   },
   {
    "duration": 214,
    "start_time": "2023-05-27T13:08:52.147Z"
   },
   {
    "duration": 5,
    "start_time": "2023-05-27T13:08:52.363Z"
   },
   {
    "duration": 22,
    "start_time": "2023-05-27T13:08:52.371Z"
   },
   {
    "duration": 13,
    "start_time": "2023-05-27T13:08:52.396Z"
   },
   {
    "duration": 9,
    "start_time": "2023-05-27T13:08:55.475Z"
   },
   {
    "duration": 22,
    "start_time": "2023-05-27T13:08:56.018Z"
   },
   {
    "duration": 5,
    "start_time": "2023-05-27T13:09:04.502Z"
   },
   {
    "duration": 55,
    "start_time": "2023-05-27T13:09:04.509Z"
   },
   {
    "duration": 21,
    "start_time": "2023-05-27T13:09:04.566Z"
   },
   {
    "duration": 20,
    "start_time": "2023-05-27T13:09:04.590Z"
   },
   {
    "duration": 180,
    "start_time": "2023-05-27T13:09:04.612Z"
   },
   {
    "duration": 3,
    "start_time": "2023-05-27T13:09:04.793Z"
   },
   {
    "duration": 19,
    "start_time": "2023-05-27T13:09:04.798Z"
   },
   {
    "duration": 5,
    "start_time": "2023-05-27T13:09:04.823Z"
   },
   {
    "duration": 14,
    "start_time": "2023-05-27T13:09:04.831Z"
   },
   {
    "duration": 7,
    "start_time": "2023-05-27T13:09:04.846Z"
   },
   {
    "duration": 219,
    "start_time": "2023-05-27T13:09:04.855Z"
   },
   {
    "duration": 9,
    "start_time": "2023-05-27T13:09:05.085Z"
   },
   {
    "duration": 12,
    "start_time": "2023-05-27T13:09:05.096Z"
   },
   {
    "duration": 6,
    "start_time": "2023-05-27T13:09:06.546Z"
   },
   {
    "duration": 13,
    "start_time": "2023-05-27T13:09:06.946Z"
   },
   {
    "duration": 6,
    "start_time": "2023-05-27T13:09:30.030Z"
   },
   {
    "duration": 109,
    "start_time": "2023-05-27T13:09:30.038Z"
   },
   {
    "duration": 13,
    "start_time": "2023-05-27T13:09:30.150Z"
   },
   {
    "duration": 33,
    "start_time": "2023-05-27T13:09:30.165Z"
   },
   {
    "duration": 206,
    "start_time": "2023-05-27T13:09:30.201Z"
   },
   {
    "duration": 3,
    "start_time": "2023-05-27T13:09:30.409Z"
   },
   {
    "duration": 5,
    "start_time": "2023-05-27T13:09:30.414Z"
   },
   {
    "duration": 29,
    "start_time": "2023-05-27T13:09:30.421Z"
   },
   {
    "duration": 45,
    "start_time": "2023-05-27T13:09:30.451Z"
   },
   {
    "duration": 30,
    "start_time": "2023-05-27T13:09:30.498Z"
   },
   {
    "duration": 230,
    "start_time": "2023-05-27T13:09:30.530Z"
   },
   {
    "duration": 4,
    "start_time": "2023-05-27T13:09:30.762Z"
   },
   {
    "duration": 16,
    "start_time": "2023-05-27T13:09:32.895Z"
   },
   {
    "duration": 12,
    "start_time": "2023-05-27T13:09:47.394Z"
   },
   {
    "duration": 25,
    "start_time": "2023-05-27T13:09:52.703Z"
   },
   {
    "duration": 12,
    "start_time": "2023-05-27T13:10:17.085Z"
   },
   {
    "duration": 36,
    "start_time": "2023-05-27T13:10:18.302Z"
   },
   {
    "duration": 8,
    "start_time": "2023-05-27T13:10:30.018Z"
   },
   {
    "duration": 114,
    "start_time": "2023-05-27T13:10:30.032Z"
   },
   {
    "duration": 17,
    "start_time": "2023-05-27T13:10:30.149Z"
   },
   {
    "duration": 33,
    "start_time": "2023-05-27T13:10:30.167Z"
   },
   {
    "duration": 226,
    "start_time": "2023-05-27T13:10:30.201Z"
   },
   {
    "duration": 4,
    "start_time": "2023-05-27T13:10:30.429Z"
   },
   {
    "duration": 17,
    "start_time": "2023-05-27T13:10:30.439Z"
   },
   {
    "duration": 25,
    "start_time": "2023-05-27T13:10:30.458Z"
   },
   {
    "duration": 30,
    "start_time": "2023-05-27T13:10:30.485Z"
   },
   {
    "duration": 49,
    "start_time": "2023-05-27T13:10:30.516Z"
   },
   {
    "duration": 234,
    "start_time": "2023-05-27T13:10:30.566Z"
   },
   {
    "duration": 10,
    "start_time": "2023-05-27T13:10:30.802Z"
   },
   {
    "duration": 49,
    "start_time": "2023-05-27T13:10:30.819Z"
   },
   {
    "duration": 61,
    "start_time": "2023-05-27T13:10:30.870Z"
   },
   {
    "duration": 12,
    "start_time": "2023-05-27T13:10:30.934Z"
   },
   {
    "duration": 56,
    "start_time": "2023-05-27T13:10:30.947Z"
   },
   {
    "duration": 41,
    "start_time": "2023-05-27T13:10:31.005Z"
   },
   {
    "duration": 49,
    "start_time": "2023-05-27T13:10:31.048Z"
   },
   {
    "duration": 37,
    "start_time": "2023-05-27T13:10:31.099Z"
   },
   {
    "duration": 7,
    "start_time": "2023-05-27T13:10:51.509Z"
   },
   {
    "duration": 42,
    "start_time": "2023-05-27T13:10:51.518Z"
   },
   {
    "duration": 21,
    "start_time": "2023-05-27T13:10:51.562Z"
   },
   {
    "duration": 35,
    "start_time": "2023-05-27T13:10:51.585Z"
   },
   {
    "duration": 194,
    "start_time": "2023-05-27T13:10:51.622Z"
   },
   {
    "duration": 4,
    "start_time": "2023-05-27T13:10:51.818Z"
   },
   {
    "duration": 5,
    "start_time": "2023-05-27T13:10:51.824Z"
   },
   {
    "duration": 5,
    "start_time": "2023-05-27T13:10:51.835Z"
   },
   {
    "duration": 8,
    "start_time": "2023-05-27T13:10:51.842Z"
   },
   {
    "duration": 5,
    "start_time": "2023-05-27T13:10:51.852Z"
   },
   {
    "duration": 204,
    "start_time": "2023-05-27T13:10:51.859Z"
   },
   {
    "duration": 20,
    "start_time": "2023-05-27T13:10:52.065Z"
   },
   {
    "duration": 11,
    "start_time": "2023-05-27T13:10:52.091Z"
   },
   {
    "duration": 22,
    "start_time": "2023-05-27T13:10:52.106Z"
   },
   {
    "duration": 7,
    "start_time": "2023-05-27T13:10:52.130Z"
   },
   {
    "duration": 19,
    "start_time": "2023-05-27T13:10:52.139Z"
   },
   {
    "duration": 3,
    "start_time": "2023-05-27T13:10:52.160Z"
   },
   {
    "duration": 50,
    "start_time": "2023-05-27T13:10:52.165Z"
   },
   {
    "duration": 24,
    "start_time": "2023-05-27T13:10:52.217Z"
   },
   {
    "duration": 4,
    "start_time": "2023-05-27T13:10:52.243Z"
   },
   {
    "duration": 12,
    "start_time": "2023-05-27T13:10:52.249Z"
   },
   {
    "duration": 5,
    "start_time": "2023-05-27T13:10:52.263Z"
   },
   {
    "duration": 15,
    "start_time": "2023-05-27T13:10:52.278Z"
   },
   {
    "duration": 5,
    "start_time": "2023-05-27T13:10:52.294Z"
   },
   {
    "duration": 5,
    "start_time": "2023-05-27T13:10:52.301Z"
   },
   {
    "duration": 821,
    "start_time": "2023-05-27T13:10:52.308Z"
   },
   {
    "duration": 3,
    "start_time": "2023-05-27T13:10:53.131Z"
   },
   {
    "duration": 26,
    "start_time": "2023-05-27T13:10:53.136Z"
   },
   {
    "duration": 957,
    "start_time": "2023-05-27T13:10:53.163Z"
   },
   {
    "duration": 9,
    "start_time": "2023-05-27T13:10:54.123Z"
   },
   {
    "duration": 10,
    "start_time": "2023-05-27T13:10:54.134Z"
   },
   {
    "duration": 6,
    "start_time": "2023-05-27T13:10:54.146Z"
   },
   {
    "duration": 158,
    "start_time": "2023-05-27T13:10:54.154Z"
   },
   {
    "duration": 88,
    "start_time": "2023-05-27T13:10:54.317Z"
   },
   {
    "duration": 236,
    "start_time": "2023-05-27T13:10:54.415Z"
   },
   {
    "duration": 420,
    "start_time": "2023-05-27T13:10:54.652Z"
   },
   {
    "duration": 50,
    "start_time": "2023-05-27T13:10:55.074Z"
   },
   {
    "duration": 9,
    "start_time": "2023-05-27T13:10:55.125Z"
   },
   {
    "duration": 156,
    "start_time": "2023-05-27T13:10:55.136Z"
   },
   {
    "duration": 5784,
    "start_time": "2023-05-27T13:10:55.300Z"
   },
   {
    "duration": 91,
    "start_time": "2023-05-27T13:11:01.090Z"
   },
   {
    "duration": 26,
    "start_time": "2023-05-27T13:11:01.183Z"
   },
   {
    "duration": 197,
    "start_time": "2023-05-27T13:11:01.215Z"
   },
   {
    "duration": 31,
    "start_time": "2023-05-27T13:11:01.414Z"
   },
   {
    "duration": 124,
    "start_time": "2023-05-27T13:11:01.480Z"
   },
   {
    "duration": 260,
    "start_time": "2023-05-27T13:11:01.607Z"
   },
   {
    "duration": 20,
    "start_time": "2023-05-27T13:11:01.869Z"
   },
   {
    "duration": 10,
    "start_time": "2023-05-27T13:11:01.890Z"
   },
   {
    "duration": 13,
    "start_time": "2023-05-27T13:11:01.902Z"
   },
   {
    "duration": 75,
    "start_time": "2023-05-27T13:11:01.916Z"
   },
   {
    "duration": 83,
    "start_time": "2023-05-27T13:11:01.992Z"
   },
   {
    "duration": 233,
    "start_time": "2023-05-27T13:11:02.078Z"
   },
   {
    "duration": 5,
    "start_time": "2023-05-27T13:11:02.313Z"
   },
   {
    "duration": 13,
    "start_time": "2023-05-27T13:11:02.321Z"
   },
   {
    "duration": 7,
    "start_time": "2023-05-27T13:11:02.335Z"
   },
   {
    "duration": 45,
    "start_time": "2023-05-27T13:11:02.343Z"
   },
   {
    "duration": 15,
    "start_time": "2023-05-27T13:11:02.390Z"
   },
   {
    "duration": 310,
    "start_time": "2023-05-27T13:11:02.407Z"
   },
   {
    "duration": 226,
    "start_time": "2023-05-27T13:11:02.721Z"
   },
   {
    "duration": 6,
    "start_time": "2023-05-27T13:11:02.949Z"
   },
   {
    "duration": 158,
    "start_time": "2023-05-27T13:11:02.956Z"
   },
   {
    "duration": 455,
    "start_time": "2023-05-27T13:11:03.116Z"
   },
   {
    "duration": 33,
    "start_time": "2023-05-27T13:11:03.572Z"
   },
   {
    "duration": 11,
    "start_time": "2023-05-27T13:11:03.606Z"
   },
   {
    "duration": 135,
    "start_time": "2023-05-27T13:11:03.618Z"
   },
   {
    "duration": 569,
    "start_time": "2023-05-27T13:11:03.755Z"
   },
   {
    "duration": 43,
    "start_time": "2023-05-27T13:11:04.326Z"
   },
   {
    "duration": 19,
    "start_time": "2023-05-27T13:11:04.374Z"
   },
   {
    "duration": 160,
    "start_time": "2023-05-27T13:11:04.395Z"
   },
   {
    "duration": 230,
    "start_time": "2023-05-27T13:11:04.557Z"
   },
   {
    "duration": 21,
    "start_time": "2023-05-27T13:11:04.794Z"
   },
   {
    "duration": 10,
    "start_time": "2023-05-27T13:11:04.821Z"
   },
   {
    "duration": 159,
    "start_time": "2023-05-27T13:11:04.833Z"
   },
   {
    "duration": 5683,
    "start_time": "2023-05-27T13:11:04.998Z"
   },
   {
    "duration": 78,
    "start_time": "2023-05-27T13:11:10.682Z"
   },
   {
    "duration": 30,
    "start_time": "2023-05-27T13:11:10.761Z"
   },
   {
    "duration": 134,
    "start_time": "2023-05-27T13:11:10.799Z"
   },
   {
    "duration": 7365,
    "start_time": "2023-05-27T13:11:10.935Z"
   },
   {
    "duration": 108,
    "start_time": "2023-05-27T13:11:18.308Z"
   },
   {
    "duration": 13,
    "start_time": "2023-05-27T13:11:18.418Z"
   },
   {
    "duration": 139,
    "start_time": "2023-05-27T13:11:18.433Z"
   },
   {
    "duration": 3586,
    "start_time": "2023-05-27T13:11:18.575Z"
   },
   {
    "duration": 51,
    "start_time": "2023-05-27T13:11:22.162Z"
   },
   {
    "duration": 14,
    "start_time": "2023-05-27T13:11:22.230Z"
   },
   {
    "duration": 125,
    "start_time": "2023-05-27T13:11:22.245Z"
   },
   {
    "duration": 89,
    "start_time": "2023-05-27T13:11:22.372Z"
   },
   {
    "duration": 29,
    "start_time": "2023-05-27T13:11:22.463Z"
   },
   {
    "duration": 136,
    "start_time": "2023-05-27T13:11:22.494Z"
   },
   {
    "duration": 11,
    "start_time": "2023-05-27T13:16:56.504Z"
   },
   {
    "duration": 39,
    "start_time": "2023-05-27T13:16:56.521Z"
   },
   {
    "duration": 15,
    "start_time": "2023-05-27T13:16:56.562Z"
   },
   {
    "duration": 41,
    "start_time": "2023-05-27T13:16:56.585Z"
   },
   {
    "duration": 159,
    "start_time": "2023-05-27T13:16:56.631Z"
   },
   {
    "duration": 3,
    "start_time": "2023-05-27T13:16:56.791Z"
   },
   {
    "duration": 8,
    "start_time": "2023-05-27T13:16:56.796Z"
   },
   {
    "duration": 5,
    "start_time": "2023-05-27T13:16:56.806Z"
   },
   {
    "duration": 11,
    "start_time": "2023-05-27T13:16:56.816Z"
   },
   {
    "duration": 4,
    "start_time": "2023-05-27T13:16:56.829Z"
   },
   {
    "duration": 191,
    "start_time": "2023-05-27T13:16:56.834Z"
   },
   {
    "duration": 7,
    "start_time": "2023-05-27T13:16:57.028Z"
   },
   {
    "duration": 4,
    "start_time": "2023-05-27T13:16:57.037Z"
   },
   {
    "duration": 5,
    "start_time": "2023-05-27T13:16:57.043Z"
   },
   {
    "duration": 4,
    "start_time": "2023-05-27T13:16:57.050Z"
   },
   {
    "duration": 6,
    "start_time": "2023-05-27T13:16:57.055Z"
   },
   {
    "duration": 4,
    "start_time": "2023-05-27T13:16:57.062Z"
   },
   {
    "duration": 11,
    "start_time": "2023-05-27T13:16:57.067Z"
   },
   {
    "duration": 10,
    "start_time": "2023-05-27T13:16:57.079Z"
   },
   {
    "duration": 10,
    "start_time": "2023-05-27T13:16:57.095Z"
   },
   {
    "duration": 4,
    "start_time": "2023-05-27T13:16:57.107Z"
   },
   {
    "duration": 5,
    "start_time": "2023-05-27T13:16:57.113Z"
   },
   {
    "duration": 3,
    "start_time": "2023-05-27T13:16:57.122Z"
   },
   {
    "duration": 4,
    "start_time": "2023-05-27T13:16:57.126Z"
   },
   {
    "duration": 16,
    "start_time": "2023-05-27T13:16:57.131Z"
   },
   {
    "duration": 1792,
    "start_time": "2023-05-27T13:18:13.517Z"
   },
   {
    "duration": 40,
    "start_time": "2023-05-27T13:18:15.314Z"
   },
   {
    "duration": 16,
    "start_time": "2023-05-27T13:18:15.356Z"
   },
   {
    "duration": 18,
    "start_time": "2023-05-27T13:18:15.374Z"
   },
   {
    "duration": 196,
    "start_time": "2023-05-27T13:18:15.395Z"
   },
   {
    "duration": 3,
    "start_time": "2023-05-27T13:18:15.597Z"
   },
   {
    "duration": 5,
    "start_time": "2023-05-27T13:18:15.603Z"
   },
   {
    "duration": 16,
    "start_time": "2023-05-27T13:18:15.614Z"
   },
   {
    "duration": 6,
    "start_time": "2023-05-27T13:18:15.632Z"
   },
   {
    "duration": 6,
    "start_time": "2023-05-27T13:18:15.642Z"
   },
   {
    "duration": 194,
    "start_time": "2023-05-27T13:18:15.651Z"
   },
   {
    "duration": 5,
    "start_time": "2023-05-27T13:18:15.847Z"
   },
   {
    "duration": 4,
    "start_time": "2023-05-27T13:18:15.854Z"
   },
   {
    "duration": 26,
    "start_time": "2023-05-27T13:18:15.860Z"
   },
   {
    "duration": 13,
    "start_time": "2023-05-27T13:18:15.895Z"
   },
   {
    "duration": 8,
    "start_time": "2023-05-27T13:18:15.911Z"
   },
   {
    "duration": 5,
    "start_time": "2023-05-27T13:18:15.921Z"
   },
   {
    "duration": 8,
    "start_time": "2023-05-27T13:18:15.928Z"
   },
   {
    "duration": 153,
    "start_time": "2023-05-27T13:18:15.938Z"
   },
   {
    "duration": 0,
    "start_time": "2023-05-27T13:18:16.093Z"
   },
   {
    "duration": 0,
    "start_time": "2023-05-27T13:18:16.094Z"
   },
   {
    "duration": 0,
    "start_time": "2023-05-27T13:18:16.095Z"
   },
   {
    "duration": 0,
    "start_time": "2023-05-27T13:18:16.096Z"
   },
   {
    "duration": 0,
    "start_time": "2023-05-27T13:18:16.096Z"
   },
   {
    "duration": 3,
    "start_time": "2023-05-27T13:18:18.928Z"
   },
   {
    "duration": 17,
    "start_time": "2023-05-27T13:18:19.896Z"
   },
   {
    "duration": 6,
    "start_time": "2023-05-27T13:18:47.196Z"
   },
   {
    "duration": 60,
    "start_time": "2023-05-27T13:18:47.205Z"
   },
   {
    "duration": 20,
    "start_time": "2023-05-27T13:18:47.266Z"
   },
   {
    "duration": 20,
    "start_time": "2023-05-27T13:18:47.293Z"
   },
   {
    "duration": 175,
    "start_time": "2023-05-27T13:18:47.314Z"
   },
   {
    "duration": 4,
    "start_time": "2023-05-27T13:18:47.491Z"
   },
   {
    "duration": 17,
    "start_time": "2023-05-27T13:18:47.497Z"
   },
   {
    "duration": 14,
    "start_time": "2023-05-27T13:18:47.520Z"
   },
   {
    "duration": 7,
    "start_time": "2023-05-27T13:18:47.537Z"
   },
   {
    "duration": 7,
    "start_time": "2023-05-27T13:18:47.546Z"
   },
   {
    "duration": 193,
    "start_time": "2023-05-27T13:18:47.555Z"
   },
   {
    "duration": 5,
    "start_time": "2023-05-27T13:18:47.750Z"
   },
   {
    "duration": 7,
    "start_time": "2023-05-27T13:18:47.757Z"
   },
   {
    "duration": 29,
    "start_time": "2023-05-27T13:18:47.766Z"
   },
   {
    "duration": 5,
    "start_time": "2023-05-27T13:18:47.798Z"
   },
   {
    "duration": 10,
    "start_time": "2023-05-27T13:18:47.807Z"
   },
   {
    "duration": 9,
    "start_time": "2023-05-27T13:18:47.821Z"
   },
   {
    "duration": 6,
    "start_time": "2023-05-27T13:18:47.835Z"
   },
   {
    "duration": 13,
    "start_time": "2023-05-27T13:18:47.842Z"
   },
   {
    "duration": 15,
    "start_time": "2023-05-27T13:18:47.857Z"
   },
   {
    "duration": 7,
    "start_time": "2023-05-27T13:18:47.875Z"
   },
   {
    "duration": 22,
    "start_time": "2023-05-27T13:18:47.884Z"
   },
   {
    "duration": 27,
    "start_time": "2023-05-27T13:18:47.907Z"
   },
   {
    "duration": 29,
    "start_time": "2023-05-27T13:18:47.938Z"
   },
   {
    "duration": 166,
    "start_time": "2023-05-27T13:18:47.969Z"
   },
   {
    "duration": 18,
    "start_time": "2023-05-27T13:18:50.307Z"
   },
   {
    "duration": 1917,
    "start_time": "2023-05-27T13:19:29.699Z"
   },
   {
    "duration": 48,
    "start_time": "2023-05-27T13:19:31.618Z"
   },
   {
    "duration": 47,
    "start_time": "2023-05-27T13:19:31.670Z"
   },
   {
    "duration": 17,
    "start_time": "2023-05-27T13:19:31.719Z"
   },
   {
    "duration": 263,
    "start_time": "2023-05-27T13:19:31.740Z"
   },
   {
    "duration": 4,
    "start_time": "2023-05-27T13:19:32.012Z"
   },
   {
    "duration": 11,
    "start_time": "2023-05-27T13:19:32.022Z"
   },
   {
    "duration": 9,
    "start_time": "2023-05-27T13:19:32.041Z"
   },
   {
    "duration": 7,
    "start_time": "2023-05-27T13:19:32.052Z"
   },
   {
    "duration": 8,
    "start_time": "2023-05-27T13:19:32.063Z"
   },
   {
    "duration": 228,
    "start_time": "2023-05-27T13:19:32.072Z"
   },
   {
    "duration": 5,
    "start_time": "2023-05-27T13:19:32.307Z"
   },
   {
    "duration": 5,
    "start_time": "2023-05-27T13:19:32.314Z"
   },
   {
    "duration": 6,
    "start_time": "2023-05-27T13:19:32.320Z"
   },
   {
    "duration": 4,
    "start_time": "2023-05-27T13:19:32.328Z"
   },
   {
    "duration": 3,
    "start_time": "2023-05-27T13:19:32.334Z"
   },
   {
    "duration": 4,
    "start_time": "2023-05-27T13:19:32.338Z"
   },
   {
    "duration": 4,
    "start_time": "2023-05-27T13:19:32.343Z"
   },
   {
    "duration": 9,
    "start_time": "2023-05-27T13:19:32.349Z"
   },
   {
    "duration": 30,
    "start_time": "2023-05-27T13:19:32.360Z"
   },
   {
    "duration": 19,
    "start_time": "2023-05-27T13:19:32.392Z"
   },
   {
    "duration": 5,
    "start_time": "2023-05-27T13:19:32.412Z"
   },
   {
    "duration": 5,
    "start_time": "2023-05-27T13:19:32.419Z"
   },
   {
    "duration": 6,
    "start_time": "2023-05-27T13:19:32.426Z"
   },
   {
    "duration": 46,
    "start_time": "2023-05-27T13:19:32.434Z"
   },
   {
    "duration": 140,
    "start_time": "2023-05-27T13:19:35.706Z"
   },
   {
    "duration": 12,
    "start_time": "2023-05-27T13:22:46.747Z"
   },
   {
    "duration": 8,
    "start_time": "2023-05-27T13:22:52.303Z"
   },
   {
    "duration": 45,
    "start_time": "2023-05-27T13:22:52.314Z"
   },
   {
    "duration": 12,
    "start_time": "2023-05-27T13:22:52.361Z"
   },
   {
    "duration": 33,
    "start_time": "2023-05-27T13:22:52.375Z"
   },
   {
    "duration": 171,
    "start_time": "2023-05-27T13:22:52.410Z"
   },
   {
    "duration": 3,
    "start_time": "2023-05-27T13:22:52.583Z"
   },
   {
    "duration": 7,
    "start_time": "2023-05-27T13:22:52.588Z"
   },
   {
    "duration": 9,
    "start_time": "2023-05-27T13:22:52.596Z"
   },
   {
    "duration": 8,
    "start_time": "2023-05-27T13:22:52.607Z"
   },
   {
    "duration": 15,
    "start_time": "2023-05-27T13:22:52.617Z"
   },
   {
    "duration": 190,
    "start_time": "2023-05-27T13:22:52.633Z"
   },
   {
    "duration": 5,
    "start_time": "2023-05-27T13:22:52.825Z"
   },
   {
    "duration": 7,
    "start_time": "2023-05-27T13:22:52.831Z"
   },
   {
    "duration": 6,
    "start_time": "2023-05-27T13:22:52.840Z"
   },
   {
    "duration": 4,
    "start_time": "2023-05-27T13:22:52.847Z"
   },
   {
    "duration": 4,
    "start_time": "2023-05-27T13:22:52.852Z"
   },
   {
    "duration": 3,
    "start_time": "2023-05-27T13:22:52.858Z"
   },
   {
    "duration": 19,
    "start_time": "2023-05-27T13:22:52.863Z"
   },
   {
    "duration": 10,
    "start_time": "2023-05-27T13:22:52.896Z"
   },
   {
    "duration": 20,
    "start_time": "2023-05-27T13:22:52.908Z"
   },
   {
    "duration": 8,
    "start_time": "2023-05-27T13:22:52.929Z"
   },
   {
    "duration": 17,
    "start_time": "2023-05-27T13:22:52.938Z"
   },
   {
    "duration": 16,
    "start_time": "2023-05-27T13:22:52.956Z"
   },
   {
    "duration": 17,
    "start_time": "2023-05-27T13:22:52.975Z"
   },
   {
    "duration": 5,
    "start_time": "2023-05-27T13:22:54.821Z"
   },
   {
    "duration": 18,
    "start_time": "2023-05-27T13:22:55.209Z"
   },
   {
    "duration": 56,
    "start_time": "2023-05-27T13:23:07.159Z"
   },
   {
    "duration": 8,
    "start_time": "2023-05-27T13:23:19.395Z"
   },
   {
    "duration": 53,
    "start_time": "2023-05-27T13:23:19.408Z"
   },
   {
    "duration": 21,
    "start_time": "2023-05-27T13:23:19.463Z"
   },
   {
    "duration": 98,
    "start_time": "2023-05-27T13:23:19.488Z"
   },
   {
    "duration": 165,
    "start_time": "2023-05-27T13:23:19.592Z"
   },
   {
    "duration": 2,
    "start_time": "2023-05-27T13:23:19.759Z"
   },
   {
    "duration": 21,
    "start_time": "2023-05-27T13:23:19.763Z"
   },
   {
    "duration": 9,
    "start_time": "2023-05-27T13:23:19.790Z"
   },
   {
    "duration": 21,
    "start_time": "2023-05-27T13:23:19.802Z"
   },
   {
    "duration": 5,
    "start_time": "2023-05-27T13:23:19.825Z"
   },
   {
    "duration": 167,
    "start_time": "2023-05-27T13:23:19.832Z"
   },
   {
    "duration": 4,
    "start_time": "2023-05-27T13:23:20.001Z"
   },
   {
    "duration": 13,
    "start_time": "2023-05-27T13:23:20.006Z"
   },
   {
    "duration": 9,
    "start_time": "2023-05-27T13:23:20.020Z"
   },
   {
    "duration": 7,
    "start_time": "2023-05-27T13:23:20.031Z"
   },
   {
    "duration": 5,
    "start_time": "2023-05-27T13:23:20.040Z"
   },
   {
    "duration": 14,
    "start_time": "2023-05-27T13:23:20.046Z"
   },
   {
    "duration": 7,
    "start_time": "2023-05-27T13:23:20.062Z"
   },
   {
    "duration": 23,
    "start_time": "2023-05-27T13:23:20.071Z"
   },
   {
    "duration": 11,
    "start_time": "2023-05-27T13:23:20.109Z"
   },
   {
    "duration": 4,
    "start_time": "2023-05-27T13:23:20.122Z"
   },
   {
    "duration": 7,
    "start_time": "2023-05-27T13:23:20.130Z"
   },
   {
    "duration": 3,
    "start_time": "2023-05-27T13:23:20.138Z"
   },
   {
    "duration": 5,
    "start_time": "2023-05-27T13:23:20.143Z"
   },
   {
    "duration": 11,
    "start_time": "2023-05-27T13:23:20.150Z"
   },
   {
    "duration": 19,
    "start_time": "2023-05-27T13:23:21.967Z"
   },
   {
    "duration": 33,
    "start_time": "2023-05-27T13:23:22.426Z"
   },
   {
    "duration": 9,
    "start_time": "2023-05-28T10:17:00.115Z"
   },
   {
    "duration": 94,
    "start_time": "2023-05-28T10:17:00.157Z"
   },
   {
    "duration": 22,
    "start_time": "2023-05-28T10:17:00.253Z"
   },
   {
    "duration": 29,
    "start_time": "2023-05-28T10:17:00.283Z"
   },
   {
    "duration": 246,
    "start_time": "2023-05-28T10:17:00.319Z"
   },
   {
    "duration": 2,
    "start_time": "2023-05-28T10:17:00.568Z"
   },
   {
    "duration": 49,
    "start_time": "2023-05-28T10:17:00.574Z"
   },
   {
    "duration": 32,
    "start_time": "2023-05-28T10:17:00.629Z"
   },
   {
    "duration": 57,
    "start_time": "2023-05-28T10:17:00.663Z"
   },
   {
    "duration": 67,
    "start_time": "2023-05-28T10:17:00.724Z"
   },
   {
    "duration": 298,
    "start_time": "2023-05-28T10:17:00.793Z"
   },
   {
    "duration": 8,
    "start_time": "2023-05-28T10:17:01.093Z"
   },
   {
    "duration": 72,
    "start_time": "2023-05-28T10:17:01.103Z"
   },
   {
    "duration": 79,
    "start_time": "2023-05-28T10:17:01.177Z"
   },
   {
    "duration": 66,
    "start_time": "2023-05-28T10:17:01.258Z"
   },
   {
    "duration": 55,
    "start_time": "2023-05-28T10:17:01.333Z"
   },
   {
    "duration": 100,
    "start_time": "2023-05-28T10:17:01.390Z"
   },
   {
    "duration": 47,
    "start_time": "2023-05-28T10:17:01.492Z"
   },
   {
    "duration": 3,
    "start_time": "2023-05-28T10:17:02.729Z"
   },
   {
    "duration": 50,
    "start_time": "2023-05-28T10:17:03.699Z"
   },
   {
    "duration": 26,
    "start_time": "2023-05-28T10:17:59.104Z"
   },
   {
    "duration": 5,
    "start_time": "2023-05-28T10:18:03.146Z"
   },
   {
    "duration": 80,
    "start_time": "2023-05-28T10:18:03.153Z"
   },
   {
    "duration": 22,
    "start_time": "2023-05-28T10:18:03.235Z"
   },
   {
    "duration": 15,
    "start_time": "2023-05-28T10:18:03.259Z"
   },
   {
    "duration": 220,
    "start_time": "2023-05-28T10:18:03.279Z"
   },
   {
    "duration": 3,
    "start_time": "2023-05-28T10:18:03.501Z"
   },
   {
    "duration": 34,
    "start_time": "2023-05-28T10:18:03.506Z"
   },
   {
    "duration": 7,
    "start_time": "2023-05-28T10:18:03.543Z"
   },
   {
    "duration": 6,
    "start_time": "2023-05-28T10:18:03.552Z"
   },
   {
    "duration": 8,
    "start_time": "2023-05-28T10:18:03.560Z"
   },
   {
    "duration": 313,
    "start_time": "2023-05-28T10:18:03.572Z"
   },
   {
    "duration": 5,
    "start_time": "2023-05-28T10:18:03.888Z"
   },
   {
    "duration": 15,
    "start_time": "2023-05-28T10:18:03.895Z"
   },
   {
    "duration": 11,
    "start_time": "2023-05-28T10:18:03.912Z"
   },
   {
    "duration": 19,
    "start_time": "2023-05-28T10:18:03.927Z"
   },
   {
    "duration": 27,
    "start_time": "2023-05-28T10:18:03.948Z"
   },
   {
    "duration": 8,
    "start_time": "2023-05-28T10:18:03.983Z"
   },
   {
    "duration": 6,
    "start_time": "2023-05-28T10:18:03.995Z"
   },
   {
    "duration": 31,
    "start_time": "2023-05-28T10:18:04.006Z"
   },
   {
    "duration": 45,
    "start_time": "2023-05-28T10:18:05.318Z"
   },
   {
    "duration": 5,
    "start_time": "2023-05-28T10:18:32.302Z"
   },
   {
    "duration": 57,
    "start_time": "2023-05-28T10:18:32.310Z"
   },
   {
    "duration": 23,
    "start_time": "2023-05-28T10:18:32.369Z"
   },
   {
    "duration": 23,
    "start_time": "2023-05-28T10:18:32.394Z"
   },
   {
    "duration": 256,
    "start_time": "2023-05-28T10:18:32.420Z"
   },
   {
    "duration": 2,
    "start_time": "2023-05-28T10:18:32.679Z"
   },
   {
    "duration": 6,
    "start_time": "2023-05-28T10:18:32.683Z"
   },
   {
    "duration": 9,
    "start_time": "2023-05-28T10:18:32.691Z"
   },
   {
    "duration": 6,
    "start_time": "2023-05-28T10:18:32.702Z"
   },
   {
    "duration": 5,
    "start_time": "2023-05-28T10:18:32.710Z"
   },
   {
    "duration": 254,
    "start_time": "2023-05-28T10:18:32.717Z"
   },
   {
    "duration": 6,
    "start_time": "2023-05-28T10:18:32.973Z"
   },
   {
    "duration": 4,
    "start_time": "2023-05-28T10:18:32.982Z"
   },
   {
    "duration": 3,
    "start_time": "2023-05-28T10:18:32.988Z"
   },
   {
    "duration": 5,
    "start_time": "2023-05-28T10:18:32.993Z"
   },
   {
    "duration": 3,
    "start_time": "2023-05-28T10:18:33.000Z"
   },
   {
    "duration": 3,
    "start_time": "2023-05-28T10:18:33.005Z"
   },
   {
    "duration": 3,
    "start_time": "2023-05-28T10:18:33.010Z"
   },
   {
    "duration": 5,
    "start_time": "2023-05-28T10:18:35.307Z"
   },
   {
    "duration": 43,
    "start_time": "2023-05-28T10:18:35.701Z"
   },
   {
    "duration": 45,
    "start_time": "2023-05-28T10:18:41.900Z"
   },
   {
    "duration": 38,
    "start_time": "2023-05-28T10:18:47.655Z"
   },
   {
    "duration": 31,
    "start_time": "2023-05-28T10:18:51.456Z"
   },
   {
    "duration": 6,
    "start_time": "2023-05-28T10:19:35.829Z"
   },
   {
    "duration": 51,
    "start_time": "2023-05-28T10:19:35.841Z"
   },
   {
    "duration": 29,
    "start_time": "2023-05-28T10:19:35.895Z"
   },
   {
    "duration": 31,
    "start_time": "2023-05-28T10:19:35.926Z"
   },
   {
    "duration": 271,
    "start_time": "2023-05-28T10:19:35.960Z"
   },
   {
    "duration": 2,
    "start_time": "2023-05-28T10:19:36.233Z"
   },
   {
    "duration": 6,
    "start_time": "2023-05-28T10:19:36.237Z"
   },
   {
    "duration": 6,
    "start_time": "2023-05-28T10:19:36.245Z"
   },
   {
    "duration": 5,
    "start_time": "2023-05-28T10:19:36.254Z"
   },
   {
    "duration": 15,
    "start_time": "2023-05-28T10:19:36.261Z"
   },
   {
    "duration": 256,
    "start_time": "2023-05-28T10:19:36.280Z"
   },
   {
    "duration": 5,
    "start_time": "2023-05-28T10:19:36.538Z"
   },
   {
    "duration": 14,
    "start_time": "2023-05-28T10:19:36.545Z"
   },
   {
    "duration": 5,
    "start_time": "2023-05-28T10:19:36.562Z"
   },
   {
    "duration": 4,
    "start_time": "2023-05-28T10:19:36.569Z"
   },
   {
    "duration": 13,
    "start_time": "2023-05-28T10:19:36.576Z"
   },
   {
    "duration": 12,
    "start_time": "2023-05-28T10:19:36.591Z"
   },
   {
    "duration": 50,
    "start_time": "2023-05-28T10:19:36.609Z"
   },
   {
    "duration": 15,
    "start_time": "2023-05-28T10:19:36.661Z"
   },
   {
    "duration": 7,
    "start_time": "2023-05-28T10:19:51.446Z"
   },
   {
    "duration": 88,
    "start_time": "2023-05-28T10:19:51.456Z"
   },
   {
    "duration": 32,
    "start_time": "2023-05-28T10:19:51.546Z"
   },
   {
    "duration": 40,
    "start_time": "2023-05-28T10:19:51.580Z"
   },
   {
    "duration": 446,
    "start_time": "2023-05-28T10:19:51.623Z"
   },
   {
    "duration": 11,
    "start_time": "2023-05-28T10:19:52.074Z"
   },
   {
    "duration": 9,
    "start_time": "2023-05-28T10:19:52.089Z"
   },
   {
    "duration": 11,
    "start_time": "2023-05-28T10:19:52.107Z"
   },
   {
    "duration": 12,
    "start_time": "2023-05-28T10:19:52.121Z"
   },
   {
    "duration": 14,
    "start_time": "2023-05-28T10:19:52.136Z"
   },
   {
    "duration": 274,
    "start_time": "2023-05-28T10:19:52.153Z"
   },
   {
    "duration": 7,
    "start_time": "2023-05-28T10:19:52.435Z"
   },
   {
    "duration": 7,
    "start_time": "2023-05-28T10:19:52.449Z"
   },
   {
    "duration": 4,
    "start_time": "2023-05-28T10:19:52.464Z"
   },
   {
    "duration": 5,
    "start_time": "2023-05-28T10:19:52.476Z"
   },
   {
    "duration": 5,
    "start_time": "2023-05-28T10:19:52.487Z"
   },
   {
    "duration": 34,
    "start_time": "2023-05-28T10:19:52.499Z"
   },
   {
    "duration": 23,
    "start_time": "2023-05-28T10:19:52.540Z"
   },
   {
    "duration": 0,
    "start_time": "2023-05-28T10:19:52.569Z"
   },
   {
    "duration": 7,
    "start_time": "2023-05-28T10:20:05.402Z"
   },
   {
    "duration": 158,
    "start_time": "2023-05-28T10:20:05.412Z"
   },
   {
    "duration": 31,
    "start_time": "2023-05-28T10:20:05.574Z"
   },
   {
    "duration": 29,
    "start_time": "2023-05-28T10:20:05.614Z"
   },
   {
    "duration": 277,
    "start_time": "2023-05-28T10:20:05.662Z"
   },
   {
    "duration": 4,
    "start_time": "2023-05-28T10:20:05.946Z"
   },
   {
    "duration": 17,
    "start_time": "2023-05-28T10:20:05.955Z"
   },
   {
    "duration": 30,
    "start_time": "2023-05-28T10:20:05.974Z"
   },
   {
    "duration": 18,
    "start_time": "2023-05-28T10:20:06.007Z"
   },
   {
    "duration": 14,
    "start_time": "2023-05-28T10:20:06.027Z"
   },
   {
    "duration": 278,
    "start_time": "2023-05-28T10:20:06.043Z"
   },
   {
    "duration": 5,
    "start_time": "2023-05-28T10:20:06.324Z"
   },
   {
    "duration": 15,
    "start_time": "2023-05-28T10:20:06.331Z"
   },
   {
    "duration": 3,
    "start_time": "2023-05-28T10:20:06.350Z"
   },
   {
    "duration": 32,
    "start_time": "2023-05-28T10:20:06.355Z"
   },
   {
    "duration": 25,
    "start_time": "2023-05-28T10:20:06.391Z"
   },
   {
    "duration": 41,
    "start_time": "2023-05-28T10:20:06.419Z"
   },
   {
    "duration": 31,
    "start_time": "2023-05-28T10:20:14.360Z"
   },
   {
    "duration": 37,
    "start_time": "2023-05-28T10:20:14.924Z"
   },
   {
    "duration": 51,
    "start_time": "2023-05-28T10:20:15.494Z"
   },
   {
    "duration": 15,
    "start_time": "2023-05-28T10:24:08.906Z"
   },
   {
    "duration": 97,
    "start_time": "2023-05-28T10:24:08.936Z"
   },
   {
    "duration": 38,
    "start_time": "2023-05-28T10:24:09.037Z"
   },
   {
    "duration": 39,
    "start_time": "2023-05-28T10:24:09.077Z"
   },
   {
    "duration": 441,
    "start_time": "2023-05-28T10:24:09.124Z"
   },
   {
    "duration": 4,
    "start_time": "2023-05-28T10:24:09.567Z"
   },
   {
    "duration": 10,
    "start_time": "2023-05-28T10:24:09.573Z"
   },
   {
    "duration": 7,
    "start_time": "2023-05-28T10:24:09.585Z"
   },
   {
    "duration": 22,
    "start_time": "2023-05-28T10:24:09.594Z"
   },
   {
    "duration": 7,
    "start_time": "2023-05-28T10:24:09.619Z"
   },
   {
    "duration": 416,
    "start_time": "2023-05-28T10:24:09.628Z"
   },
   {
    "duration": 22,
    "start_time": "2023-05-28T10:24:10.046Z"
   },
   {
    "duration": 10,
    "start_time": "2023-05-28T10:24:10.072Z"
   },
   {
    "duration": 8,
    "start_time": "2023-05-28T10:24:10.099Z"
   },
   {
    "duration": 6,
    "start_time": "2023-05-28T10:24:10.114Z"
   },
   {
    "duration": 24,
    "start_time": "2023-05-28T10:24:10.123Z"
   },
   {
    "duration": 32,
    "start_time": "2023-05-28T10:24:10.152Z"
   },
   {
    "duration": 22,
    "start_time": "2023-05-28T10:24:10.194Z"
   },
   {
    "duration": 13,
    "start_time": "2023-05-28T10:24:10.225Z"
   },
   {
    "duration": 10,
    "start_time": "2023-05-28T10:24:10.241Z"
   },
   {
    "duration": 8,
    "start_time": "2023-05-28T10:24:10.256Z"
   },
   {
    "duration": 43,
    "start_time": "2023-05-28T10:24:10.267Z"
   },
   {
    "duration": 107,
    "start_time": "2023-05-28T10:24:10.320Z"
   },
   {
    "duration": 1479,
    "start_time": "2023-05-28T10:24:10.434Z"
   },
   {
    "duration": 10,
    "start_time": "2023-05-28T10:24:11.919Z"
   },
   {
    "duration": 62,
    "start_time": "2023-05-28T10:24:11.936Z"
   },
   {
    "duration": 1277,
    "start_time": "2023-05-28T10:24:12.007Z"
   },
   {
    "duration": 13,
    "start_time": "2023-05-28T10:24:13.299Z"
   },
   {
    "duration": 15,
    "start_time": "2023-05-28T10:24:13.318Z"
   },
   {
    "duration": 18,
    "start_time": "2023-05-28T10:24:13.339Z"
   },
   {
    "duration": 209,
    "start_time": "2023-05-28T10:24:13.363Z"
   },
   {
    "duration": 155,
    "start_time": "2023-05-28T10:24:13.590Z"
   },
   {
    "duration": 344,
    "start_time": "2023-05-28T10:24:13.757Z"
   },
   {
    "duration": 661,
    "start_time": "2023-05-28T10:24:14.108Z"
   },
   {
    "duration": 46,
    "start_time": "2023-05-28T10:24:14.775Z"
   },
   {
    "duration": 29,
    "start_time": "2023-05-28T10:24:14.828Z"
   },
   {
    "duration": 248,
    "start_time": "2023-05-28T10:24:14.864Z"
   },
   {
    "duration": 9170,
    "start_time": "2023-05-28T10:24:15.119Z"
   },
   {
    "duration": 147,
    "start_time": "2023-05-28T10:24:24.291Z"
   },
   {
    "duration": 17,
    "start_time": "2023-05-28T10:24:24.440Z"
   },
   {
    "duration": 212,
    "start_time": "2023-05-28T10:24:24.464Z"
   },
   {
    "duration": 156,
    "start_time": "2023-05-28T10:24:24.679Z"
   },
   {
    "duration": 170,
    "start_time": "2023-05-28T10:24:24.856Z"
   },
   {
    "duration": 469,
    "start_time": "2023-05-28T10:24:25.033Z"
   },
   {
    "duration": 6,
    "start_time": "2023-05-28T10:24:25.504Z"
   },
   {
    "duration": 21,
    "start_time": "2023-05-28T10:24:25.512Z"
   },
   {
    "duration": 22,
    "start_time": "2023-05-28T10:24:25.535Z"
   },
   {
    "duration": 187,
    "start_time": "2023-05-28T10:24:25.560Z"
   },
   {
    "duration": 90,
    "start_time": "2023-05-28T10:24:25.759Z"
   },
   {
    "duration": 325,
    "start_time": "2023-05-28T10:24:25.866Z"
   },
   {
    "duration": 13,
    "start_time": "2023-05-28T10:24:26.205Z"
   },
   {
    "duration": 30,
    "start_time": "2023-05-28T10:24:26.231Z"
   },
   {
    "duration": 11,
    "start_time": "2023-05-28T10:24:26.276Z"
   },
   {
    "duration": 115,
    "start_time": "2023-05-28T10:24:26.301Z"
   },
   {
    "duration": 128,
    "start_time": "2023-05-28T10:24:26.429Z"
   },
   {
    "duration": 247,
    "start_time": "2023-05-28T10:24:26.579Z"
   },
   {
    "duration": 375,
    "start_time": "2023-05-28T10:24:26.834Z"
   },
   {
    "duration": 14,
    "start_time": "2023-05-28T10:24:27.217Z"
   },
   {
    "duration": 303,
    "start_time": "2023-05-28T10:24:27.239Z"
   },
   {
    "duration": 905,
    "start_time": "2023-05-28T10:24:27.547Z"
   },
   {
    "duration": 54,
    "start_time": "2023-05-28T10:24:28.465Z"
   },
   {
    "duration": 20,
    "start_time": "2023-05-28T10:24:28.525Z"
   },
   {
    "duration": 275,
    "start_time": "2023-05-28T10:24:28.547Z"
   },
   {
    "duration": 982,
    "start_time": "2023-05-28T10:24:28.827Z"
   },
   {
    "duration": 73,
    "start_time": "2023-05-28T10:24:29.815Z"
   },
   {
    "duration": 20,
    "start_time": "2023-05-28T10:24:29.894Z"
   },
   {
    "duration": 231,
    "start_time": "2023-05-28T10:24:29.920Z"
   },
   {
    "duration": 565,
    "start_time": "2023-05-28T10:24:30.159Z"
   },
   {
    "duration": 30,
    "start_time": "2023-05-28T10:24:30.726Z"
   },
   {
    "duration": 75,
    "start_time": "2023-05-28T10:24:30.760Z"
   },
   {
    "duration": 383,
    "start_time": "2023-05-28T10:24:30.839Z"
   },
   {
    "duration": 9865,
    "start_time": "2023-05-28T10:24:31.224Z"
   },
   {
    "duration": 129,
    "start_time": "2023-05-28T10:24:41.092Z"
   },
   {
    "duration": 28,
    "start_time": "2023-05-28T10:24:41.224Z"
   },
   {
    "duration": 232,
    "start_time": "2023-05-28T10:24:41.255Z"
   },
   {
    "duration": 10793,
    "start_time": "2023-05-28T10:24:41.494Z"
   },
   {
    "duration": 127,
    "start_time": "2023-05-28T10:24:52.294Z"
   },
   {
    "duration": 22,
    "start_time": "2023-05-28T10:24:52.427Z"
   },
   {
    "duration": 202,
    "start_time": "2023-05-28T10:24:52.455Z"
   },
   {
    "duration": 6001,
    "start_time": "2023-05-28T10:24:52.664Z"
   },
   {
    "duration": 106,
    "start_time": "2023-05-28T10:24:58.677Z"
   },
   {
    "duration": 25,
    "start_time": "2023-05-28T10:24:58.789Z"
   },
   {
    "duration": 308,
    "start_time": "2023-05-28T10:24:58.820Z"
   },
   {
    "duration": 126,
    "start_time": "2023-05-28T10:24:59.135Z"
   },
   {
    "duration": 45,
    "start_time": "2023-05-28T10:24:59.273Z"
   },
   {
    "duration": 328,
    "start_time": "2023-05-28T10:24:59.325Z"
   },
   {
    "duration": 9,
    "start_time": "2023-05-28T10:27:07.179Z"
   },
   {
    "duration": 114,
    "start_time": "2023-05-28T10:27:07.207Z"
   },
   {
    "duration": 20,
    "start_time": "2023-05-28T10:27:07.323Z"
   },
   {
    "duration": 24,
    "start_time": "2023-05-28T10:27:07.346Z"
   },
   {
    "duration": 275,
    "start_time": "2023-05-28T10:27:07.373Z"
   },
   {
    "duration": 3,
    "start_time": "2023-05-28T10:27:07.651Z"
   },
   {
    "duration": 17,
    "start_time": "2023-05-28T10:27:07.656Z"
   },
   {
    "duration": 9,
    "start_time": "2023-05-28T10:27:07.675Z"
   },
   {
    "duration": 5,
    "start_time": "2023-05-28T10:27:07.686Z"
   },
   {
    "duration": 7,
    "start_time": "2023-05-28T10:27:07.694Z"
   },
   {
    "duration": 292,
    "start_time": "2023-05-28T10:27:07.703Z"
   },
   {
    "duration": 6,
    "start_time": "2023-05-28T10:27:07.997Z"
   },
   {
    "duration": 3,
    "start_time": "2023-05-28T10:27:08.005Z"
   },
   {
    "duration": 3,
    "start_time": "2023-05-28T10:27:08.012Z"
   },
   {
    "duration": 31,
    "start_time": "2023-05-28T10:27:08.017Z"
   },
   {
    "duration": 7,
    "start_time": "2023-05-28T10:27:08.051Z"
   },
   {
    "duration": 36,
    "start_time": "2023-05-28T10:27:08.061Z"
   },
   {
    "duration": 12,
    "start_time": "2023-05-28T10:27:08.100Z"
   },
   {
    "duration": 6,
    "start_time": "2023-05-28T10:27:08.115Z"
   },
   {
    "duration": 8,
    "start_time": "2023-05-28T10:27:08.124Z"
   },
   {
    "duration": 11,
    "start_time": "2023-05-28T10:27:08.135Z"
   },
   {
    "duration": 37,
    "start_time": "2023-05-28T10:27:08.148Z"
   },
   {
    "duration": 379,
    "start_time": "2023-05-28T10:27:08.188Z"
   },
   {
    "duration": 1319,
    "start_time": "2023-05-28T10:27:08.568Z"
   },
   {
    "duration": 21,
    "start_time": "2023-05-28T10:27:09.893Z"
   },
   {
    "duration": 45,
    "start_time": "2023-05-28T10:27:09.920Z"
   },
   {
    "duration": 1357,
    "start_time": "2023-05-28T10:27:09.972Z"
   },
   {
    "duration": 11,
    "start_time": "2023-05-28T10:27:11.337Z"
   },
   {
    "duration": 15,
    "start_time": "2023-05-28T10:27:11.357Z"
   },
   {
    "duration": 15,
    "start_time": "2023-05-28T10:27:11.381Z"
   },
   {
    "duration": 83,
    "start_time": "2023-05-28T10:27:11.403Z"
   },
   {
    "duration": 145,
    "start_time": "2023-05-28T10:27:11.496Z"
   },
   {
    "duration": 343,
    "start_time": "2023-05-28T10:27:11.674Z"
   },
   {
    "duration": 716,
    "start_time": "2023-05-28T10:27:12.024Z"
   },
   {
    "duration": 59,
    "start_time": "2023-05-28T10:27:12.749Z"
   },
   {
    "duration": 14,
    "start_time": "2023-05-28T10:27:12.815Z"
   },
   {
    "duration": 323,
    "start_time": "2023-05-28T10:27:12.835Z"
   },
   {
    "duration": 10584,
    "start_time": "2023-05-28T10:27:13.166Z"
   },
   {
    "duration": 132,
    "start_time": "2023-05-28T10:27:23.753Z"
   },
   {
    "duration": 23,
    "start_time": "2023-05-28T10:27:23.892Z"
   },
   {
    "duration": 316,
    "start_time": "2023-05-28T10:27:23.926Z"
   },
   {
    "duration": 80,
    "start_time": "2023-05-28T10:27:24.252Z"
   },
   {
    "duration": 196,
    "start_time": "2023-05-28T10:27:24.342Z"
   },
   {
    "duration": 363,
    "start_time": "2023-05-28T10:27:24.564Z"
   },
   {
    "duration": 11,
    "start_time": "2023-05-28T10:27:24.938Z"
   },
   {
    "duration": 26,
    "start_time": "2023-05-28T10:27:24.962Z"
   },
   {
    "duration": 27,
    "start_time": "2023-05-28T10:27:25.000Z"
   },
   {
    "duration": 250,
    "start_time": "2023-05-28T10:27:25.040Z"
   },
   {
    "duration": 201,
    "start_time": "2023-05-28T10:27:25.301Z"
   },
   {
    "duration": 348,
    "start_time": "2023-05-28T10:27:25.526Z"
   },
   {
    "duration": 9,
    "start_time": "2023-05-28T10:27:25.883Z"
   },
   {
    "duration": 21,
    "start_time": "2023-05-28T10:27:25.898Z"
   },
   {
    "duration": 14,
    "start_time": "2023-05-28T10:27:25.925Z"
   },
   {
    "duration": 158,
    "start_time": "2023-05-28T10:27:25.947Z"
   },
   {
    "duration": 161,
    "start_time": "2023-05-28T10:27:26.130Z"
   },
   {
    "duration": 316,
    "start_time": "2023-05-28T10:27:26.309Z"
   },
   {
    "duration": 421,
    "start_time": "2023-05-28T10:27:26.650Z"
   },
   {
    "duration": 14,
    "start_time": "2023-05-28T10:27:27.082Z"
   },
   {
    "duration": 249,
    "start_time": "2023-05-28T10:27:27.109Z"
   },
   {
    "duration": 651,
    "start_time": "2023-05-28T10:27:27.365Z"
   },
   {
    "duration": 43,
    "start_time": "2023-05-28T10:27:28.022Z"
   },
   {
    "duration": 14,
    "start_time": "2023-05-28T10:27:28.071Z"
   },
   {
    "duration": 293,
    "start_time": "2023-05-28T10:27:28.092Z"
   },
   {
    "duration": 761,
    "start_time": "2023-05-28T10:27:28.387Z"
   },
   {
    "duration": 47,
    "start_time": "2023-05-28T10:27:29.150Z"
   },
   {
    "duration": 17,
    "start_time": "2023-05-28T10:27:29.204Z"
   },
   {
    "duration": 271,
    "start_time": "2023-05-28T10:27:29.230Z"
   },
   {
    "duration": 398,
    "start_time": "2023-05-28T10:27:29.508Z"
   },
   {
    "duration": 38,
    "start_time": "2023-05-28T10:27:29.914Z"
   },
   {
    "duration": 25,
    "start_time": "2023-05-28T10:27:29.956Z"
   },
   {
    "duration": 243,
    "start_time": "2023-05-28T10:27:29.983Z"
   },
   {
    "duration": 8276,
    "start_time": "2023-05-28T10:27:30.233Z"
   },
   {
    "duration": 77,
    "start_time": "2023-05-28T10:27:38.516Z"
   },
   {
    "duration": 23,
    "start_time": "2023-05-28T10:27:38.601Z"
   },
   {
    "duration": 224,
    "start_time": "2023-05-28T10:27:38.631Z"
   },
   {
    "duration": 14444,
    "start_time": "2023-05-28T10:27:38.861Z"
   },
   {
    "duration": 209,
    "start_time": "2023-05-28T10:27:53.307Z"
   },
   {
    "duration": 22,
    "start_time": "2023-05-28T10:27:53.518Z"
   },
   {
    "duration": 287,
    "start_time": "2023-05-28T10:27:53.542Z"
   },
   {
    "duration": 6099,
    "start_time": "2023-05-28T10:27:53.831Z"
   },
   {
    "duration": 76,
    "start_time": "2023-05-28T10:27:59.934Z"
   },
   {
    "duration": 27,
    "start_time": "2023-05-28T10:28:00.018Z"
   },
   {
    "duration": 220,
    "start_time": "2023-05-28T10:28:00.053Z"
   },
   {
    "duration": 114,
    "start_time": "2023-05-28T10:28:00.279Z"
   },
   {
    "duration": 24,
    "start_time": "2023-05-28T10:28:00.399Z"
   },
   {
    "duration": 234,
    "start_time": "2023-05-28T10:28:00.430Z"
   },
   {
    "duration": 140,
    "start_time": "2023-05-28T10:28:13.310Z"
   },
   {
    "duration": 34,
    "start_time": "2023-05-28T10:28:14.059Z"
   },
   {
    "duration": 396,
    "start_time": "2023-05-28T10:28:14.608Z"
   }
  ],
  "kernelspec": {
   "display_name": "Python 3 (ipykernel)",
   "language": "python",
   "name": "python3"
  },
  "language_info": {
   "codemirror_mode": {
    "name": "ipython",
    "version": 3
   },
   "file_extension": ".py",
   "mimetype": "text/x-python",
   "name": "python",
   "nbconvert_exporter": "python",
   "pygments_lexer": "ipython3",
   "version": "3.11.3"
  },
  "toc": {
   "base_numbering": 1,
   "nav_menu": {},
   "number_sections": true,
   "sideBar": true,
   "skip_h1_title": true,
   "title_cell": "Содержание",
   "title_sidebar": "Contents",
   "toc_cell": true,
   "toc_position": {
    "height": "586.667px",
    "left": "51px",
    "top": "110.547px",
    "width": "358.808px"
   },
   "toc_section_display": true,
   "toc_window_display": true
  }
 },
 "nbformat": 4,
 "nbformat_minor": 2
}
